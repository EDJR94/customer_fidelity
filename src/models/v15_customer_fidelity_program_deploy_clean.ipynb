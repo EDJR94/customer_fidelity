{
 "cells": [
  {
   "cell_type": "markdown",
   "id": "be553885",
   "metadata": {},
   "source": [
    "# 0.0 IMPORTS"
   ]
  },
  {
   "cell_type": "code",
   "execution_count": 126,
   "id": "593a5dbd",
   "metadata": {
    "ExecuteTime": {
     "end_time": "2023-06-26T17:47:05.519751Z",
     "start_time": "2023-06-26T17:47:05.512554Z"
    }
   },
   "outputs": [],
   "source": [
    "import pandas   as pd\n",
    "import numpy    as np\n",
    "import seaborn  as sns\n",
    "import inflection\n",
    "import warnings\n",
    "import re\n",
    "import umap.umap_ as umap\n",
    "import matplotlib.cm as cm\n",
    "import datetime\n",
    "\n",
    "from matplotlib    import pyplot     as plt\n",
    "from plotly        import express    as px\n",
    "from scipy.cluster import hierarchy  as hc\n",
    "\n",
    "\n",
    "from sklearn             import cluster       as c\n",
    "from sklearn             import metrics       as mt\n",
    "from sklearn             import preprocessing as pp\n",
    "from sklearn             import decomposition as dd\n",
    "from sklearn.manifold    import TSNE\n",
    "from sklearn             import ensemble      as en\n",
    "from sklearn.mixture     import GaussianMixture\n",
    "from yellowbrick.cluster import KElbowVisualizer, SilhouetteVisualizer\n",
    "\n",
    "warnings.filterwarnings('ignore')"
   ]
  },
  {
   "cell_type": "markdown",
   "id": "2f34031b",
   "metadata": {},
   "source": [
    "## 0.2 Loading Data"
   ]
  },
  {
   "cell_type": "code",
   "execution_count": 127,
   "id": "a9408282",
   "metadata": {
    "ExecuteTime": {
     "end_time": "2023-06-26T17:47:06.143074Z",
     "start_time": "2023-06-26T17:47:05.522695Z"
    }
   },
   "outputs": [],
   "source": [
    "path = 'C:/Users/edils/repos/customer_fidelity/data/'\n",
    "df_raw = pd.read_csv(path + 'ecommerce.csv', encoding='windows-1252')\n",
    "df_raw = df_raw.drop('Unnamed: 8', axis=1)"
   ]
  },
  {
   "cell_type": "markdown",
   "id": "b8105035",
   "metadata": {},
   "source": [
    "# 1.0 DATA DESCRIPTION"
   ]
  },
  {
   "cell_type": "code",
   "execution_count": 128,
   "id": "90655a19",
   "metadata": {
    "ExecuteTime": {
     "end_time": "2023-06-26T17:47:06.174008Z",
     "start_time": "2023-06-26T17:47:06.143959Z"
    }
   },
   "outputs": [],
   "source": [
    "df1 = df_raw.copy()"
   ]
  },
  {
   "cell_type": "markdown",
   "id": "65817ca0",
   "metadata": {},
   "source": [
    "## 1.1 Rename Columns"
   ]
  },
  {
   "cell_type": "code",
   "execution_count": 129,
   "id": "08b15123",
   "metadata": {
    "ExecuteTime": {
     "end_time": "2023-06-26T17:47:06.190088Z",
     "start_time": "2023-06-26T17:47:06.176517Z"
    }
   },
   "outputs": [],
   "source": [
    "df1.columns = df1.columns.map(lambda x: inflection.underscore(x))"
   ]
  },
  {
   "cell_type": "markdown",
   "id": "4b16e150",
   "metadata": {},
   "source": [
    "## 1.2 Data Dimensions"
   ]
  },
  {
   "cell_type": "code",
   "execution_count": 130,
   "id": "2e6f1a12",
   "metadata": {
    "ExecuteTime": {
     "end_time": "2023-06-26T17:47:06.205398Z",
     "start_time": "2023-06-26T17:47:06.191868Z"
    }
   },
   "outputs": [],
   "source": [
    "df1.shape"
   ]
  },
  {
   "cell_type": "markdown",
   "id": "94d5281a",
   "metadata": {},
   "source": [
    "## 1.3 Data Types"
   ]
  },
  {
   "cell_type": "code",
   "execution_count": 131,
   "id": "6b312fa9",
   "metadata": {
    "ExecuteTime": {
     "end_time": "2023-06-26T17:47:06.220920Z",
     "start_time": "2023-06-26T17:47:06.207505Z"
    }
   },
   "outputs": [],
   "source": [
    "df1.dtypes"
   ]
  },
  {
   "cell_type": "markdown",
   "id": "6cef345d",
   "metadata": {},
   "source": [
    "## 1.4 Check NA"
   ]
  },
  {
   "cell_type": "code",
   "execution_count": 132,
   "id": "0ca201d8",
   "metadata": {
    "ExecuteTime": {
     "end_time": "2023-06-26T17:47:06.532010Z",
     "start_time": "2023-06-26T17:47:06.222452Z"
    }
   },
   "outputs": [],
   "source": [
    "df1.isna().sum()"
   ]
  },
  {
   "cell_type": "markdown",
   "id": "2876576c",
   "metadata": {},
   "source": [
    "## 1.5 Replace NA"
   ]
  },
  {
   "cell_type": "code",
   "execution_count": 133,
   "id": "bebb4a38",
   "metadata": {
    "ExecuteTime": {
     "end_time": "2023-06-26T17:47:06.717652Z",
     "start_time": "2023-06-26T17:47:06.534714Z"
    }
   },
   "outputs": [],
   "source": [
    "df_missing = df1.loc[pd.isnull(df1['customer_id']),:]\n",
    "\n",
    "#create reference\n",
    "df_backup = pd.DataFrame(df_missing['invoice_no'].drop_duplicates())\n",
    "df_backup['customer_id'] = np.arange(19000, 19000+len(df_backup),1)\n",
    "\n",
    "#merge\n",
    "df1 = pd.merge(df1, df_backup, on='invoice_no', how='left')\n",
    "\n",
    "#coalesce - combina o que tem NaN em uma coluna com o que não tem em outra\n",
    "df1['customer_id'] = df1['customer_id_x'].combine_first(df1['customer_id_y'])\n",
    "\n",
    "#drop extra columns\n",
    "df1 = df1.drop(['customer_id_x','customer_id_y'], axis=1)"
   ]
  },
  {
   "cell_type": "markdown",
   "id": "501ca33c",
   "metadata": {},
   "source": [
    "## 1.6 Change Types"
   ]
  },
  {
   "cell_type": "code",
   "execution_count": 134,
   "id": "c19552d6",
   "metadata": {
    "ExecuteTime": {
     "end_time": "2023-06-26T17:47:06.794565Z",
     "start_time": "2023-06-26T17:47:06.719190Z"
    }
   },
   "outputs": [],
   "source": [
    "df1['invoice_date'] = pd.to_datetime(df1['invoice_date'])"
   ]
  },
  {
   "cell_type": "markdown",
   "id": "2a91b005",
   "metadata": {},
   "source": [
    "## 1.7 Descriptive Statistics"
   ]
  },
  {
   "cell_type": "code",
   "execution_count": 135,
   "id": "abac0617",
   "metadata": {
    "ExecuteTime": {
     "end_time": "2023-06-26T17:47:06.841826Z",
     "start_time": "2023-06-26T17:47:06.800636Z"
    }
   },
   "outputs": [],
   "source": [
    "numerical_attributes = df1.select_dtypes(include=['float64', 'int64', 'datetime64[ns]'])\n",
    "categorical_atributtes = df1.select_dtypes(exclude=['float64', 'int64', 'datetime64[ns]'])"
   ]
  },
  {
   "cell_type": "markdown",
   "id": "c7494683",
   "metadata": {},
   "source": [
    "## 1.7.1 Numerical Analysis"
   ]
  },
  {
   "cell_type": "code",
   "execution_count": 136,
   "id": "992da35c",
   "metadata": {
    "ExecuteTime": {
     "end_time": "2023-06-26T17:47:09.461167Z",
     "start_time": "2023-06-26T17:47:06.843846Z"
    }
   },
   "outputs": [],
   "source": [
    "disp = numerical_attributes.agg(['mean','median','std','min','max',lambda x: max(x) - min(x), 'skew', 'kurtosis']).T.rename(columns={'<lambda>':'range'})"
   ]
  },
  {
   "cell_type": "code",
   "execution_count": 137,
   "id": "1d62e6b5",
   "metadata": {
    "ExecuteTime": {
     "end_time": "2023-06-26T17:47:09.476540Z",
     "start_time": "2023-06-26T17:47:09.462943Z"
    }
   },
   "outputs": [],
   "source": [
    "disp"
   ]
  },
  {
   "cell_type": "markdown",
   "id": "e4c02951",
   "metadata": {},
   "source": [
    "Podemos ver que existes dados grandes e negativos em 'quantity'e também produtos igual a 0.0 em unit_price"
   ]
  },
  {
   "cell_type": "markdown",
   "id": "2ec3a79e",
   "metadata": {},
   "source": [
    "## 1.7.2 Categorical Atributtes"
   ]
  },
  {
   "cell_type": "code",
   "execution_count": 138,
   "id": "c4fc90a4",
   "metadata": {
    "ExecuteTime": {
     "end_time": "2023-06-26T17:47:09.492265Z",
     "start_time": "2023-06-26T17:47:09.477539Z"
    }
   },
   "outputs": [],
   "source": [
    "categorical_atributtes"
   ]
  },
  {
   "cell_type": "markdown",
   "id": "5922b1d0",
   "metadata": {},
   "source": [
    "# 2.0 VARIABLE FILTERING"
   ]
  },
  {
   "cell_type": "code",
   "execution_count": 139,
   "id": "41c70029",
   "metadata": {
    "ExecuteTime": {
     "end_time": "2023-06-26T17:47:09.538923Z",
     "start_time": "2023-06-26T17:47:09.494585Z"
    }
   },
   "outputs": [],
   "source": [
    "df2 = df1.copy()"
   ]
  },
  {
   "cell_type": "markdown",
   "id": "3822bf6d",
   "metadata": {},
   "source": [
    "## 2.1 Numerical Attributes"
   ]
  },
  {
   "cell_type": "code",
   "execution_count": 140,
   "id": "76a4ec13",
   "metadata": {
    "ExecuteTime": {
     "end_time": "2023-06-26T17:47:09.834753Z",
     "start_time": "2023-06-26T17:47:09.540843Z"
    }
   },
   "outputs": [],
   "source": [
    "#unit_price\n",
    "df2 = df2.loc[df2['unit_price'] >= 0.040,:]\n",
    "\n",
    "#stock code\n",
    "df2 = df2.loc[~df2['stock_code'].isin(['POST', 'D', 'DOT', 'M', 'S', 'AMAZONFEE', 'm', 'DCGSSBOY',\n",
    "       'DCGSSGIRL', 'PADS', 'B', 'CRUK']),:]\n",
    "\n",
    "#description\n",
    "df2 = df2.drop('description', axis=1)\n",
    "\n",
    "#country\n",
    "df2 = df2.loc[~df2['country'].isin(['Unspecified','European Community']),:]\n",
    "\n",
    "#bad users\n",
    "\n",
    "df2 = df2.loc[~df2['customer_id'].isin([16446]),:]\n",
    "df2 = df2.loc[~df2['customer_id'].isin([12346]),:]\n",
    "\n"
   ]
  },
  {
   "cell_type": "code",
   "execution_count": 141,
   "id": "56d5b814",
   "metadata": {
    "ExecuteTime": {
     "end_time": "2023-06-26T17:47:09.882288Z",
     "start_time": "2023-06-26T17:47:09.837427Z"
    }
   },
   "outputs": [],
   "source": [
    "#divide df in purchases and returns\n",
    "df_purchase = df2.loc[df2['quantity'] >=0, :]\n",
    "df_returns = df2.loc[df2['quantity'] < 0,:]"
   ]
  },
  {
   "cell_type": "markdown",
   "id": "92294c09",
   "metadata": {},
   "source": [
    "# 3.0 FEATURE ENGINEERING"
   ]
  },
  {
   "cell_type": "code",
   "execution_count": 142,
   "id": "113f8ff0",
   "metadata": {
    "ExecuteTime": {
     "end_time": "2023-06-26T17:47:09.913225Z",
     "start_time": "2023-06-26T17:47:09.884283Z"
    }
   },
   "outputs": [],
   "source": [
    "df3 = df2.copy()"
   ]
  },
  {
   "cell_type": "code",
   "execution_count": 143,
   "id": "2668bd23",
   "metadata": {
    "ExecuteTime": {
     "end_time": "2023-06-26T17:47:09.929092Z",
     "start_time": "2023-06-26T17:47:09.917330Z"
    }
   },
   "outputs": [],
   "source": [
    "#create df_ref\n",
    "df_ref = pd.DataFrame()"
   ]
  },
  {
   "cell_type": "markdown",
   "id": "db2b1bec",
   "metadata": {},
   "source": [
    "## 3.1 Monetary "
   ]
  },
  {
   "cell_type": "code",
   "execution_count": 144,
   "id": "2e6f43c2",
   "metadata": {
    "ExecuteTime": {
     "end_time": "2023-06-26T17:47:10.039123Z",
     "start_time": "2023-06-26T17:47:09.932949Z"
    }
   },
   "outputs": [],
   "source": [
    "#Monetary - O quanto cada cliente gera de $\n",
    "aux_monetary = pd.DataFrame()\n",
    "aux_monetary['valor_bruto'] = df_purchase['quantity'] * df_purchase['unit_price']\n",
    "aux_monetary['customer_id'] = df_purchase['customer_id']\n",
    "df_ref = aux_monetary.loc[:,['valor_bruto', 'customer_id']].groupby('customer_id').sum().reset_index().rename(columns={'valor_bruto':'monetary'})\n",
    "df_ref.isna().sum()"
   ]
  },
  {
   "cell_type": "markdown",
   "id": "27c8f915",
   "metadata": {},
   "source": [
    "## 3.2 Unique Products"
   ]
  },
  {
   "cell_type": "code",
   "execution_count": 145,
   "id": "d845b3c5",
   "metadata": {
    "ExecuteTime": {
     "end_time": "2023-06-26T17:47:10.258088Z",
     "start_time": "2023-06-26T17:47:10.043121Z"
    }
   },
   "outputs": [],
   "source": [
    "uniq_prod = (df_purchase.loc[:,['customer_id','stock_code']].groupby('customer_id')\n",
    "                       .nunique()\n",
    "                       .reset_index()\n",
    "                       .rename(columns={'stock_code':'unique_prods'}))\n",
    "df_ref = pd.merge(df_ref, uniq_prod, on='customer_id', how='left')\n",
    "df_ref.isna().sum()"
   ]
  },
  {
   "cell_type": "markdown",
   "id": "de979364",
   "metadata": {},
   "source": [
    "## 3.3 Quantity of Products"
   ]
  },
  {
   "cell_type": "code",
   "execution_count": 146,
   "id": "4f4816bb",
   "metadata": {
    "ExecuteTime": {
     "end_time": "2023-06-26T17:47:10.351290Z",
     "start_time": "2023-06-26T17:47:10.260086Z"
    }
   },
   "outputs": [],
   "source": [
    "uniq_prod = (df_purchase.loc[:,['customer_id','stock_code']].groupby('customer_id')\n",
    "                       .count()\n",
    "                       .reset_index()\n",
    "                       .rename(columns={'stock_code':'qt_prods'}))\n",
    "df_ref = pd.merge(df_ref, uniq_prod, on='customer_id', how='left')\n",
    "df_ref.isna().sum()"
   ]
  },
  {
   "cell_type": "markdown",
   "id": "10d02726",
   "metadata": {},
   "source": [
    "## 3.4 Average Basket Size"
   ]
  },
  {
   "cell_type": "code",
   "execution_count": 147,
   "id": "60407724",
   "metadata": {
    "ExecuteTime": {
     "end_time": "2023-06-26T17:47:10.476138Z",
     "start_time": "2023-06-26T17:47:10.354334Z"
    }
   },
   "outputs": [],
   "source": [
    "#qtd de produtos diferentes dentro de uma compora\n",
    "basket_size = (df_purchase.loc[:,['customer_id','stock_code','invoice_no']]\n",
    "                         .groupby(['customer_id'])\n",
    "                         .agg(\n",
    "                         number_buys = ('invoice_no', 'nunique'),\n",
    "                         number_prods = ('stock_code', 'count'))\n",
    "                         .reset_index())\n",
    "basket_size['avg_basket_size'] = basket_size['number_prods'] / basket_size['number_buys']\n",
    "basket_size = basket_size.drop(['number_prods','number_buys'], axis=1)\n",
    "df_ref = pd.merge(df_ref, basket_size, on='customer_id', how='left')\n",
    "df_ref.isna().sum()"
   ]
  },
  {
   "cell_type": "markdown",
   "id": "da92b8e5",
   "metadata": {},
   "source": [
    "## 3.5 Recency"
   ]
  },
  {
   "cell_type": "code",
   "execution_count": 148,
   "id": "51d34f7b",
   "metadata": {
    "ExecuteTime": {
     "end_time": "2023-06-26T17:47:10.523613Z",
     "start_time": "2023-06-26T17:47:10.477713Z"
    }
   },
   "outputs": [],
   "source": [
    "#Recency\n",
    "aux_recency = df_purchase.loc[:,['customer_id','invoice_date']].groupby('customer_id').max().reset_index()\n",
    "date_max = df_purchase['invoice_date'].max()\n",
    "aux_recency['recency'] = (date_max - aux_recency['invoice_date']).dt.days\n",
    "df_ref = pd.merge(df_ref, aux_recency, on='customer_id', how='left')\n",
    "df_ref = df_ref.drop(['invoice_date'],axis=1)\n",
    "df_ref.isna().sum()"
   ]
  },
  {
   "cell_type": "markdown",
   "id": "ebd3665d",
   "metadata": {},
   "source": [
    "## 3.6 Relationship Duration"
   ]
  },
  {
   "cell_type": "code",
   "execution_count": 149,
   "id": "630fab99",
   "metadata": {
    "ExecuteTime": {
     "end_time": "2023-06-26T17:47:10.585417Z",
     "start_time": "2023-06-26T17:47:10.525439Z"
    }
   },
   "outputs": [],
   "source": [
    "aux_min = df_purchase.loc[:,['customer_id', 'invoice_date']].groupby('customer_id').min().reset_index()\n",
    "aux_max = df_purchase.loc[:,['customer_id', 'invoice_date']].groupby('customer_id').max().reset_index()\n",
    "aux_relationship = aux_max.copy()\n",
    "aux_relationship['invoice_date'] = aux_max['invoice_date'].sub(aux_min['invoice_date']).dt.days\n",
    "aux_relationship = aux_relationship.rename(columns={'invoice_date':'relationship_duration'})\n",
    "df_ref = pd.merge(df_ref, aux_relationship, on='customer_id', how='left')\n",
    "df_ref.isna().sum()"
   ]
  },
  {
   "cell_type": "markdown",
   "id": "2ac2bc4b",
   "metadata": {},
   "source": [
    "## 3.7 Purchase Count"
   ]
  },
  {
   "cell_type": "code",
   "execution_count": 150,
   "id": "24e8d0c7",
   "metadata": {
    "ExecuteTime": {
     "end_time": "2023-06-26T17:47:10.662396Z",
     "start_time": "2023-06-26T17:47:10.587526Z"
    }
   },
   "outputs": [],
   "source": [
    "aux_invoice = df_purchase.loc[:,['invoice_no','customer_id']].drop_duplicates().groupby('customer_id').count().reset_index().rename(columns={'invoice_no':'purchase_count'})\n",
    "df_ref = pd.merge(df_ref, aux_invoice, on='customer_id', how='left')\n",
    "df_ref.isna().sum()"
   ]
  },
  {
   "cell_type": "markdown",
   "id": "1f90071e",
   "metadata": {},
   "source": [
    "## 3.8 Returns Count"
   ]
  },
  {
   "cell_type": "code",
   "execution_count": 151,
   "id": "6ee2d679",
   "metadata": {
    "ExecuteTime": {
     "end_time": "2023-06-26T17:47:10.693838Z",
     "start_time": "2023-06-26T17:47:10.664380Z"
    }
   },
   "outputs": [],
   "source": [
    "qtd_returns = df_returns.loc[:,['customer_id','quantity']].groupby('customer_id').sum().reset_index().rename(columns={'quantity':'returns_count'})\n",
    "qtd_returns['returns_count'] = qtd_returns['returns_count']*-1\n",
    "\n",
    "#merge\n",
    "df_ref = pd.merge(df_ref, qtd_returns, on='customer_id', how='left')\n",
    "\n",
    "#Os NaNs gerados são pessoas que não devolveram\n",
    "df_ref.loc[df_ref['returns_count'].isna(),'returns_count'] = 0\n",
    "df_ref.isna().sum()"
   ]
  },
  {
   "cell_type": "markdown",
   "id": "c4638526",
   "metadata": {},
   "source": [
    "## 3.9 Monetary Return"
   ]
  },
  {
   "cell_type": "code",
   "execution_count": 152,
   "id": "8734386f",
   "metadata": {
    "ExecuteTime": {
     "end_time": "2023-06-26T17:47:10.724234Z",
     "start_time": "2023-06-26T17:47:10.696341Z"
    }
   },
   "outputs": [],
   "source": [
    "aux_monetary_return = pd.DataFrame()\n",
    "aux_monetary_return['valor_bruto'] = df_returns['quantity'] * df_returns['unit_price']\n",
    "aux_monetary_return['customer_id'] = df_returns['customer_id']\n",
    "aux_monetary_return = (aux_monetary_return.loc[:,['customer_id', 'valor_bruto']]\n",
    "                                        .groupby('customer_id').sum()).reset_index()\n",
    "aux_monetary_return = aux_monetary_return.rename(columns={'valor_bruto':'monetary_returns'})\n",
    "\n",
    "#merge values\n",
    "df_ref = pd.merge(df_ref, aux_monetary_return, on='customer_id', how='left')\n",
    "df_ref.loc[df_ref['monetary_returns'].isna(),'monetary_returns'] = 0\n",
    "df_ref.isna().sum()"
   ]
  },
  {
   "cell_type": "markdown",
   "id": "2c0825ae",
   "metadata": {},
   "source": [
    "## 3.10 Average Unit Price"
   ]
  },
  {
   "cell_type": "code",
   "execution_count": 153,
   "id": "5ab86033",
   "metadata": {
    "ExecuteTime": {
     "end_time": "2023-06-26T17:47:10.818234Z",
     "start_time": "2023-06-26T17:47:10.739244Z"
    }
   },
   "outputs": [],
   "source": [
    "aux_unit_price = df_purchase.loc[:,['customer_id','unit_price']].groupby('customer_id').mean().reset_index().rename(columns={'unit_price':'avg_unit_price'})\n",
    "df_ref = pd.merge(df_ref, aux_unit_price, on='customer_id', how='left')\n",
    "df_ref.isna().sum()"
   ]
  },
  {
   "cell_type": "markdown",
   "id": "17e9bf3b",
   "metadata": {},
   "source": [
    "## 3.11 Return Rate"
   ]
  },
  {
   "cell_type": "code",
   "execution_count": 154,
   "id": "a8abda32",
   "metadata": {
    "ExecuteTime": {
     "end_time": "2023-06-26T17:47:10.834294Z",
     "start_time": "2023-06-26T17:47:10.820228Z"
    }
   },
   "outputs": [],
   "source": [
    "df_ref['return_rate'] = df_ref['returns_count'] / df_ref['purchase_count']\n",
    "df_ref.isna().sum()"
   ]
  },
  {
   "cell_type": "markdown",
   "id": "1ba69a71",
   "metadata": {},
   "source": [
    "## 3.12 Average Purchase Interval"
   ]
  },
  {
   "cell_type": "code",
   "execution_count": 155,
   "id": "7ec3821f",
   "metadata": {
    "ExecuteTime": {
     "end_time": "2023-06-26T17:47:10.972824Z",
     "start_time": "2023-06-26T17:47:10.838219Z"
    }
   },
   "outputs": [],
   "source": [
    "df_ref['avg_purchase_interval'] = df_ref.apply(lambda x: (x['purchase_count'] / x['relationship_duration']) if x['relationship_duration'] != 0 else x['relationship_duration'], axis=1)\n",
    "df_ref.isna().sum()"
   ]
  },
  {
   "cell_type": "markdown",
   "id": "1e8cb70f",
   "metadata": {},
   "source": [
    "## 3.13 Frequency"
   ]
  },
  {
   "cell_type": "code",
   "execution_count": 156,
   "id": "bdf9a77a",
   "metadata": {
    "ExecuteTime": {
     "end_time": "2023-06-26T17:47:11.035660Z",
     "start_time": "2023-06-26T17:47:10.975354Z"
    }
   },
   "outputs": [],
   "source": [
    "df_ref['frequency'] = df_ref.apply(lambda x: (x['purchase_count'] / x['relationship_duration']) if x['relationship_duration'] != 0 else 0, axis=1)"
   ]
  },
  {
   "cell_type": "markdown",
   "id": "a50a6463",
   "metadata": {},
   "source": [
    "## 3.15 Average Order Value"
   ]
  },
  {
   "cell_type": "code",
   "execution_count": 157,
   "id": "91545be0",
   "metadata": {
    "ExecuteTime": {
     "end_time": "2023-06-26T17:47:11.112686Z",
     "start_time": "2023-06-26T17:47:11.038049Z"
    }
   },
   "outputs": [],
   "source": [
    "df_ref['avg_order_value'] = df_ref.apply(lambda x: (x['monetary'] / x['purchase_count']) if x['purchase_count'] != 0 else x['monetary'], axis=1)"
   ]
  },
  {
   "cell_type": "markdown",
   "id": "6e0bb84d",
   "metadata": {},
   "source": [
    "## 3.16 Check Final Result"
   ]
  },
  {
   "cell_type": "code",
   "execution_count": 158,
   "id": "42332b90",
   "metadata": {
    "ExecuteTime": {
     "end_time": "2023-06-26T17:47:11.144394Z",
     "start_time": "2023-06-26T17:47:11.114710Z"
    }
   },
   "outputs": [],
   "source": [
    "df_ref.head()"
   ]
  },
  {
   "cell_type": "markdown",
   "id": "5ada5a45",
   "metadata": {},
   "source": [
    "# 4.0 EDA (EXPLORATORY DATA ANALYSIS"
   ]
  },
  {
   "cell_type": "code",
   "execution_count": 159,
   "id": "b9939ec6",
   "metadata": {
    "ExecuteTime": {
     "end_time": "2023-06-26T17:47:11.159810Z",
     "start_time": "2023-06-26T17:47:11.146416Z"
    }
   },
   "outputs": [],
   "source": [
    "df4 = df_ref.dropna().copy()\n",
    "df4.isna().sum()"
   ]
  },
  {
   "cell_type": "code",
   "execution_count": 160,
   "id": "6289a694",
   "metadata": {
    "ExecuteTime": {
     "end_time": "2023-06-26T17:47:11.174764Z",
     "start_time": "2023-06-26T17:47:11.160926Z"
    }
   },
   "outputs": [],
   "source": [
    "df4.shape"
   ]
  },
  {
   "cell_type": "markdown",
   "id": "ee0aaa56",
   "metadata": {},
   "source": [
    "## 4.1 Unilateral Analysis"
   ]
  },
  {
   "cell_type": "markdown",
   "id": "00cfb182",
   "metadata": {},
   "source": [
    "## 4.3 Embedding"
   ]
  },
  {
   "cell_type": "code",
   "execution_count": 161,
   "id": "1747c41a",
   "metadata": {
    "ExecuteTime": {
     "end_time": "2023-06-26T17:47:11.190238Z",
     "start_time": "2023-06-26T17:47:11.176214Z"
    }
   },
   "outputs": [],
   "source": [
    "#selected dataset\n",
    "\n",
    "df43 = df4.drop('customer_id', axis=1).copy()"
   ]
  },
  {
   "cell_type": "code",
   "execution_count": 162,
   "id": "d7e90e7f",
   "metadata": {
    "ExecuteTime": {
     "end_time": "2023-06-26T17:47:11.205500Z",
     "start_time": "2023-06-26T17:47:11.192225Z"
    }
   },
   "outputs": [],
   "source": [
    "#Transform\n",
    "mms = pp.MinMaxScaler()\n",
    "transf_list = df43.columns\n",
    "\n",
    "for i in transf_list:\n",
    "    df43[i] = mms.fit_transform(df43[i].values.reshape(-1,1))\n",
    "    \n",
    "X = df43.copy()    "
   ]
  },
  {
   "cell_type": "markdown",
   "id": "68a20488",
   "metadata": {},
   "source": [
    "## 4.3.4 Tree-Based Embedding"
   ]
  },
  {
   "cell_type": "code",
   "execution_count": 163,
   "id": "59b9d063",
   "metadata": {
    "ExecuteTime": {
     "end_time": "2023-06-26T17:47:11.221214Z",
     "start_time": "2023-06-26T17:47:11.207619Z"
    }
   },
   "outputs": [],
   "source": [
    "X = df43.drop('monetary', axis=1).copy()\n",
    "y = df43['monetary'].copy()"
   ]
  },
  {
   "cell_type": "code",
   "execution_count": 164,
   "id": "0b4a1c43",
   "metadata": {
    "ExecuteTime": {
     "end_time": "2023-06-26T17:47:16.496781Z",
     "start_time": "2023-06-26T17:47:11.223173Z"
    }
   },
   "outputs": [],
   "source": [
    "#model definition\n",
    "rf = en.RandomForestRegressor(random_state=42, n_estimators=100, criterion='squared_error')\n",
    "\n",
    "rf.fit(X, y)"
   ]
  },
  {
   "cell_type": "code",
   "execution_count": 165,
   "id": "96bd6b1d",
   "metadata": {
    "ExecuteTime": {
     "end_time": "2023-06-26T17:47:16.635999Z",
     "start_time": "2023-06-26T17:47:16.498009Z"
    }
   },
   "outputs": [],
   "source": [
    "#create leafs\n",
    "df_leafs = pd.DataFrame(rf.apply(X))"
   ]
  },
  {
   "cell_type": "code",
   "execution_count": 166,
   "id": "873b1d79",
   "metadata": {
    "ExecuteTime": {
     "end_time": "2023-06-26T17:47:16.652038Z",
     "start_time": "2023-06-26T17:47:16.639048Z"
    }
   },
   "outputs": [],
   "source": [
    "df_leafs.head()"
   ]
  },
  {
   "cell_type": "code",
   "execution_count": 167,
   "id": "52eb1972",
   "metadata": {
    "ExecuteTime": {
     "end_time": "2023-06-26T17:47:38.699199Z",
     "start_time": "2023-06-26T17:47:16.654653Z"
    }
   },
   "outputs": [],
   "source": [
    "reducer = umap.UMAP(random_state=42, n_neighbors=120, min_dist=0.015)\n",
    "embedding = reducer.fit_transform(df_leafs)\n",
    "\n",
    "#embedding\n",
    "df_tree = pd.DataFrame()\n",
    "df_tree['embedding_x'] = embedding[:,0]\n",
    "df_tree['embedding_y'] = embedding[:,1]\n",
    "\n",
    "#plot UMAP\n",
    "sns.scatterplot(x='embedding_x', \n",
    "                y='embedding_y',\n",
    "                data=df_tree)"
   ]
  },
  {
   "cell_type": "markdown",
   "id": "ae25b473",
   "metadata": {},
   "source": [
    "# 7.0 HYPERPARAMETER FINE TUNNING(Find Clusters)"
   ]
  },
  {
   "cell_type": "code",
   "execution_count": 168,
   "id": "e0249f77",
   "metadata": {
    "ExecuteTime": {
     "end_time": "2023-06-26T17:47:38.714757Z",
     "start_time": "2023-06-26T17:47:38.700413Z"
    }
   },
   "outputs": [],
   "source": [
    "#X = df6.drop('customer_id', axis=1)\n",
    "X = df_tree.copy()"
   ]
  },
  {
   "cell_type": "code",
   "execution_count": 169,
   "id": "f5fbf418",
   "metadata": {
    "ExecuteTime": {
     "end_time": "2023-06-26T17:47:38.729692Z",
     "start_time": "2023-06-26T17:47:38.716258Z"
    }
   },
   "outputs": [],
   "source": [
    "X.head()"
   ]
  },
  {
   "cell_type": "markdown",
   "id": "a8401e99",
   "metadata": {},
   "source": [
    "# 8.0 MODEL TRAINING"
   ]
  },
  {
   "cell_type": "markdown",
   "id": "068863fa",
   "metadata": {},
   "source": [
    "## 8.3 HCluster - FAVORITO"
   ]
  },
  {
   "cell_type": "code",
   "execution_count": 170,
   "id": "4f11d4e2",
   "metadata": {
    "ExecuteTime": {
     "end_time": "2023-06-26T17:47:39.305736Z",
     "start_time": "2023-06-26T17:47:38.731686Z"
    }
   },
   "outputs": [],
   "source": [
    "k=5\n",
    "#model definition & training\n",
    "hc_model = hc.linkage(X, 'ward')\n",
    "\n",
    "#model predict\n",
    "labels_hc = hc.fcluster(hc_model, k, criterion='maxclust')"
   ]
  },
  {
   "cell_type": "code",
   "execution_count": 171,
   "id": "b62b1445",
   "metadata": {
    "ExecuteTime": {
     "end_time": "2023-06-26T17:47:39.835970Z",
     "start_time": "2023-06-26T17:47:39.307436Z"
    }
   },
   "outputs": [],
   "source": [
    "df9 = X.copy()\n",
    "df9['clusters'] = labels_hc\n",
    "sns.scatterplot(data=df9, x=\"embedding_x\", y=\"embedding_y\", hue=\"clusters\", palette=\"deep\")"
   ]
  },
  {
   "cell_type": "code",
   "execution_count": 172,
   "id": "5b3d3b96",
   "metadata": {
    "ExecuteTime": {
     "end_time": "2023-06-26T17:47:40.287666Z",
     "start_time": "2023-06-26T17:47:39.836474Z"
    }
   },
   "outputs": [],
   "source": [
    "print(f'SS Score: {mt.silhouette_score(X, labels_hc):.3f}')"
   ]
  },
  {
   "cell_type": "markdown",
   "id": "8edf2883",
   "metadata": {},
   "source": [
    "## 9.5 Cluster Profile"
   ]
  },
  {
   "cell_type": "code",
   "execution_count": 173,
   "id": "bc130bff",
   "metadata": {
    "ExecuteTime": {
     "end_time": "2023-06-26T17:47:40.304055Z",
     "start_time": "2023-06-26T17:47:40.290589Z"
    }
   },
   "outputs": [],
   "source": [
    "df95 = df4.copy()\n",
    "df95['clusters'] = labels_hc"
   ]
  },
  {
   "cell_type": "code",
   "execution_count": 174,
   "id": "ec74d9e4",
   "metadata": {
    "ExecuteTime": {
     "end_time": "2023-06-26T17:47:40.335612Z",
     "start_time": "2023-06-26T17:47:40.305563Z"
    }
   },
   "outputs": [],
   "source": [
    "df95.head()"
   ]
  },
  {
   "cell_type": "markdown",
   "id": "34b1534d",
   "metadata": {},
   "source": [
    "**Lembrete**: NÃO podemos explicar porque o customer 1 e 2 estão no mesmo clusters com esses dados, porque eles foram classificados em um espaço de embedding criado pelo algoritmo em alta dimensão. Se for especificamente você precisar explicar o porquê o os customers se parecem será necessário encontrar os clusters no espaço original ao invés do embedding."
   ]
  },
  {
   "cell_type": "code",
   "execution_count": 175,
   "id": "6af0a15a",
   "metadata": {
    "ExecuteTime": {
     "end_time": "2023-06-26T17:47:40.382945Z",
     "start_time": "2023-06-26T17:47:40.337139Z"
    }
   },
   "outputs": [],
   "source": [
    "#Per Monetary\n",
    "df_monetary = df95.loc[:,['clusters','monetary']].groupby('clusters').mean().reset_index()\n",
    "\n",
    "#Per Frequency\n",
    "df_frequency = df95.loc[:,['clusters','frequency']].groupby('clusters').mean().reset_index()\n",
    "\n",
    "#Per Recency\n",
    "df_recency = df95.loc[:,['clusters','recency']].groupby('clusters').mean().reset_index()\n",
    "\n",
    "#Per Pencentual\n",
    "df_client_perc = df95.loc[:,['customer_id','clusters']].groupby('clusters').count().reset_index()\n",
    "df_client_perc['customer_id'] = df_client_perc['customer_id'].apply(lambda x: 100*(x)/(df_client_perc['customer_id'].sum()))\n",
    "df_client_perc = df_client_perc.rename(columns={'customer_id':'percent'})\n",
    "\n",
    "#Per qtd_products\n",
    "df_prods = df95.loc[:,['clusters','qt_prods']].groupby('clusters').mean().reset_index()\n",
    "\n",
    "#Per Returns\n",
    "df_returns = df95.loc[:,['clusters','returns_count']].groupby('clusters').mean().reset_index()\n",
    "\n",
    "#Per Relationship days\n",
    "df_duration = df95.loc[:,['clusters','relationship_duration']].groupby('clusters').mean().reset_index()\n",
    "\n",
    "#Per Customer\n",
    "df_customer = df95.loc[:,['clusters','customer_id']].groupby('clusters').count().reset_index()\n",
    "\n",
    "df_resume = (pd.merge(df_monetary, df_frequency, on='clusters', how='left')\n",
    "             .merge(df_recency, on='clusters', how='left')\n",
    "             .merge(df_client_perc, on='clusters', how='left')\n",
    "             .merge(df_prods, on='clusters', how='left')\n",
    "             .merge(df_returns, on='clusters', how='left')\n",
    "             .merge(df_duration, on='clusters', how='left')\n",
    "             .merge(df_customer, on='clusters', how='left')\n",
    "             )\n"
   ]
  },
  {
   "cell_type": "code",
   "execution_count": 176,
   "id": "e523452b",
   "metadata": {
    "ExecuteTime": {
     "end_time": "2023-06-26T17:47:40.429593Z",
     "start_time": "2023-06-26T17:47:40.388396Z"
    }
   },
   "outputs": [],
   "source": [
    "df_resume"
   ]
  },
  {
   "cell_type": "markdown",
   "id": "230c3981",
   "metadata": {},
   "source": [
    "# 11.0 DEPLOY TO PRODUCTION"
   ]
  },
  {
   "cell_type": "code",
   "execution_count": 177,
   "id": "5c09d303",
   "metadata": {
    "ExecuteTime": {
     "end_time": "2023-06-26T17:47:40.460602Z",
     "start_time": "2023-06-26T17:47:40.433585Z"
    }
   },
   "outputs": [],
   "source": [
    "cols_selected = ['customer_id', 'monetary', 'recency', 'qt_prods', 'frequency', 'returns_count', 'relationship_duration', 'clusters']\n",
    "df_deploy = df95[cols_selected].copy()\n",
    "#change types\n",
    "df_deploy['customer_id'] = df_deploy['customer_id'].astype(int)\n",
    "df_deploy['returns_count'] = df_deploy['returns_count'].astype(int)\n",
    "df_deploy['clusters'] = df_deploy['clusters'].astype(int)\n",
    "df_deploy['relationship_duration'] = df_deploy['relationship_duration'].astype(int)\n",
    "df_deploy['qt_prods'] = df_deploy['qt_prods'].astype(int)\n",
    "df_deploy['recency'] = df_deploy['recency'].astype(int)\n",
    "\n",
    "\n",
    "\n",
    "\n",
    "#save last training\n",
    "df_deploy['last_training'] = datetime.datetime.now().strftime('%Y-%m-%d %H:%M:%S')"
   ]
  },
  {
   "cell_type": "code",
   "execution_count": 178,
   "id": "318cba73",
   "metadata": {
    "ExecuteTime": {
     "end_time": "2023-06-26T17:47:40.491417Z",
     "start_time": "2023-06-26T17:47:40.464596Z"
    }
   },
   "outputs": [],
   "source": [
    "df_deploy.head()"
   ]
  },
  {
   "cell_type": "code",
   "execution_count": 179,
   "id": "4ef1bdb9",
   "metadata": {
    "ExecuteTime": {
     "end_time": "2023-06-26T17:47:40.507683Z",
     "start_time": "2023-06-26T17:47:40.494806Z"
    }
   },
   "outputs": [],
   "source": [
    "df_deploy.dtypes"
   ]
  },
  {
   "cell_type": "code",
   "execution_count": 180,
   "id": "4f00bd81",
   "metadata": {
    "ExecuteTime": {
     "end_time": "2023-06-26T17:47:40.695821Z",
     "start_time": "2023-06-26T17:47:40.510694Z"
    }
   },
   "outputs": [],
   "source": [
    "import sqlite3\n",
    "from sqlalchemy import create_engine, text"
   ]
  },
  {
   "cell_type": "code",
   "execution_count": 181,
   "id": "37bdc5f3",
   "metadata": {
    "ExecuteTime": {
     "end_time": "2023-06-26T17:47:40.711361Z",
     "start_time": "2023-06-26T17:47:40.698377Z"
    }
   },
   "outputs": [],
   "source": [
    "# #create table\n",
    "# query_create_table_insiders = \"\"\"\n",
    "#     CREATE TABLE insiders (\n",
    "#         customer_id INTEGER,\n",
    "#         monetary    REAL,\n",
    "#         recency     INTEGER,\n",
    "#         qtd_prods   INTEGER,\n",
    "#         frequency   REAL,\n",
    "#         qtd_returns INTEGER,\n",
    "#         clusters    INTEGER   \n",
    "#     )\n",
    "#     \"\"\"  \n",
    " \n",
    "# conn = sqlite3.connect('insiders_db.sqlite') \n",
    "# conn.execute(query_create_table_insiders)\n",
    "# conn.commit()\n",
    "# conn.close()\n",
    "\n",
    "# #insert data - append\n",
    "# conn = create_engine('sqlite:///insiders_db.sqlite')\n",
    "# df_deploy.to_sql('insiders', con=conn, if_exists='append', index=False)\n",
    "# conn.close()\n",
    "\n",
    "# #insert data - replace\n",
    "# conn = create_engine('sqlite:///insiders_db.sqlite')\n",
    "# df_deploy.to_sql('insiders', con=conn, if_exists='replace', index=False)\n",
    "# conn.close()\n",
    "\n",
    "# #select data"
   ]
  },
  {
   "cell_type": "code",
   "execution_count": 182,
   "id": "48930590",
   "metadata": {
    "ExecuteTime": {
     "end_time": "2023-06-26T17:47:40.727629Z",
     "start_time": "2023-06-26T17:47:40.713384Z"
    }
   },
   "outputs": [],
   "source": [
    "# #create database\n",
    "# conn = sqlite3.connect('insiders_db.sqlite') \n",
    "# conn.execute(query_create_table_insiders)\n",
    "# conn.commit()\n",
    "# conn.close()"
   ]
  },
  {
   "cell_type": "code",
   "execution_count": 183,
   "id": "51e0edf7",
   "metadata": {
    "ExecuteTime": {
     "end_time": "2023-06-26T17:47:40.743700Z",
     "start_time": "2023-06-26T17:47:40.729596Z"
    }
   },
   "outputs": [],
   "source": [
    "# #database coneection\n",
    "# conn = sqlite3.connect('insiders_db.sqlite')\n",
    "\n",
    "# #drop table\n",
    "# query_drop_insiders = \"\"\"\n",
    "#     DROP TABLE insiders\n",
    "# \"\"\"\n",
    "\n",
    "# #create table\n",
    "# query_create_table_insiders = \"\"\"\n",
    "#     CREATE TABLE insiders (\n",
    "#         customer_id           INTEGER,\n",
    "#         monetary              REAL,\n",
    "#         recency               INTEGER,\n",
    "#         qt_prods              INTEGER,\n",
    "#         frequency             REAL,\n",
    "#         returns_count         INTEGER,\n",
    "#         clusters              INTEGER,\n",
    "#         relationship_duration INTEGER,\n",
    "#         last_training         DATE\n",
    "#     )\n",
    "#     \"\"\"\n",
    "# conn.execute(query_drop_insiders)\n",
    "# conn.commit()\n",
    "\n",
    "# conn.execute(query_create_table_insiders)\n",
    "# conn.commit()"
   ]
  },
  {
   "cell_type": "code",
   "execution_count": 184,
   "id": "15ae47fd",
   "metadata": {
    "ExecuteTime": {
     "end_time": "2023-06-26T17:47:40.759280Z",
     "start_time": "2023-06-26T17:47:40.746662Z"
    }
   },
   "outputs": [],
   "source": [
    "# #insert data - append\n",
    "# conn = create_engine('sqlite:///insiders_db.sqlite')\n",
    "# df_deploy.to_sql('insiders', con=conn, if_exists='append', index=False)"
   ]
  },
  {
   "cell_type": "code",
   "execution_count": 185,
   "id": "94df3bf0",
   "metadata": {
    "ExecuteTime": {
     "end_time": "2023-06-26T17:47:40.807439Z",
     "start_time": "2023-06-26T17:47:40.760226Z"
    }
   },
   "outputs": [],
   "source": [
    "#consulting database\n",
    "engine = create_engine('sqlite:///insiders_db.sqlite')\n",
    "query = \"\"\"\n",
    "    SELECT * FROM insiders\n",
    "\"\"\"\n",
    "\n",
    "df = pd.read_sql_query(sql=text(query), con=engine.connect())"
   ]
  },
  {
   "cell_type": "code",
   "execution_count": 186,
   "id": "0732d842",
   "metadata": {
    "ExecuteTime": {
     "end_time": "2023-06-26T17:47:40.838578Z",
     "start_time": "2023-06-26T17:47:40.808279Z"
    }
   },
   "outputs": [],
   "source": [
    "df"
   ]
  },
  {
   "cell_type": "code",
   "execution_count": null,
   "id": "a69faf64",
   "metadata": {},
   "outputs": [],
   "source": []
  }
 ],
 "metadata": {
  "hide_input": false,
  "kernelspec": {
   "display_name": "Python 3 (ipykernel)",
   "language": "python",
   "name": "python3"
  },
  "language_info": {
   "codemirror_mode": {
    "name": "ipython",
    "version": 3
   },
   "file_extension": ".py",
   "mimetype": "text/x-python",
   "name": "python",
   "nbconvert_exporter": "python",
   "pygments_lexer": "ipython3",
   "version": "3.10.11"
  },
  "varInspector": {
   "cols": {
    "lenName": 16,
    "lenType": 16,
    "lenVar": 40
   },
   "kernels_config": {
    "python": {
     "delete_cmd_postfix": "",
     "delete_cmd_prefix": "del ",
     "library": "var_list.py",
     "varRefreshCmd": "print(var_dic_list())"
    },
    "r": {
     "delete_cmd_postfix": ") ",
     "delete_cmd_prefix": "rm(",
     "library": "var_list.r",
     "varRefreshCmd": "cat(var_dic_list()) "
    }
   },
   "types_to_exclude": [
    "module",
    "function",
    "builtin_function_or_method",
    "instance",
    "_Feature"
   ],
   "window_display": false
  }
 },
 "nbformat": 4,
 "nbformat_minor": 5
}
