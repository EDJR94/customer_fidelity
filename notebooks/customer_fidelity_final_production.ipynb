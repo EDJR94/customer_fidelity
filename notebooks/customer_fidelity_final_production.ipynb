{
 "cells": [
  {
   "cell_type": "markdown",
   "id": "be553885",
   "metadata": {},
   "source": [
    "# IMPORTS"
   ]
  },
  {
   "cell_type": "code",
   "execution_count": 1,
   "id": "593a5dbd",
   "metadata": {
    "ExecuteTime": {
     "end_time": "2023-06-28T14:11:03.353001Z",
     "start_time": "2023-06-28T14:10:55.994301Z"
    }
   },
   "outputs": [
    {
     "name": "stderr",
     "output_type": "stream",
     "text": [
      "C:\\Users\\edils\\anaconda3\\envs\\customer_fidelity\\lib\\site-packages\\umap\\distances.py:1063: NumbaDeprecationWarning: \u001b[1mThe 'nopython' keyword argument was not supplied to the 'numba.jit' decorator. The implicit default value for this argument is currently False, but it will be changed to True in Numba 0.59.0. See https://numba.readthedocs.io/en/stable/reference/deprecation.html#deprecation-of-object-mode-fall-back-behaviour-when-using-jit for details.\u001b[0m\n",
      "  @numba.jit()\n",
      "C:\\Users\\edils\\anaconda3\\envs\\customer_fidelity\\lib\\site-packages\\umap\\distances.py:1071: NumbaDeprecationWarning: \u001b[1mThe 'nopython' keyword argument was not supplied to the 'numba.jit' decorator. The implicit default value for this argument is currently False, but it will be changed to True in Numba 0.59.0. See https://numba.readthedocs.io/en/stable/reference/deprecation.html#deprecation-of-object-mode-fall-back-behaviour-when-using-jit for details.\u001b[0m\n",
      "  @numba.jit()\n",
      "C:\\Users\\edils\\anaconda3\\envs\\customer_fidelity\\lib\\site-packages\\umap\\distances.py:1086: NumbaDeprecationWarning: \u001b[1mThe 'nopython' keyword argument was not supplied to the 'numba.jit' decorator. The implicit default value for this argument is currently False, but it will be changed to True in Numba 0.59.0. See https://numba.readthedocs.io/en/stable/reference/deprecation.html#deprecation-of-object-mode-fall-back-behaviour-when-using-jit for details.\u001b[0m\n",
      "  @numba.jit()\n",
      "C:\\Users\\edils\\anaconda3\\envs\\customer_fidelity\\lib\\site-packages\\tqdm\\auto.py:21: TqdmWarning: IProgress not found. Please update jupyter and ipywidgets. See https://ipywidgets.readthedocs.io/en/stable/user_install.html\n",
      "  from .autonotebook import tqdm as notebook_tqdm\n",
      "C:\\Users\\edils\\anaconda3\\envs\\customer_fidelity\\lib\\site-packages\\umap\\umap_.py:660: NumbaDeprecationWarning: \u001b[1mThe 'nopython' keyword argument was not supplied to the 'numba.jit' decorator. The implicit default value for this argument is currently False, but it will be changed to True in Numba 0.59.0. See https://numba.readthedocs.io/en/stable/reference/deprecation.html#deprecation-of-object-mode-fall-back-behaviour-when-using-jit for details.\u001b[0m\n",
      "  @numba.jit()\n"
     ]
    }
   ],
   "source": [
    "import pandas as pd\n",
    "import s3fs\n",
    "import joblib\n",
    "import pipeline_class as pc\n",
    "import os\n",
    "\n",
    "from sklearn.pipeline    import Pipeline"
   ]
  },
  {
   "cell_type": "markdown",
   "id": "2f34031b",
   "metadata": {},
   "source": [
    "## Loading Data From Cloud"
   ]
  },
  {
   "cell_type": "code",
   "execution_count": 3,
   "id": "ae45b58b",
   "metadata": {
    "ExecuteTime": {
     "end_time": "2023-06-28T14:11:37.500303Z",
     "start_time": "2023-06-28T14:11:37.489266Z"
    }
   },
   "outputs": [],
   "source": [
    "key = os.environ['MY_ACCESS_KEY_AWS']\n",
    "secret = os.environ['MY_SECRET_KEY_AWS']"
   ]
  },
  {
   "cell_type": "code",
   "execution_count": 4,
   "id": "aea6272f",
   "metadata": {
    "ExecuteTime": {
     "end_time": "2023-06-28T14:11:51.080072Z",
     "start_time": "2023-06-28T14:11:38.856616Z"
    }
   },
   "outputs": [],
   "source": [
    "#load dataset from S3\n",
    "fs = s3fs.S3FileSystem(key=key, secret=secret)\n",
    "bucket_name = 'customer-insiders-dataset'  # Substitua pelo nome do seu bucket\n",
    "key = 'ecommerce.csv'  # Substitua pelo caminho e nome do seu arquivo CSV\n",
    "\n",
    "# Leitura do arquivo CSV do S3 e criação do DataFrame\n",
    "with fs.open(f'{bucket_name}/{key}', 'rb') as file:\n",
    "    df_raw = pd.read_csv(file, encoding='iso-8859-1')\n",
    "df_raw = df_raw.drop('Unnamed: 8', axis=1)     "
   ]
  },
  {
   "cell_type": "markdown",
   "id": "72e3893f",
   "metadata": {},
   "source": [
    "## Load Pipeline From Cloud"
   ]
  },
  {
   "cell_type": "code",
   "execution_count": 5,
   "id": "8ec17ee3",
   "metadata": {
    "ExecuteTime": {
     "end_time": "2023-06-28T14:12:18.054474Z",
     "start_time": "2023-06-28T14:12:16.719550Z"
    }
   },
   "outputs": [],
   "source": [
    "#Load Pipeline from S3 AWS\n",
    "file = fs.open(f'{bucket_name}/pipe_final/pipe_final.joblib', 'rb')\n",
    "pipe_aws = joblib.load(file)"
   ]
  },
  {
   "cell_type": "markdown",
   "id": "403caa2b",
   "metadata": {},
   "source": [
    "## Apply Pipeline on Data from Cloud"
   ]
  },
  {
   "cell_type": "code",
   "execution_count": null,
   "id": "e8b6795f",
   "metadata": {
    "ExecuteTime": {
     "start_time": "2023-06-28T14:12:17.005Z"
    }
   },
   "outputs": [],
   "source": [
    "#Apply pipeline to data from AWS\n",
    "data = df_raw.copy()\n",
    "labels = pipe_aws.transform(data)"
   ]
  },
  {
   "cell_type": "markdown",
   "id": "b8c37ee4",
   "metadata": {},
   "source": [
    "## Clean Data"
   ]
  },
  {
   "cell_type": "code",
   "execution_count": null,
   "id": "18cadbcb",
   "metadata": {
    "ExecuteTime": {
     "start_time": "2023-06-28T14:12:17.305Z"
    }
   },
   "outputs": [],
   "source": [
    "df_profile = df_raw.copy()"
   ]
  },
  {
   "cell_type": "code",
   "execution_count": null,
   "id": "85de64aa",
   "metadata": {
    "ExecuteTime": {
     "start_time": "2023-06-28T14:12:17.455Z"
    }
   },
   "outputs": [],
   "source": [
    "#Use pipeline to clean data and apply labels\n",
    "rename_pipe = Pipeline([\n",
    "    ('Rename Columns', pc.RenameColumns())\n",
    "])\n",
    "\n",
    "data_cleaning_pipe = Pipeline([\n",
    "    ('Data Cleaning', pc.DataCleaning())\n",
    "])\n",
    "\n",
    "feature_pipe = Pipeline([\n",
    "    ('Feature Engineering', pc.FeatureEngineering())\n",
    "])"
   ]
  },
  {
   "cell_type": "code",
   "execution_count": null,
   "id": "c69da7e3",
   "metadata": {
    "ExecuteTime": {
     "start_time": "2023-06-28T14:12:17.605Z"
    }
   },
   "outputs": [],
   "source": [
    "#cleaning data\n",
    "df_profile = rename_pipe.fit_transform(df_profile)\n",
    "df_profile = data_cleaning_pipe.fit_transform(df_profile)\n",
    "df_profile = feature_pipe.fit_transform(df_profile)"
   ]
  },
  {
   "cell_type": "markdown",
   "id": "0e70c0e0",
   "metadata": {},
   "source": [
    "## Applying Labels from Pipeline and Results"
   ]
  },
  {
   "cell_type": "code",
   "execution_count": null,
   "id": "e2922ec7",
   "metadata": {
    "ExecuteTime": {
     "start_time": "2023-06-28T14:12:17.904Z"
    }
   },
   "outputs": [],
   "source": [
    "#applying labels\n",
    "df_profile['clusters'] = labels"
   ]
  },
  {
   "cell_type": "code",
   "execution_count": null,
   "id": "04d725e2",
   "metadata": {
    "ExecuteTime": {
     "start_time": "2023-06-28T14:12:18.056Z"
    }
   },
   "outputs": [],
   "source": [
    "#Per Monetary\n",
    "df_monetary = df_profile.loc[:,['clusters','monetary']].groupby('clusters').mean().reset_index()\n",
    "\n",
    "#Per Frequency\n",
    "df_frequency = df_profile.loc[:,['clusters','frequency']].groupby('clusters').mean().reset_index()\n",
    "\n",
    "#Per Recency\n",
    "df_recency = df_profile.loc[:,['clusters','recency']].groupby('clusters').mean().reset_index()\n",
    "\n",
    "#Per Pencentual\n",
    "df_client_perc = df_profile.loc[:,['customer_id','clusters']].groupby('clusters').count().reset_index()\n",
    "df_client_perc['customer_id'] = df_client_perc['customer_id'].apply(lambda x: 100*(x)/(df_client_perc['customer_id'].sum()))\n",
    "df_client_perc = df_client_perc.rename(columns={'customer_id':'percent'})\n",
    "\n",
    "#Per qtd_products\n",
    "df_prods = df_profile.loc[:,['clusters','qt_prods']].groupby('clusters').mean().reset_index()\n",
    "\n",
    "#Per Returns\n",
    "df_returns = df_profile.loc[:,['clusters','returns_count']].groupby('clusters').mean().reset_index()\n",
    "\n",
    "#Per Relationship days\n",
    "df_duration = df_profile.loc[:,['clusters','relationship_duration']].groupby('clusters').mean().reset_index()\n",
    "\n",
    "#Per Customer\n",
    "df_customer = df_profile.loc[:,['clusters','customer_id']].groupby('clusters').count().reset_index()\n",
    "\n",
    "df_resume = (pd.merge(df_monetary, df_frequency, on='clusters', how='left')\n",
    "             .merge(df_recency, on='clusters', how='left')\n",
    "             .merge(df_client_perc, on='clusters', how='left')\n",
    "             .merge(df_prods, on='clusters', how='left')\n",
    "             .merge(df_returns, on='clusters', how='left')\n",
    "             .merge(df_duration, on='clusters', how='left')\n",
    "             .merge(df_customer, on='clusters', how='left')\n",
    "             )"
   ]
  },
  {
   "cell_type": "code",
   "execution_count": null,
   "id": "ccbd2161",
   "metadata": {
    "ExecuteTime": {
     "start_time": "2023-06-28T14:12:18.214Z"
    }
   },
   "outputs": [],
   "source": [
    "df_resume.sort_values(by='monetary', ascending=False)"
   ]
  },
  {
   "cell_type": "code",
   "execution_count": null,
   "id": "24fd2cfb",
   "metadata": {},
   "outputs": [],
   "source": []
  },
  {
   "cell_type": "code",
   "execution_count": null,
   "id": "3da5183e",
   "metadata": {},
   "outputs": [],
   "source": []
  }
 ],
 "metadata": {
  "hide_input": false,
  "kernelspec": {
   "display_name": "Python 3 (ipykernel)",
   "language": "python",
   "name": "python3"
  },
  "language_info": {
   "codemirror_mode": {
    "name": "ipython",
    "version": 3
   },
   "file_extension": ".py",
   "mimetype": "text/x-python",
   "name": "python",
   "nbconvert_exporter": "python",
   "pygments_lexer": "ipython3",
   "version": "3.10.11"
  },
  "toc": {
   "base_numbering": 1,
   "nav_menu": {},
   "number_sections": true,
   "sideBar": true,
   "skip_h1_title": false,
   "title_cell": "Table of Contents",
   "title_sidebar": "Contents",
   "toc_cell": false,
   "toc_position": {},
   "toc_section_display": true,
   "toc_window_display": false
  },
  "varInspector": {
   "cols": {
    "lenName": 16,
    "lenType": 16,
    "lenVar": 40
   },
   "kernels_config": {
    "python": {
     "delete_cmd_postfix": "",
     "delete_cmd_prefix": "del ",
     "library": "var_list.py",
     "varRefreshCmd": "print(var_dic_list())"
    },
    "r": {
     "delete_cmd_postfix": ") ",
     "delete_cmd_prefix": "rm(",
     "library": "var_list.r",
     "varRefreshCmd": "cat(var_dic_list()) "
    }
   },
   "types_to_exclude": [
    "module",
    "function",
    "builtin_function_or_method",
    "instance",
    "_Feature"
   ],
   "window_display": false
  }
 },
 "nbformat": 4,
 "nbformat_minor": 5
}
