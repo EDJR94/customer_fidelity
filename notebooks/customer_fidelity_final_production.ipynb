{
 "cells": [
  {
   "cell_type": "markdown",
   "id": "be553885",
   "metadata": {},
   "source": [
    "# IMPORTS"
   ]
  },
  {
   "cell_type": "code",
   "execution_count": 1,
   "id": "593a5dbd",
   "metadata": {
    "ExecuteTime": {
     "end_time": "2023-06-28T16:24:23.072747Z",
     "start_time": "2023-06-28T16:24:17.206308Z"
    }
   },
   "outputs": [
    {
     "name": "stderr",
     "output_type": "stream",
     "text": [
      "C:\\Users\\edils\\anaconda3\\envs\\customer_fidelity\\lib\\site-packages\\umap\\distances.py:1063: NumbaDeprecationWarning: \u001b[1mThe 'nopython' keyword argument was not supplied to the 'numba.jit' decorator. The implicit default value for this argument is currently False, but it will be changed to True in Numba 0.59.0. See https://numba.readthedocs.io/en/stable/reference/deprecation.html#deprecation-of-object-mode-fall-back-behaviour-when-using-jit for details.\u001b[0m\n",
      "  @numba.jit()\n",
      "C:\\Users\\edils\\anaconda3\\envs\\customer_fidelity\\lib\\site-packages\\umap\\distances.py:1071: NumbaDeprecationWarning: \u001b[1mThe 'nopython' keyword argument was not supplied to the 'numba.jit' decorator. The implicit default value for this argument is currently False, but it will be changed to True in Numba 0.59.0. See https://numba.readthedocs.io/en/stable/reference/deprecation.html#deprecation-of-object-mode-fall-back-behaviour-when-using-jit for details.\u001b[0m\n",
      "  @numba.jit()\n",
      "C:\\Users\\edils\\anaconda3\\envs\\customer_fidelity\\lib\\site-packages\\umap\\distances.py:1086: NumbaDeprecationWarning: \u001b[1mThe 'nopython' keyword argument was not supplied to the 'numba.jit' decorator. The implicit default value for this argument is currently False, but it will be changed to True in Numba 0.59.0. See https://numba.readthedocs.io/en/stable/reference/deprecation.html#deprecation-of-object-mode-fall-back-behaviour-when-using-jit for details.\u001b[0m\n",
      "  @numba.jit()\n",
      "C:\\Users\\edils\\anaconda3\\envs\\customer_fidelity\\lib\\site-packages\\tqdm\\auto.py:21: TqdmWarning: IProgress not found. Please update jupyter and ipywidgets. See https://ipywidgets.readthedocs.io/en/stable/user_install.html\n",
      "  from .autonotebook import tqdm as notebook_tqdm\n",
      "C:\\Users\\edils\\anaconda3\\envs\\customer_fidelity\\lib\\site-packages\\umap\\umap_.py:660: NumbaDeprecationWarning: \u001b[1mThe 'nopython' keyword argument was not supplied to the 'numba.jit' decorator. The implicit default value for this argument is currently False, but it will be changed to True in Numba 0.59.0. See https://numba.readthedocs.io/en/stable/reference/deprecation.html#deprecation-of-object-mode-fall-back-behaviour-when-using-jit for details.\u001b[0m\n",
      "  @numba.jit()\n"
     ]
    }
   ],
   "source": [
    "import pandas as pd\n",
    "import s3fs\n",
    "import joblib\n",
    "import pipeline_class as pc\n",
    "import os\n",
    "\n",
    "from sklearn.pipeline    import Pipeline"
   ]
  },
  {
   "cell_type": "markdown",
   "id": "2f34031b",
   "metadata": {},
   "source": [
    "## Loading Data From Cloud"
   ]
  },
  {
   "cell_type": "code",
   "execution_count": 2,
   "id": "ae45b58b",
   "metadata": {
    "ExecuteTime": {
     "end_time": "2023-06-28T16:24:23.088099Z",
     "start_time": "2023-06-28T16:24:23.077241Z"
    }
   },
   "outputs": [],
   "source": [
    "key = os.environ['MY_ACCESS_KEY_AWS']\n",
    "secret = os.environ['MY_SECRET_KEY_AWS']"
   ]
  },
  {
   "cell_type": "code",
   "execution_count": 3,
   "id": "aea6272f",
   "metadata": {
    "ExecuteTime": {
     "end_time": "2023-06-28T16:24:33.508974Z",
     "start_time": "2023-06-28T16:24:23.089146Z"
    }
   },
   "outputs": [],
   "source": [
    "#load dataset from S3\n",
    "fs = s3fs.S3FileSystem(key=key, secret=secret)\n",
    "bucket_name = 'customer-insiders-dataset'  # Substitua pelo nome do seu bucket\n",
    "key = 'ecommerce.csv'  # Substitua pelo caminho e nome do seu arquivo CSV\n",
    "\n",
    "# Leitura do arquivo CSV do S3 e criação do DataFrame\n",
    "with fs.open(f'{bucket_name}/{key}', 'rb') as file:\n",
    "    df_raw = pd.read_csv(file, encoding='iso-8859-1')\n",
    "df_raw = df_raw.drop('Unnamed: 8', axis=1)     "
   ]
  },
  {
   "cell_type": "markdown",
   "id": "72e3893f",
   "metadata": {},
   "source": [
    "## Load Pipeline From Cloud"
   ]
  },
  {
   "cell_type": "code",
   "execution_count": 4,
   "id": "8ec17ee3",
   "metadata": {
    "ExecuteTime": {
     "end_time": "2023-06-28T16:24:33.928380Z",
     "start_time": "2023-06-28T16:24:33.511014Z"
    }
   },
   "outputs": [],
   "source": [
    "#Load Pipeline from S3 AWS\n",
    "file = fs.open(f'{bucket_name}/pipe_final/pipe_final.joblib', 'rb')\n",
    "pipe_aws = joblib.load(file)"
   ]
  },
  {
   "cell_type": "markdown",
   "id": "403caa2b",
   "metadata": {},
   "source": [
    "## Apply Pipeline on Data from Cloud"
   ]
  },
  {
   "cell_type": "code",
   "execution_count": 5,
   "id": "e8b6795f",
   "metadata": {
    "ExecuteTime": {
     "end_time": "2023-06-28T16:25:23.894467Z",
     "start_time": "2023-06-28T16:24:33.936878Z"
    }
   },
   "outputs": [],
   "source": [
    "#Apply pipeline to data from AWS\n",
    "data = df_raw.copy()\n",
    "labels = pipe_aws.transform(data)"
   ]
  },
  {
   "cell_type": "markdown",
   "id": "b8c37ee4",
   "metadata": {},
   "source": [
    "## Clean Data"
   ]
  },
  {
   "cell_type": "code",
   "execution_count": 6,
   "id": "18cadbcb",
   "metadata": {
    "ExecuteTime": {
     "end_time": "2023-06-28T16:25:23.925663Z",
     "start_time": "2023-06-28T16:25:23.896119Z"
    }
   },
   "outputs": [],
   "source": [
    "df_profile = df_raw.copy()"
   ]
  },
  {
   "cell_type": "code",
   "execution_count": 7,
   "id": "85de64aa",
   "metadata": {
    "ExecuteTime": {
     "end_time": "2023-06-28T16:25:23.941734Z",
     "start_time": "2023-06-28T16:25:23.928658Z"
    }
   },
   "outputs": [],
   "source": [
    "#Use pipeline to clean data and apply labels\n",
    "rename_pipe = Pipeline([\n",
    "    ('Rename Columns', pc.RenameColumns())\n",
    "])\n",
    "\n",
    "data_cleaning_pipe = Pipeline([\n",
    "    ('Data Cleaning', pc.DataCleaning())\n",
    "])\n",
    "\n",
    "feature_pipe = Pipeline([\n",
    "    ('Feature Engineering', pc.FeatureEngineering())\n",
    "])"
   ]
  },
  {
   "cell_type": "code",
   "execution_count": 8,
   "id": "c69da7e3",
   "metadata": {
    "ExecuteTime": {
     "end_time": "2023-06-28T16:25:25.237318Z",
     "start_time": "2023-06-28T16:25:23.943870Z"
    }
   },
   "outputs": [],
   "source": [
    "#cleaning data\n",
    "df_profile = rename_pipe.fit_transform(df_profile)\n",
    "df_profile = data_cleaning_pipe.fit_transform(df_profile)\n",
    "df_profile = feature_pipe.fit_transform(df_profile)"
   ]
  },
  {
   "cell_type": "markdown",
   "id": "0e70c0e0",
   "metadata": {},
   "source": [
    "## Applying Labels from Pipeline and Results"
   ]
  },
  {
   "cell_type": "code",
   "execution_count": 9,
   "id": "e2922ec7",
   "metadata": {
    "ExecuteTime": {
     "end_time": "2023-06-28T16:25:25.252580Z",
     "start_time": "2023-06-28T16:25:25.238447Z"
    }
   },
   "outputs": [],
   "source": [
    "#applying labels\n",
    "df_profile['clusters'] = labels"
   ]
  },
  {
   "cell_type": "code",
   "execution_count": 10,
   "id": "b3faba68",
   "metadata": {
    "ExecuteTime": {
     "end_time": "2023-06-28T16:25:25.267783Z",
     "start_time": "2023-06-28T16:25:25.256840Z"
    }
   },
   "outputs": [],
   "source": [
    "name_clusters = {4: 'Insiders',\n",
    "                5: 'Potentials',\n",
    "                 1: 'At Risk',\n",
    "                 2: 'Sleeping',\n",
    "                 3: 'Occasional'\n",
    "                }\n",
    "\n",
    "df_profile['clusters'] = df_profile['clusters'].map(name_clusters)"
   ]
  },
  {
   "cell_type": "code",
   "execution_count": 11,
   "id": "04d725e2",
   "metadata": {
    "ExecuteTime": {
     "end_time": "2023-06-28T16:25:25.331293Z",
     "start_time": "2023-06-28T16:25:25.271671Z"
    }
   },
   "outputs": [],
   "source": [
    "#Per Monetary\n",
    "df_monetary = df_profile.loc[:,['clusters','monetary']].groupby('clusters').mean().reset_index()\n",
    "\n",
    "#Per Frequency\n",
    "df_frequency = df_profile.loc[:,['clusters','frequency']].groupby('clusters').mean().reset_index()\n",
    "\n",
    "#Per Recency\n",
    "df_recency = df_profile.loc[:,['clusters','recency']].groupby('clusters').mean().reset_index()\n",
    "\n",
    "#Per Pencentual\n",
    "df_client_perc = df_profile.loc[:,['customer_id','clusters']].groupby('clusters').count().reset_index()\n",
    "df_client_perc['customer_id'] = df_client_perc['customer_id'].apply(lambda x: 100*(x)/(df_client_perc['customer_id'].sum()))\n",
    "df_client_perc = df_client_perc.rename(columns={'customer_id':'percent'})\n",
    "\n",
    "#Per qtd_products\n",
    "df_prods = df_profile.loc[:,['clusters','qt_prods']].groupby('clusters').mean().reset_index()\n",
    "\n",
    "#Per Returns\n",
    "df_returns = df_profile.loc[:,['clusters','returns_count']].groupby('clusters').mean().reset_index()\n",
    "\n",
    "#Per Relationship days\n",
    "df_duration = df_profile.loc[:,['clusters','relationship_duration']].groupby('clusters').mean().reset_index()\n",
    "\n",
    "#Per Avg Order Value\n",
    "df_avg_value = df_profile.loc[:,['clusters','avg_order_value']].groupby('clusters').mean().reset_index()\n",
    "\n",
    "#Per Customer\n",
    "df_customer = df_profile.loc[:,['clusters','customer_id']].groupby('clusters').count().reset_index()\n",
    "\n",
    "df_resume = (pd.merge(df_monetary, df_frequency, on='clusters', how='left')\n",
    "             .merge(df_recency, on='clusters', how='left')\n",
    "             .merge(df_client_perc, on='clusters', how='left')\n",
    "             .merge(df_prods, on='clusters', how='left')\n",
    "             .merge(df_returns, on='clusters', how='left')\n",
    "             .merge(df_duration, on='clusters', how='left')\n",
    "             .merge(df_customer, on='clusters', how='left')\n",
    "             .merge(df_avg_value, on='clusters', how='left')\n",
    "             )"
   ]
  },
  {
   "cell_type": "code",
   "execution_count": 12,
   "id": "ccbd2161",
   "metadata": {
    "ExecuteTime": {
     "end_time": "2023-06-28T16:25:25.361695Z",
     "start_time": "2023-06-28T16:25:25.332836Z"
    }
   },
   "outputs": [
    {
     "data": {
      "text/html": [
       "<div>\n",
       "<style scoped>\n",
       "    .dataframe tbody tr th:only-of-type {\n",
       "        vertical-align: middle;\n",
       "    }\n",
       "\n",
       "    .dataframe tbody tr th {\n",
       "        vertical-align: top;\n",
       "    }\n",
       "\n",
       "    .dataframe thead th {\n",
       "        text-align: right;\n",
       "    }\n",
       "</style>\n",
       "<table border=\"1\" class=\"dataframe\">\n",
       "  <thead>\n",
       "    <tr style=\"text-align: right;\">\n",
       "      <th></th>\n",
       "      <th>clusters</th>\n",
       "      <th>monetary</th>\n",
       "      <th>frequency</th>\n",
       "      <th>recency</th>\n",
       "      <th>percent</th>\n",
       "      <th>qt_prods</th>\n",
       "      <th>returns_count</th>\n",
       "      <th>relationship_duration</th>\n",
       "      <th>customer_id</th>\n",
       "      <th>avg_order_value</th>\n",
       "    </tr>\n",
       "  </thead>\n",
       "  <tbody>\n",
       "    <tr>\n",
       "      <th>1</th>\n",
       "      <td>Insiders</td>\n",
       "      <td>6987.832360</td>\n",
       "      <td>0.092111</td>\n",
       "      <td>36.788820</td>\n",
       "      <td>14.137689</td>\n",
       "      <td>317.621118</td>\n",
       "      <td>53.301863</td>\n",
       "      <td>261.679503</td>\n",
       "      <td>805</td>\n",
       "      <td>1194.733488</td>\n",
       "    </tr>\n",
       "    <tr>\n",
       "      <th>3</th>\n",
       "      <td>Potentials</td>\n",
       "      <td>1846.939369</td>\n",
       "      <td>0.026235</td>\n",
       "      <td>91.954521</td>\n",
       "      <td>32.824025</td>\n",
       "      <td>111.091493</td>\n",
       "      <td>27.903692</td>\n",
       "      <td>136.232745</td>\n",
       "      <td>1869</td>\n",
       "      <td>790.826792</td>\n",
       "    </tr>\n",
       "    <tr>\n",
       "      <th>0</th>\n",
       "      <td>At Risk</td>\n",
       "      <td>588.866232</td>\n",
       "      <td>0.020077</td>\n",
       "      <td>134.425121</td>\n",
       "      <td>18.177028</td>\n",
       "      <td>32.921739</td>\n",
       "      <td>5.098551</td>\n",
       "      <td>55.720773</td>\n",
       "      <td>1035</td>\n",
       "      <td>421.573256</td>\n",
       "    </tr>\n",
       "    <tr>\n",
       "      <th>4</th>\n",
       "      <td>Sleeping</td>\n",
       "      <td>226.495361</td>\n",
       "      <td>0.018749</td>\n",
       "      <td>152.509537</td>\n",
       "      <td>25.781524</td>\n",
       "      <td>19.269074</td>\n",
       "      <td>2.192779</td>\n",
       "      <td>29.196866</td>\n",
       "      <td>1468</td>\n",
       "      <td>183.296059</td>\n",
       "    </tr>\n",
       "    <tr>\n",
       "      <th>2</th>\n",
       "      <td>Occasional</td>\n",
       "      <td>16.186228</td>\n",
       "      <td>0.000000</td>\n",
       "      <td>195.524178</td>\n",
       "      <td>9.079733</td>\n",
       "      <td>3.353965</td>\n",
       "      <td>0.584139</td>\n",
       "      <td>0.000000</td>\n",
       "      <td>517</td>\n",
       "      <td>16.186228</td>\n",
       "    </tr>\n",
       "  </tbody>\n",
       "</table>\n",
       "</div>"
      ],
      "text/plain": [
       "     clusters     monetary  frequency     recency    percent    qt_prods  \\\n",
       "1    Insiders  6987.832360   0.092111   36.788820  14.137689  317.621118   \n",
       "3  Potentials  1846.939369   0.026235   91.954521  32.824025  111.091493   \n",
       "0     At Risk   588.866232   0.020077  134.425121  18.177028   32.921739   \n",
       "4    Sleeping   226.495361   0.018749  152.509537  25.781524   19.269074   \n",
       "2  Occasional    16.186228   0.000000  195.524178   9.079733    3.353965   \n",
       "\n",
       "   returns_count  relationship_duration  customer_id  avg_order_value  \n",
       "1      53.301863             261.679503          805      1194.733488  \n",
       "3      27.903692             136.232745         1869       790.826792  \n",
       "0       5.098551              55.720773         1035       421.573256  \n",
       "4       2.192779              29.196866         1468       183.296059  \n",
       "2       0.584139               0.000000          517        16.186228  "
      ]
     },
     "execution_count": 12,
     "metadata": {},
     "output_type": "execute_result"
    }
   ],
   "source": [
    "df_resume.sort_values(by='monetary', ascending=False)"
   ]
  },
  {
   "cell_type": "markdown",
   "id": "728b4da8",
   "metadata": {},
   "source": [
    "# Connect SQL AWS"
   ]
  },
  {
   "cell_type": "code",
   "execution_count": 13,
   "id": "b899850d",
   "metadata": {
    "ExecuteTime": {
     "end_time": "2023-06-28T16:42:47.202251Z",
     "start_time": "2023-06-28T16:42:47.026345Z"
    }
   },
   "outputs": [],
   "source": [
    "import psycopg2\n",
    "import sqlite3\n",
    "from sqlalchemy import create_engine, text"
   ]
  },
  {
   "cell_type": "code",
   "execution_count": 14,
   "id": "9de1f3c2",
   "metadata": {
    "ExecuteTime": {
     "end_time": "2023-06-28T16:42:50.308672Z",
     "start_time": "2023-06-28T16:42:47.613875Z"
    }
   },
   "outputs": [],
   "source": [
    "#connect database AWS\n",
    "db_host = 'insiders-database.co05ecdga4gg.us-east-2.rds.amazonaws.com'\n",
    "db_user = 'insiders'\n",
    "db_password = 'insiders123'\n",
    "db_name = 'postgres'\n",
    "\n",
    "endpoint = f'postgresql://{db_user}:{db_password}@{db_host}/{db_name}'\n",
    "engine = create_engine(endpoint)\n",
    "conn = engine.connect()"
   ]
  },
  {
   "cell_type": "markdown",
   "id": "04acae7c",
   "metadata": {},
   "source": [
    "## Create Table"
   ]
  },
  {
   "cell_type": "code",
   "execution_count": 16,
   "id": "667dade6",
   "metadata": {
    "ExecuteTime": {
     "end_time": "2023-06-28T16:43:12.007028Z",
     "start_time": "2023-06-28T16:43:11.512858Z"
    }
   },
   "outputs": [],
   "source": [
    "# query_create_table_insiders = \"\"\"\n",
    "#     CREATE TABLE insiders (\n",
    "#         customer_id                 REAL,\n",
    "#            monetary                 REAL,\n",
    "#            unique_prods             INTEGER,\n",
    "#            qt_prods                 INTEGER,\n",
    "#            avg_basket_size          REAL,\n",
    "#            recency                  INTEGER,\n",
    "#            relationship_duration    INTEGER,\n",
    "#            purchase_count           INTEGER,\n",
    "#            returns_count            REAL,\n",
    "#            monetary_returns         REAL,\n",
    "#            avg_unit_price           REAL,\n",
    "#            return_rate              REAL,\n",
    "#            avg_purchase_interval    REAL,\n",
    "#            frequency                REAL,\n",
    "#            avg_order_value          REAL,\n",
    "#            clusters                 TEXT\n",
    "#     )\n",
    "#     \"\"\"\n",
    "\n",
    "# conn.execute(text(query_create_table_insiders))\n",
    "# conn.commit()"
   ]
  },
  {
   "cell_type": "markdown",
   "id": "ddff139f",
   "metadata": {},
   "source": [
    "## Drop Table"
   ]
  },
  {
   "cell_type": "code",
   "execution_count": 15,
   "id": "550bb8f1",
   "metadata": {
    "ExecuteTime": {
     "end_time": "2023-06-28T16:43:00.809742Z",
     "start_time": "2023-06-28T16:43:00.314675Z"
    }
   },
   "outputs": [],
   "source": [
    "# #drop table\n",
    "# query_drop_insiders = \"\"\"\n",
    "#     DROP TABLE insiders\n",
    "# \"\"\"\n",
    "# conn.execute(text(query_drop_insiders))\n",
    "# conn.commit()"
   ]
  },
  {
   "cell_type": "markdown",
   "id": "3c874813",
   "metadata": {},
   "source": [
    "# Insert Data"
   ]
  },
  {
   "cell_type": "code",
   "execution_count": 17,
   "id": "313e0d5f",
   "metadata": {
    "ExecuteTime": {
     "end_time": "2023-06-28T16:43:34.570347Z",
     "start_time": "2023-06-28T16:43:28.877646Z"
    }
   },
   "outputs": [
    {
     "data": {
      "text/plain": [
       "694"
      ]
     },
     "execution_count": 17,
     "metadata": {},
     "output_type": "execute_result"
    }
   ],
   "source": [
    "#insert data - append\n",
    "conn = create_engine(endpoint)\n",
    "df_profile.to_sql('insiders', con=conn, if_exists='append', index=False)"
   ]
  },
  {
   "cell_type": "code",
   "execution_count": null,
   "id": "0deb84ba",
   "metadata": {
    "ExecuteTime": {
     "start_time": "2023-06-28T16:21:27.220Z"
    }
   },
   "outputs": [],
   "source": [
    "# #insert data - replace\n",
    "# conn = create_engine(endpoint)\n",
    "# df_profile.to_sql('insiders', con=conn, if_exists='replace', index=False)"
   ]
  },
  {
   "cell_type": "markdown",
   "id": "7cca6db5",
   "metadata": {},
   "source": [
    "## Consulting Database"
   ]
  },
  {
   "cell_type": "code",
   "execution_count": 18,
   "id": "364dd603",
   "metadata": {
    "ExecuteTime": {
     "end_time": "2023-06-28T16:43:43.993235Z",
     "start_time": "2023-06-28T16:43:40.250600Z"
    }
   },
   "outputs": [],
   "source": [
    "#consulting database\n",
    "engine = create_engine(endpoint)\n",
    "query = \"\"\"\n",
    "    SELECT * FROM insiders\n",
    "\"\"\"\n",
    "\n",
    "df = pd.read_sql_query(sql=text(query), con=engine.connect())\n"
   ]
  },
  {
   "cell_type": "code",
   "execution_count": 19,
   "id": "a13b6987",
   "metadata": {
    "ExecuteTime": {
     "end_time": "2023-06-28T16:43:44.024672Z",
     "start_time": "2023-06-28T16:43:43.995232Z"
    }
   },
   "outputs": [
    {
     "data": {
      "text/html": [
       "<div>\n",
       "<style scoped>\n",
       "    .dataframe tbody tr th:only-of-type {\n",
       "        vertical-align: middle;\n",
       "    }\n",
       "\n",
       "    .dataframe tbody tr th {\n",
       "        vertical-align: top;\n",
       "    }\n",
       "\n",
       "    .dataframe thead th {\n",
       "        text-align: right;\n",
       "    }\n",
       "</style>\n",
       "<table border=\"1\" class=\"dataframe\">\n",
       "  <thead>\n",
       "    <tr style=\"text-align: right;\">\n",
       "      <th></th>\n",
       "      <th>customer_id</th>\n",
       "      <th>monetary</th>\n",
       "      <th>unique_prods</th>\n",
       "      <th>qt_prods</th>\n",
       "      <th>avg_basket_size</th>\n",
       "      <th>recency</th>\n",
       "      <th>relationship_duration</th>\n",
       "      <th>purchase_count</th>\n",
       "      <th>returns_count</th>\n",
       "      <th>monetary_returns</th>\n",
       "      <th>avg_unit_price</th>\n",
       "      <th>return_rate</th>\n",
       "      <th>avg_purchase_interval</th>\n",
       "      <th>frequency</th>\n",
       "      <th>avg_order_value</th>\n",
       "      <th>clusters</th>\n",
       "    </tr>\n",
       "  </thead>\n",
       "  <tbody>\n",
       "    <tr>\n",
       "      <th>0</th>\n",
       "      <td>12347.0</td>\n",
       "      <td>4310.00</td>\n",
       "      <td>103</td>\n",
       "      <td>182</td>\n",
       "      <td>26.00</td>\n",
       "      <td>2</td>\n",
       "      <td>365</td>\n",
       "      <td>7</td>\n",
       "      <td>0.0</td>\n",
       "      <td>0.00</td>\n",
       "      <td>2.644011</td>\n",
       "      <td>0.0</td>\n",
       "      <td>0.019178</td>\n",
       "      <td>0.019178</td>\n",
       "      <td>615.71430</td>\n",
       "      <td>Insiders</td>\n",
       "    </tr>\n",
       "    <tr>\n",
       "      <th>1</th>\n",
       "      <td>12348.0</td>\n",
       "      <td>1437.24</td>\n",
       "      <td>21</td>\n",
       "      <td>27</td>\n",
       "      <td>6.75</td>\n",
       "      <td>75</td>\n",
       "      <td>283</td>\n",
       "      <td>4</td>\n",
       "      <td>0.0</td>\n",
       "      <td>0.00</td>\n",
       "      <td>0.692963</td>\n",
       "      <td>0.0</td>\n",
       "      <td>0.014134</td>\n",
       "      <td>0.014134</td>\n",
       "      <td>359.31000</td>\n",
       "      <td>Potentials</td>\n",
       "    </tr>\n",
       "    <tr>\n",
       "      <th>2</th>\n",
       "      <td>12349.0</td>\n",
       "      <td>1457.55</td>\n",
       "      <td>72</td>\n",
       "      <td>72</td>\n",
       "      <td>72.00</td>\n",
       "      <td>18</td>\n",
       "      <td>0</td>\n",
       "      <td>1</td>\n",
       "      <td>0.0</td>\n",
       "      <td>0.00</td>\n",
       "      <td>4.237500</td>\n",
       "      <td>0.0</td>\n",
       "      <td>0.000000</td>\n",
       "      <td>0.000000</td>\n",
       "      <td>1457.55000</td>\n",
       "      <td>Potentials</td>\n",
       "    </tr>\n",
       "    <tr>\n",
       "      <th>3</th>\n",
       "      <td>12350.0</td>\n",
       "      <td>294.40</td>\n",
       "      <td>16</td>\n",
       "      <td>16</td>\n",
       "      <td>16.00</td>\n",
       "      <td>310</td>\n",
       "      <td>0</td>\n",
       "      <td>1</td>\n",
       "      <td>0.0</td>\n",
       "      <td>0.00</td>\n",
       "      <td>1.581250</td>\n",
       "      <td>0.0</td>\n",
       "      <td>0.000000</td>\n",
       "      <td>0.000000</td>\n",
       "      <td>294.40000</td>\n",
       "      <td>Sleeping</td>\n",
       "    </tr>\n",
       "    <tr>\n",
       "      <th>4</th>\n",
       "      <td>12352.0</td>\n",
       "      <td>1385.74</td>\n",
       "      <td>57</td>\n",
       "      <td>77</td>\n",
       "      <td>11.00</td>\n",
       "      <td>36</td>\n",
       "      <td>260</td>\n",
       "      <td>7</td>\n",
       "      <td>63.0</td>\n",
       "      <td>-120.33</td>\n",
       "      <td>4.075455</td>\n",
       "      <td>9.0</td>\n",
       "      <td>0.026923</td>\n",
       "      <td>0.026923</td>\n",
       "      <td>197.96286</td>\n",
       "      <td>Potentials</td>\n",
       "    </tr>\n",
       "    <tr>\n",
       "      <th>...</th>\n",
       "      <td>...</td>\n",
       "      <td>...</td>\n",
       "      <td>...</td>\n",
       "      <td>...</td>\n",
       "      <td>...</td>\n",
       "      <td>...</td>\n",
       "      <td>...</td>\n",
       "      <td>...</td>\n",
       "      <td>...</td>\n",
       "      <td>...</td>\n",
       "      <td>...</td>\n",
       "      <td>...</td>\n",
       "      <td>...</td>\n",
       "      <td>...</td>\n",
       "      <td>...</td>\n",
       "      <td>...</td>\n",
       "    </tr>\n",
       "    <tr>\n",
       "      <th>5689</th>\n",
       "      <td>22705.0</td>\n",
       "      <td>3.35</td>\n",
       "      <td>2</td>\n",
       "      <td>2</td>\n",
       "      <td>2.00</td>\n",
       "      <td>1</td>\n",
       "      <td>0</td>\n",
       "      <td>1</td>\n",
       "      <td>0.0</td>\n",
       "      <td>0.00</td>\n",
       "      <td>1.675000</td>\n",
       "      <td>0.0</td>\n",
       "      <td>0.000000</td>\n",
       "      <td>0.000000</td>\n",
       "      <td>3.35000</td>\n",
       "      <td>Occasional</td>\n",
       "    </tr>\n",
       "    <tr>\n",
       "      <th>5690</th>\n",
       "      <td>22706.0</td>\n",
       "      <td>5699.00</td>\n",
       "      <td>634</td>\n",
       "      <td>634</td>\n",
       "      <td>634.00</td>\n",
       "      <td>1</td>\n",
       "      <td>0</td>\n",
       "      <td>1</td>\n",
       "      <td>0.0</td>\n",
       "      <td>0.00</td>\n",
       "      <td>4.320946</td>\n",
       "      <td>0.0</td>\n",
       "      <td>0.000000</td>\n",
       "      <td>0.000000</td>\n",
       "      <td>5699.00000</td>\n",
       "      <td>Insiders</td>\n",
       "    </tr>\n",
       "    <tr>\n",
       "      <th>5691</th>\n",
       "      <td>22707.0</td>\n",
       "      <td>6756.06</td>\n",
       "      <td>730</td>\n",
       "      <td>730</td>\n",
       "      <td>730.00</td>\n",
       "      <td>0</td>\n",
       "      <td>0</td>\n",
       "      <td>1</td>\n",
       "      <td>0.0</td>\n",
       "      <td>0.00</td>\n",
       "      <td>4.175904</td>\n",
       "      <td>0.0</td>\n",
       "      <td>0.000000</td>\n",
       "      <td>0.000000</td>\n",
       "      <td>6756.06000</td>\n",
       "      <td>Insiders</td>\n",
       "    </tr>\n",
       "    <tr>\n",
       "      <th>5692</th>\n",
       "      <td>22708.0</td>\n",
       "      <td>3217.20</td>\n",
       "      <td>56</td>\n",
       "      <td>59</td>\n",
       "      <td>59.00</td>\n",
       "      <td>0</td>\n",
       "      <td>0</td>\n",
       "      <td>1</td>\n",
       "      <td>0.0</td>\n",
       "      <td>0.00</td>\n",
       "      <td>6.269661</td>\n",
       "      <td>0.0</td>\n",
       "      <td>0.000000</td>\n",
       "      <td>0.000000</td>\n",
       "      <td>3217.20000</td>\n",
       "      <td>Potentials</td>\n",
       "    </tr>\n",
       "    <tr>\n",
       "      <th>5693</th>\n",
       "      <td>22709.0</td>\n",
       "      <td>3950.72</td>\n",
       "      <td>217</td>\n",
       "      <td>217</td>\n",
       "      <td>217.00</td>\n",
       "      <td>0</td>\n",
       "      <td>0</td>\n",
       "      <td>1</td>\n",
       "      <td>0.0</td>\n",
       "      <td>0.00</td>\n",
       "      <td>6.364378</td>\n",
       "      <td>0.0</td>\n",
       "      <td>0.000000</td>\n",
       "      <td>0.000000</td>\n",
       "      <td>3950.72000</td>\n",
       "      <td>Insiders</td>\n",
       "    </tr>\n",
       "  </tbody>\n",
       "</table>\n",
       "<p>5694 rows × 16 columns</p>\n",
       "</div>"
      ],
      "text/plain": [
       "      customer_id  monetary  unique_prods  qt_prods  avg_basket_size  recency  \\\n",
       "0         12347.0   4310.00           103       182            26.00        2   \n",
       "1         12348.0   1437.24            21        27             6.75       75   \n",
       "2         12349.0   1457.55            72        72            72.00       18   \n",
       "3         12350.0    294.40            16        16            16.00      310   \n",
       "4         12352.0   1385.74            57        77            11.00       36   \n",
       "...           ...       ...           ...       ...              ...      ...   \n",
       "5689      22705.0      3.35             2         2             2.00        1   \n",
       "5690      22706.0   5699.00           634       634           634.00        1   \n",
       "5691      22707.0   6756.06           730       730           730.00        0   \n",
       "5692      22708.0   3217.20            56        59            59.00        0   \n",
       "5693      22709.0   3950.72           217       217           217.00        0   \n",
       "\n",
       "      relationship_duration  purchase_count  returns_count  monetary_returns  \\\n",
       "0                       365               7            0.0              0.00   \n",
       "1                       283               4            0.0              0.00   \n",
       "2                         0               1            0.0              0.00   \n",
       "3                         0               1            0.0              0.00   \n",
       "4                       260               7           63.0           -120.33   \n",
       "...                     ...             ...            ...               ...   \n",
       "5689                      0               1            0.0              0.00   \n",
       "5690                      0               1            0.0              0.00   \n",
       "5691                      0               1            0.0              0.00   \n",
       "5692                      0               1            0.0              0.00   \n",
       "5693                      0               1            0.0              0.00   \n",
       "\n",
       "      avg_unit_price  return_rate  avg_purchase_interval  frequency  \\\n",
       "0           2.644011          0.0               0.019178   0.019178   \n",
       "1           0.692963          0.0               0.014134   0.014134   \n",
       "2           4.237500          0.0               0.000000   0.000000   \n",
       "3           1.581250          0.0               0.000000   0.000000   \n",
       "4           4.075455          9.0               0.026923   0.026923   \n",
       "...              ...          ...                    ...        ...   \n",
       "5689        1.675000          0.0               0.000000   0.000000   \n",
       "5690        4.320946          0.0               0.000000   0.000000   \n",
       "5691        4.175904          0.0               0.000000   0.000000   \n",
       "5692        6.269661          0.0               0.000000   0.000000   \n",
       "5693        6.364378          0.0               0.000000   0.000000   \n",
       "\n",
       "      avg_order_value    clusters  \n",
       "0           615.71430    Insiders  \n",
       "1           359.31000  Potentials  \n",
       "2          1457.55000  Potentials  \n",
       "3           294.40000    Sleeping  \n",
       "4           197.96286  Potentials  \n",
       "...               ...         ...  \n",
       "5689          3.35000  Occasional  \n",
       "5690       5699.00000    Insiders  \n",
       "5691       6756.06000    Insiders  \n",
       "5692       3217.20000  Potentials  \n",
       "5693       3950.72000    Insiders  \n",
       "\n",
       "[5694 rows x 16 columns]"
      ]
     },
     "execution_count": 19,
     "metadata": {},
     "output_type": "execute_result"
    }
   ],
   "source": [
    "df"
   ]
  },
  {
   "cell_type": "code",
   "execution_count": null,
   "id": "ba0c6593",
   "metadata": {},
   "outputs": [],
   "source": []
  }
 ],
 "metadata": {
  "hide_input": false,
  "kernelspec": {
   "display_name": "Python 3 (ipykernel)",
   "language": "python",
   "name": "python3"
  },
  "language_info": {
   "codemirror_mode": {
    "name": "ipython",
    "version": 3
   },
   "file_extension": ".py",
   "mimetype": "text/x-python",
   "name": "python",
   "nbconvert_exporter": "python",
   "pygments_lexer": "ipython3",
   "version": "3.10.11"
  },
  "toc": {
   "base_numbering": 1,
   "nav_menu": {},
   "number_sections": true,
   "sideBar": true,
   "skip_h1_title": false,
   "title_cell": "Table of Contents",
   "title_sidebar": "Contents",
   "toc_cell": false,
   "toc_position": {},
   "toc_section_display": true,
   "toc_window_display": false
  },
  "varInspector": {
   "cols": {
    "lenName": 16,
    "lenType": 16,
    "lenVar": 40
   },
   "kernels_config": {
    "python": {
     "delete_cmd_postfix": "",
     "delete_cmd_prefix": "del ",
     "library": "var_list.py",
     "varRefreshCmd": "print(var_dic_list())"
    },
    "r": {
     "delete_cmd_postfix": ") ",
     "delete_cmd_prefix": "rm(",
     "library": "var_list.r",
     "varRefreshCmd": "cat(var_dic_list()) "
    }
   },
   "types_to_exclude": [
    "module",
    "function",
    "builtin_function_or_method",
    "instance",
    "_Feature"
   ],
   "window_display": false
  }
 },
 "nbformat": 4,
 "nbformat_minor": 5
}
