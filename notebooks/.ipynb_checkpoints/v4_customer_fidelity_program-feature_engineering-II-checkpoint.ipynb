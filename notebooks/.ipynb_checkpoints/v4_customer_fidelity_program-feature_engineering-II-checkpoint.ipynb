{
 "cells": [
  {
   "cell_type": "markdown",
   "id": "5e41b4ff",
   "metadata": {},
   "source": [
    "# Problema de Negócio"
   ]
  },
  {
   "cell_type": "markdown",
   "id": "634c452c",
   "metadata": {},
   "source": [
    "**All in One** é uma empresa fictícia de comércio eletrônico com sede no Reino Unido. Ela oferece uma ampla gama de produtos voltados para diversas categorias, incluindo decoração de casa, suprimentos para festas, acessórios de cozinha, soluções de armazenamento e muito mais.\n",
    "\n",
    "Após vender com sucesso uma ampla variedade de produtos e acumular uma base substancial de clientes, a All in One reconhece o imenso valor oculto em seus dados de clientes. A empresa tem como objetivo aproveitar o poder da ciência de dados para obter **insights mais profundos** sobre sua base de clientes e aplicar esses insights de forma estratégica. Um de seus principais objetivos é **segmentar seus clientes** de forma eficaz. Essa segmentação permitirá à All in One compreender sua base de clientes em um nível mais detalhado, identificar grupos de clientes específicos com necessidades e preferências distintas, e adaptar seus esforços de marketing e ofertas de produtos de acordo.\n",
    "\n",
    "Além disso, ao implementar um **programa de fidelidade**, a All in One busca cultivar relacionamentos mais fortes com os clientes e aumentar a retenção deles. Por meio da análise cuidadosa dos comportamentos dos clientes, padrões de compra e preferências, eles podem projetar um programa de fidelidade que ofereça incentivos personalizados, recompensas e benefícios exclusivos para diferentes segmentos de clientes. Essa abordagem personalizada não apenas promove a fidelidade do cliente, mas também cria um senso de apreço e pertencimento entre os clientes, fortalecendo ainda mais sua conexão com a marca."
   ]
  },
  {
   "cell_type": "markdown",
   "id": "a1b741dc",
   "metadata": {},
   "source": [
    "# Dados"
   ]
  },
  {
   "cell_type": "markdown",
   "id": "5c1c8ee3",
   "metadata": {},
   "source": [
    "- **InvoiceNo**: Número da fatura, um identificador único para cada transação\n",
    "- **StockCode**: Código do produto, um identificador único para cada produto\n",
    "- **Description**: Descrição do produto\n",
    "- **Quantity**: Quantidade de produtos comprados em cada transação\n",
    "- **InvoiceDate**: Data e hora de cada transação\n",
    "- **UnitPrice**: Preço unitário de cada produto\n",
    "- **CustomerID**: ID do cliente, um identificador único para cada cliente\n",
    "- **Country**: País do cliente"
   ]
  },
  {
   "cell_type": "markdown",
   "id": "4a01719c",
   "metadata": {},
   "source": [
    "# Planejamento da Solução"
   ]
  },
  {
   "cell_type": "markdown",
   "id": "c3b38547",
   "metadata": {},
   "source": [
    "## Entrada"
   ]
  },
  {
   "cell_type": "markdown",
   "id": "4714d548",
   "metadata": {},
   "source": [
    "1. Problema de Negócio\n",
    "    - Selecionar os clientes mais valiosos para participar de um Programa de Fidelidade.\n",
    "2. Conjunto de Dados:\n",
    "    - Dados de vendas de uma plataforma de comércio eletrônico online, cobrindo um período de um ano.\n",
    "\n"
   ]
  },
  {
   "cell_type": "markdown",
   "id": "a1269e62",
   "metadata": {},
   "source": [
    "## Saída"
   ]
  },
  {
   "cell_type": "markdown",
   "id": "912a984d",
   "metadata": {},
   "source": [
    "1. Identificação das pessoas a serem parte do programa Insiders\n",
    "    - Lista:\n",
    "\n",
    "    - client_id is_insiders\n",
    "    - 10323 sim/1\n",
    "    - 32413 não/0\n",
    "2. Relatório com respostas para perguntas de negócios:\n",
    "    - Quem são as pessoas elegíveis para participar do programa Insiders?\n",
    "    - Quantos clientes serão incluídos no grupo?\n",
    "    - Quais são as características-chave desses clientes?\n",
    "    - Qual é a porcentagem de contribuição de receita dos Insiders?"
   ]
  },
  {
   "cell_type": "markdown",
   "id": "aecb9184",
   "metadata": {},
   "source": [
    "## Tarefa"
   ]
  },
  {
   "cell_type": "markdown",
   "id": "0cfbea5e",
   "metadata": {},
   "source": [
    "1. Quem são as pessoas elegíveis para participar do programa Insiders?\n",
    "    - O que significa ser elegível? Quem são os clientes de alto valor?\n",
    "    - Receita:\n",
    "        - Ticket médio alto.\n",
    "        - Alto valor vitalício do cliente (LTV).\n",
    "        - Baixa recência.\n",
    "        - Tamanho do cesto alto.\n",
    "        - Baixa probabilidade de churn - modelos.\n",
    "        - Alta previsão de LTV - modelos.\n",
    "        - Alta propensão de compra - modelos.\n",
    "2. Custo:\n",
    "    - Baixa taxa de retorno.\n",
    "\n",
    "3. Quantos clientes serão incluídos no grupo? - Número total de clientes - % do grupo Insiders\n",
    "\n",
    "4. Quais são as características-chave desses clientes? - Escreva características dos clientes: - Idade - Localização - Escreva características de consumo: - Atributos de cluster.\n",
    "\n",
    "5. Qual é a porcentagem de contribuição de receita dos Insiders? - Receita total do ano - Receita total do grupo Insiders durante o ano."
   ]
  },
  {
   "cell_type": "markdown",
   "id": "be553885",
   "metadata": {},
   "source": [
    "# 0.0 IMPORTS"
   ]
  },
  {
   "cell_type": "code",
   "execution_count": 127,
   "id": "593a5dbd",
   "metadata": {
    "ExecuteTime": {
     "end_time": "2023-06-09T14:59:41.487595Z",
     "start_time": "2023-06-09T14:59:41.476302Z"
    }
   },
   "outputs": [],
   "source": [
    "import pandas   as pd\n",
    "import numpy    as np\n",
    "import seaborn  as sns\n",
    "import inflection\n",
    "import sweetviz as sv\n",
    "import warnings\n",
    "import re\n",
    "\n",
    "from matplotlib import pyplot as plt\n",
    "from plotly     import express    as px\n",
    "\n",
    "from sklearn import cluster       as c\n",
    "from sklearn import metrics       as mt\n",
    "from sklearn import preprocessing as pp\n",
    "\n",
    "from yellowbrick.cluster import KElbowVisualizer, SilhouetteVisualizer\n",
    "\n",
    "warnings.filterwarnings('ignore')"
   ]
  },
  {
   "cell_type": "markdown",
   "id": "f3ce4214",
   "metadata": {},
   "source": [
    "## 0.1 Helper Functions"
   ]
  },
  {
   "cell_type": "code",
   "execution_count": 128,
   "id": "4011ad8c",
   "metadata": {
    "ExecuteTime": {
     "end_time": "2023-06-09T14:59:41.503236Z",
     "start_time": "2023-06-09T14:59:41.488596Z"
    }
   },
   "outputs": [],
   "source": [
    "palette = [\"#00BFFF\", \"#DC143C\", \"#FFA07A\", \"#FFD700\", \"#8B008B\", \"#7CFC00\", \"#FF69B4\", \"#00CED1\", \"#FF6347\", \"#9400D3\"]\n",
    "def jupyter_settings(palette):\n",
    "    %matplotlib inline\n",
    "    plt.style.use( 'bmh' )\n",
    "    plt.rcParams['figure.figsize'] = [12, 6]\n",
    "    pd.options.display.max_columns = None\n",
    "    pd.options.display.max_rows = 50\n",
    "    pd.set_option( 'display.expand_frame_repr', False )\n",
    "    sns.set(font_scale=2)\n",
    "    sns.set_theme(palette=palette)\n",
    "    warnings.simplefilter(\"ignore\")\n",
    "    # plt.rcParams.update({'font.size': 10})\n",
    "    sns.set_style(\"white\")\n",
    "\n",
    "    \n",
    "jupyter_settings(palette)   "
   ]
  },
  {
   "cell_type": "markdown",
   "id": "2f34031b",
   "metadata": {},
   "source": [
    "## 0.2 Loading Data"
   ]
  },
  {
   "cell_type": "code",
   "execution_count": 129,
   "id": "a9408282",
   "metadata": {
    "ExecuteTime": {
     "end_time": "2023-06-09T14:59:41.519315Z",
     "start_time": "2023-06-09T14:59:41.504300Z"
    }
   },
   "outputs": [],
   "source": [
    "path = 'C:/Users/edils/repos/customer_fidelity/data/'"
   ]
  },
  {
   "cell_type": "code",
   "execution_count": 130,
   "id": "8d8b8f41",
   "metadata": {
    "ExecuteTime": {
     "end_time": "2023-06-09T14:59:41.988282Z",
     "start_time": "2023-06-09T14:59:41.521465Z"
    }
   },
   "outputs": [],
   "source": [
    "df_raw = pd.read_csv(path + 'ecommerce.csv', encoding='windows-1252')"
   ]
  },
  {
   "cell_type": "code",
   "execution_count": 131,
   "id": "a6d1f054",
   "metadata": {
    "ExecuteTime": {
     "end_time": "2023-06-09T14:59:42.019605Z",
     "start_time": "2023-06-09T14:59:41.989322Z"
    }
   },
   "outputs": [],
   "source": [
    "df_raw = df_raw.drop('Unnamed: 8', axis=1)"
   ]
  },
  {
   "cell_type": "code",
   "execution_count": 132,
   "id": "1e5ca772",
   "metadata": {
    "ExecuteTime": {
     "end_time": "2023-06-09T14:59:42.035343Z",
     "start_time": "2023-06-09T14:59:42.020621Z"
    }
   },
   "outputs": [
    {
     "data": {
      "text/html": [
       "<div>\n",
       "<style scoped>\n",
       "    .dataframe tbody tr th:only-of-type {\n",
       "        vertical-align: middle;\n",
       "    }\n",
       "\n",
       "    .dataframe tbody tr th {\n",
       "        vertical-align: top;\n",
       "    }\n",
       "\n",
       "    .dataframe thead th {\n",
       "        text-align: right;\n",
       "    }\n",
       "</style>\n",
       "<table border=\"1\" class=\"dataframe\">\n",
       "  <thead>\n",
       "    <tr style=\"text-align: right;\">\n",
       "      <th></th>\n",
       "      <th>InvoiceNo</th>\n",
       "      <th>StockCode</th>\n",
       "      <th>Description</th>\n",
       "      <th>Quantity</th>\n",
       "      <th>InvoiceDate</th>\n",
       "      <th>UnitPrice</th>\n",
       "      <th>CustomerID</th>\n",
       "      <th>Country</th>\n",
       "    </tr>\n",
       "  </thead>\n",
       "  <tbody>\n",
       "    <tr>\n",
       "      <th>0</th>\n",
       "      <td>536365</td>\n",
       "      <td>85123A</td>\n",
       "      <td>WHITE HANGING HEART T-LIGHT HOLDER</td>\n",
       "      <td>6</td>\n",
       "      <td>29-Nov-16</td>\n",
       "      <td>2.55</td>\n",
       "      <td>17850.0</td>\n",
       "      <td>United Kingdom</td>\n",
       "    </tr>\n",
       "    <tr>\n",
       "      <th>1</th>\n",
       "      <td>536365</td>\n",
       "      <td>71053</td>\n",
       "      <td>WHITE METAL LANTERN</td>\n",
       "      <td>6</td>\n",
       "      <td>29-Nov-16</td>\n",
       "      <td>3.39</td>\n",
       "      <td>17850.0</td>\n",
       "      <td>United Kingdom</td>\n",
       "    </tr>\n",
       "    <tr>\n",
       "      <th>2</th>\n",
       "      <td>536365</td>\n",
       "      <td>84406B</td>\n",
       "      <td>CREAM CUPID HEARTS COAT HANGER</td>\n",
       "      <td>8</td>\n",
       "      <td>29-Nov-16</td>\n",
       "      <td>2.75</td>\n",
       "      <td>17850.0</td>\n",
       "      <td>United Kingdom</td>\n",
       "    </tr>\n",
       "    <tr>\n",
       "      <th>3</th>\n",
       "      <td>536365</td>\n",
       "      <td>84029G</td>\n",
       "      <td>KNITTED UNION FLAG HOT WATER BOTTLE</td>\n",
       "      <td>6</td>\n",
       "      <td>29-Nov-16</td>\n",
       "      <td>3.39</td>\n",
       "      <td>17850.0</td>\n",
       "      <td>United Kingdom</td>\n",
       "    </tr>\n",
       "    <tr>\n",
       "      <th>4</th>\n",
       "      <td>536365</td>\n",
       "      <td>84029E</td>\n",
       "      <td>RED WOOLLY HOTTIE WHITE HEART.</td>\n",
       "      <td>6</td>\n",
       "      <td>29-Nov-16</td>\n",
       "      <td>3.39</td>\n",
       "      <td>17850.0</td>\n",
       "      <td>United Kingdom</td>\n",
       "    </tr>\n",
       "  </tbody>\n",
       "</table>\n",
       "</div>"
      ],
      "text/plain": [
       "  InvoiceNo StockCode                          Description  Quantity InvoiceDate  UnitPrice  CustomerID         Country\n",
       "0    536365    85123A   WHITE HANGING HEART T-LIGHT HOLDER         6   29-Nov-16       2.55     17850.0  United Kingdom\n",
       "1    536365     71053                  WHITE METAL LANTERN         6   29-Nov-16       3.39     17850.0  United Kingdom\n",
       "2    536365    84406B       CREAM CUPID HEARTS COAT HANGER         8   29-Nov-16       2.75     17850.0  United Kingdom\n",
       "3    536365    84029G  KNITTED UNION FLAG HOT WATER BOTTLE         6   29-Nov-16       3.39     17850.0  United Kingdom\n",
       "4    536365    84029E       RED WOOLLY HOTTIE WHITE HEART.         6   29-Nov-16       3.39     17850.0  United Kingdom"
      ]
     },
     "execution_count": 132,
     "metadata": {},
     "output_type": "execute_result"
    }
   ],
   "source": [
    "df_raw.head()"
   ]
  },
  {
   "cell_type": "markdown",
   "id": "b8105035",
   "metadata": {},
   "source": [
    "# 1.0 DATA DESCRIPTION"
   ]
  },
  {
   "cell_type": "code",
   "execution_count": 133,
   "id": "90655a19",
   "metadata": {
    "ExecuteTime": {
     "end_time": "2023-06-09T14:59:42.065243Z",
     "start_time": "2023-06-09T14:59:42.036558Z"
    }
   },
   "outputs": [],
   "source": [
    "df1 = df_raw.copy()"
   ]
  },
  {
   "cell_type": "code",
   "execution_count": 134,
   "id": "fbaf3b4b",
   "metadata": {
    "ExecuteTime": {
     "end_time": "2023-06-09T14:59:42.081022Z",
     "start_time": "2023-06-09T14:59:42.067285Z"
    }
   },
   "outputs": [
    {
     "data": {
      "text/html": [
       "<div>\n",
       "<style scoped>\n",
       "    .dataframe tbody tr th:only-of-type {\n",
       "        vertical-align: middle;\n",
       "    }\n",
       "\n",
       "    .dataframe tbody tr th {\n",
       "        vertical-align: top;\n",
       "    }\n",
       "\n",
       "    .dataframe thead th {\n",
       "        text-align: right;\n",
       "    }\n",
       "</style>\n",
       "<table border=\"1\" class=\"dataframe\">\n",
       "  <thead>\n",
       "    <tr style=\"text-align: right;\">\n",
       "      <th></th>\n",
       "      <th>InvoiceNo</th>\n",
       "      <th>StockCode</th>\n",
       "      <th>Description</th>\n",
       "      <th>Quantity</th>\n",
       "      <th>InvoiceDate</th>\n",
       "      <th>UnitPrice</th>\n",
       "      <th>CustomerID</th>\n",
       "      <th>Country</th>\n",
       "    </tr>\n",
       "  </thead>\n",
       "  <tbody>\n",
       "    <tr>\n",
       "      <th>0</th>\n",
       "      <td>536365</td>\n",
       "      <td>85123A</td>\n",
       "      <td>WHITE HANGING HEART T-LIGHT HOLDER</td>\n",
       "      <td>6</td>\n",
       "      <td>29-Nov-16</td>\n",
       "      <td>2.55</td>\n",
       "      <td>17850.0</td>\n",
       "      <td>United Kingdom</td>\n",
       "    </tr>\n",
       "    <tr>\n",
       "      <th>1</th>\n",
       "      <td>536365</td>\n",
       "      <td>71053</td>\n",
       "      <td>WHITE METAL LANTERN</td>\n",
       "      <td>6</td>\n",
       "      <td>29-Nov-16</td>\n",
       "      <td>3.39</td>\n",
       "      <td>17850.0</td>\n",
       "      <td>United Kingdom</td>\n",
       "    </tr>\n",
       "    <tr>\n",
       "      <th>2</th>\n",
       "      <td>536365</td>\n",
       "      <td>84406B</td>\n",
       "      <td>CREAM CUPID HEARTS COAT HANGER</td>\n",
       "      <td>8</td>\n",
       "      <td>29-Nov-16</td>\n",
       "      <td>2.75</td>\n",
       "      <td>17850.0</td>\n",
       "      <td>United Kingdom</td>\n",
       "    </tr>\n",
       "    <tr>\n",
       "      <th>3</th>\n",
       "      <td>536365</td>\n",
       "      <td>84029G</td>\n",
       "      <td>KNITTED UNION FLAG HOT WATER BOTTLE</td>\n",
       "      <td>6</td>\n",
       "      <td>29-Nov-16</td>\n",
       "      <td>3.39</td>\n",
       "      <td>17850.0</td>\n",
       "      <td>United Kingdom</td>\n",
       "    </tr>\n",
       "    <tr>\n",
       "      <th>4</th>\n",
       "      <td>536365</td>\n",
       "      <td>84029E</td>\n",
       "      <td>RED WOOLLY HOTTIE WHITE HEART.</td>\n",
       "      <td>6</td>\n",
       "      <td>29-Nov-16</td>\n",
       "      <td>3.39</td>\n",
       "      <td>17850.0</td>\n",
       "      <td>United Kingdom</td>\n",
       "    </tr>\n",
       "  </tbody>\n",
       "</table>\n",
       "</div>"
      ],
      "text/plain": [
       "  InvoiceNo StockCode                          Description  Quantity InvoiceDate  UnitPrice  CustomerID         Country\n",
       "0    536365    85123A   WHITE HANGING HEART T-LIGHT HOLDER         6   29-Nov-16       2.55     17850.0  United Kingdom\n",
       "1    536365     71053                  WHITE METAL LANTERN         6   29-Nov-16       3.39     17850.0  United Kingdom\n",
       "2    536365    84406B       CREAM CUPID HEARTS COAT HANGER         8   29-Nov-16       2.75     17850.0  United Kingdom\n",
       "3    536365    84029G  KNITTED UNION FLAG HOT WATER BOTTLE         6   29-Nov-16       3.39     17850.0  United Kingdom\n",
       "4    536365    84029E       RED WOOLLY HOTTIE WHITE HEART.         6   29-Nov-16       3.39     17850.0  United Kingdom"
      ]
     },
     "execution_count": 134,
     "metadata": {},
     "output_type": "execute_result"
    }
   ],
   "source": [
    "df1.head()"
   ]
  },
  {
   "cell_type": "code",
   "execution_count": 135,
   "id": "9014a46d",
   "metadata": {
    "ExecuteTime": {
     "end_time": "2023-06-09T14:59:42.097035Z",
     "start_time": "2023-06-09T14:59:42.083097Z"
    }
   },
   "outputs": [],
   "source": [
    "# report = sv.analyze(df1)\n",
    "# report.show_html()"
   ]
  },
  {
   "cell_type": "markdown",
   "id": "65817ca0",
   "metadata": {},
   "source": [
    "## 1.1 Rename Columns"
   ]
  },
  {
   "cell_type": "code",
   "execution_count": 136,
   "id": "08b15123",
   "metadata": {
    "ExecuteTime": {
     "end_time": "2023-06-09T14:59:42.113028Z",
     "start_time": "2023-06-09T14:59:42.100073Z"
    }
   },
   "outputs": [],
   "source": [
    "df1.columns = df1.columns.map(lambda x: inflection.underscore(x))"
   ]
  },
  {
   "cell_type": "markdown",
   "id": "4b16e150",
   "metadata": {},
   "source": [
    "## 1.2 Data Dimensions"
   ]
  },
  {
   "cell_type": "code",
   "execution_count": 137,
   "id": "2e6f1a12",
   "metadata": {
    "ExecuteTime": {
     "end_time": "2023-06-09T14:59:42.128801Z",
     "start_time": "2023-06-09T14:59:42.114182Z"
    }
   },
   "outputs": [
    {
     "data": {
      "text/plain": [
       "(541909, 8)"
      ]
     },
     "execution_count": 137,
     "metadata": {},
     "output_type": "execute_result"
    }
   ],
   "source": [
    "df1.shape"
   ]
  },
  {
   "cell_type": "markdown",
   "id": "94d5281a",
   "metadata": {},
   "source": [
    "## 1.3 Data Types"
   ]
  },
  {
   "cell_type": "code",
   "execution_count": 138,
   "id": "6b312fa9",
   "metadata": {
    "ExecuteTime": {
     "end_time": "2023-06-09T14:59:42.144013Z",
     "start_time": "2023-06-09T14:59:42.129824Z"
    }
   },
   "outputs": [
    {
     "data": {
      "text/plain": [
       "invoice_no       object\n",
       "stock_code       object\n",
       "description      object\n",
       "quantity          int64\n",
       "invoice_date     object\n",
       "unit_price      float64\n",
       "customer_id     float64\n",
       "country          object\n",
       "dtype: object"
      ]
     },
     "execution_count": 138,
     "metadata": {},
     "output_type": "execute_result"
    }
   ],
   "source": [
    "df1.dtypes"
   ]
  },
  {
   "cell_type": "markdown",
   "id": "6cef345d",
   "metadata": {},
   "source": [
    "## 1.4 Check NA"
   ]
  },
  {
   "cell_type": "code",
   "execution_count": 139,
   "id": "0ca201d8",
   "metadata": {
    "ExecuteTime": {
     "end_time": "2023-06-09T14:59:42.360665Z",
     "start_time": "2023-06-09T14:59:42.146037Z"
    }
   },
   "outputs": [
    {
     "data": {
      "text/plain": [
       "invoice_no           0\n",
       "stock_code           0\n",
       "description       1454\n",
       "quantity             0\n",
       "invoice_date         0\n",
       "unit_price           0\n",
       "customer_id     135080\n",
       "country              0\n",
       "dtype: int64"
      ]
     },
     "execution_count": 139,
     "metadata": {},
     "output_type": "execute_result"
    }
   ],
   "source": [
    "df1.isna().sum()"
   ]
  },
  {
   "cell_type": "markdown",
   "id": "2876576c",
   "metadata": {},
   "source": [
    "## 1.5 Replace NA"
   ]
  },
  {
   "cell_type": "code",
   "execution_count": 140,
   "id": "34a87ef4",
   "metadata": {
    "ExecuteTime": {
     "end_time": "2023-06-09T14:59:42.391379Z",
     "start_time": "2023-06-09T14:59:42.361775Z"
    }
   },
   "outputs": [],
   "source": [
    "df_missing = df1.loc[pd.isnull(df1['customer_id']),:]"
   ]
  },
  {
   "cell_type": "code",
   "execution_count": 141,
   "id": "d7ea6abe",
   "metadata": {
    "ExecuteTime": {
     "end_time": "2023-06-09T14:59:42.548382Z",
     "start_time": "2023-06-09T14:59:42.393027Z"
    }
   },
   "outputs": [],
   "source": [
    "#create reference\n",
    "df_backup = pd.DataFrame(df_missing['invoice_no'].drop_duplicates())\n",
    "df_backup['customer_id'] = np.arange(19000, 19000+len(df_backup),1)\n",
    "\n",
    "#merge\n",
    "df1 = pd.merge(df1, df_backup, on='invoice_no', how='left')\n",
    "\n",
    "#coalesce - combina o que tem NaN em uma coluna com o que não tem em outra\n",
    "df1['customer_id'] = df1['customer_id_x'].combine_first(df1['customer_id_y'])\n",
    "\n",
    "#drop extra columns\n",
    "df1 = df1.drop(['customer_id_x','customer_id_y'], axis=1)"
   ]
  },
  {
   "cell_type": "markdown",
   "id": "501ca33c",
   "metadata": {},
   "source": [
    "## 1.6 Change Types"
   ]
  },
  {
   "cell_type": "code",
   "execution_count": 142,
   "id": "4856c1ce",
   "metadata": {
    "ExecuteTime": {
     "end_time": "2023-06-09T14:59:42.564243Z",
     "start_time": "2023-06-09T14:59:42.549423Z"
    }
   },
   "outputs": [],
   "source": [
    "#df1['customer_id'] = df1['customer_id'].astype('int64')"
   ]
  },
  {
   "cell_type": "code",
   "execution_count": 143,
   "id": "c19552d6",
   "metadata": {
    "ExecuteTime": {
     "end_time": "2023-06-09T14:59:42.627485Z",
     "start_time": "2023-06-09T14:59:42.565265Z"
    }
   },
   "outputs": [],
   "source": [
    "df1['invoice_date'] = pd.to_datetime(df1['invoice_date'])"
   ]
  },
  {
   "cell_type": "markdown",
   "id": "2a91b005",
   "metadata": {},
   "source": [
    "## 1.7 Descriptive Statistics"
   ]
  },
  {
   "cell_type": "code",
   "execution_count": 144,
   "id": "abac0617",
   "metadata": {
    "ExecuteTime": {
     "end_time": "2023-06-09T14:59:42.674236Z",
     "start_time": "2023-06-09T14:59:42.628496Z"
    }
   },
   "outputs": [],
   "source": [
    "numerical_attributes = df1.select_dtypes(include=['float64', 'int64', 'datetime64[ns]'])\n",
    "categorical_atributtes = df1.select_dtypes(exclude=['float64', 'int64', 'datetime64[ns]'])"
   ]
  },
  {
   "cell_type": "markdown",
   "id": "c7494683",
   "metadata": {},
   "source": [
    "## 1.7.1 Numerical Analysis"
   ]
  },
  {
   "cell_type": "code",
   "execution_count": 145,
   "id": "992da35c",
   "metadata": {
    "ExecuteTime": {
     "end_time": "2023-06-09T14:59:44.904590Z",
     "start_time": "2023-06-09T14:59:42.676439Z"
    }
   },
   "outputs": [],
   "source": [
    "disp = numerical_attributes.agg(['mean','median','std','min','max',lambda x: max(x) - min(x), 'skew', 'kurtosis']).T.rename(columns={'<lambda>':'range'})"
   ]
  },
  {
   "cell_type": "code",
   "execution_count": 146,
   "id": "1d62e6b5",
   "metadata": {
    "ExecuteTime": {
     "end_time": "2023-06-09T14:59:44.919637Z",
     "start_time": "2023-06-09T14:59:44.905590Z"
    }
   },
   "outputs": [
    {
     "data": {
      "text/html": [
       "<div>\n",
       "<style scoped>\n",
       "    .dataframe tbody tr th:only-of-type {\n",
       "        vertical-align: middle;\n",
       "    }\n",
       "\n",
       "    .dataframe tbody tr th {\n",
       "        vertical-align: top;\n",
       "    }\n",
       "\n",
       "    .dataframe thead th {\n",
       "        text-align: right;\n",
       "    }\n",
       "</style>\n",
       "<table border=\"1\" class=\"dataframe\">\n",
       "  <thead>\n",
       "    <tr style=\"text-align: right;\">\n",
       "      <th></th>\n",
       "      <th>mean</th>\n",
       "      <th>median</th>\n",
       "      <th>std</th>\n",
       "      <th>min</th>\n",
       "      <th>max</th>\n",
       "      <th>range</th>\n",
       "      <th>skew</th>\n",
       "      <th>kurtosis</th>\n",
       "    </tr>\n",
       "  </thead>\n",
       "  <tbody>\n",
       "    <tr>\n",
       "      <th>quantity</th>\n",
       "      <td>9.55225</td>\n",
       "      <td>3.0</td>\n",
       "      <td>218.081158</td>\n",
       "      <td>-80995.0</td>\n",
       "      <td>80995.0</td>\n",
       "      <td>161990.0</td>\n",
       "      <td>-0.264076</td>\n",
       "      <td>119769.160031</td>\n",
       "    </tr>\n",
       "    <tr>\n",
       "      <th>invoice_date</th>\n",
       "      <td>2017-07-02 00:00:13.073782016</td>\n",
       "      <td>2017-07-17 00:00:00</td>\n",
       "      <td>115 days 21:02:59.177457004</td>\n",
       "      <td>2016-11-29 00:00:00</td>\n",
       "      <td>2017-12-07 00:00:00</td>\n",
       "      <td>373 days 00:00:00</td>\n",
       "      <td>NaN</td>\n",
       "      <td>NaN</td>\n",
       "    </tr>\n",
       "    <tr>\n",
       "      <th>unit_price</th>\n",
       "      <td>4.611114</td>\n",
       "      <td>2.08</td>\n",
       "      <td>96.759853</td>\n",
       "      <td>-11062.06</td>\n",
       "      <td>38970.0</td>\n",
       "      <td>50032.06</td>\n",
       "      <td>186.506972</td>\n",
       "      <td>59005.719097</td>\n",
       "    </tr>\n",
       "    <tr>\n",
       "      <th>customer_id</th>\n",
       "      <td>16688.840453</td>\n",
       "      <td>16249.0</td>\n",
       "      <td>2911.411352</td>\n",
       "      <td>12346.0</td>\n",
       "      <td>22709.0</td>\n",
       "      <td>10363.0</td>\n",
       "      <td>0.487449</td>\n",
       "      <td>-0.804287</td>\n",
       "    </tr>\n",
       "  </tbody>\n",
       "</table>\n",
       "</div>"
      ],
      "text/plain": [
       "                                       mean               median                          std                  min                  max              range        skew       kurtosis\n",
       "quantity                            9.55225                  3.0                   218.081158             -80995.0              80995.0           161990.0   -0.264076  119769.160031\n",
       "invoice_date  2017-07-02 00:00:13.073782016  2017-07-17 00:00:00  115 days 21:02:59.177457004  2016-11-29 00:00:00  2017-12-07 00:00:00  373 days 00:00:00         NaN            NaN\n",
       "unit_price                         4.611114                 2.08                    96.759853            -11062.06              38970.0           50032.06  186.506972   59005.719097\n",
       "customer_id                    16688.840453              16249.0                  2911.411352              12346.0              22709.0            10363.0    0.487449      -0.804287"
      ]
     },
     "execution_count": 146,
     "metadata": {},
     "output_type": "execute_result"
    }
   ],
   "source": [
    "disp"
   ]
  },
  {
   "cell_type": "markdown",
   "id": "e4c02951",
   "metadata": {},
   "source": [
    "Podemos ver que existes dados grandes e negativos em 'quantity'e também produtos igual a 0.0 em unit_price"
   ]
  },
  {
   "cell_type": "markdown",
   "id": "2ec3a79e",
   "metadata": {},
   "source": [
    "## 1.7.2 Categorical Atributtes"
   ]
  },
  {
   "cell_type": "code",
   "execution_count": 147,
   "id": "c4fc90a4",
   "metadata": {
    "ExecuteTime": {
     "end_time": "2023-06-09T14:59:44.935552Z",
     "start_time": "2023-06-09T14:59:44.921690Z"
    }
   },
   "outputs": [
    {
     "data": {
      "text/html": [
       "<div>\n",
       "<style scoped>\n",
       "    .dataframe tbody tr th:only-of-type {\n",
       "        vertical-align: middle;\n",
       "    }\n",
       "\n",
       "    .dataframe tbody tr th {\n",
       "        vertical-align: top;\n",
       "    }\n",
       "\n",
       "    .dataframe thead th {\n",
       "        text-align: right;\n",
       "    }\n",
       "</style>\n",
       "<table border=\"1\" class=\"dataframe\">\n",
       "  <thead>\n",
       "    <tr style=\"text-align: right;\">\n",
       "      <th></th>\n",
       "      <th>invoice_no</th>\n",
       "      <th>stock_code</th>\n",
       "      <th>description</th>\n",
       "      <th>country</th>\n",
       "    </tr>\n",
       "  </thead>\n",
       "  <tbody>\n",
       "    <tr>\n",
       "      <th>0</th>\n",
       "      <td>536365</td>\n",
       "      <td>85123A</td>\n",
       "      <td>WHITE HANGING HEART T-LIGHT HOLDER</td>\n",
       "      <td>United Kingdom</td>\n",
       "    </tr>\n",
       "    <tr>\n",
       "      <th>1</th>\n",
       "      <td>536365</td>\n",
       "      <td>71053</td>\n",
       "      <td>WHITE METAL LANTERN</td>\n",
       "      <td>United Kingdom</td>\n",
       "    </tr>\n",
       "    <tr>\n",
       "      <th>2</th>\n",
       "      <td>536365</td>\n",
       "      <td>84406B</td>\n",
       "      <td>CREAM CUPID HEARTS COAT HANGER</td>\n",
       "      <td>United Kingdom</td>\n",
       "    </tr>\n",
       "    <tr>\n",
       "      <th>3</th>\n",
       "      <td>536365</td>\n",
       "      <td>84029G</td>\n",
       "      <td>KNITTED UNION FLAG HOT WATER BOTTLE</td>\n",
       "      <td>United Kingdom</td>\n",
       "    </tr>\n",
       "    <tr>\n",
       "      <th>4</th>\n",
       "      <td>536365</td>\n",
       "      <td>84029E</td>\n",
       "      <td>RED WOOLLY HOTTIE WHITE HEART.</td>\n",
       "      <td>United Kingdom</td>\n",
       "    </tr>\n",
       "    <tr>\n",
       "      <th>...</th>\n",
       "      <td>...</td>\n",
       "      <td>...</td>\n",
       "      <td>...</td>\n",
       "      <td>...</td>\n",
       "    </tr>\n",
       "    <tr>\n",
       "      <th>541904</th>\n",
       "      <td>581587</td>\n",
       "      <td>22613</td>\n",
       "      <td>PACK OF 20 SPACEBOY NAPKINS</td>\n",
       "      <td>France</td>\n",
       "    </tr>\n",
       "    <tr>\n",
       "      <th>541905</th>\n",
       "      <td>581587</td>\n",
       "      <td>22899</td>\n",
       "      <td>CHILDREN'S APRON DOLLY GIRL</td>\n",
       "      <td>France</td>\n",
       "    </tr>\n",
       "    <tr>\n",
       "      <th>541906</th>\n",
       "      <td>581587</td>\n",
       "      <td>23254</td>\n",
       "      <td>CHILDRENS CUTLERY DOLLY GIRL</td>\n",
       "      <td>France</td>\n",
       "    </tr>\n",
       "    <tr>\n",
       "      <th>541907</th>\n",
       "      <td>581587</td>\n",
       "      <td>23255</td>\n",
       "      <td>CHILDRENS CUTLERY CIRCUS PARADE</td>\n",
       "      <td>France</td>\n",
       "    </tr>\n",
       "    <tr>\n",
       "      <th>541908</th>\n",
       "      <td>581587</td>\n",
       "      <td>22138</td>\n",
       "      <td>BAKING SET 9 PIECE RETROSPOT</td>\n",
       "      <td>France</td>\n",
       "    </tr>\n",
       "  </tbody>\n",
       "</table>\n",
       "<p>541909 rows × 4 columns</p>\n",
       "</div>"
      ],
      "text/plain": [
       "       invoice_no stock_code                          description         country\n",
       "0          536365     85123A   WHITE HANGING HEART T-LIGHT HOLDER  United Kingdom\n",
       "1          536365      71053                  WHITE METAL LANTERN  United Kingdom\n",
       "2          536365     84406B       CREAM CUPID HEARTS COAT HANGER  United Kingdom\n",
       "3          536365     84029G  KNITTED UNION FLAG HOT WATER BOTTLE  United Kingdom\n",
       "4          536365     84029E       RED WOOLLY HOTTIE WHITE HEART.  United Kingdom\n",
       "...           ...        ...                                  ...             ...\n",
       "541904     581587      22613          PACK OF 20 SPACEBOY NAPKINS          France\n",
       "541905     581587      22899         CHILDREN'S APRON DOLLY GIRL           France\n",
       "541906     581587      23254        CHILDRENS CUTLERY DOLLY GIRL           France\n",
       "541907     581587      23255      CHILDRENS CUTLERY CIRCUS PARADE          France\n",
       "541908     581587      22138        BAKING SET 9 PIECE RETROSPOT           France\n",
       "\n",
       "[541909 rows x 4 columns]"
      ]
     },
     "execution_count": 147,
     "metadata": {},
     "output_type": "execute_result"
    }
   ],
   "source": [
    "categorical_atributtes"
   ]
  },
  {
   "cell_type": "code",
   "execution_count": 148,
   "id": "5d4bd60a",
   "metadata": {
    "ExecuteTime": {
     "end_time": "2023-06-09T14:59:45.308698Z",
     "start_time": "2023-06-09T14:59:44.936580Z"
    }
   },
   "outputs": [
    {
     "data": {
      "text/plain": [
       "True"
      ]
     },
     "execution_count": 148,
     "metadata": {},
     "output_type": "execute_result"
    }
   ],
   "source": [
    "#invoice_no\n",
    "letter_lines = categorical_atributtes['invoice_no'].apply(lambda x: bool (re.search('[a-zA-Z]', x)))\n",
    "letter_df = df1.loc[letter_lines,'quantity']\n",
    "any(letter_df >0)"
   ]
  },
  {
   "cell_type": "markdown",
   "id": "a79549bb",
   "metadata": {},
   "source": [
    "Todos os valores de invoice que começam com C tem valores de quantidade negativos, provavelmente são itens de devolução"
   ]
  },
  {
   "cell_type": "code",
   "execution_count": 149,
   "id": "5ada7aaf",
   "metadata": {
    "ExecuteTime": {
     "end_time": "2023-06-09T14:59:45.775939Z",
     "start_time": "2023-06-09T14:59:45.310742Z"
    }
   },
   "outputs": [],
   "source": [
    "#stock_code\n",
    "stock_letter = categorical_atributtes['stock_code'].apply(lambda x: bool (re.search('^[a-zA-Z]+$', x)))\n",
    "stock_df = df1.loc[stock_letter,:]"
   ]
  },
  {
   "cell_type": "code",
   "execution_count": 150,
   "id": "6be0d80b",
   "metadata": {
    "ExecuteTime": {
     "end_time": "2023-06-09T14:59:45.791562Z",
     "start_time": "2023-06-09T14:59:45.777987Z"
    }
   },
   "outputs": [
    {
     "data": {
      "text/plain": [
       "array(['POST', 'D', 'DOT', 'M', 'S', 'AMAZONFEE', 'm', 'DCGSSBOY',\n",
       "       'DCGSSGIRL', 'PADS', 'B', 'CRUK'], dtype=object)"
      ]
     },
     "execution_count": 150,
     "metadata": {},
     "output_type": "execute_result"
    }
   ],
   "source": [
    "stock_df['stock_code'].unique()"
   ]
  },
  {
   "cell_type": "markdown",
   "id": "2f7379fb",
   "metadata": {},
   "source": [
    "Na coluna stock_code temos vários itens com descrições diferentes que estão sujando o dataframe"
   ]
  },
  {
   "cell_type": "code",
   "execution_count": 151,
   "id": "0f76b694",
   "metadata": {
    "ExecuteTime": {
     "end_time": "2023-06-09T14:59:45.885078Z",
     "start_time": "2023-06-09T14:59:45.794106Z"
    }
   },
   "outputs": [
    {
     "data": {
      "text/html": [
       "<div>\n",
       "<style scoped>\n",
       "    .dataframe tbody tr th:only-of-type {\n",
       "        vertical-align: middle;\n",
       "    }\n",
       "\n",
       "    .dataframe tbody tr th {\n",
       "        vertical-align: top;\n",
       "    }\n",
       "\n",
       "    .dataframe thead th {\n",
       "        text-align: right;\n",
       "    }\n",
       "</style>\n",
       "<table border=\"1\" class=\"dataframe\">\n",
       "  <thead>\n",
       "    <tr style=\"text-align: right;\">\n",
       "      <th></th>\n",
       "      <th>country</th>\n",
       "      <th>customer_id</th>\n",
       "    </tr>\n",
       "  </thead>\n",
       "  <tbody>\n",
       "    <tr>\n",
       "      <th>36</th>\n",
       "      <td>United Kingdom</td>\n",
       "      <td>7587</td>\n",
       "    </tr>\n",
       "    <tr>\n",
       "      <th>14</th>\n",
       "      <td>Germany</td>\n",
       "      <td>95</td>\n",
       "    </tr>\n",
       "    <tr>\n",
       "      <th>13</th>\n",
       "      <td>France</td>\n",
       "      <td>90</td>\n",
       "    </tr>\n",
       "    <tr>\n",
       "      <th>10</th>\n",
       "      <td>EIRE</td>\n",
       "      <td>44</td>\n",
       "    </tr>\n",
       "    <tr>\n",
       "      <th>31</th>\n",
       "      <td>Spain</td>\n",
       "      <td>31</td>\n",
       "    </tr>\n",
       "    <tr>\n",
       "      <th>3</th>\n",
       "      <td>Belgium</td>\n",
       "      <td>25</td>\n",
       "    </tr>\n",
       "    <tr>\n",
       "      <th>33</th>\n",
       "      <td>Switzerland</td>\n",
       "      <td>24</td>\n",
       "    </tr>\n",
       "    <tr>\n",
       "      <th>27</th>\n",
       "      <td>Portugal</td>\n",
       "      <td>20</td>\n",
       "    </tr>\n",
       "    <tr>\n",
       "      <th>19</th>\n",
       "      <td>Italy</td>\n",
       "      <td>15</td>\n",
       "    </tr>\n",
       "    <tr>\n",
       "      <th>16</th>\n",
       "      <td>Hong Kong</td>\n",
       "      <td>15</td>\n",
       "    </tr>\n",
       "    <tr>\n",
       "      <th>12</th>\n",
       "      <td>Finland</td>\n",
       "      <td>12</td>\n",
       "    </tr>\n",
       "    <tr>\n",
       "      <th>1</th>\n",
       "      <td>Austria</td>\n",
       "      <td>11</td>\n",
       "    </tr>\n",
       "    <tr>\n",
       "      <th>25</th>\n",
       "      <td>Norway</td>\n",
       "      <td>10</td>\n",
       "    </tr>\n",
       "    <tr>\n",
       "      <th>24</th>\n",
       "      <td>Netherlands</td>\n",
       "      <td>9</td>\n",
       "    </tr>\n",
       "    <tr>\n",
       "      <th>0</th>\n",
       "      <td>Australia</td>\n",
       "      <td>9</td>\n",
       "    </tr>\n",
       "    <tr>\n",
       "      <th>37</th>\n",
       "      <td>Unspecified</td>\n",
       "      <td>9</td>\n",
       "    </tr>\n",
       "    <tr>\n",
       "      <th>9</th>\n",
       "      <td>Denmark</td>\n",
       "      <td>9</td>\n",
       "    </tr>\n",
       "    <tr>\n",
       "      <th>6</th>\n",
       "      <td>Channel Islands</td>\n",
       "      <td>9</td>\n",
       "    </tr>\n",
       "    <tr>\n",
       "      <th>7</th>\n",
       "      <td>Cyprus</td>\n",
       "      <td>8</td>\n",
       "    </tr>\n",
       "    <tr>\n",
       "      <th>32</th>\n",
       "      <td>Sweden</td>\n",
       "      <td>8</td>\n",
       "    </tr>\n",
       "    <tr>\n",
       "      <th>20</th>\n",
       "      <td>Japan</td>\n",
       "      <td>8</td>\n",
       "    </tr>\n",
       "    <tr>\n",
       "      <th>18</th>\n",
       "      <td>Israel</td>\n",
       "      <td>7</td>\n",
       "    </tr>\n",
       "    <tr>\n",
       "      <th>26</th>\n",
       "      <td>Poland</td>\n",
       "      <td>6</td>\n",
       "    </tr>\n",
       "    <tr>\n",
       "      <th>5</th>\n",
       "      <td>Canada</td>\n",
       "      <td>4</td>\n",
       "    </tr>\n",
       "    <tr>\n",
       "      <th>34</th>\n",
       "      <td>USA</td>\n",
       "      <td>4</td>\n",
       "    </tr>\n",
       "    <tr>\n",
       "      <th>2</th>\n",
       "      <td>Bahrain</td>\n",
       "      <td>4</td>\n",
       "    </tr>\n",
       "    <tr>\n",
       "      <th>15</th>\n",
       "      <td>Greece</td>\n",
       "      <td>4</td>\n",
       "    </tr>\n",
       "    <tr>\n",
       "      <th>23</th>\n",
       "      <td>Malta</td>\n",
       "      <td>2</td>\n",
       "    </tr>\n",
       "    <tr>\n",
       "      <th>35</th>\n",
       "      <td>United Arab Emirates</td>\n",
       "      <td>2</td>\n",
       "    </tr>\n",
       "    <tr>\n",
       "      <th>8</th>\n",
       "      <td>Czech Republic</td>\n",
       "      <td>1</td>\n",
       "    </tr>\n",
       "    <tr>\n",
       "      <th>22</th>\n",
       "      <td>Lithuania</td>\n",
       "      <td>1</td>\n",
       "    </tr>\n",
       "    <tr>\n",
       "      <th>11</th>\n",
       "      <td>European Community</td>\n",
       "      <td>1</td>\n",
       "    </tr>\n",
       "    <tr>\n",
       "      <th>21</th>\n",
       "      <td>Lebanon</td>\n",
       "      <td>1</td>\n",
       "    </tr>\n",
       "    <tr>\n",
       "      <th>28</th>\n",
       "      <td>RSA</td>\n",
       "      <td>1</td>\n",
       "    </tr>\n",
       "    <tr>\n",
       "      <th>29</th>\n",
       "      <td>Saudi Arabia</td>\n",
       "      <td>1</td>\n",
       "    </tr>\n",
       "    <tr>\n",
       "      <th>30</th>\n",
       "      <td>Singapore</td>\n",
       "      <td>1</td>\n",
       "    </tr>\n",
       "    <tr>\n",
       "      <th>17</th>\n",
       "      <td>Iceland</td>\n",
       "      <td>1</td>\n",
       "    </tr>\n",
       "    <tr>\n",
       "      <th>4</th>\n",
       "      <td>Brazil</td>\n",
       "      <td>1</td>\n",
       "    </tr>\n",
       "  </tbody>\n",
       "</table>\n",
       "</div>"
      ],
      "text/plain": [
       "                 country  customer_id\n",
       "36        United Kingdom         7587\n",
       "14               Germany           95\n",
       "13                France           90\n",
       "10                  EIRE           44\n",
       "31                 Spain           31\n",
       "3                Belgium           25\n",
       "33           Switzerland           24\n",
       "27              Portugal           20\n",
       "19                 Italy           15\n",
       "16             Hong Kong           15\n",
       "12               Finland           12\n",
       "1                Austria           11\n",
       "25                Norway           10\n",
       "24           Netherlands            9\n",
       "0              Australia            9\n",
       "37           Unspecified            9\n",
       "9                Denmark            9\n",
       "6        Channel Islands            9\n",
       "7                 Cyprus            8\n",
       "32                Sweden            8\n",
       "20                 Japan            8\n",
       "18                Israel            7\n",
       "26                Poland            6\n",
       "5                 Canada            4\n",
       "34                   USA            4\n",
       "2                Bahrain            4\n",
       "15                Greece            4\n",
       "23                 Malta            2\n",
       "35  United Arab Emirates            2\n",
       "8         Czech Republic            1\n",
       "22             Lithuania            1\n",
       "11    European Community            1\n",
       "21               Lebanon            1\n",
       "28                   RSA            1\n",
       "29          Saudi Arabia            1\n",
       "30             Singapore            1\n",
       "17               Iceland            1\n",
       "4                 Brazil            1"
      ]
     },
     "execution_count": 151,
     "metadata": {},
     "output_type": "execute_result"
    }
   ],
   "source": [
    "#country - European Community and Unspecified\n",
    "df1['country'].unique()\n",
    "df1.loc[:,['customer_id','country']].drop_duplicates().groupby('country').count().reset_index().sort_values(by='customer_id', ascending=False)"
   ]
  },
  {
   "cell_type": "code",
   "execution_count": 152,
   "id": "5043dc0b",
   "metadata": {
    "ExecuteTime": {
     "end_time": "2023-06-09T14:59:45.901113Z",
     "start_time": "2023-06-09T14:59:45.886214Z"
    }
   },
   "outputs": [],
   "source": [
    "#remove description"
   ]
  },
  {
   "cell_type": "markdown",
   "id": "5922b1d0",
   "metadata": {},
   "source": [
    "# 2.0 VARIABLE FILTERING"
   ]
  },
  {
   "cell_type": "code",
   "execution_count": 153,
   "id": "41c70029",
   "metadata": {
    "ExecuteTime": {
     "end_time": "2023-06-09T14:59:45.932366Z",
     "start_time": "2023-06-09T14:59:45.902149Z"
    }
   },
   "outputs": [],
   "source": [
    "df2 = df1.copy()"
   ]
  },
  {
   "cell_type": "markdown",
   "id": "3822bf6d",
   "metadata": {},
   "source": [
    "## 2.1 Numerical Attributes"
   ]
  },
  {
   "cell_type": "code",
   "execution_count": 154,
   "id": "76a4ec13",
   "metadata": {
    "ExecuteTime": {
     "end_time": "2023-06-09T14:59:46.087388Z",
     "start_time": "2023-06-09T14:59:45.937441Z"
    }
   },
   "outputs": [],
   "source": [
    "#unit_price\n",
    "df2 = df2.loc[df2['unit_price'] >= 0.040,:]\n",
    "\n",
    "#stock code\n",
    "df2 = df2.loc[~df2['stock_code'].isin(['POST', 'D', 'DOT', 'M', 'S', 'AMAZONFEE', 'm', 'DCGSSBOY',\n",
    "       'DCGSSGIRL', 'PADS', 'B', 'CRUK']),:]\n",
    "\n",
    "#description\n",
    "df2 = df2.drop('description', axis=1)\n",
    "\n",
    "#country\n",
    "df2 = df2.loc[~df2['country'].isin(['Unspecified','European Community']),:]\n"
   ]
  },
  {
   "cell_type": "code",
   "execution_count": 155,
   "id": "56d5b814",
   "metadata": {
    "ExecuteTime": {
     "end_time": "2023-06-09T14:59:46.134283Z",
     "start_time": "2023-06-09T14:59:46.088409Z"
    }
   },
   "outputs": [],
   "source": [
    "#divide df in purchases and returns\n",
    "df_purchase = df2.loc[df2['quantity'] >=0, :]\n",
    "df_returns = df2.loc[df2['quantity'] < 0,:]"
   ]
  },
  {
   "cell_type": "markdown",
   "id": "92294c09",
   "metadata": {},
   "source": [
    "# 3.0 FEATURE ENGINEERING"
   ]
  },
  {
   "cell_type": "code",
   "execution_count": 388,
   "id": "113f8ff0",
   "metadata": {
    "ExecuteTime": {
     "end_time": "2023-06-09T20:11:12.096358Z",
     "start_time": "2023-06-09T20:11:12.068025Z"
    }
   },
   "outputs": [],
   "source": [
    "df3 = df2.copy()"
   ]
  },
  {
   "cell_type": "code",
   "execution_count": 389,
   "id": "36229b65",
   "metadata": {
    "ExecuteTime": {
     "end_time": "2023-06-09T20:11:12.422928Z",
     "start_time": "2023-06-09T20:11:12.407790Z"
    }
   },
   "outputs": [
    {
     "data": {
      "text/html": [
       "<div>\n",
       "<style scoped>\n",
       "    .dataframe tbody tr th:only-of-type {\n",
       "        vertical-align: middle;\n",
       "    }\n",
       "\n",
       "    .dataframe tbody tr th {\n",
       "        vertical-align: top;\n",
       "    }\n",
       "\n",
       "    .dataframe thead th {\n",
       "        text-align: right;\n",
       "    }\n",
       "</style>\n",
       "<table border=\"1\" class=\"dataframe\">\n",
       "  <thead>\n",
       "    <tr style=\"text-align: right;\">\n",
       "      <th></th>\n",
       "      <th>invoice_no</th>\n",
       "      <th>stock_code</th>\n",
       "      <th>quantity</th>\n",
       "      <th>invoice_date</th>\n",
       "      <th>unit_price</th>\n",
       "      <th>country</th>\n",
       "      <th>customer_id</th>\n",
       "    </tr>\n",
       "  </thead>\n",
       "  <tbody>\n",
       "    <tr>\n",
       "      <th>0</th>\n",
       "      <td>536365</td>\n",
       "      <td>85123A</td>\n",
       "      <td>6</td>\n",
       "      <td>2016-11-29</td>\n",
       "      <td>2.55</td>\n",
       "      <td>United Kingdom</td>\n",
       "      <td>17850.0</td>\n",
       "    </tr>\n",
       "    <tr>\n",
       "      <th>1</th>\n",
       "      <td>536365</td>\n",
       "      <td>71053</td>\n",
       "      <td>6</td>\n",
       "      <td>2016-11-29</td>\n",
       "      <td>3.39</td>\n",
       "      <td>United Kingdom</td>\n",
       "      <td>17850.0</td>\n",
       "    </tr>\n",
       "    <tr>\n",
       "      <th>2</th>\n",
       "      <td>536365</td>\n",
       "      <td>84406B</td>\n",
       "      <td>8</td>\n",
       "      <td>2016-11-29</td>\n",
       "      <td>2.75</td>\n",
       "      <td>United Kingdom</td>\n",
       "      <td>17850.0</td>\n",
       "    </tr>\n",
       "    <tr>\n",
       "      <th>3</th>\n",
       "      <td>536365</td>\n",
       "      <td>84029G</td>\n",
       "      <td>6</td>\n",
       "      <td>2016-11-29</td>\n",
       "      <td>3.39</td>\n",
       "      <td>United Kingdom</td>\n",
       "      <td>17850.0</td>\n",
       "    </tr>\n",
       "    <tr>\n",
       "      <th>4</th>\n",
       "      <td>536365</td>\n",
       "      <td>84029E</td>\n",
       "      <td>6</td>\n",
       "      <td>2016-11-29</td>\n",
       "      <td>3.39</td>\n",
       "      <td>United Kingdom</td>\n",
       "      <td>17850.0</td>\n",
       "    </tr>\n",
       "  </tbody>\n",
       "</table>\n",
       "</div>"
      ],
      "text/plain": [
       "  invoice_no stock_code  quantity invoice_date  unit_price         country  customer_id\n",
       "0     536365     85123A         6   2016-11-29        2.55  United Kingdom      17850.0\n",
       "1     536365      71053         6   2016-11-29        3.39  United Kingdom      17850.0\n",
       "2     536365     84406B         8   2016-11-29        2.75  United Kingdom      17850.0\n",
       "3     536365     84029G         6   2016-11-29        3.39  United Kingdom      17850.0\n",
       "4     536365     84029E         6   2016-11-29        3.39  United Kingdom      17850.0"
      ]
     },
     "execution_count": 389,
     "metadata": {},
     "output_type": "execute_result"
    }
   ],
   "source": [
    "df3.head()"
   ]
  },
  {
   "cell_type": "markdown",
   "id": "db2b1bec",
   "metadata": {
    "heading_collapsed": true
   },
   "source": [
    "## 3.1 Monetary "
   ]
  },
  {
   "cell_type": "code",
   "execution_count": 390,
   "id": "835a15c7",
   "metadata": {
    "ExecuteTime": {
     "end_time": "2023-06-09T20:11:13.157637Z",
     "start_time": "2023-06-09T20:11:13.082825Z"
    },
    "hidden": true
   },
   "outputs": [
    {
     "data": {
      "text/plain": [
       "customer_id    0\n",
       "monetary       0\n",
       "dtype: int64"
      ]
     },
     "execution_count": 390,
     "metadata": {},
     "output_type": "execute_result"
    }
   ],
   "source": [
    "#Monetary - O quanto cada cliente gera de $\n",
    "aux_monetary = pd.DataFrame()\n",
    "aux_monetary['valor_bruto'] = df_purchase['quantity'] * df_purchase['unit_price']\n",
    "aux_monetary['customer_id'] = df_purchase['customer_id']\n",
    "df_ref = aux_monetary.loc[:,['valor_bruto', 'customer_id']].groupby('customer_id').sum().reset_index().rename(columns={'valor_bruto':'monetary'})\n",
    "df_ref.isna().sum()"
   ]
  },
  {
   "cell_type": "markdown",
   "id": "32670932",
   "metadata": {
    "heading_collapsed": true
   },
   "source": [
    "## 3.2 Qtd de Compras"
   ]
  },
  {
   "cell_type": "code",
   "execution_count": 391,
   "id": "f82a0819",
   "metadata": {
    "ExecuteTime": {
     "end_time": "2023-06-09T20:11:13.893090Z",
     "start_time": "2023-06-09T20:11:13.813080Z"
    },
    "hidden": true
   },
   "outputs": [
    {
     "data": {
      "text/plain": [
       "customer_id    0\n",
       "monetary       0\n",
       "qtd_compras    0\n",
       "dtype: int64"
      ]
     },
     "execution_count": 391,
     "metadata": {},
     "output_type": "execute_result"
    }
   ],
   "source": [
    "#Quantos produtos cada cliente comprou\n",
    "aux_invoice = df_purchase.loc[:,['invoice_no','customer_id']].drop_duplicates().groupby('customer_id').count().reset_index().rename(columns={'invoice_no':'qtd_compras'})\n",
    "df_ref = pd.merge(df_ref, aux_invoice, on='customer_id', how='left')\n",
    "df_ref.isna().sum()"
   ]
  },
  {
   "cell_type": "markdown",
   "id": "9690b948",
   "metadata": {
    "heading_collapsed": true
   },
   "source": [
    "## 3.4 Qtd produtos comprados"
   ]
  },
  {
   "cell_type": "code",
   "execution_count": 392,
   "id": "2847f5b8",
   "metadata": {
    "ExecuteTime": {
     "end_time": "2023-06-09T20:11:14.558359Z",
     "start_time": "2023-06-09T20:11:14.493940Z"
    },
    "hidden": true
   },
   "outputs": [
    {
     "data": {
      "text/plain": [
       "customer_id           0\n",
       "monetary              0\n",
       "qtd_compras           0\n",
       "qtd_prod_comprados    0\n",
       "dtype: int64"
      ]
     },
     "execution_count": 392,
     "metadata": {},
     "output_type": "execute_result"
    }
   ],
   "source": [
    "#Quantos produtos cada cliente comprou\n",
    "aux_qtd = df_purchase.loc[:,['quantity','customer_id']].drop_duplicates().groupby('customer_id').count().reset_index().rename(columns={'quantity':'qtd_prod_comprados'})\n",
    "df_ref = pd.merge(df_ref, aux_qtd, on='customer_id', how='left')\n",
    "df_ref.isna().sum()"
   ]
  },
  {
   "cell_type": "markdown",
   "id": "6001d927",
   "metadata": {
    "heading_collapsed": true
   },
   "source": [
    "## 3.5 Recency"
   ]
  },
  {
   "cell_type": "code",
   "execution_count": 393,
   "id": "461f9c1a",
   "metadata": {
    "ExecuteTime": {
     "end_time": "2023-06-09T20:11:15.212576Z",
     "start_time": "2023-06-09T20:11:15.160394Z"
    },
    "hidden": true
   },
   "outputs": [
    {
     "data": {
      "text/plain": [
       "customer_id           0\n",
       "monetary              0\n",
       "qtd_compras           0\n",
       "qtd_prod_comprados    0\n",
       "recency               0\n",
       "dtype: int64"
      ]
     },
     "execution_count": 393,
     "metadata": {},
     "output_type": "execute_result"
    }
   ],
   "source": [
    "#Recency\n",
    "aux_recency = df_purchase.loc[:,['customer_id','invoice_date']].groupby('customer_id').max().reset_index()\n",
    "date_max = df_purchase['invoice_date'].max()\n",
    "aux_recency['recency'] = (date_max - aux_recency['invoice_date']).dt.days\n",
    "df_ref = pd.merge(df_ref, aux_recency, on='customer_id', how='left')\n",
    "df_ref = df_ref.drop(['invoice_date'],axis=1)\n",
    "df_ref.isna().sum()"
   ]
  },
  {
   "cell_type": "markdown",
   "id": "0aeeb526",
   "metadata": {
    "heading_collapsed": true
   },
   "source": [
    "## 3.6 Average Ticket"
   ]
  },
  {
   "cell_type": "code",
   "execution_count": 394,
   "id": "bcde7bb7",
   "metadata": {
    "ExecuteTime": {
     "end_time": "2023-06-09T20:11:15.946320Z",
     "start_time": "2023-06-09T20:11:15.896747Z"
    },
    "hidden": true
   },
   "outputs": [
    {
     "data": {
      "text/plain": [
       "customer_id           0\n",
       "monetary              0\n",
       "qtd_compras           0\n",
       "qtd_prod_comprados    0\n",
       "recency               0\n",
       "avg_ticket            0\n",
       "dtype: int64"
      ]
     },
     "execution_count": 394,
     "metadata": {},
     "output_type": "execute_result"
    }
   ],
   "source": [
    "#Ticket Médio\n",
    "aux_ticket = aux_monetary.loc[:,['valor_bruto', 'customer_id']].groupby('customer_id').mean().reset_index().rename(columns={'valor_bruto':'avg_ticket'})\n",
    "df_ref = pd.merge(df_ref, aux_ticket, on='customer_id', how='left') \n",
    "df_ref.isna().sum()"
   ]
  },
  {
   "cell_type": "markdown",
   "id": "d475c7a7",
   "metadata": {
    "heading_collapsed": true
   },
   "source": [
    "## 3.7 Average Recency Days"
   ]
  },
  {
   "cell_type": "code",
   "execution_count": 395,
   "id": "accfbedf",
   "metadata": {
    "ExecuteTime": {
     "end_time": "2023-06-09T20:11:16.882724Z",
     "start_time": "2023-06-09T20:11:16.583978Z"
    },
    "hidden": true
   },
   "outputs": [],
   "source": [
    "aux_rd = df3.loc[:,['invoice_date','customer_id']].drop_duplicates().sort_values(by=['customer_id','invoice_date'])\n",
    "aux_rd['previous_customer'] = aux_rd['customer_id'].shift() #next customer\n",
    "aux_rd['previous_invoice'] = aux_rd['invoice_date'].shift() #next date\n",
    "aux_rd['avg_recency_days'] = aux_rd.apply(lambda x: (x['invoice_date'] - x['previous_invoice']).days if x['previous_customer'] == x['customer_id'] else np.nan, axis=1)\n",
    "aux_rd = aux_rd.dropna()\n",
    "\n",
    "#drop support columns\n",
    "aux_rd = aux_rd.drop(['invoice_date','previous_customer','previous_invoice'], axis=1)\n",
    "\n",
    "#calculate avg recency\n",
    "aux_rd_avg = aux_rd.groupby('customer_id').mean().reset_index()\n",
    "\n",
    "#merge\n",
    "df_ref = pd.merge(df_ref, aux_rd_avg, on='customer_id', how='left')\n"
   ]
  },
  {
   "cell_type": "code",
   "execution_count": 396,
   "id": "67905e0e",
   "metadata": {
    "ExecuteTime": {
     "end_time": "2023-06-09T20:11:17.037239Z",
     "start_time": "2023-06-09T20:11:17.027880Z"
    },
    "hidden": true
   },
   "outputs": [
    {
     "data": {
      "text/plain": [
       "customer_id              0\n",
       "monetary                 0\n",
       "qtd_compras              0\n",
       "qtd_prod_comprados       0\n",
       "recency                  0\n",
       "avg_ticket               0\n",
       "avg_recency_days      2727\n",
       "dtype: int64"
      ]
     },
     "execution_count": 396,
     "metadata": {},
     "output_type": "execute_result"
    }
   ],
   "source": [
    "df_ref.isna().sum()"
   ]
  },
  {
   "cell_type": "markdown",
   "id": "cd14b7f0",
   "metadata": {
    "heading_collapsed": true
   },
   "source": [
    "## 3.8 Frenquency Purchase"
   ]
  },
  {
   "cell_type": "code",
   "execution_count": 397,
   "id": "a83166ff",
   "metadata": {
    "ExecuteTime": {
     "end_time": "2023-06-09T20:11:19.382398Z",
     "start_time": "2023-06-09T20:11:18.965634Z"
    },
    "hidden": true
   },
   "outputs": [],
   "source": [
    "df_freq = (df3[['customer_id','invoice_no', 'invoice_date']].drop_duplicates().groupby('customer_id')\n",
    "                                                           .agg(days = ('invoice_date', lambda x: (max(x) - min(x)).days + 1),\n",
    "                                                                buy_ = ('invoice_no', 'count'))).reset_index()\n",
    "\n",
    "#Frequency\n",
    "df_freq['frequency'] = df_freq.apply(lambda x: x['buy_'] / x['days'] if x['days'] != 0 else 0, axis=1) \n",
    "\n",
    "#merge\n",
    "df_ref = pd.merge(df_ref, df_freq, on='customer_id', how='left')\n",
    "df_ref = df_ref.drop(['days','buy_'],axis=1)"
   ]
  },
  {
   "cell_type": "code",
   "execution_count": 398,
   "id": "2d510fc4",
   "metadata": {
    "ExecuteTime": {
     "end_time": "2023-06-09T20:11:19.911434Z",
     "start_time": "2023-06-09T20:11:19.893493Z"
    },
    "hidden": true
   },
   "outputs": [
    {
     "data": {
      "text/plain": [
       "customer_id              0\n",
       "monetary                 0\n",
       "qtd_compras              0\n",
       "qtd_prod_comprados       0\n",
       "recency                  0\n",
       "avg_ticket               0\n",
       "avg_recency_days      2727\n",
       "frequency                0\n",
       "dtype: int64"
      ]
     },
     "execution_count": 398,
     "metadata": {},
     "output_type": "execute_result"
    }
   ],
   "source": [
    "df_ref.isna().sum()"
   ]
  },
  {
   "cell_type": "markdown",
   "id": "f19b6945",
   "metadata": {
    "heading_collapsed": true
   },
   "source": [
    "## 3.9 Devoluções"
   ]
  },
  {
   "cell_type": "code",
   "execution_count": 399,
   "id": "3bf639e4",
   "metadata": {
    "ExecuteTime": {
     "end_time": "2023-06-09T20:11:20.955409Z",
     "start_time": "2023-06-09T20:11:20.946349Z"
    },
    "hidden": true
   },
   "outputs": [
    {
     "data": {
      "text/plain": [
       "(5696, 8)"
      ]
     },
     "execution_count": 399,
     "metadata": {},
     "output_type": "execute_result"
    }
   ],
   "source": [
    "df_ref.shape"
   ]
  },
  {
   "cell_type": "code",
   "execution_count": 400,
   "id": "f6ce0714",
   "metadata": {
    "ExecuteTime": {
     "end_time": "2023-06-09T20:11:21.515630Z",
     "start_time": "2023-06-09T20:11:21.491419Z"
    },
    "hidden": true
   },
   "outputs": [],
   "source": [
    "qtd_returns = df_returns.loc[:,['customer_id','quantity']].groupby('customer_id').sum().reset_index().rename(columns={'quantity':'qtd_returns'})\n",
    "qtd_returns['qtd_returns'] = qtd_returns['qtd_returns']*-1\n",
    "\n",
    "#merge\n",
    "df_ref = pd.merge(df_ref, qtd_returns, on='customer_id', how='left')\n",
    "\n",
    "#Os NaNs gerados são pessoas que não devolveram\n",
    "df_ref.loc[df_ref['qtd_returns'].isna(),'qtd_returns'] = 0"
   ]
  },
  {
   "cell_type": "code",
   "execution_count": 401,
   "id": "42891817",
   "metadata": {
    "ExecuteTime": {
     "end_time": "2023-06-09T20:11:22.403265Z",
     "start_time": "2023-06-09T20:11:22.388639Z"
    },
    "hidden": true,
    "scrolled": true
   },
   "outputs": [
    {
     "data": {
      "text/plain": [
       "customer_id              0\n",
       "monetary                 0\n",
       "qtd_compras              0\n",
       "qtd_prod_comprados       0\n",
       "recency                  0\n",
       "avg_ticket               0\n",
       "avg_recency_days      2727\n",
       "frequency                0\n",
       "qtd_returns              0\n",
       "dtype: int64"
      ]
     },
     "execution_count": 401,
     "metadata": {},
     "output_type": "execute_result"
    }
   ],
   "source": [
    "df_ref.isna().sum()"
   ]
  },
  {
   "cell_type": "markdown",
   "id": "7a0c05d4",
   "metadata": {
    "heading_collapsed": true
   },
   "source": [
    "## 3.10 Unique Basket Size"
   ]
  },
  {
   "cell_type": "code",
   "execution_count": 402,
   "id": "f27ca2f7",
   "metadata": {
    "ExecuteTime": {
     "end_time": "2023-06-09T20:11:23.973449Z",
     "start_time": "2023-06-09T20:11:23.799889Z"
    },
    "hidden": true
   },
   "outputs": [],
   "source": [
    "#qtd de produtos diferentes dentro de uma compora\n",
    "basket_size = df_purchase.loc[:,['customer_id','stock_code','invoice_no']].groupby(['customer_id']).nunique().reset_index()\n",
    "\n",
    "#media itens por compra\n",
    "basket_size['avg_basket'] = basket_size['stock_code'] / basket_size['invoice_no']"
   ]
  },
  {
   "cell_type": "code",
   "execution_count": 407,
   "id": "9bc9377e",
   "metadata": {
    "ExecuteTime": {
     "end_time": "2023-06-09T20:11:55.491939Z",
     "start_time": "2023-06-09T20:11:55.472852Z"
    },
    "hidden": true
   },
   "outputs": [
    {
     "data": {
      "text/plain": [
       "customer_id              0\n",
       "monetary                 0\n",
       "qtd_compras              0\n",
       "qtd_prod_comprados       0\n",
       "recency                  0\n",
       "avg_ticket               0\n",
       "avg_recency_days      2727\n",
       "frequency                0\n",
       "qtd_returns              0\n",
       "avg_basket               0\n",
       "dtype: int64"
      ]
     },
     "execution_count": 407,
     "metadata": {},
     "output_type": "execute_result"
    }
   ],
   "source": [
    "df_ref.isna().sum()"
   ]
  },
  {
   "cell_type": "markdown",
   "id": "f88db1af",
   "metadata": {
    "heading_collapsed": true
   },
   "source": [
    "## 3.11 Quantity Basket Size - Quantidade de produtos por basket"
   ]
  },
  {
   "cell_type": "code",
   "execution_count": 404,
   "id": "76e9130e",
   "metadata": {
    "ExecuteTime": {
     "end_time": "2023-06-09T20:11:26.265559Z",
     "start_time": "2023-06-09T20:11:26.179249Z"
    },
    "hidden": true
   },
   "outputs": [],
   "source": [
    "#qtd de produtos medios por compra\n",
    "qtd_basket_size = (df_purchase.loc[:,['customer_id','quantity','invoice_no']].groupby(['customer_id'])\n",
    "                                                                            .agg(uniq_prod = ('invoice_no', 'nunique'),\n",
    "                                                                                 quantity_sum = ('quantity', 'sum'))).reset_index()    \n",
    "\n",
    "#media de quantidade de itens por basket\n",
    "qtd_basket_size['avg_basket'] = qtd_basket_size['quantity_sum'] / qtd_basket_size['uniq_prod']\n",
    "\n",
    "#merge\n",
    "df_ref = pd.merge(df_ref, qtd_basket_size[['customer_id','avg_basket']], on='customer_id',how='left')"
   ]
  },
  {
   "cell_type": "code",
   "execution_count": 406,
   "id": "c146f91d",
   "metadata": {
    "ExecuteTime": {
     "end_time": "2023-06-09T20:11:41.788770Z",
     "start_time": "2023-06-09T20:11:41.772556Z"
    },
    "hidden": true
   },
   "outputs": [
    {
     "data": {
      "text/plain": [
       "customer_id              0\n",
       "monetary                 0\n",
       "qtd_compras              0\n",
       "qtd_prod_comprados       0\n",
       "recency                  0\n",
       "avg_ticket               0\n",
       "avg_recency_days      2727\n",
       "frequency                0\n",
       "qtd_returns              0\n",
       "avg_basket               0\n",
       "dtype: int64"
      ]
     },
     "execution_count": 406,
     "metadata": {},
     "output_type": "execute_result"
    }
   ],
   "source": [
    "df_ref.isna().sum()"
   ]
  },
  {
   "cell_type": "markdown",
   "id": "6e0bb84d",
   "metadata": {},
   "source": [
    "## 3.12 Check Final Result"
   ]
  },
  {
   "cell_type": "code",
   "execution_count": 408,
   "id": "b591fe21",
   "metadata": {
    "ExecuteTime": {
     "end_time": "2023-06-09T20:17:46.896770Z",
     "start_time": "2023-06-09T20:17:46.874177Z"
    }
   },
   "outputs": [
    {
     "data": {
      "text/html": [
       "<div>\n",
       "<style scoped>\n",
       "    .dataframe tbody tr th:only-of-type {\n",
       "        vertical-align: middle;\n",
       "    }\n",
       "\n",
       "    .dataframe tbody tr th {\n",
       "        vertical-align: top;\n",
       "    }\n",
       "\n",
       "    .dataframe thead th {\n",
       "        text-align: right;\n",
       "    }\n",
       "</style>\n",
       "<table border=\"1\" class=\"dataframe\">\n",
       "  <thead>\n",
       "    <tr style=\"text-align: right;\">\n",
       "      <th></th>\n",
       "      <th>customer_id</th>\n",
       "      <th>monetary</th>\n",
       "      <th>qtd_compras</th>\n",
       "      <th>qtd_prod_comprados</th>\n",
       "      <th>recency</th>\n",
       "      <th>avg_ticket</th>\n",
       "      <th>avg_recency_days</th>\n",
       "      <th>frequency</th>\n",
       "      <th>qtd_returns</th>\n",
       "      <th>avg_basket</th>\n",
       "    </tr>\n",
       "  </thead>\n",
       "  <tbody>\n",
       "    <tr>\n",
       "      <th>0</th>\n",
       "      <td>12346.0</td>\n",
       "      <td>77183.60</td>\n",
       "      <td>1</td>\n",
       "      <td>1</td>\n",
       "      <td>325</td>\n",
       "      <td>77183.600000</td>\n",
       "      <td>NaN</td>\n",
       "      <td>2.000000</td>\n",
       "      <td>74215.0</td>\n",
       "      <td>74215.000000</td>\n",
       "    </tr>\n",
       "    <tr>\n",
       "      <th>1</th>\n",
       "      <td>12347.0</td>\n",
       "      <td>4310.00</td>\n",
       "      <td>7</td>\n",
       "      <td>15</td>\n",
       "      <td>2</td>\n",
       "      <td>23.681319</td>\n",
       "      <td>60.833333</td>\n",
       "      <td>0.019126</td>\n",
       "      <td>0.0</td>\n",
       "      <td>351.142857</td>\n",
       "    </tr>\n",
       "    <tr>\n",
       "      <th>2</th>\n",
       "      <td>12348.0</td>\n",
       "      <td>1437.24</td>\n",
       "      <td>4</td>\n",
       "      <td>8</td>\n",
       "      <td>75</td>\n",
       "      <td>53.231111</td>\n",
       "      <td>94.333333</td>\n",
       "      <td>0.014085</td>\n",
       "      <td>0.0</td>\n",
       "      <td>583.000000</td>\n",
       "    </tr>\n",
       "    <tr>\n",
       "      <th>3</th>\n",
       "      <td>12349.0</td>\n",
       "      <td>1457.55</td>\n",
       "      <td>1</td>\n",
       "      <td>12</td>\n",
       "      <td>18</td>\n",
       "      <td>20.243750</td>\n",
       "      <td>NaN</td>\n",
       "      <td>1.000000</td>\n",
       "      <td>0.0</td>\n",
       "      <td>630.000000</td>\n",
       "    </tr>\n",
       "    <tr>\n",
       "      <th>4</th>\n",
       "      <td>12350.0</td>\n",
       "      <td>294.40</td>\n",
       "      <td>1</td>\n",
       "      <td>4</td>\n",
       "      <td>310</td>\n",
       "      <td>18.400000</td>\n",
       "      <td>NaN</td>\n",
       "      <td>1.000000</td>\n",
       "      <td>0.0</td>\n",
       "      <td>196.000000</td>\n",
       "    </tr>\n",
       "  </tbody>\n",
       "</table>\n",
       "</div>"
      ],
      "text/plain": [
       "   customer_id  monetary  qtd_compras  qtd_prod_comprados  recency    avg_ticket  avg_recency_days  frequency  qtd_returns    avg_basket\n",
       "0      12346.0  77183.60            1                   1      325  77183.600000               NaN   2.000000      74215.0  74215.000000\n",
       "1      12347.0   4310.00            7                  15        2     23.681319         60.833333   0.019126          0.0    351.142857\n",
       "2      12348.0   1437.24            4                   8       75     53.231111         94.333333   0.014085          0.0    583.000000\n",
       "3      12349.0   1457.55            1                  12       18     20.243750               NaN   1.000000          0.0    630.000000\n",
       "4      12350.0    294.40            1                   4      310     18.400000               NaN   1.000000          0.0    196.000000"
      ]
     },
     "execution_count": 408,
     "metadata": {},
     "output_type": "execute_result"
    }
   ],
   "source": [
    "df_ref.head()"
   ]
  },
  {
   "cell_type": "markdown",
   "id": "5ada5a45",
   "metadata": {},
   "source": [
    "# 4.0 EDA (EXPLORATORY DATA ANALYSIS"
   ]
  },
  {
   "cell_type": "code",
   "execution_count": 38,
   "id": "b9939ec6",
   "metadata": {
    "ExecuteTime": {
     "end_time": "2023-06-09T12:07:16.632493Z",
     "start_time": "2023-06-09T12:07:16.619611Z"
    }
   },
   "outputs": [],
   "source": [
    "df4 = df_ref.copy()"
   ]
  },
  {
   "cell_type": "markdown",
   "id": "3022bc04",
   "metadata": {},
   "source": [
    "# 5.0 DATA PREPARATION"
   ]
  },
  {
   "cell_type": "code",
   "execution_count": 39,
   "id": "34bc26bd",
   "metadata": {
    "ExecuteTime": {
     "end_time": "2023-06-09T12:07:16.647653Z",
     "start_time": "2023-06-09T12:07:16.634519Z"
    }
   },
   "outputs": [],
   "source": [
    "df5 = df4.copy()"
   ]
  },
  {
   "cell_type": "code",
   "execution_count": 40,
   "id": "c20a2446",
   "metadata": {
    "ExecuteTime": {
     "end_time": "2023-06-09T12:07:19.856047Z",
     "start_time": "2023-06-09T12:07:16.648686Z"
    }
   },
   "outputs": [
    {
     "ename": "KeyError",
     "evalue": "'frequency'",
     "output_type": "error",
     "traceback": [
      "\u001b[1;31m---------------------------------------------------------------------------\u001b[0m",
      "\u001b[1;31mKeyError\u001b[0m                                  Traceback (most recent call last)",
      "File \u001b[1;32m~\\anaconda3\\envs\\customer_fidelity\\lib\\site-packages\\pandas\\core\\indexes\\base.py:3802\u001b[0m, in \u001b[0;36mIndex.get_loc\u001b[1;34m(self, key, method, tolerance)\u001b[0m\n\u001b[0;32m   3801\u001b[0m \u001b[38;5;28;01mtry\u001b[39;00m:\n\u001b[1;32m-> 3802\u001b[0m     \u001b[38;5;28;01mreturn\u001b[39;00m \u001b[38;5;28;43mself\u001b[39;49m\u001b[38;5;241;43m.\u001b[39;49m\u001b[43m_engine\u001b[49m\u001b[38;5;241;43m.\u001b[39;49m\u001b[43mget_loc\u001b[49m\u001b[43m(\u001b[49m\u001b[43mcasted_key\u001b[49m\u001b[43m)\u001b[49m\n\u001b[0;32m   3803\u001b[0m \u001b[38;5;28;01mexcept\u001b[39;00m \u001b[38;5;167;01mKeyError\u001b[39;00m \u001b[38;5;28;01mas\u001b[39;00m err:\n",
      "File \u001b[1;32m~\\anaconda3\\envs\\customer_fidelity\\lib\\site-packages\\pandas\\_libs\\index.pyx:138\u001b[0m, in \u001b[0;36mpandas._libs.index.IndexEngine.get_loc\u001b[1;34m()\u001b[0m\n",
      "File \u001b[1;32m~\\anaconda3\\envs\\customer_fidelity\\lib\\site-packages\\pandas\\_libs\\index.pyx:165\u001b[0m, in \u001b[0;36mpandas._libs.index.IndexEngine.get_loc\u001b[1;34m()\u001b[0m\n",
      "File \u001b[1;32mpandas\\_libs\\hashtable_class_helper.pxi:5745\u001b[0m, in \u001b[0;36mpandas._libs.hashtable.PyObjectHashTable.get_item\u001b[1;34m()\u001b[0m\n",
      "File \u001b[1;32mpandas\\_libs\\hashtable_class_helper.pxi:5753\u001b[0m, in \u001b[0;36mpandas._libs.hashtable.PyObjectHashTable.get_item\u001b[1;34m()\u001b[0m\n",
      "\u001b[1;31mKeyError\u001b[0m: 'frequency'",
      "\nThe above exception was the direct cause of the following exception:\n",
      "\u001b[1;31mKeyError\u001b[0m                                  Traceback (most recent call last)",
      "Cell \u001b[1;32mIn[40], line 7\u001b[0m\n\u001b[0;32m      5\u001b[0m df5[\u001b[38;5;124m'\u001b[39m\u001b[38;5;124mcustomer_id\u001b[39m\u001b[38;5;124m'\u001b[39m] \u001b[38;5;241m=\u001b[39m ss\u001b[38;5;241m.\u001b[39mfit_transform(df5[\u001b[38;5;124m'\u001b[39m\u001b[38;5;124mcustomer_id\u001b[39m\u001b[38;5;124m'\u001b[39m]\u001b[38;5;241m.\u001b[39mvalues\u001b[38;5;241m.\u001b[39mreshape(\u001b[38;5;241m-\u001b[39m\u001b[38;5;241m1\u001b[39m,\u001b[38;5;241m1\u001b[39m))\n\u001b[0;32m      6\u001b[0m df5[\u001b[38;5;124m'\u001b[39m\u001b[38;5;124mmonetary\u001b[39m\u001b[38;5;124m'\u001b[39m] \u001b[38;5;241m=\u001b[39m ss\u001b[38;5;241m.\u001b[39mfit_transform(df5[\u001b[38;5;124m'\u001b[39m\u001b[38;5;124mmonetary\u001b[39m\u001b[38;5;124m'\u001b[39m]\u001b[38;5;241m.\u001b[39mvalues\u001b[38;5;241m.\u001b[39mreshape(\u001b[38;5;241m-\u001b[39m\u001b[38;5;241m1\u001b[39m,\u001b[38;5;241m1\u001b[39m))\n\u001b[1;32m----> 7\u001b[0m df5[\u001b[38;5;124m'\u001b[39m\u001b[38;5;124mfrequency\u001b[39m\u001b[38;5;124m'\u001b[39m] \u001b[38;5;241m=\u001b[39m ss\u001b[38;5;241m.\u001b[39mfit_transform(\u001b[43mdf5\u001b[49m\u001b[43m[\u001b[49m\u001b[38;5;124;43m'\u001b[39;49m\u001b[38;5;124;43mfrequency\u001b[39;49m\u001b[38;5;124;43m'\u001b[39;49m\u001b[43m]\u001b[49m\u001b[38;5;241m.\u001b[39mvalues\u001b[38;5;241m.\u001b[39mreshape(\u001b[38;5;241m-\u001b[39m\u001b[38;5;241m1\u001b[39m,\u001b[38;5;241m1\u001b[39m))\n\u001b[0;32m      8\u001b[0m df5[\u001b[38;5;124m'\u001b[39m\u001b[38;5;124mrecency\u001b[39m\u001b[38;5;124m'\u001b[39m] \u001b[38;5;241m=\u001b[39m ss\u001b[38;5;241m.\u001b[39mfit_transform(df5[\u001b[38;5;124m'\u001b[39m\u001b[38;5;124mrecency\u001b[39m\u001b[38;5;124m'\u001b[39m]\u001b[38;5;241m.\u001b[39mvalues\u001b[38;5;241m.\u001b[39mreshape(\u001b[38;5;241m-\u001b[39m\u001b[38;5;241m1\u001b[39m,\u001b[38;5;241m1\u001b[39m))\n\u001b[0;32m      9\u001b[0m df5[\u001b[38;5;124m'\u001b[39m\u001b[38;5;124mticket_medio\u001b[39m\u001b[38;5;124m'\u001b[39m] \u001b[38;5;241m=\u001b[39m ss\u001b[38;5;241m.\u001b[39mfit_transform(df5[\u001b[38;5;124m'\u001b[39m\u001b[38;5;124mticket_medio\u001b[39m\u001b[38;5;124m'\u001b[39m]\u001b[38;5;241m.\u001b[39mvalues\u001b[38;5;241m.\u001b[39mreshape(\u001b[38;5;241m-\u001b[39m\u001b[38;5;241m1\u001b[39m,\u001b[38;5;241m1\u001b[39m))\n",
      "File \u001b[1;32m~\\anaconda3\\envs\\customer_fidelity\\lib\\site-packages\\pandas\\core\\frame.py:3807\u001b[0m, in \u001b[0;36mDataFrame.__getitem__\u001b[1;34m(self, key)\u001b[0m\n\u001b[0;32m   3805\u001b[0m \u001b[38;5;28;01mif\u001b[39;00m \u001b[38;5;28mself\u001b[39m\u001b[38;5;241m.\u001b[39mcolumns\u001b[38;5;241m.\u001b[39mnlevels \u001b[38;5;241m>\u001b[39m \u001b[38;5;241m1\u001b[39m:\n\u001b[0;32m   3806\u001b[0m     \u001b[38;5;28;01mreturn\u001b[39;00m \u001b[38;5;28mself\u001b[39m\u001b[38;5;241m.\u001b[39m_getitem_multilevel(key)\n\u001b[1;32m-> 3807\u001b[0m indexer \u001b[38;5;241m=\u001b[39m \u001b[38;5;28;43mself\u001b[39;49m\u001b[38;5;241;43m.\u001b[39;49m\u001b[43mcolumns\u001b[49m\u001b[38;5;241;43m.\u001b[39;49m\u001b[43mget_loc\u001b[49m\u001b[43m(\u001b[49m\u001b[43mkey\u001b[49m\u001b[43m)\u001b[49m\n\u001b[0;32m   3808\u001b[0m \u001b[38;5;28;01mif\u001b[39;00m is_integer(indexer):\n\u001b[0;32m   3809\u001b[0m     indexer \u001b[38;5;241m=\u001b[39m [indexer]\n",
      "File \u001b[1;32m~\\anaconda3\\envs\\customer_fidelity\\lib\\site-packages\\pandas\\core\\indexes\\base.py:3804\u001b[0m, in \u001b[0;36mIndex.get_loc\u001b[1;34m(self, key, method, tolerance)\u001b[0m\n\u001b[0;32m   3802\u001b[0m     \u001b[38;5;28;01mreturn\u001b[39;00m \u001b[38;5;28mself\u001b[39m\u001b[38;5;241m.\u001b[39m_engine\u001b[38;5;241m.\u001b[39mget_loc(casted_key)\n\u001b[0;32m   3803\u001b[0m \u001b[38;5;28;01mexcept\u001b[39;00m \u001b[38;5;167;01mKeyError\u001b[39;00m \u001b[38;5;28;01mas\u001b[39;00m err:\n\u001b[1;32m-> 3804\u001b[0m     \u001b[38;5;28;01mraise\u001b[39;00m \u001b[38;5;167;01mKeyError\u001b[39;00m(key) \u001b[38;5;28;01mfrom\u001b[39;00m \u001b[38;5;21;01merr\u001b[39;00m\n\u001b[0;32m   3805\u001b[0m \u001b[38;5;28;01mexcept\u001b[39;00m \u001b[38;5;167;01mTypeError\u001b[39;00m:\n\u001b[0;32m   3806\u001b[0m     \u001b[38;5;66;03m# If we have a listlike key, _check_indexing_error will raise\u001b[39;00m\n\u001b[0;32m   3807\u001b[0m     \u001b[38;5;66;03m#  InvalidIndexError. Otherwise we fall through and re-raise\u001b[39;00m\n\u001b[0;32m   3808\u001b[0m     \u001b[38;5;66;03m#  the TypeError.\u001b[39;00m\n\u001b[0;32m   3809\u001b[0m     \u001b[38;5;28mself\u001b[39m\u001b[38;5;241m.\u001b[39m_check_indexing_error(key)\n",
      "\u001b[1;31mKeyError\u001b[0m: 'frequency'"
     ]
    }
   ],
   "source": [
    "mms = pp.MinMaxScaler()\n",
    "ss = pp.StandardScaler()\n",
    "\n",
    "\n",
    "df5['customer_id'] = ss.fit_transform(df5['customer_id'].values.reshape(-1,1))\n",
    "df5['monetary'] = ss.fit_transform(df5['monetary'].values.reshape(-1,1))\n",
    "df5['frequency'] = ss.fit_transform(df5['frequency'].values.reshape(-1,1))\n",
    "df5['recency'] = ss.fit_transform(df5['recency'].values.reshape(-1,1))\n",
    "df5['ticket_medio'] = ss.fit_transform(df5['ticket_medio'].values.reshape(-1,1))"
   ]
  },
  {
   "cell_type": "code",
   "execution_count": null,
   "id": "274a1a15",
   "metadata": {
    "ExecuteTime": {
     "end_time": "2023-06-09T12:07:19.866690Z",
     "start_time": "2023-06-09T12:07:19.866690Z"
    }
   },
   "outputs": [],
   "source": [
    "df5"
   ]
  },
  {
   "cell_type": "markdown",
   "id": "1d94972c",
   "metadata": {},
   "source": [
    "# 6.0 FEATURE SELECTION"
   ]
  },
  {
   "cell_type": "code",
   "execution_count": null,
   "id": "30463759",
   "metadata": {
    "ExecuteTime": {
     "end_time": "2023-06-09T12:07:19.868196Z",
     "start_time": "2023-06-09T12:07:19.868196Z"
    }
   },
   "outputs": [],
   "source": [
    "df6 = df5.copy()"
   ]
  },
  {
   "cell_type": "markdown",
   "id": "ae25b473",
   "metadata": {},
   "source": [
    "# 7.0 HYPERPARAMETER FINE TUNNING(Find Clusters)"
   ]
  },
  {
   "cell_type": "code",
   "execution_count": null,
   "id": "e0249f77",
   "metadata": {
    "ExecuteTime": {
     "end_time": "2023-06-09T12:07:19.869206Z",
     "start_time": "2023-06-09T12:07:19.869206Z"
    }
   },
   "outputs": [],
   "source": [
    "X = df6.drop('customer_id', axis=1)"
   ]
  },
  {
   "cell_type": "code",
   "execution_count": null,
   "id": "f7c16b67",
   "metadata": {
    "ExecuteTime": {
     "end_time": "2023-06-09T12:07:19.870217Z",
     "start_time": "2023-06-09T12:07:19.870217Z"
    }
   },
   "outputs": [],
   "source": [
    "X.dtypes"
   ]
  },
  {
   "cell_type": "code",
   "execution_count": null,
   "id": "a0007509",
   "metadata": {
    "ExecuteTime": {
     "end_time": "2023-06-09T12:07:19.871721Z",
     "start_time": "2023-06-09T12:07:19.871721Z"
    }
   },
   "outputs": [],
   "source": [
    "clusters = np.arange(1,11,1)"
   ]
  },
  {
   "cell_type": "code",
   "execution_count": null,
   "id": "eb1a1863",
   "metadata": {
    "ExecuteTime": {
     "end_time": "2023-06-09T12:07:19.872752Z",
     "start_time": "2023-06-09T12:07:19.872752Z"
    }
   },
   "outputs": [],
   "source": [
    "clusters"
   ]
  },
  {
   "cell_type": "markdown",
   "id": "e723b816",
   "metadata": {},
   "source": [
    "## 7.1 Within-Cluster Sum of Square(WSS)"
   ]
  },
  {
   "cell_type": "code",
   "execution_count": null,
   "id": "9ab43ea1",
   "metadata": {
    "ExecuteTime": {
     "end_time": "2023-06-09T12:07:19.873753Z",
     "start_time": "2023-06-09T12:07:19.873753Z"
    },
    "cell_style": "center"
   },
   "outputs": [],
   "source": [
    "wss = []\n",
    "\n",
    "for k in clusters:\n",
    "    #model definition\n",
    "    kmeans = c.KMeans(n_clusters=k)\n",
    "    \n",
    "    #model training\n",
    "    kmeans.fit(X)\n",
    "    \n",
    "    #validation\n",
    "    wss.append(kmeans.inertia_)\n",
    "\n",
    "#plot wws - Elbow Method\n",
    "plt.plot(clusters, wss, linestyle='--', marker='o', color='b')\n",
    "plt.xlabel('K');\n",
    "plt.ylabel('WSS')\n",
    "plt.title('WSS vs K')"
   ]
  },
  {
   "cell_type": "markdown",
   "id": "dae9c9a4",
   "metadata": {},
   "source": [
    "## 7.2 Silhouette vs Elbow Analysis"
   ]
  },
  {
   "cell_type": "code",
   "execution_count": null,
   "id": "e71f5676",
   "metadata": {
    "ExecuteTime": {
     "end_time": "2023-06-09T12:07:19.875756Z",
     "start_time": "2023-06-09T12:07:19.875756Z"
    },
    "cell_style": "split",
    "scrolled": false
   },
   "outputs": [],
   "source": [
    "kmeans = KElbowVisualizer(c.KMeans(), k=clusters, timings=False)\n",
    "kmeans.fit(X)\n",
    "kmeans.show();"
   ]
  },
  {
   "cell_type": "code",
   "execution_count": null,
   "id": "73972c91",
   "metadata": {
    "ExecuteTime": {
     "end_time": "2023-06-09T12:07:19.876757Z",
     "start_time": "2023-06-09T12:07:19.876757Z"
    },
    "cell_style": "split",
    "hide_input": true
   },
   "outputs": [],
   "source": [
    "clusters = np.arange(2,11,1)"
   ]
  },
  {
   "cell_type": "code",
   "execution_count": null,
   "id": "57854718",
   "metadata": {
    "ExecuteTime": {
     "end_time": "2023-06-09T12:07:19.878757Z",
     "start_time": "2023-06-09T12:07:19.878757Z"
    },
    "cell_style": "split"
   },
   "outputs": [],
   "source": [
    "clusters = np.arange(2,10,1)\n",
    "kmeans = KElbowVisualizer(c.KMeans(), k=clusters, timings=False, metric='silhouette')\n",
    "kmeans.fit(X)\n",
    "kmeans.show();"
   ]
  },
  {
   "cell_type": "markdown",
   "id": "8e35a3fb",
   "metadata": {},
   "source": [
    "Com a Criação de novas features, a silhouette score já deu um valor alto para 4-5 clusters, que anteriormente eram 3. Então seguirei usando 5 clusters nesse ciclo"
   ]
  },
  {
   "cell_type": "markdown",
   "id": "b363f565",
   "metadata": {},
   "source": [
    "## 7.3 Silhouette Analysis"
   ]
  },
  {
   "cell_type": "code",
   "execution_count": null,
   "id": "3e526013",
   "metadata": {
    "ExecuteTime": {
     "end_time": "2023-06-09T12:07:19.880760Z",
     "start_time": "2023-06-09T12:07:19.880760Z"
    }
   },
   "outputs": [],
   "source": [
    "clusters = np.arange(2,8,1)\n",
    "fig, ax = plt.subplots(3,2, figsize=(20,15))\n",
    "\n",
    "for k in clusters:\n",
    "    kmeans = c.KMeans(n_clusters=k, init='random', n_init=10, max_iter=300, random_state=42)\n",
    "    q, mod = divmod(k,2)\n",
    "    \n",
    "    visualizer = SilhouetteVisualizer(kmeans, color='yellowbrick', ax=ax[q-1][mod])\n",
    "    visualizer.fit(X)\n",
    "    visualizer.finalize()"
   ]
  },
  {
   "cell_type": "code",
   "execution_count": null,
   "id": "157164b5",
   "metadata": {},
   "outputs": [],
   "source": []
  },
  {
   "cell_type": "markdown",
   "id": "a8401e99",
   "metadata": {},
   "source": [
    "# 8.0 MODEL TRAINING"
   ]
  },
  {
   "cell_type": "markdown",
   "id": "a168aadb",
   "metadata": {},
   "source": [
    "## 8.1 K-Means"
   ]
  },
  {
   "cell_type": "code",
   "execution_count": null,
   "id": "bdcbad5c",
   "metadata": {
    "ExecuteTime": {
     "end_time": "2023-06-09T12:07:19.881761Z",
     "start_time": "2023-06-09T12:07:19.881761Z"
    }
   },
   "outputs": [],
   "source": [
    "k = 5\n",
    "#definition\n",
    "kmeans = c.KMeans(n_clusters=k, init='random', n_init=10, max_iter=300, random_state=42)\n",
    "\n",
    "#training\n",
    "kmeans.fit(X)\n",
    "\n",
    "#clusters\n",
    "labels = kmeans.labels_"
   ]
  },
  {
   "cell_type": "code",
   "execution_count": null,
   "id": "a66ac02b",
   "metadata": {
    "ExecuteTime": {
     "end_time": "2023-06-09T12:07:19.884385Z",
     "start_time": "2023-06-09T12:07:19.884385Z"
    }
   },
   "outputs": [],
   "source": [
    "#WSS\n",
    "print(f'WSS Score: {kmeans.inertia_:.3f}')\n",
    "\n",
    "print(f'SS Score: {mt.silhouette_score(X, labels):.3f}')"
   ]
  },
  {
   "cell_type": "markdown",
   "id": "e3537d96",
   "metadata": {},
   "source": [
    "# 9.0 CLUSTER ANALYSIS"
   ]
  },
  {
   "cell_type": "code",
   "execution_count": null,
   "id": "89e5f723",
   "metadata": {
    "ExecuteTime": {
     "end_time": "2023-06-09T12:07:19.885398Z",
     "start_time": "2023-06-09T12:07:19.885398Z"
    }
   },
   "outputs": [],
   "source": [
    "df9 = df6.copy()\n",
    "df9['clusters'] = labels"
   ]
  },
  {
   "cell_type": "code",
   "execution_count": null,
   "id": "c10d19ac",
   "metadata": {
    "ExecuteTime": {
     "end_time": "2023-06-09T12:07:19.886398Z",
     "start_time": "2023-06-09T12:07:19.886398Z"
    }
   },
   "outputs": [],
   "source": [
    "df9.head()"
   ]
  },
  {
   "cell_type": "markdown",
   "id": "20463cb2",
   "metadata": {},
   "source": [
    "## 9.1 Visualize Inspection"
   ]
  },
  {
   "cell_type": "code",
   "execution_count": null,
   "id": "ff36f3c1",
   "metadata": {
    "ExecuteTime": {
     "end_time": "2023-06-09T12:07:19.888514Z",
     "start_time": "2023-06-09T12:07:19.888514Z"
    }
   },
   "outputs": [],
   "source": [
    "#px.scatter_3d(df9, x='monetary', y='recency', z='frequency', color=labels)"
   ]
  },
  {
   "cell_type": "markdown",
   "id": "86a49f54",
   "metadata": {},
   "source": [
    "## 9.2 Silhouette Visualizer"
   ]
  },
  {
   "cell_type": "code",
   "execution_count": null,
   "id": "afe41c1f",
   "metadata": {
    "ExecuteTime": {
     "end_time": "2023-06-09T12:07:19.890575Z",
     "start_time": "2023-06-09T12:07:19.890575Z"
    }
   },
   "outputs": [],
   "source": [
    "visualizer = SilhouetteVisualizer(kmeans, color='yellowbrick')\n",
    "visualizer.fit(X)\n",
    "visualizer.finalize()"
   ]
  },
  {
   "cell_type": "markdown",
   "id": "514e0fe0",
   "metadata": {},
   "source": [
    "## 9.3 2D Plot"
   ]
  },
  {
   "cell_type": "code",
   "execution_count": null,
   "id": "cd5b71d7",
   "metadata": {
    "ExecuteTime": {
     "end_time": "2023-06-09T12:07:19.891575Z",
     "start_time": "2023-06-09T12:07:19.891575Z"
    }
   },
   "outputs": [],
   "source": [
    "df_viz = df9.drop('customer_id', axis=1)\n",
    "sns.pairplot(df_viz, hue='clusters')"
   ]
  },
  {
   "cell_type": "markdown",
   "id": "1c5bb81f",
   "metadata": {},
   "source": [
    "## 9.4 UMAP - t-SNE"
   ]
  },
  {
   "cell_type": "code",
   "execution_count": null,
   "id": "e0ba56b0",
   "metadata": {
    "ExecuteTime": {
     "end_time": "2023-06-09T12:07:19.892079Z",
     "start_time": "2023-06-09T12:07:19.892079Z"
    }
   },
   "outputs": [],
   "source": [
    "import umap.umap_ as umap"
   ]
  },
  {
   "cell_type": "code",
   "execution_count": null,
   "id": "195afcc6",
   "metadata": {
    "ExecuteTime": {
     "end_time": "2023-06-09T12:07:19.894390Z",
     "start_time": "2023-06-09T12:07:19.894390Z"
    }
   },
   "outputs": [],
   "source": [
    "reducer = umap.UMAP(n_neighbors=70, random_state=42)\n",
    "embedding = reducer.fit_transform(X)\n",
    "\n",
    "#embedding\n",
    "df_viz['embedding_x'] = embedding[:,0]\n",
    "df_viz['embedding_y'] = embedding[:,1]\n",
    "\n",
    "#plot UMAP\n",
    "sns.scatterplot(x='embedding_x', y='embedding_y',\n",
    "                hue='clusters',\n",
    "                palette=sns.color_palette('hls', n_colors=len(df_viz['clusters'].unique())),\n",
    "                data=df_viz)"
   ]
  },
  {
   "cell_type": "markdown",
   "id": "7c9335ca",
   "metadata": {},
   "source": [
    "Os Clusters estarem perto um dos outros nessa figura é um bom sinal, porque significa que na alta dimensionalidade eles tem a probabilidade de estarem próximos"
   ]
  },
  {
   "cell_type": "markdown",
   "id": "8edf2883",
   "metadata": {},
   "source": [
    "## 9.5 Cluster Profile"
   ]
  },
  {
   "cell_type": "code",
   "execution_count": null,
   "id": "6af0a15a",
   "metadata": {
    "ExecuteTime": {
     "end_time": "2023-06-09T12:07:19.895398Z",
     "start_time": "2023-06-09T12:07:19.895398Z"
    }
   },
   "outputs": [],
   "source": [
    "#Per Monetary\n",
    "df_monetary = df9.loc[:,['clusters','monetary']].groupby('clusters').mean().reset_index()\n",
    "\n",
    "#Per Frequency\n",
    "df_frequency = df9.loc[:,['clusters','frequency']].groupby('clusters').mean().reset_index()\n",
    "\n",
    "#Per Recency\n",
    "df_recency = df9.loc[:,['clusters','recency']].groupby('clusters').mean().reset_index()\n",
    "\n",
    "#Per Pencentual\n",
    "df_client_perc = df9.loc[:,['customer_id','clusters']].groupby('clusters').count().reset_index()\n",
    "df_client_perc['customer_id'] = df_client_perc['customer_id'].apply(lambda x: 100*(x)/(df_client_perc['customer_id'].sum()))\n",
    "df_client_perc = df_client_perc.rename(columns={'customer_id':'percent'})\n",
    "\n",
    "#Per Ticket\n",
    "df_ticket = df9.loc[:,['clusters','ticket_medio']].groupby('clusters').mean().reset_index()\n",
    "\n",
    "df_resume = pd.merge(df_monetary, df_frequency, on='clusters', how='left').merge(df_recency, on='clusters', how='left').merge(df_client_perc, on='clusters', how='left').merge(df_ticket, on='clusters', how='left')\n"
   ]
  },
  {
   "cell_type": "code",
   "execution_count": null,
   "id": "e523452b",
   "metadata": {
    "ExecuteTime": {
     "end_time": "2023-06-09T12:07:19.897445Z",
     "start_time": "2023-06-09T12:07:19.897445Z"
    }
   },
   "outputs": [],
   "source": [
    "df_resume"
   ]
  },
  {
   "cell_type": "markdown",
   "id": "a45ded9c",
   "metadata": {},
   "source": [
    "Cluster 0 - Clientes Esporádicos\n",
    "    - Clientes que comprar pouco, valor baixo, e com uma média de 3 meses. Porém engloba 99% dos clientes\n",
    "    \n",
    "Cluster 1 - Clientes Medianos\n",
    "    - Clientes que compram em média uma vez por mês mas uma quantia maior e um valor maior que os Esporádicos\n",
    "    \n",
    "Cluster 2 - Clientes elegíveis a Insiders\n",
    "    - Gastam muito, toda semana e compram bastante produtos"
   ]
  },
  {
   "cell_type": "markdown",
   "id": "f100bdf1",
   "metadata": {},
   "source": [
    "# 10.0 DEPLOY "
   ]
  },
  {
   "cell_type": "code",
   "execution_count": null,
   "id": "d7b6b6e5",
   "metadata": {},
   "outputs": [],
   "source": []
  },
  {
   "cell_type": "code",
   "execution_count": null,
   "id": "329e3fff",
   "metadata": {},
   "outputs": [],
   "source": []
  },
  {
   "cell_type": "code",
   "execution_count": null,
   "id": "5e9d9cdd",
   "metadata": {},
   "outputs": [],
   "source": []
  },
  {
   "cell_type": "code",
   "execution_count": null,
   "id": "4f00bd81",
   "metadata": {},
   "outputs": [],
   "source": []
  },
  {
   "cell_type": "code",
   "execution_count": null,
   "id": "37bdc5f3",
   "metadata": {},
   "outputs": [],
   "source": []
  }
 ],
 "metadata": {
  "kernelspec": {
   "display_name": "Python 3 (ipykernel)",
   "language": "python",
   "name": "python3"
  },
  "language_info": {
   "codemirror_mode": {
    "name": "ipython",
    "version": 3
   },
   "file_extension": ".py",
   "mimetype": "text/x-python",
   "name": "python",
   "nbconvert_exporter": "python",
   "pygments_lexer": "ipython3",
   "version": "3.10.11"
  },
  "varInspector": {
   "cols": {
    "lenName": 16,
    "lenType": 16,
    "lenVar": 40
   },
   "kernels_config": {
    "python": {
     "delete_cmd_postfix": "",
     "delete_cmd_prefix": "del ",
     "library": "var_list.py",
     "varRefreshCmd": "print(var_dic_list())"
    },
    "r": {
     "delete_cmd_postfix": ") ",
     "delete_cmd_prefix": "rm(",
     "library": "var_list.r",
     "varRefreshCmd": "cat(var_dic_list()) "
    }
   },
   "types_to_exclude": [
    "module",
    "function",
    "builtin_function_or_method",
    "instance",
    "_Feature"
   ],
   "window_display": false
  }
 },
 "nbformat": 4,
 "nbformat_minor": 5
}
