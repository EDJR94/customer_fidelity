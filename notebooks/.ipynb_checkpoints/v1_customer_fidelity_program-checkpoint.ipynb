{
 "cells": [
  {
   "cell_type": "markdown",
   "id": "5e41b4ff",
   "metadata": {
    "heading_collapsed": true
   },
   "source": [
    "# Problema de Negócio"
   ]
  },
  {
   "cell_type": "markdown",
   "id": "634c452c",
   "metadata": {
    "hidden": true
   },
   "source": [
    "**All in One** é uma empresa fictícia de comércio eletrônico com sede no Reino Unido. Ela oferece uma ampla gama de produtos voltados para diversas categorias, incluindo decoração de casa, suprimentos para festas, acessórios de cozinha, soluções de armazenamento e muito mais.\n",
    "\n",
    "Após vender com sucesso uma ampla variedade de produtos e acumular uma base substancial de clientes, a All in One reconhece o imenso valor oculto em seus dados de clientes. A empresa tem como objetivo aproveitar o poder da ciência de dados para obter **insights mais profundos** sobre sua base de clientes e aplicar esses insights de forma estratégica. Um de seus principais objetivos é **segmentar seus clientes** de forma eficaz. Essa segmentação permitirá à All in One compreender sua base de clientes em um nível mais detalhado, identificar grupos de clientes específicos com necessidades e preferências distintas, e adaptar seus esforços de marketing e ofertas de produtos de acordo.\n",
    "\n",
    "Além disso, ao implementar um **programa de fidelidade**, a All in One busca cultivar relacionamentos mais fortes com os clientes e aumentar a retenção deles. Por meio da análise cuidadosa dos comportamentos dos clientes, padrões de compra e preferências, eles podem projetar um programa de fidelidade que ofereça incentivos personalizados, recompensas e benefícios exclusivos para diferentes segmentos de clientes. Essa abordagem personalizada não apenas promove a fidelidade do cliente, mas também cria um senso de apreço e pertencimento entre os clientes, fortalecendo ainda mais sua conexão com a marca."
   ]
  },
  {
   "cell_type": "markdown",
   "id": "a1b741dc",
   "metadata": {
    "heading_collapsed": true
   },
   "source": [
    "# Dados"
   ]
  },
  {
   "cell_type": "markdown",
   "id": "5c1c8ee3",
   "metadata": {
    "hidden": true
   },
   "source": [
    "- **InvoiceNo**: Número da fatura, um identificador único para cada transação\n",
    "- **StockCode**: Código do produto, um identificador único para cada produto\n",
    "- **Description**: Descrição do produto\n",
    "- **Quantity**: Quantidade de produtos comprados em cada transação\n",
    "- **InvoiceDate**: Data e hora de cada transação\n",
    "- **UnitPrice**: Preço unitário de cada produto\n",
    "- **CustomerID**: ID do cliente, um identificador único para cada cliente\n",
    "- **Country**: País do cliente"
   ]
  },
  {
   "cell_type": "markdown",
   "id": "4a01719c",
   "metadata": {
    "heading_collapsed": true
   },
   "source": [
    "# Planejamento da Solução"
   ]
  },
  {
   "cell_type": "markdown",
   "id": "c3b38547",
   "metadata": {
    "hidden": true
   },
   "source": [
    "## Entrada"
   ]
  },
  {
   "cell_type": "markdown",
   "id": "4714d548",
   "metadata": {
    "hidden": true
   },
   "source": [
    "1. Problema de Negócio\n",
    "    - Selecionar os clientes mais valiosos para participar de um Programa de Fidelidade.\n",
    "2. Conjunto de Dados:\n",
    "    - Dados de vendas de uma plataforma de comércio eletrônico online, cobrindo um período de um ano.\n",
    "\n"
   ]
  },
  {
   "cell_type": "markdown",
   "id": "a1269e62",
   "metadata": {
    "hidden": true
   },
   "source": [
    "## Saída"
   ]
  },
  {
   "cell_type": "markdown",
   "id": "912a984d",
   "metadata": {
    "hidden": true
   },
   "source": [
    "1. Identificação das pessoas a serem parte do programa Insiders\n",
    "    - Lista:\n",
    "\n",
    "    - client_id is_insiders\n",
    "    - 10323 sim/1\n",
    "    - 32413 não/0\n",
    "2. Relatório com respostas para perguntas de negócios:\n",
    "    - Quem são as pessoas elegíveis para participar do programa Insiders?\n",
    "    - Quantos clientes serão incluídos no grupo?\n",
    "    - Quais são as características-chave desses clientes?\n",
    "    - Qual é a porcentagem de contribuição de receita dos Insiders?"
   ]
  },
  {
   "cell_type": "markdown",
   "id": "aecb9184",
   "metadata": {
    "hidden": true
   },
   "source": [
    "## Tarefa"
   ]
  },
  {
   "cell_type": "markdown",
   "id": "0cfbea5e",
   "metadata": {
    "hidden": true
   },
   "source": [
    "1. Quem são as pessoas elegíveis para participar do programa Insiders?\n",
    "    - O que significa ser elegível? Quem são os clientes de alto valor?\n",
    "    - Receita:\n",
    "        - Ticket médio alto.\n",
    "        - Alto valor vitalício do cliente (LTV).\n",
    "        - Baixa recência.\n",
    "        - Tamanho do cesto alto.\n",
    "        - Baixa probabilidade de churn - modelos.\n",
    "        - Alta previsão de LTV - modelos.\n",
    "        - Alta propensão de compra - modelos.\n",
    "2. Custo:\n",
    "    - Baixa taxa de retorno.\n",
    "\n",
    "3. Quantos clientes serão incluídos no grupo? - Número total de clientes - % do grupo Insiders\n",
    "\n",
    "4. Quais são as características-chave desses clientes? - Escreva características dos clientes: - Idade - Localização - Escreva características de consumo: - Atributos de cluster.\n",
    "\n",
    "5. Qual é a porcentagem de contribuição de receita dos Insiders? - Receita total do ano - Receita total do grupo Insiders durante o ano."
   ]
  },
  {
   "cell_type": "markdown",
   "id": "be553885",
   "metadata": {},
   "source": [
    "# 0.0 IMPORTS"
   ]
  },
  {
   "cell_type": "code",
   "execution_count": 50,
   "id": "593a5dbd",
   "metadata": {
    "ExecuteTime": {
     "end_time": "2023-05-31T16:11:25.097823Z",
     "start_time": "2023-05-31T16:11:25.079274Z"
    }
   },
   "outputs": [
    {
     "ename": "ModuleNotFoundError",
     "evalue": "No module named 'plotly'",
     "output_type": "error",
     "traceback": [
      "\u001b[1;31m---------------------------------------------------------------------------\u001b[0m",
      "\u001b[1;31mModuleNotFoundError\u001b[0m                       Traceback (most recent call last)",
      "Cell \u001b[1;32mIn[50], line 9\u001b[0m\n\u001b[0;32m      6\u001b[0m \u001b[38;5;28;01mimport\u001b[39;00m \u001b[38;5;21;01mwarnings\u001b[39;00m\n\u001b[0;32m      8\u001b[0m \u001b[38;5;28;01mfrom\u001b[39;00m \u001b[38;5;21;01mmatplotlib\u001b[39;00m \u001b[38;5;28;01mimport\u001b[39;00m pyplot \u001b[38;5;28;01mas\u001b[39;00m plt\n\u001b[1;32m----> 9\u001b[0m \u001b[38;5;28;01mfrom\u001b[39;00m \u001b[38;5;21;01mplotly\u001b[39;00m \u001b[38;5;28;01mimport\u001b[39;00m express \u001b[38;5;28;01mas\u001b[39;00m px\n\u001b[0;32m     11\u001b[0m \u001b[38;5;28;01mfrom\u001b[39;00m \u001b[38;5;21;01msklearn\u001b[39;00m \u001b[38;5;28;01mimport\u001b[39;00m cluster \u001b[38;5;28;01mas\u001b[39;00m c\n\u001b[0;32m     12\u001b[0m \u001b[38;5;28;01mfrom\u001b[39;00m \u001b[38;5;21;01msklearn\u001b[39;00m \u001b[38;5;28;01mimport\u001b[39;00m metrics \u001b[38;5;28;01mas\u001b[39;00m mt\n",
      "\u001b[1;31mModuleNotFoundError\u001b[0m: No module named 'plotly'"
     ]
    }
   ],
   "source": [
    "import pandas as pd\n",
    "import numpy as np\n",
    "import seaborn as sns\n",
    "import inflection\n",
    "import sweetviz as sv\n",
    "import warnings\n",
    "\n",
    "from matplotlib import pyplot as plt\n",
    "from plotly import express as px\n",
    "\n",
    "from sklearn import cluster as c\n",
    "from sklearn import metrics as mt\n",
    "\n",
    "from yellowbrick.cluster import KElbowVisualizer\n",
    "\n",
    "warnings.filterwarnings('ignore')"
   ]
  },
  {
   "cell_type": "markdown",
   "id": "f3ce4214",
   "metadata": {},
   "source": [
    "## 0.1 Helper Functions"
   ]
  },
  {
   "cell_type": "code",
   "execution_count": null,
   "id": "4011ad8c",
   "metadata": {},
   "outputs": [],
   "source": []
  },
  {
   "cell_type": "markdown",
   "id": "2f34031b",
   "metadata": {},
   "source": [
    "## 0.2 Loading Data"
   ]
  },
  {
   "cell_type": "code",
   "execution_count": 2,
   "id": "a9408282",
   "metadata": {
    "ExecuteTime": {
     "end_time": "2023-05-31T13:52:45.876649Z",
     "start_time": "2023-05-31T13:52:45.861744Z"
    }
   },
   "outputs": [],
   "source": [
    "path = 'C:/Users/edils/repos/customer_fidelity/data/'"
   ]
  },
  {
   "cell_type": "code",
   "execution_count": 3,
   "id": "8d8b8f41",
   "metadata": {
    "ExecuteTime": {
     "end_time": "2023-05-31T13:52:46.344756Z",
     "start_time": "2023-05-31T13:52:45.877706Z"
    }
   },
   "outputs": [],
   "source": [
    "df_raw = pd.read_csv(path + 'ecommerce.csv', encoding='windows-1252')"
   ]
  },
  {
   "cell_type": "code",
   "execution_count": 4,
   "id": "a6d1f054",
   "metadata": {
    "ExecuteTime": {
     "end_time": "2023-05-31T13:52:46.375933Z",
     "start_time": "2023-05-31T13:52:46.345785Z"
    }
   },
   "outputs": [],
   "source": [
    "df_raw = df_raw.drop('Unnamed: 8', axis=1)"
   ]
  },
  {
   "cell_type": "code",
   "execution_count": 5,
   "id": "1e5ca772",
   "metadata": {
    "ExecuteTime": {
     "end_time": "2023-05-31T13:52:46.390822Z",
     "start_time": "2023-05-31T13:52:46.376966Z"
    }
   },
   "outputs": [
    {
     "data": {
      "text/html": [
       "<div>\n",
       "<style scoped>\n",
       "    .dataframe tbody tr th:only-of-type {\n",
       "        vertical-align: middle;\n",
       "    }\n",
       "\n",
       "    .dataframe tbody tr th {\n",
       "        vertical-align: top;\n",
       "    }\n",
       "\n",
       "    .dataframe thead th {\n",
       "        text-align: right;\n",
       "    }\n",
       "</style>\n",
       "<table border=\"1\" class=\"dataframe\">\n",
       "  <thead>\n",
       "    <tr style=\"text-align: right;\">\n",
       "      <th></th>\n",
       "      <th>InvoiceNo</th>\n",
       "      <th>StockCode</th>\n",
       "      <th>Description</th>\n",
       "      <th>Quantity</th>\n",
       "      <th>InvoiceDate</th>\n",
       "      <th>UnitPrice</th>\n",
       "      <th>CustomerID</th>\n",
       "      <th>Country</th>\n",
       "    </tr>\n",
       "  </thead>\n",
       "  <tbody>\n",
       "    <tr>\n",
       "      <th>0</th>\n",
       "      <td>536365</td>\n",
       "      <td>85123A</td>\n",
       "      <td>WHITE HANGING HEART T-LIGHT HOLDER</td>\n",
       "      <td>6</td>\n",
       "      <td>29-Nov-16</td>\n",
       "      <td>2.55</td>\n",
       "      <td>17850.0</td>\n",
       "      <td>United Kingdom</td>\n",
       "    </tr>\n",
       "    <tr>\n",
       "      <th>1</th>\n",
       "      <td>536365</td>\n",
       "      <td>71053</td>\n",
       "      <td>WHITE METAL LANTERN</td>\n",
       "      <td>6</td>\n",
       "      <td>29-Nov-16</td>\n",
       "      <td>3.39</td>\n",
       "      <td>17850.0</td>\n",
       "      <td>United Kingdom</td>\n",
       "    </tr>\n",
       "    <tr>\n",
       "      <th>2</th>\n",
       "      <td>536365</td>\n",
       "      <td>84406B</td>\n",
       "      <td>CREAM CUPID HEARTS COAT HANGER</td>\n",
       "      <td>8</td>\n",
       "      <td>29-Nov-16</td>\n",
       "      <td>2.75</td>\n",
       "      <td>17850.0</td>\n",
       "      <td>United Kingdom</td>\n",
       "    </tr>\n",
       "    <tr>\n",
       "      <th>3</th>\n",
       "      <td>536365</td>\n",
       "      <td>84029G</td>\n",
       "      <td>KNITTED UNION FLAG HOT WATER BOTTLE</td>\n",
       "      <td>6</td>\n",
       "      <td>29-Nov-16</td>\n",
       "      <td>3.39</td>\n",
       "      <td>17850.0</td>\n",
       "      <td>United Kingdom</td>\n",
       "    </tr>\n",
       "    <tr>\n",
       "      <th>4</th>\n",
       "      <td>536365</td>\n",
       "      <td>84029E</td>\n",
       "      <td>RED WOOLLY HOTTIE WHITE HEART.</td>\n",
       "      <td>6</td>\n",
       "      <td>29-Nov-16</td>\n",
       "      <td>3.39</td>\n",
       "      <td>17850.0</td>\n",
       "      <td>United Kingdom</td>\n",
       "    </tr>\n",
       "  </tbody>\n",
       "</table>\n",
       "</div>"
      ],
      "text/plain": [
       "  InvoiceNo StockCode                          Description  Quantity  \\\n",
       "0    536365    85123A   WHITE HANGING HEART T-LIGHT HOLDER         6   \n",
       "1    536365     71053                  WHITE METAL LANTERN         6   \n",
       "2    536365    84406B       CREAM CUPID HEARTS COAT HANGER         8   \n",
       "3    536365    84029G  KNITTED UNION FLAG HOT WATER BOTTLE         6   \n",
       "4    536365    84029E       RED WOOLLY HOTTIE WHITE HEART.         6   \n",
       "\n",
       "  InvoiceDate  UnitPrice  CustomerID         Country  \n",
       "0   29-Nov-16       2.55     17850.0  United Kingdom  \n",
       "1   29-Nov-16       3.39     17850.0  United Kingdom  \n",
       "2   29-Nov-16       2.75     17850.0  United Kingdom  \n",
       "3   29-Nov-16       3.39     17850.0  United Kingdom  \n",
       "4   29-Nov-16       3.39     17850.0  United Kingdom  "
      ]
     },
     "execution_count": 5,
     "metadata": {},
     "output_type": "execute_result"
    }
   ],
   "source": [
    "df_raw.head()"
   ]
  },
  {
   "cell_type": "markdown",
   "id": "b8105035",
   "metadata": {},
   "source": [
    "# 1.0 DATA DESCRIPTION"
   ]
  },
  {
   "cell_type": "code",
   "execution_count": 6,
   "id": "90655a19",
   "metadata": {
    "ExecuteTime": {
     "end_time": "2023-05-31T13:52:46.406699Z",
     "start_time": "2023-05-31T13:52:46.391839Z"
    }
   },
   "outputs": [],
   "source": [
    "df1 = df_raw.copy()"
   ]
  },
  {
   "cell_type": "code",
   "execution_count": 7,
   "id": "fbaf3b4b",
   "metadata": {
    "ExecuteTime": {
     "end_time": "2023-05-31T13:52:46.422086Z",
     "start_time": "2023-05-31T13:52:46.409820Z"
    }
   },
   "outputs": [
    {
     "data": {
      "text/html": [
       "<div>\n",
       "<style scoped>\n",
       "    .dataframe tbody tr th:only-of-type {\n",
       "        vertical-align: middle;\n",
       "    }\n",
       "\n",
       "    .dataframe tbody tr th {\n",
       "        vertical-align: top;\n",
       "    }\n",
       "\n",
       "    .dataframe thead th {\n",
       "        text-align: right;\n",
       "    }\n",
       "</style>\n",
       "<table border=\"1\" class=\"dataframe\">\n",
       "  <thead>\n",
       "    <tr style=\"text-align: right;\">\n",
       "      <th></th>\n",
       "      <th>InvoiceNo</th>\n",
       "      <th>StockCode</th>\n",
       "      <th>Description</th>\n",
       "      <th>Quantity</th>\n",
       "      <th>InvoiceDate</th>\n",
       "      <th>UnitPrice</th>\n",
       "      <th>CustomerID</th>\n",
       "      <th>Country</th>\n",
       "    </tr>\n",
       "  </thead>\n",
       "  <tbody>\n",
       "    <tr>\n",
       "      <th>0</th>\n",
       "      <td>536365</td>\n",
       "      <td>85123A</td>\n",
       "      <td>WHITE HANGING HEART T-LIGHT HOLDER</td>\n",
       "      <td>6</td>\n",
       "      <td>29-Nov-16</td>\n",
       "      <td>2.55</td>\n",
       "      <td>17850.0</td>\n",
       "      <td>United Kingdom</td>\n",
       "    </tr>\n",
       "    <tr>\n",
       "      <th>1</th>\n",
       "      <td>536365</td>\n",
       "      <td>71053</td>\n",
       "      <td>WHITE METAL LANTERN</td>\n",
       "      <td>6</td>\n",
       "      <td>29-Nov-16</td>\n",
       "      <td>3.39</td>\n",
       "      <td>17850.0</td>\n",
       "      <td>United Kingdom</td>\n",
       "    </tr>\n",
       "    <tr>\n",
       "      <th>2</th>\n",
       "      <td>536365</td>\n",
       "      <td>84406B</td>\n",
       "      <td>CREAM CUPID HEARTS COAT HANGER</td>\n",
       "      <td>8</td>\n",
       "      <td>29-Nov-16</td>\n",
       "      <td>2.75</td>\n",
       "      <td>17850.0</td>\n",
       "      <td>United Kingdom</td>\n",
       "    </tr>\n",
       "    <tr>\n",
       "      <th>3</th>\n",
       "      <td>536365</td>\n",
       "      <td>84029G</td>\n",
       "      <td>KNITTED UNION FLAG HOT WATER BOTTLE</td>\n",
       "      <td>6</td>\n",
       "      <td>29-Nov-16</td>\n",
       "      <td>3.39</td>\n",
       "      <td>17850.0</td>\n",
       "      <td>United Kingdom</td>\n",
       "    </tr>\n",
       "    <tr>\n",
       "      <th>4</th>\n",
       "      <td>536365</td>\n",
       "      <td>84029E</td>\n",
       "      <td>RED WOOLLY HOTTIE WHITE HEART.</td>\n",
       "      <td>6</td>\n",
       "      <td>29-Nov-16</td>\n",
       "      <td>3.39</td>\n",
       "      <td>17850.0</td>\n",
       "      <td>United Kingdom</td>\n",
       "    </tr>\n",
       "  </tbody>\n",
       "</table>\n",
       "</div>"
      ],
      "text/plain": [
       "  InvoiceNo StockCode                          Description  Quantity  \\\n",
       "0    536365    85123A   WHITE HANGING HEART T-LIGHT HOLDER         6   \n",
       "1    536365     71053                  WHITE METAL LANTERN         6   \n",
       "2    536365    84406B       CREAM CUPID HEARTS COAT HANGER         8   \n",
       "3    536365    84029G  KNITTED UNION FLAG HOT WATER BOTTLE         6   \n",
       "4    536365    84029E       RED WOOLLY HOTTIE WHITE HEART.         6   \n",
       "\n",
       "  InvoiceDate  UnitPrice  CustomerID         Country  \n",
       "0   29-Nov-16       2.55     17850.0  United Kingdom  \n",
       "1   29-Nov-16       3.39     17850.0  United Kingdom  \n",
       "2   29-Nov-16       2.75     17850.0  United Kingdom  \n",
       "3   29-Nov-16       3.39     17850.0  United Kingdom  \n",
       "4   29-Nov-16       3.39     17850.0  United Kingdom  "
      ]
     },
     "execution_count": 7,
     "metadata": {},
     "output_type": "execute_result"
    }
   ],
   "source": [
    "df1.head()"
   ]
  },
  {
   "cell_type": "code",
   "execution_count": 8,
   "id": "9014a46d",
   "metadata": {
    "ExecuteTime": {
     "end_time": "2023-05-31T13:52:46.438186Z",
     "start_time": "2023-05-31T13:52:46.423137Z"
    }
   },
   "outputs": [],
   "source": [
    "# report = sv.analyze(df1)\n",
    "# report.show_html()"
   ]
  },
  {
   "cell_type": "markdown",
   "id": "65817ca0",
   "metadata": {},
   "source": [
    "## 1.1 Rename Columns"
   ]
  },
  {
   "cell_type": "code",
   "execution_count": 9,
   "id": "08b15123",
   "metadata": {
    "ExecuteTime": {
     "end_time": "2023-05-31T13:52:46.453980Z",
     "start_time": "2023-05-31T13:52:46.439226Z"
    }
   },
   "outputs": [],
   "source": [
    "df1.columns = df1.columns.map(lambda x: inflection.underscore(x))"
   ]
  },
  {
   "cell_type": "markdown",
   "id": "4b16e150",
   "metadata": {},
   "source": [
    "## 1.2 Data Dimensions"
   ]
  },
  {
   "cell_type": "code",
   "execution_count": 10,
   "id": "2e6f1a12",
   "metadata": {
    "ExecuteTime": {
     "end_time": "2023-05-31T13:52:46.469667Z",
     "start_time": "2023-05-31T13:52:46.456001Z"
    }
   },
   "outputs": [
    {
     "data": {
      "text/plain": [
       "(541909, 8)"
      ]
     },
     "execution_count": 10,
     "metadata": {},
     "output_type": "execute_result"
    }
   ],
   "source": [
    "df1.shape"
   ]
  },
  {
   "cell_type": "markdown",
   "id": "94d5281a",
   "metadata": {},
   "source": [
    "## 1.3 Data Types"
   ]
  },
  {
   "cell_type": "code",
   "execution_count": 11,
   "id": "6b312fa9",
   "metadata": {
    "ExecuteTime": {
     "end_time": "2023-05-31T13:52:46.485304Z",
     "start_time": "2023-05-31T13:52:46.470667Z"
    }
   },
   "outputs": [
    {
     "data": {
      "text/plain": [
       "invoice_no       object\n",
       "stock_code       object\n",
       "description      object\n",
       "quantity          int64\n",
       "invoice_date     object\n",
       "unit_price      float64\n",
       "customer_id     float64\n",
       "country          object\n",
       "dtype: object"
      ]
     },
     "execution_count": 11,
     "metadata": {},
     "output_type": "execute_result"
    }
   ],
   "source": [
    "df1.dtypes"
   ]
  },
  {
   "cell_type": "markdown",
   "id": "6cef345d",
   "metadata": {},
   "source": [
    "## 1.4 Check NA"
   ]
  },
  {
   "cell_type": "code",
   "execution_count": 12,
   "id": "0ca201d8",
   "metadata": {
    "ExecuteTime": {
     "end_time": "2023-05-31T13:52:46.701963Z",
     "start_time": "2023-05-31T13:52:46.487337Z"
    }
   },
   "outputs": [
    {
     "data": {
      "text/plain": [
       "invoice_no           0\n",
       "stock_code           0\n",
       "description       1454\n",
       "quantity             0\n",
       "invoice_date         0\n",
       "unit_price           0\n",
       "customer_id     135080\n",
       "country              0\n",
       "dtype: int64"
      ]
     },
     "execution_count": 12,
     "metadata": {},
     "output_type": "execute_result"
    }
   ],
   "source": [
    "df1.isna().sum()"
   ]
  },
  {
   "cell_type": "markdown",
   "id": "2876576c",
   "metadata": {},
   "source": [
    "## 1.5 Replace NA"
   ]
  },
  {
   "cell_type": "markdown",
   "id": "7f745597",
   "metadata": {},
   "source": [
    "Alternativa para retirar NaNs do unity_price e também colocar quantity > 0(fazer ciclo2)"
   ]
  },
  {
   "cell_type": "code",
   "execution_count": 13,
   "id": "99213231",
   "metadata": {
    "ExecuteTime": {
     "end_time": "2023-05-31T13:52:46.936915Z",
     "start_time": "2023-05-31T13:52:46.704002Z"
    }
   },
   "outputs": [],
   "source": [
    "# df1 = df1[df1['unit_price'] > 0.0]\n",
    "df1 = df1[df1['quantity'] > 0]\n",
    "\n",
    "#Alternativa Ciclo1\n",
    "df1 = df1.dropna()"
   ]
  },
  {
   "cell_type": "markdown",
   "id": "501ca33c",
   "metadata": {},
   "source": [
    "## 1.6 Change Types"
   ]
  },
  {
   "cell_type": "code",
   "execution_count": 14,
   "id": "4856c1ce",
   "metadata": {
    "ExecuteTime": {
     "end_time": "2023-05-31T13:52:46.952553Z",
     "start_time": "2023-05-31T13:52:46.937939Z"
    }
   },
   "outputs": [],
   "source": [
    "df1['customer_id'] = df1['customer_id'].astype(int)"
   ]
  },
  {
   "cell_type": "code",
   "execution_count": 15,
   "id": "c19552d6",
   "metadata": {
    "ExecuteTime": {
     "end_time": "2023-05-31T13:52:47.014855Z",
     "start_time": "2023-05-31T13:52:46.953582Z"
    }
   },
   "outputs": [],
   "source": [
    "df1['invoice_date'] = pd.to_datetime(df1['invoice_date'])"
   ]
  },
  {
   "cell_type": "code",
   "execution_count": 16,
   "id": "88374140",
   "metadata": {
    "ExecuteTime": {
     "end_time": "2023-05-31T13:52:47.029746Z",
     "start_time": "2023-05-31T13:52:47.015865Z"
    }
   },
   "outputs": [
    {
     "data": {
      "text/html": [
       "<div>\n",
       "<style scoped>\n",
       "    .dataframe tbody tr th:only-of-type {\n",
       "        vertical-align: middle;\n",
       "    }\n",
       "\n",
       "    .dataframe tbody tr th {\n",
       "        vertical-align: top;\n",
       "    }\n",
       "\n",
       "    .dataframe thead th {\n",
       "        text-align: right;\n",
       "    }\n",
       "</style>\n",
       "<table border=\"1\" class=\"dataframe\">\n",
       "  <thead>\n",
       "    <tr style=\"text-align: right;\">\n",
       "      <th></th>\n",
       "      <th>invoice_no</th>\n",
       "      <th>stock_code</th>\n",
       "      <th>description</th>\n",
       "      <th>quantity</th>\n",
       "      <th>invoice_date</th>\n",
       "      <th>unit_price</th>\n",
       "      <th>customer_id</th>\n",
       "      <th>country</th>\n",
       "    </tr>\n",
       "  </thead>\n",
       "  <tbody>\n",
       "    <tr>\n",
       "      <th>14938</th>\n",
       "      <td>537626</td>\n",
       "      <td>85116</td>\n",
       "      <td>BLACK CANDELABRA T-LIGHT HOLDER</td>\n",
       "      <td>12</td>\n",
       "      <td>2016-12-05</td>\n",
       "      <td>2.10</td>\n",
       "      <td>12347</td>\n",
       "      <td>Iceland</td>\n",
       "    </tr>\n",
       "    <tr>\n",
       "      <th>14939</th>\n",
       "      <td>537626</td>\n",
       "      <td>22375</td>\n",
       "      <td>AIRLINE BAG VINTAGE JET SET BROWN</td>\n",
       "      <td>4</td>\n",
       "      <td>2016-12-05</td>\n",
       "      <td>4.25</td>\n",
       "      <td>12347</td>\n",
       "      <td>Iceland</td>\n",
       "    </tr>\n",
       "    <tr>\n",
       "      <th>14940</th>\n",
       "      <td>537626</td>\n",
       "      <td>71477</td>\n",
       "      <td>COLOUR GLASS. STAR T-LIGHT HOLDER</td>\n",
       "      <td>12</td>\n",
       "      <td>2016-12-05</td>\n",
       "      <td>3.25</td>\n",
       "      <td>12347</td>\n",
       "      <td>Iceland</td>\n",
       "    </tr>\n",
       "    <tr>\n",
       "      <th>14941</th>\n",
       "      <td>537626</td>\n",
       "      <td>22492</td>\n",
       "      <td>MINI PAINT SET VINTAGE</td>\n",
       "      <td>36</td>\n",
       "      <td>2016-12-05</td>\n",
       "      <td>0.65</td>\n",
       "      <td>12347</td>\n",
       "      <td>Iceland</td>\n",
       "    </tr>\n",
       "    <tr>\n",
       "      <th>14942</th>\n",
       "      <td>537626</td>\n",
       "      <td>22771</td>\n",
       "      <td>CLEAR DRAWER KNOB ACRYLIC EDWARDIAN</td>\n",
       "      <td>12</td>\n",
       "      <td>2016-12-05</td>\n",
       "      <td>1.25</td>\n",
       "      <td>12347</td>\n",
       "      <td>Iceland</td>\n",
       "    </tr>\n",
       "    <tr>\n",
       "      <th>...</th>\n",
       "      <td>...</td>\n",
       "      <td>...</td>\n",
       "      <td>...</td>\n",
       "      <td>...</td>\n",
       "      <td>...</td>\n",
       "      <td>...</td>\n",
       "      <td>...</td>\n",
       "      <td>...</td>\n",
       "    </tr>\n",
       "    <tr>\n",
       "      <th>535010</th>\n",
       "      <td>581180</td>\n",
       "      <td>20719</td>\n",
       "      <td>WOODLAND CHARLOTTE BAG</td>\n",
       "      <td>10</td>\n",
       "      <td>2017-12-05</td>\n",
       "      <td>0.85</td>\n",
       "      <td>12347</td>\n",
       "      <td>Iceland</td>\n",
       "    </tr>\n",
       "    <tr>\n",
       "      <th>535011</th>\n",
       "      <td>581180</td>\n",
       "      <td>21265</td>\n",
       "      <td>PINK GOOSE FEATHER TREE 60CM</td>\n",
       "      <td>12</td>\n",
       "      <td>2017-12-05</td>\n",
       "      <td>1.95</td>\n",
       "      <td>12347</td>\n",
       "      <td>Iceland</td>\n",
       "    </tr>\n",
       "    <tr>\n",
       "      <th>535012</th>\n",
       "      <td>581180</td>\n",
       "      <td>23271</td>\n",
       "      <td>CHRISTMAS TABLE SILVER CANDLE SPIKE</td>\n",
       "      <td>16</td>\n",
       "      <td>2017-12-05</td>\n",
       "      <td>0.83</td>\n",
       "      <td>12347</td>\n",
       "      <td>Iceland</td>\n",
       "    </tr>\n",
       "    <tr>\n",
       "      <th>535013</th>\n",
       "      <td>581180</td>\n",
       "      <td>23506</td>\n",
       "      <td>MINI PLAYING CARDS SPACEBOY</td>\n",
       "      <td>20</td>\n",
       "      <td>2017-12-05</td>\n",
       "      <td>0.42</td>\n",
       "      <td>12347</td>\n",
       "      <td>Iceland</td>\n",
       "    </tr>\n",
       "    <tr>\n",
       "      <th>535014</th>\n",
       "      <td>581180</td>\n",
       "      <td>23508</td>\n",
       "      <td>MINI PLAYING CARDS DOLLY GIRL</td>\n",
       "      <td>20</td>\n",
       "      <td>2017-12-05</td>\n",
       "      <td>0.42</td>\n",
       "      <td>12347</td>\n",
       "      <td>Iceland</td>\n",
       "    </tr>\n",
       "  </tbody>\n",
       "</table>\n",
       "<p>182 rows × 8 columns</p>\n",
       "</div>"
      ],
      "text/plain": [
       "       invoice_no stock_code                          description  quantity  \\\n",
       "14938      537626      85116      BLACK CANDELABRA T-LIGHT HOLDER        12   \n",
       "14939      537626      22375    AIRLINE BAG VINTAGE JET SET BROWN         4   \n",
       "14940      537626      71477    COLOUR GLASS. STAR T-LIGHT HOLDER        12   \n",
       "14941      537626      22492              MINI PAINT SET VINTAGE         36   \n",
       "14942      537626      22771  CLEAR DRAWER KNOB ACRYLIC EDWARDIAN        12   \n",
       "...           ...        ...                                  ...       ...   \n",
       "535010     581180      20719               WOODLAND CHARLOTTE BAG        10   \n",
       "535011     581180      21265         PINK GOOSE FEATHER TREE 60CM        12   \n",
       "535012     581180      23271  CHRISTMAS TABLE SILVER CANDLE SPIKE        16   \n",
       "535013     581180      23506         MINI PLAYING CARDS SPACEBOY         20   \n",
       "535014     581180      23508       MINI PLAYING CARDS DOLLY GIRL         20   \n",
       "\n",
       "       invoice_date  unit_price  customer_id  country  \n",
       "14938    2016-12-05        2.10        12347  Iceland  \n",
       "14939    2016-12-05        4.25        12347  Iceland  \n",
       "14940    2016-12-05        3.25        12347  Iceland  \n",
       "14941    2016-12-05        0.65        12347  Iceland  \n",
       "14942    2016-12-05        1.25        12347  Iceland  \n",
       "...             ...         ...          ...      ...  \n",
       "535010   2017-12-05        0.85        12347  Iceland  \n",
       "535011   2017-12-05        1.95        12347  Iceland  \n",
       "535012   2017-12-05        0.83        12347  Iceland  \n",
       "535013   2017-12-05        0.42        12347  Iceland  \n",
       "535014   2017-12-05        0.42        12347  Iceland  \n",
       "\n",
       "[182 rows x 8 columns]"
      ]
     },
     "execution_count": 16,
     "metadata": {},
     "output_type": "execute_result"
    }
   ],
   "source": [
    "df1[df1['customer_id'] == 12347]"
   ]
  },
  {
   "cell_type": "markdown",
   "id": "92294c09",
   "metadata": {},
   "source": [
    "# 2.0 FEATURE ENGINEERING"
   ]
  },
  {
   "cell_type": "code",
   "execution_count": 17,
   "id": "113f8ff0",
   "metadata": {
    "ExecuteTime": {
     "end_time": "2023-05-31T13:52:47.045391Z",
     "start_time": "2023-05-31T13:52:47.031250Z"
    }
   },
   "outputs": [],
   "source": [
    "df2 = df1.copy()"
   ]
  },
  {
   "cell_type": "code",
   "execution_count": 18,
   "id": "36229b65",
   "metadata": {
    "ExecuteTime": {
     "end_time": "2023-05-31T13:52:47.061522Z",
     "start_time": "2023-05-31T13:52:47.046800Z"
    }
   },
   "outputs": [
    {
     "data": {
      "text/html": [
       "<div>\n",
       "<style scoped>\n",
       "    .dataframe tbody tr th:only-of-type {\n",
       "        vertical-align: middle;\n",
       "    }\n",
       "\n",
       "    .dataframe tbody tr th {\n",
       "        vertical-align: top;\n",
       "    }\n",
       "\n",
       "    .dataframe thead th {\n",
       "        text-align: right;\n",
       "    }\n",
       "</style>\n",
       "<table border=\"1\" class=\"dataframe\">\n",
       "  <thead>\n",
       "    <tr style=\"text-align: right;\">\n",
       "      <th></th>\n",
       "      <th>invoice_no</th>\n",
       "      <th>stock_code</th>\n",
       "      <th>description</th>\n",
       "      <th>quantity</th>\n",
       "      <th>invoice_date</th>\n",
       "      <th>unit_price</th>\n",
       "      <th>customer_id</th>\n",
       "      <th>country</th>\n",
       "    </tr>\n",
       "  </thead>\n",
       "  <tbody>\n",
       "    <tr>\n",
       "      <th>0</th>\n",
       "      <td>536365</td>\n",
       "      <td>85123A</td>\n",
       "      <td>WHITE HANGING HEART T-LIGHT HOLDER</td>\n",
       "      <td>6</td>\n",
       "      <td>2016-11-29</td>\n",
       "      <td>2.55</td>\n",
       "      <td>17850</td>\n",
       "      <td>United Kingdom</td>\n",
       "    </tr>\n",
       "    <tr>\n",
       "      <th>1</th>\n",
       "      <td>536365</td>\n",
       "      <td>71053</td>\n",
       "      <td>WHITE METAL LANTERN</td>\n",
       "      <td>6</td>\n",
       "      <td>2016-11-29</td>\n",
       "      <td>3.39</td>\n",
       "      <td>17850</td>\n",
       "      <td>United Kingdom</td>\n",
       "    </tr>\n",
       "    <tr>\n",
       "      <th>2</th>\n",
       "      <td>536365</td>\n",
       "      <td>84406B</td>\n",
       "      <td>CREAM CUPID HEARTS COAT HANGER</td>\n",
       "      <td>8</td>\n",
       "      <td>2016-11-29</td>\n",
       "      <td>2.75</td>\n",
       "      <td>17850</td>\n",
       "      <td>United Kingdom</td>\n",
       "    </tr>\n",
       "    <tr>\n",
       "      <th>3</th>\n",
       "      <td>536365</td>\n",
       "      <td>84029G</td>\n",
       "      <td>KNITTED UNION FLAG HOT WATER BOTTLE</td>\n",
       "      <td>6</td>\n",
       "      <td>2016-11-29</td>\n",
       "      <td>3.39</td>\n",
       "      <td>17850</td>\n",
       "      <td>United Kingdom</td>\n",
       "    </tr>\n",
       "    <tr>\n",
       "      <th>4</th>\n",
       "      <td>536365</td>\n",
       "      <td>84029E</td>\n",
       "      <td>RED WOOLLY HOTTIE WHITE HEART.</td>\n",
       "      <td>6</td>\n",
       "      <td>2016-11-29</td>\n",
       "      <td>3.39</td>\n",
       "      <td>17850</td>\n",
       "      <td>United Kingdom</td>\n",
       "    </tr>\n",
       "  </tbody>\n",
       "</table>\n",
       "</div>"
      ],
      "text/plain": [
       "  invoice_no stock_code                          description  quantity  \\\n",
       "0     536365     85123A   WHITE HANGING HEART T-LIGHT HOLDER         6   \n",
       "1     536365      71053                  WHITE METAL LANTERN         6   \n",
       "2     536365     84406B       CREAM CUPID HEARTS COAT HANGER         8   \n",
       "3     536365     84029G  KNITTED UNION FLAG HOT WATER BOTTLE         6   \n",
       "4     536365     84029E       RED WOOLLY HOTTIE WHITE HEART.         6   \n",
       "\n",
       "  invoice_date  unit_price  customer_id         country  \n",
       "0   2016-11-29        2.55        17850  United Kingdom  \n",
       "1   2016-11-29        3.39        17850  United Kingdom  \n",
       "2   2016-11-29        2.75        17850  United Kingdom  \n",
       "3   2016-11-29        3.39        17850  United Kingdom  \n",
       "4   2016-11-29        3.39        17850  United Kingdom  "
      ]
     },
     "execution_count": 18,
     "metadata": {},
     "output_type": "execute_result"
    }
   ],
   "source": [
    "df2.head()"
   ]
  },
  {
   "cell_type": "code",
   "execution_count": 19,
   "id": "ef9b7a8b",
   "metadata": {
    "ExecuteTime": {
     "end_time": "2023-05-31T13:52:47.169578Z",
     "start_time": "2023-05-31T13:52:47.062579Z"
    }
   },
   "outputs": [],
   "source": [
    "#Criar features baseado no RFM Model - Recency, Frequency, Monetary\n",
    "\n",
    "#Monetary - O quanto cada cliente gera de $\n",
    "aux_monetary = pd.DataFrame()\n",
    "aux_monetary['valor_bruto'] = df2['quantity'] * df2['unit_price']\n",
    "aux_monetary['customer_id'] = df2['customer_id']\n",
    "df_ref = aux_monetary.loc[:,['valor_bruto', 'customer_id']].groupby('customer_id').sum().reset_index()\n",
    "\n",
    "#Frequency - Quantas vezes o cliente comprou\n",
    "aux_invoice = df2.loc[:,['invoice_no','customer_id']].groupby('customer_id').nunique().reset_index()\n",
    "df_ref = pd.merge(df_ref, aux_invoice, on='customer_id', how='left')\n",
    "\n",
    "#Recency\n",
    "aux_recency = df2.loc[:,['customer_id','invoice_date']].groupby('customer_id').max().reset_index()\n",
    "date_max = df2['invoice_date'].max()\n",
    "aux_recency['recency'] = (date_max - aux_recency['invoice_date']).dt.days\n",
    "df_ref = pd.merge(df_ref, aux_recency, on='customer_id', how='left')\n",
    "\n",
    "#drop and rename columns\n",
    "df_ref = df_ref.drop('invoice_date', axis=1)\n",
    "df_ref = df_ref.rename(columns={'valor_bruto':'monetary', 'invoice_no':'frequency'})"
   ]
  },
  {
   "cell_type": "code",
   "execution_count": 20,
   "id": "f27ca2f7",
   "metadata": {
    "ExecuteTime": {
     "end_time": "2023-05-31T13:52:47.184778Z",
     "start_time": "2023-05-31T13:52:47.170581Z"
    }
   },
   "outputs": [
    {
     "data": {
      "text/html": [
       "<div>\n",
       "<style scoped>\n",
       "    .dataframe tbody tr th:only-of-type {\n",
       "        vertical-align: middle;\n",
       "    }\n",
       "\n",
       "    .dataframe tbody tr th {\n",
       "        vertical-align: top;\n",
       "    }\n",
       "\n",
       "    .dataframe thead th {\n",
       "        text-align: right;\n",
       "    }\n",
       "</style>\n",
       "<table border=\"1\" class=\"dataframe\">\n",
       "  <thead>\n",
       "    <tr style=\"text-align: right;\">\n",
       "      <th></th>\n",
       "      <th>customer_id</th>\n",
       "      <th>monetary</th>\n",
       "      <th>frequency</th>\n",
       "      <th>recency</th>\n",
       "    </tr>\n",
       "  </thead>\n",
       "  <tbody>\n",
       "    <tr>\n",
       "      <th>0</th>\n",
       "      <td>12346</td>\n",
       "      <td>77183.60</td>\n",
       "      <td>1</td>\n",
       "      <td>325</td>\n",
       "    </tr>\n",
       "    <tr>\n",
       "      <th>1</th>\n",
       "      <td>12347</td>\n",
       "      <td>4310.00</td>\n",
       "      <td>7</td>\n",
       "      <td>2</td>\n",
       "    </tr>\n",
       "    <tr>\n",
       "      <th>2</th>\n",
       "      <td>12348</td>\n",
       "      <td>1797.24</td>\n",
       "      <td>4</td>\n",
       "      <td>75</td>\n",
       "    </tr>\n",
       "    <tr>\n",
       "      <th>3</th>\n",
       "      <td>12349</td>\n",
       "      <td>1757.55</td>\n",
       "      <td>1</td>\n",
       "      <td>18</td>\n",
       "    </tr>\n",
       "    <tr>\n",
       "      <th>4</th>\n",
       "      <td>12350</td>\n",
       "      <td>334.40</td>\n",
       "      <td>1</td>\n",
       "      <td>310</td>\n",
       "    </tr>\n",
       "    <tr>\n",
       "      <th>...</th>\n",
       "      <td>...</td>\n",
       "      <td>...</td>\n",
       "      <td>...</td>\n",
       "      <td>...</td>\n",
       "    </tr>\n",
       "    <tr>\n",
       "      <th>4334</th>\n",
       "      <td>18280</td>\n",
       "      <td>180.60</td>\n",
       "      <td>1</td>\n",
       "      <td>277</td>\n",
       "    </tr>\n",
       "    <tr>\n",
       "      <th>4335</th>\n",
       "      <td>18281</td>\n",
       "      <td>80.82</td>\n",
       "      <td>1</td>\n",
       "      <td>180</td>\n",
       "    </tr>\n",
       "    <tr>\n",
       "      <th>4336</th>\n",
       "      <td>18282</td>\n",
       "      <td>178.05</td>\n",
       "      <td>2</td>\n",
       "      <td>7</td>\n",
       "    </tr>\n",
       "    <tr>\n",
       "      <th>4337</th>\n",
       "      <td>18283</td>\n",
       "      <td>2094.88</td>\n",
       "      <td>16</td>\n",
       "      <td>3</td>\n",
       "    </tr>\n",
       "    <tr>\n",
       "      <th>4338</th>\n",
       "      <td>18287</td>\n",
       "      <td>1837.28</td>\n",
       "      <td>3</td>\n",
       "      <td>42</td>\n",
       "    </tr>\n",
       "  </tbody>\n",
       "</table>\n",
       "<p>4339 rows × 4 columns</p>\n",
       "</div>"
      ],
      "text/plain": [
       "      customer_id  monetary  frequency  recency\n",
       "0           12346  77183.60          1      325\n",
       "1           12347   4310.00          7        2\n",
       "2           12348   1797.24          4       75\n",
       "3           12349   1757.55          1       18\n",
       "4           12350    334.40          1      310\n",
       "...           ...       ...        ...      ...\n",
       "4334        18280    180.60          1      277\n",
       "4335        18281     80.82          1      180\n",
       "4336        18282    178.05          2        7\n",
       "4337        18283   2094.88         16        3\n",
       "4338        18287   1837.28          3       42\n",
       "\n",
       "[4339 rows x 4 columns]"
      ]
     },
     "execution_count": 20,
     "metadata": {},
     "output_type": "execute_result"
    }
   ],
   "source": [
    "df_ref"
   ]
  },
  {
   "cell_type": "markdown",
   "id": "5922b1d0",
   "metadata": {},
   "source": [
    "# 3.0 VARIABLE FILTERING"
   ]
  },
  {
   "cell_type": "code",
   "execution_count": 21,
   "id": "83e0eb3d",
   "metadata": {
    "ExecuteTime": {
     "end_time": "2023-05-31T13:52:47.200843Z",
     "start_time": "2023-05-31T13:52:47.185815Z"
    }
   },
   "outputs": [],
   "source": [
    "df3 = df_ref.copy()"
   ]
  },
  {
   "cell_type": "markdown",
   "id": "5ada5a45",
   "metadata": {},
   "source": [
    "# 4.0 EDA (EXPLORATORY DATA ANALYSIS"
   ]
  },
  {
   "cell_type": "code",
   "execution_count": 22,
   "id": "b9939ec6",
   "metadata": {
    "ExecuteTime": {
     "end_time": "2023-05-31T13:52:47.216512Z",
     "start_time": "2023-05-31T13:52:47.201870Z"
    }
   },
   "outputs": [],
   "source": [
    "df4 = df3.copy()"
   ]
  },
  {
   "cell_type": "markdown",
   "id": "3022bc04",
   "metadata": {},
   "source": [
    "# 5.0 DATA PREPARATION"
   ]
  },
  {
   "cell_type": "code",
   "execution_count": 23,
   "id": "34bc26bd",
   "metadata": {
    "ExecuteTime": {
     "end_time": "2023-05-31T13:52:47.231929Z",
     "start_time": "2023-05-31T13:52:47.218749Z"
    }
   },
   "outputs": [],
   "source": [
    "df5 = df4.copy()"
   ]
  },
  {
   "cell_type": "markdown",
   "id": "1d94972c",
   "metadata": {},
   "source": [
    "# 6.0 FEATURE SELECTION"
   ]
  },
  {
   "cell_type": "code",
   "execution_count": 24,
   "id": "30463759",
   "metadata": {
    "ExecuteTime": {
     "end_time": "2023-05-31T13:52:47.247887Z",
     "start_time": "2023-05-31T13:52:47.232930Z"
    }
   },
   "outputs": [],
   "source": [
    "df6 = df5.copy()"
   ]
  },
  {
   "cell_type": "markdown",
   "id": "ae25b473",
   "metadata": {},
   "source": [
    "# 7.0 HYPERPARAMETER FINE TUNNING(Find Clusters)"
   ]
  },
  {
   "cell_type": "code",
   "execution_count": 25,
   "id": "e0249f77",
   "metadata": {
    "ExecuteTime": {
     "end_time": "2023-05-31T13:52:47.263729Z",
     "start_time": "2023-05-31T13:52:47.254650Z"
    }
   },
   "outputs": [],
   "source": [
    "X = df6.drop('customer_id', axis=1)"
   ]
  },
  {
   "cell_type": "code",
   "execution_count": 26,
   "id": "f7c16b67",
   "metadata": {
    "ExecuteTime": {
     "end_time": "2023-05-31T13:52:47.278933Z",
     "start_time": "2023-05-31T13:52:47.264796Z"
    }
   },
   "outputs": [
    {
     "data": {
      "text/plain": [
       "monetary     float64\n",
       "frequency      int64\n",
       "recency        int64\n",
       "dtype: object"
      ]
     },
     "execution_count": 26,
     "metadata": {},
     "output_type": "execute_result"
    }
   ],
   "source": [
    "X.dtypes"
   ]
  },
  {
   "cell_type": "code",
   "execution_count": 36,
   "id": "a0007509",
   "metadata": {
    "ExecuteTime": {
     "end_time": "2023-05-31T14:15:11.611212Z",
     "start_time": "2023-05-31T14:15:11.602080Z"
    }
   },
   "outputs": [],
   "source": [
    "clusters = np.arange(1,11,1)"
   ]
  },
  {
   "cell_type": "code",
   "execution_count": 28,
   "id": "eb1a1863",
   "metadata": {
    "ExecuteTime": {
     "end_time": "2023-05-31T13:52:47.309654Z",
     "start_time": "2023-05-31T13:52:47.296112Z"
    }
   },
   "outputs": [
    {
     "data": {
      "text/plain": [
       "array([ 1,  2,  3,  4,  5,  6,  7,  8,  9, 10])"
      ]
     },
     "execution_count": 28,
     "metadata": {},
     "output_type": "execute_result"
    }
   ],
   "source": [
    "clusters"
   ]
  },
  {
   "cell_type": "markdown",
   "id": "e723b816",
   "metadata": {},
   "source": [
    "## 7.1 Within-Cluster Sum of Square(WSS)"
   ]
  },
  {
   "cell_type": "code",
   "execution_count": 29,
   "id": "9ab43ea1",
   "metadata": {
    "ExecuteTime": {
     "end_time": "2023-05-31T13:52:50.948453Z",
     "start_time": "2023-05-31T13:52:47.310660Z"
    },
    "cell_style": "center"
   },
   "outputs": [
    {
     "data": {
      "text/plain": [
       "Text(0.5, 1.0, 'WSS vs K')"
      ]
     },
     "execution_count": 29,
     "metadata": {},
     "output_type": "execute_result"
    },
    {
     "data": {
      "image/png": "[encoded data removed]",
      "text/plain": [
       "<Figure size 800x550 with 1 Axes>"
      ]
     },
     "metadata": {},
     "output_type": "display_data"
    }
   ],
   "source": [
    "wss = []\n",
    "\n",
    "for k in clusters:\n",
    "    #model definition\n",
    "    kmeans = c.KMeans(n_clusters=k)\n",
    "    \n",
    "    #model training\n",
    "    kmeans.fit(X)\n",
    "    \n",
    "    #validation\n",
    "    wss.append(kmeans.inertia_)\n",
    "\n",
    "#plot wws - Elbow Method\n",
    "plt.plot(clusters, wss, linestyle='--', marker='o', color='b')\n",
    "plt.xlabel('K');\n",
    "plt.ylabel('WSS')\n",
    "plt.title('WSS vs K')"
   ]
  },
  {
   "cell_type": "markdown",
   "id": "a76d758d",
   "metadata": {},
   "source": [
    "## 7.2 Silhouette vs Elbow Analysis"
   ]
  },
  {
   "cell_type": "code",
   "execution_count": 37,
   "id": "e71f5676",
   "metadata": {
    "ExecuteTime": {
     "end_time": "2023-05-31T14:15:18.419764Z",
     "start_time": "2023-05-31T14:15:14.849790Z"
    },
    "cell_style": "split",
    "scrolled": false
   },
   "outputs": [
    {
     "data": {
      "image/png": "[encoded data removed]",
      "text/plain": [
       "<Figure size 800x550 with 1 Axes>"
      ]
     },
     "metadata": {},
     "output_type": "display_data"
    }
   ],
   "source": [
    "kmeans = KElbowVisualizer(c.KMeans(), k=clusters, timings=False)\n",
    "kmeans.fit(X)\n",
    "kmeans.show();"
   ]
  },
  {
   "cell_type": "code",
   "execution_count": 34,
   "id": "73972c91",
   "metadata": {
    "ExecuteTime": {
     "end_time": "2023-05-31T14:15:04.197251Z",
     "start_time": "2023-05-31T14:15:04.183103Z"
    },
    "cell_style": "split",
    "hide_input": true
   },
   "outputs": [],
   "source": [
    "clusters = np.arange(2,11,1)"
   ]
  },
  {
   "cell_type": "code",
   "execution_count": 35,
   "id": "57854718",
   "metadata": {
    "ExecuteTime": {
     "end_time": "2023-05-31T14:15:10.005621Z",
     "start_time": "2023-05-31T14:15:04.588969Z"
    },
    "cell_style": "split"
   },
   "outputs": [
    {
     "data": {
      "image/png": "[encoded data removed]",
      "text/plain": [
       "<Figure size 800x550 with 1 Axes>"
      ]
     },
     "metadata": {},
     "output_type": "display_data"
    }
   ],
   "source": [
    "kmeans = KElbowVisualizer(c.KMeans(), k=clusters, timings=False, metric='silhouette')\n",
    "kmeans.fit(X)\n",
    "kmeans.show();"
   ]
  },
  {
   "cell_type": "markdown",
   "id": "d63898a8",
   "metadata": {},
   "source": [
    "O Elbow Method Considera apenas as distâncias entre o próprio cluster, então o valor k=3 no gráfico da esquerda me mostra que esse é o valor em que o KMeans divide eles da forma mais densa possível. A Silhouette é mais completa, ela me mostra o valor em que os clusters são densos e separados um do outro."
   ]
  },
  {
   "cell_type": "code",
   "execution_count": null,
   "id": "11b0683d",
   "metadata": {},
   "outputs": [],
   "source": []
  },
  {
   "cell_type": "markdown",
   "id": "a8401e99",
   "metadata": {},
   "source": [
    "# 8.0 MODEL TRAINING"
   ]
  },
  {
   "cell_type": "markdown",
   "id": "b9a9be23",
   "metadata": {},
   "source": [
    "## 8.1 K-Means"
   ]
  },
  {
   "cell_type": "code",
   "execution_count": 45,
   "id": "3777db4f",
   "metadata": {
    "ExecuteTime": {
     "end_time": "2023-05-31T15:47:37.734026Z",
     "start_time": "2023-05-31T15:47:37.403731Z"
    }
   },
   "outputs": [],
   "source": [
    "k = 3 \n",
    "#definition\n",
    "kmeans = c.KMeans(n_clusters=3, init='random', n_init=10, max_iter=300, random_state=42)\n",
    "\n",
    "#training\n",
    "kmeans.fit(X)\n",
    "\n",
    "#clusters\n",
    "labels = kmeans.labels_"
   ]
  },
  {
   "cell_type": "code",
   "execution_count": 46,
   "id": "715c8773",
   "metadata": {
    "ExecuteTime": {
     "end_time": "2023-05-31T15:47:39.378227Z",
     "start_time": "2023-05-31T15:47:39.119231Z"
    }
   },
   "outputs": [
    {
     "name": "stdout",
     "output_type": "stream",
     "text": [
      "WSS Score: 55830602392.115\n",
      "SS Score: 0.954\n"
     ]
    }
   ],
   "source": [
    "#WSS\n",
    "print(f'WSS Score: {kmeans.inertia_:.3f}')\n",
    "\n",
    "print(f'SS Score: {mt.silhouette_score(X, labels):.3f}')"
   ]
  },
  {
   "cell_type": "markdown",
   "id": "e3537d96",
   "metadata": {},
   "source": [
    "# 9.0 CLUSTER ANALYSIS"
   ]
  },
  {
   "cell_type": "code",
   "execution_count": null,
   "id": "760212d1",
   "metadata": {},
   "outputs": [],
   "source": []
  },
  {
   "cell_type": "markdown",
   "id": "f100bdf1",
   "metadata": {},
   "source": [
    "# 10.0 DEPLOY "
   ]
  },
  {
   "cell_type": "code",
   "execution_count": null,
   "id": "d7b6b6e5",
   "metadata": {},
   "outputs": [],
   "source": []
  },
  {
   "cell_type": "code",
   "execution_count": null,
   "id": "329e3fff",
   "metadata": {},
   "outputs": [],
   "source": []
  },
  {
   "cell_type": "code",
   "execution_count": null,
   "id": "5e9d9cdd",
   "metadata": {},
   "outputs": [],
   "source": []
  },
  {
   "cell_type": "code",
   "execution_count": null,
   "id": "4f00bd81",
   "metadata": {},
   "outputs": [],
   "source": []
  },
  {
   "cell_type": "code",
   "execution_count": null,
   "id": "37bdc5f3",
   "metadata": {},
   "outputs": [],
   "source": []
  }
 ],
 "metadata": {
  "kernelspec": {
   "display_name": "Python 3 (ipykernel)",
   "language": "python",
   "name": "python3"
  },
  "language_info": {
   "codemirror_mode": {
    "name": "ipython",
    "version": 3
   },
   "file_extension": ".py",
   "mimetype": "text/x-python",
   "name": "python",
   "nbconvert_exporter": "python",
   "pygments_lexer": "ipython3",
   "version": "3.10.11"
  },
  "varInspector": {
   "cols": {
    "lenName": 16,
    "lenType": 16,
    "lenVar": 40
   },
   "kernels_config": {
    "python": {
     "delete_cmd_postfix": "",
     "delete_cmd_prefix": "del ",
     "library": "var_list.py",
     "varRefreshCmd": "print(var_dic_list())"
    },
    "r": {
     "delete_cmd_postfix": ") ",
     "delete_cmd_prefix": "rm(",
     "library": "var_list.r",
     "varRefreshCmd": "cat(var_dic_list()) "
    }
   },
   "types_to_exclude": [
    "module",
    "function",
    "builtin_function_or_method",
    "instance",
    "_Feature"
   ],
   "window_display": false
  }
 },
 "nbformat": 4,
 "nbformat_minor": 5
}
