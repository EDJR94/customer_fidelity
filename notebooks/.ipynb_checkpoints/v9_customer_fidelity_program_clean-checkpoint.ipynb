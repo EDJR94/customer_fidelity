{
 "cells": [
  {
   "cell_type": "markdown",
   "id": "be553885",
   "metadata": {},
   "source": [
    "# 0.0 IMPORTS"
   ]
  },
  {
   "cell_type": "code",
   "execution_count": 80,
   "id": "593a5dbd",
   "metadata": {
    "ExecuteTime": {
     "end_time": "2023-06-22T17:33:17.570208Z",
     "start_time": "2023-06-22T17:33:17.560698Z"
    }
   },
   "outputs": [],
   "source": [
    "import pandas   as pd\n",
    "import numpy    as np\n",
    "import seaborn  as sns\n",
    "import inflection\n",
    "import warnings\n",
    "import re\n",
    "import umap.umap_ as umap\n",
    "import matplotlib.cm as cm\n",
    "import datetime\n",
    "\n",
    "from matplotlib    import pyplot     as plt\n",
    "from plotly        import express    as px\n",
    "from scipy.cluster import hierarchy  as hc\n",
    "\n",
    "\n",
    "from sklearn             import cluster       as c\n",
    "from sklearn             import metrics       as mt\n",
    "from sklearn             import preprocessing as pp\n",
    "from sklearn             import decomposition as dd\n",
    "from sklearn.manifold    import TSNE\n",
    "from sklearn             import ensemble      as en\n",
    "from sklearn.mixture     import GaussianMixture\n",
    "\n",
    "warnings.filterwarnings('ignore')"
   ]
  },
  {
   "cell_type": "markdown",
   "id": "2f34031b",
   "metadata": {},
   "source": [
    "## 0.2 Loading Data"
   ]
  },
  {
   "cell_type": "code",
   "execution_count": 2,
   "id": "a9408282",
   "metadata": {
    "ExecuteTime": {
     "end_time": "2023-06-22T15:26:43.940824Z",
     "start_time": "2023-06-22T15:26:43.927920Z"
    }
   },
   "outputs": [],
   "source": [
    "path = 'C:/Users/edils/repos/customer_fidelity/data/'"
   ]
  },
  {
   "cell_type": "code",
   "execution_count": 3,
   "id": "8d8b8f41",
   "metadata": {
    "ExecuteTime": {
     "end_time": "2023-06-22T15:26:44.376818Z",
     "start_time": "2023-06-22T15:26:43.942334Z"
    }
   },
   "outputs": [],
   "source": [
    "df_raw = pd.read_csv(path + 'ecommerce.csv', encoding='windows-1252')"
   ]
  },
  {
   "cell_type": "code",
   "execution_count": 4,
   "id": "a6d1f054",
   "metadata": {
    "ExecuteTime": {
     "end_time": "2023-06-22T15:26:44.407669Z",
     "start_time": "2023-06-22T15:26:44.378856Z"
    }
   },
   "outputs": [],
   "source": [
    "df_raw = df_raw.drop('Unnamed: 8', axis=1)"
   ]
  },
  {
   "cell_type": "code",
   "execution_count": 5,
   "id": "1e5ca772",
   "metadata": {
    "ExecuteTime": {
     "end_time": "2023-06-22T15:26:44.423393Z",
     "start_time": "2023-06-22T15:26:44.408679Z"
    }
   },
   "outputs": [
    {
     "data": {
      "text/html": [
       "<div>\n",
       "<style scoped>\n",
       "    .dataframe tbody tr th:only-of-type {\n",
       "        vertical-align: middle;\n",
       "    }\n",
       "\n",
       "    .dataframe tbody tr th {\n",
       "        vertical-align: top;\n",
       "    }\n",
       "\n",
       "    .dataframe thead th {\n",
       "        text-align: right;\n",
       "    }\n",
       "</style>\n",
       "<table border=\"1\" class=\"dataframe\">\n",
       "  <thead>\n",
       "    <tr style=\"text-align: right;\">\n",
       "      <th></th>\n",
       "      <th>InvoiceNo</th>\n",
       "      <th>StockCode</th>\n",
       "      <th>Description</th>\n",
       "      <th>Quantity</th>\n",
       "      <th>InvoiceDate</th>\n",
       "      <th>UnitPrice</th>\n",
       "      <th>CustomerID</th>\n",
       "      <th>Country</th>\n",
       "    </tr>\n",
       "  </thead>\n",
       "  <tbody>\n",
       "    <tr>\n",
       "      <th>0</th>\n",
       "      <td>536365</td>\n",
       "      <td>85123A</td>\n",
       "      <td>WHITE HANGING HEART T-LIGHT HOLDER</td>\n",
       "      <td>6</td>\n",
       "      <td>29-Nov-16</td>\n",
       "      <td>2.55</td>\n",
       "      <td>17850.0</td>\n",
       "      <td>United Kingdom</td>\n",
       "    </tr>\n",
       "    <tr>\n",
       "      <th>1</th>\n",
       "      <td>536365</td>\n",
       "      <td>71053</td>\n",
       "      <td>WHITE METAL LANTERN</td>\n",
       "      <td>6</td>\n",
       "      <td>29-Nov-16</td>\n",
       "      <td>3.39</td>\n",
       "      <td>17850.0</td>\n",
       "      <td>United Kingdom</td>\n",
       "    </tr>\n",
       "    <tr>\n",
       "      <th>2</th>\n",
       "      <td>536365</td>\n",
       "      <td>84406B</td>\n",
       "      <td>CREAM CUPID HEARTS COAT HANGER</td>\n",
       "      <td>8</td>\n",
       "      <td>29-Nov-16</td>\n",
       "      <td>2.75</td>\n",
       "      <td>17850.0</td>\n",
       "      <td>United Kingdom</td>\n",
       "    </tr>\n",
       "    <tr>\n",
       "      <th>3</th>\n",
       "      <td>536365</td>\n",
       "      <td>84029G</td>\n",
       "      <td>KNITTED UNION FLAG HOT WATER BOTTLE</td>\n",
       "      <td>6</td>\n",
       "      <td>29-Nov-16</td>\n",
       "      <td>3.39</td>\n",
       "      <td>17850.0</td>\n",
       "      <td>United Kingdom</td>\n",
       "    </tr>\n",
       "    <tr>\n",
       "      <th>4</th>\n",
       "      <td>536365</td>\n",
       "      <td>84029E</td>\n",
       "      <td>RED WOOLLY HOTTIE WHITE HEART.</td>\n",
       "      <td>6</td>\n",
       "      <td>29-Nov-16</td>\n",
       "      <td>3.39</td>\n",
       "      <td>17850.0</td>\n",
       "      <td>United Kingdom</td>\n",
       "    </tr>\n",
       "  </tbody>\n",
       "</table>\n",
       "</div>"
      ],
      "text/plain": [
       "  InvoiceNo StockCode                          Description  Quantity  \\\n",
       "0    536365    85123A   WHITE HANGING HEART T-LIGHT HOLDER         6   \n",
       "1    536365     71053                  WHITE METAL LANTERN         6   \n",
       "2    536365    84406B       CREAM CUPID HEARTS COAT HANGER         8   \n",
       "3    536365    84029G  KNITTED UNION FLAG HOT WATER BOTTLE         6   \n",
       "4    536365    84029E       RED WOOLLY HOTTIE WHITE HEART.         6   \n",
       "\n",
       "  InvoiceDate  UnitPrice  CustomerID         Country  \n",
       "0   29-Nov-16       2.55     17850.0  United Kingdom  \n",
       "1   29-Nov-16       3.39     17850.0  United Kingdom  \n",
       "2   29-Nov-16       2.75     17850.0  United Kingdom  \n",
       "3   29-Nov-16       3.39     17850.0  United Kingdom  \n",
       "4   29-Nov-16       3.39     17850.0  United Kingdom  "
      ]
     },
     "execution_count": 5,
     "metadata": {},
     "output_type": "execute_result"
    }
   ],
   "source": [
    "df_raw.head()"
   ]
  },
  {
   "cell_type": "markdown",
   "id": "b8105035",
   "metadata": {},
   "source": [
    "# 1.0 DATA DESCRIPTION"
   ]
  },
  {
   "cell_type": "code",
   "execution_count": 6,
   "id": "90655a19",
   "metadata": {
    "ExecuteTime": {
     "end_time": "2023-06-22T15:26:44.438851Z",
     "start_time": "2023-06-22T15:26:44.424405Z"
    }
   },
   "outputs": [],
   "source": [
    "df1 = df_raw.copy()"
   ]
  },
  {
   "cell_type": "code",
   "execution_count": 7,
   "id": "fbaf3b4b",
   "metadata": {
    "ExecuteTime": {
     "end_time": "2023-06-22T15:26:44.454025Z",
     "start_time": "2023-06-22T15:26:44.440883Z"
    }
   },
   "outputs": [
    {
     "data": {
      "text/html": [
       "<div>\n",
       "<style scoped>\n",
       "    .dataframe tbody tr th:only-of-type {\n",
       "        vertical-align: middle;\n",
       "    }\n",
       "\n",
       "    .dataframe tbody tr th {\n",
       "        vertical-align: top;\n",
       "    }\n",
       "\n",
       "    .dataframe thead th {\n",
       "        text-align: right;\n",
       "    }\n",
       "</style>\n",
       "<table border=\"1\" class=\"dataframe\">\n",
       "  <thead>\n",
       "    <tr style=\"text-align: right;\">\n",
       "      <th></th>\n",
       "      <th>InvoiceNo</th>\n",
       "      <th>StockCode</th>\n",
       "      <th>Description</th>\n",
       "      <th>Quantity</th>\n",
       "      <th>InvoiceDate</th>\n",
       "      <th>UnitPrice</th>\n",
       "      <th>CustomerID</th>\n",
       "      <th>Country</th>\n",
       "    </tr>\n",
       "  </thead>\n",
       "  <tbody>\n",
       "    <tr>\n",
       "      <th>0</th>\n",
       "      <td>536365</td>\n",
       "      <td>85123A</td>\n",
       "      <td>WHITE HANGING HEART T-LIGHT HOLDER</td>\n",
       "      <td>6</td>\n",
       "      <td>29-Nov-16</td>\n",
       "      <td>2.55</td>\n",
       "      <td>17850.0</td>\n",
       "      <td>United Kingdom</td>\n",
       "    </tr>\n",
       "    <tr>\n",
       "      <th>1</th>\n",
       "      <td>536365</td>\n",
       "      <td>71053</td>\n",
       "      <td>WHITE METAL LANTERN</td>\n",
       "      <td>6</td>\n",
       "      <td>29-Nov-16</td>\n",
       "      <td>3.39</td>\n",
       "      <td>17850.0</td>\n",
       "      <td>United Kingdom</td>\n",
       "    </tr>\n",
       "    <tr>\n",
       "      <th>2</th>\n",
       "      <td>536365</td>\n",
       "      <td>84406B</td>\n",
       "      <td>CREAM CUPID HEARTS COAT HANGER</td>\n",
       "      <td>8</td>\n",
       "      <td>29-Nov-16</td>\n",
       "      <td>2.75</td>\n",
       "      <td>17850.0</td>\n",
       "      <td>United Kingdom</td>\n",
       "    </tr>\n",
       "    <tr>\n",
       "      <th>3</th>\n",
       "      <td>536365</td>\n",
       "      <td>84029G</td>\n",
       "      <td>KNITTED UNION FLAG HOT WATER BOTTLE</td>\n",
       "      <td>6</td>\n",
       "      <td>29-Nov-16</td>\n",
       "      <td>3.39</td>\n",
       "      <td>17850.0</td>\n",
       "      <td>United Kingdom</td>\n",
       "    </tr>\n",
       "    <tr>\n",
       "      <th>4</th>\n",
       "      <td>536365</td>\n",
       "      <td>84029E</td>\n",
       "      <td>RED WOOLLY HOTTIE WHITE HEART.</td>\n",
       "      <td>6</td>\n",
       "      <td>29-Nov-16</td>\n",
       "      <td>3.39</td>\n",
       "      <td>17850.0</td>\n",
       "      <td>United Kingdom</td>\n",
       "    </tr>\n",
       "  </tbody>\n",
       "</table>\n",
       "</div>"
      ],
      "text/plain": [
       "  InvoiceNo StockCode                          Description  Quantity  \\\n",
       "0    536365    85123A   WHITE HANGING HEART T-LIGHT HOLDER         6   \n",
       "1    536365     71053                  WHITE METAL LANTERN         6   \n",
       "2    536365    84406B       CREAM CUPID HEARTS COAT HANGER         8   \n",
       "3    536365    84029G  KNITTED UNION FLAG HOT WATER BOTTLE         6   \n",
       "4    536365    84029E       RED WOOLLY HOTTIE WHITE HEART.         6   \n",
       "\n",
       "  InvoiceDate  UnitPrice  CustomerID         Country  \n",
       "0   29-Nov-16       2.55     17850.0  United Kingdom  \n",
       "1   29-Nov-16       3.39     17850.0  United Kingdom  \n",
       "2   29-Nov-16       2.75     17850.0  United Kingdom  \n",
       "3   29-Nov-16       3.39     17850.0  United Kingdom  \n",
       "4   29-Nov-16       3.39     17850.0  United Kingdom  "
      ]
     },
     "execution_count": 7,
     "metadata": {},
     "output_type": "execute_result"
    }
   ],
   "source": [
    "df1.head()"
   ]
  },
  {
   "cell_type": "markdown",
   "id": "65817ca0",
   "metadata": {},
   "source": [
    "## 1.1 Rename Columns"
   ]
  },
  {
   "cell_type": "code",
   "execution_count": 8,
   "id": "08b15123",
   "metadata": {
    "ExecuteTime": {
     "end_time": "2023-06-22T15:26:44.470032Z",
     "start_time": "2023-06-22T15:26:44.455067Z"
    }
   },
   "outputs": [],
   "source": [
    "df1.columns = df1.columns.map(lambda x: inflection.underscore(x))"
   ]
  },
  {
   "cell_type": "markdown",
   "id": "4b16e150",
   "metadata": {},
   "source": [
    "## 1.2 Data Dimensions"
   ]
  },
  {
   "cell_type": "code",
   "execution_count": 9,
   "id": "2e6f1a12",
   "metadata": {
    "ExecuteTime": {
     "end_time": "2023-06-22T15:26:44.485280Z",
     "start_time": "2023-06-22T15:26:44.471035Z"
    }
   },
   "outputs": [
    {
     "data": {
      "text/plain": [
       "(541909, 8)"
      ]
     },
     "execution_count": 9,
     "metadata": {},
     "output_type": "execute_result"
    }
   ],
   "source": [
    "df1.shape"
   ]
  },
  {
   "cell_type": "markdown",
   "id": "94d5281a",
   "metadata": {},
   "source": [
    "## 1.3 Data Types"
   ]
  },
  {
   "cell_type": "code",
   "execution_count": 10,
   "id": "6b312fa9",
   "metadata": {
    "ExecuteTime": {
     "end_time": "2023-06-22T15:26:44.501232Z",
     "start_time": "2023-06-22T15:26:44.488370Z"
    }
   },
   "outputs": [
    {
     "data": {
      "text/plain": [
       "invoice_no       object\n",
       "stock_code       object\n",
       "description      object\n",
       "quantity          int64\n",
       "invoice_date     object\n",
       "unit_price      float64\n",
       "customer_id     float64\n",
       "country          object\n",
       "dtype: object"
      ]
     },
     "execution_count": 10,
     "metadata": {},
     "output_type": "execute_result"
    }
   ],
   "source": [
    "df1.dtypes"
   ]
  },
  {
   "cell_type": "markdown",
   "id": "6cef345d",
   "metadata": {},
   "source": [
    "## 1.4 Check NA"
   ]
  },
  {
   "cell_type": "code",
   "execution_count": 11,
   "id": "0ca201d8",
   "metadata": {
    "ExecuteTime": {
     "end_time": "2023-06-22T15:26:44.702402Z",
     "start_time": "2023-06-22T15:26:44.503301Z"
    }
   },
   "outputs": [
    {
     "data": {
      "text/plain": [
       "invoice_no           0\n",
       "stock_code           0\n",
       "description       1454\n",
       "quantity             0\n",
       "invoice_date         0\n",
       "unit_price           0\n",
       "customer_id     135080\n",
       "country              0\n",
       "dtype: int64"
      ]
     },
     "execution_count": 11,
     "metadata": {},
     "output_type": "execute_result"
    }
   ],
   "source": [
    "df1.isna().sum()"
   ]
  },
  {
   "cell_type": "markdown",
   "id": "2876576c",
   "metadata": {},
   "source": [
    "## 1.5 Replace NA"
   ]
  },
  {
   "cell_type": "code",
   "execution_count": 12,
   "id": "34a87ef4",
   "metadata": {
    "ExecuteTime": {
     "end_time": "2023-06-22T15:26:44.718047Z",
     "start_time": "2023-06-22T15:26:44.703417Z"
    }
   },
   "outputs": [],
   "source": [
    "df_missing = df1.loc[pd.isnull(df1['customer_id']),:]"
   ]
  },
  {
   "cell_type": "code",
   "execution_count": 13,
   "id": "d7ea6abe",
   "metadata": {
    "ExecuteTime": {
     "end_time": "2023-06-22T15:26:44.857563Z",
     "start_time": "2023-06-22T15:26:44.719083Z"
    }
   },
   "outputs": [],
   "source": [
    "#create reference\n",
    "df_backup = pd.DataFrame(df_missing['invoice_no'].drop_duplicates())\n",
    "df_backup['customer_id'] = np.arange(19000, 19000+len(df_backup),1)\n",
    "\n",
    "#merge\n",
    "df1 = pd.merge(df1, df_backup, on='invoice_no', how='left')\n",
    "\n",
    "#coalesce - combina o que tem NaN em uma coluna com o que não tem em outra\n",
    "df1['customer_id'] = df1['customer_id_x'].combine_first(df1['customer_id_y'])\n",
    "\n",
    "#drop extra columns\n",
    "df1 = df1.drop(['customer_id_x','customer_id_y'], axis=1)"
   ]
  },
  {
   "cell_type": "markdown",
   "id": "501ca33c",
   "metadata": {},
   "source": [
    "## 1.6 Change Types"
   ]
  },
  {
   "cell_type": "code",
   "execution_count": 14,
   "id": "c19552d6",
   "metadata": {
    "ExecuteTime": {
     "end_time": "2023-06-22T15:26:44.918909Z",
     "start_time": "2023-06-22T15:26:44.858564Z"
    }
   },
   "outputs": [],
   "source": [
    "df1['invoice_date'] = pd.to_datetime(df1['invoice_date'])"
   ]
  },
  {
   "cell_type": "markdown",
   "id": "2a91b005",
   "metadata": {},
   "source": [
    "## 1.7 Descriptive Statistics"
   ]
  },
  {
   "cell_type": "code",
   "execution_count": 15,
   "id": "abac0617",
   "metadata": {
    "ExecuteTime": {
     "end_time": "2023-06-22T15:26:44.966275Z",
     "start_time": "2023-06-22T15:26:44.920010Z"
    }
   },
   "outputs": [],
   "source": [
    "numerical_attributes = df1.select_dtypes(include=['float64', 'int64', 'datetime64[ns]'])\n",
    "categorical_atributtes = df1.select_dtypes(exclude=['float64', 'int64', 'datetime64[ns]'])"
   ]
  },
  {
   "cell_type": "markdown",
   "id": "c7494683",
   "metadata": {},
   "source": [
    "## 1.7.1 Numerical Analysis"
   ]
  },
  {
   "cell_type": "code",
   "execution_count": 16,
   "id": "992da35c",
   "metadata": {
    "ExecuteTime": {
     "end_time": "2023-06-22T15:26:47.072555Z",
     "start_time": "2023-06-22T15:26:44.967278Z"
    }
   },
   "outputs": [],
   "source": [
    "disp = numerical_attributes.agg(['mean','median','std','min','max',lambda x: max(x) - min(x), 'skew', 'kurtosis']).T.rename(columns={'<lambda>':'range'})"
   ]
  },
  {
   "cell_type": "code",
   "execution_count": 17,
   "id": "1d62e6b5",
   "metadata": {
    "ExecuteTime": {
     "end_time": "2023-06-22T15:26:47.103271Z",
     "start_time": "2023-06-22T15:26:47.073571Z"
    }
   },
   "outputs": [
    {
     "data": {
      "text/html": [
       "<div>\n",
       "<style scoped>\n",
       "    .dataframe tbody tr th:only-of-type {\n",
       "        vertical-align: middle;\n",
       "    }\n",
       "\n",
       "    .dataframe tbody tr th {\n",
       "        vertical-align: top;\n",
       "    }\n",
       "\n",
       "    .dataframe thead th {\n",
       "        text-align: right;\n",
       "    }\n",
       "</style>\n",
       "<table border=\"1\" class=\"dataframe\">\n",
       "  <thead>\n",
       "    <tr style=\"text-align: right;\">\n",
       "      <th></th>\n",
       "      <th>mean</th>\n",
       "      <th>median</th>\n",
       "      <th>std</th>\n",
       "      <th>min</th>\n",
       "      <th>max</th>\n",
       "      <th>range</th>\n",
       "      <th>skew</th>\n",
       "      <th>kurtosis</th>\n",
       "    </tr>\n",
       "  </thead>\n",
       "  <tbody>\n",
       "    <tr>\n",
       "      <th>quantity</th>\n",
       "      <td>9.55225</td>\n",
       "      <td>3.0</td>\n",
       "      <td>218.081158</td>\n",
       "      <td>-80995.0</td>\n",
       "      <td>80995.0</td>\n",
       "      <td>161990.0</td>\n",
       "      <td>-0.264076</td>\n",
       "      <td>119769.160031</td>\n",
       "    </tr>\n",
       "    <tr>\n",
       "      <th>invoice_date</th>\n",
       "      <td>2017-07-02 00:00:13.073782016</td>\n",
       "      <td>2017-07-17 00:00:00</td>\n",
       "      <td>115 days 21:02:59.177457004</td>\n",
       "      <td>2016-11-29 00:00:00</td>\n",
       "      <td>2017-12-07 00:00:00</td>\n",
       "      <td>373 days 00:00:00</td>\n",
       "      <td>NaN</td>\n",
       "      <td>NaN</td>\n",
       "    </tr>\n",
       "    <tr>\n",
       "      <th>unit_price</th>\n",
       "      <td>4.611114</td>\n",
       "      <td>2.08</td>\n",
       "      <td>96.759853</td>\n",
       "      <td>-11062.06</td>\n",
       "      <td>38970.0</td>\n",
       "      <td>50032.06</td>\n",
       "      <td>186.506972</td>\n",
       "      <td>59005.719097</td>\n",
       "    </tr>\n",
       "    <tr>\n",
       "      <th>customer_id</th>\n",
       "      <td>16688.840453</td>\n",
       "      <td>16249.0</td>\n",
       "      <td>2911.411352</td>\n",
       "      <td>12346.0</td>\n",
       "      <td>22709.0</td>\n",
       "      <td>10363.0</td>\n",
       "      <td>0.487449</td>\n",
       "      <td>-0.804287</td>\n",
       "    </tr>\n",
       "  </tbody>\n",
       "</table>\n",
       "</div>"
      ],
      "text/plain": [
       "                                       mean               median  \\\n",
       "quantity                            9.55225                  3.0   \n",
       "invoice_date  2017-07-02 00:00:13.073782016  2017-07-17 00:00:00   \n",
       "unit_price                         4.611114                 2.08   \n",
       "customer_id                    16688.840453              16249.0   \n",
       "\n",
       "                                      std                  min  \\\n",
       "quantity                       218.081158             -80995.0   \n",
       "invoice_date  115 days 21:02:59.177457004  2016-11-29 00:00:00   \n",
       "unit_price                      96.759853            -11062.06   \n",
       "customer_id                   2911.411352              12346.0   \n",
       "\n",
       "                              max              range        skew  \\\n",
       "quantity                  80995.0           161990.0   -0.264076   \n",
       "invoice_date  2017-12-07 00:00:00  373 days 00:00:00         NaN   \n",
       "unit_price                38970.0           50032.06  186.506972   \n",
       "customer_id               22709.0            10363.0    0.487449   \n",
       "\n",
       "                   kurtosis  \n",
       "quantity      119769.160031  \n",
       "invoice_date            NaN  \n",
       "unit_price     59005.719097  \n",
       "customer_id       -0.804287  "
      ]
     },
     "execution_count": 17,
     "metadata": {},
     "output_type": "execute_result"
    }
   ],
   "source": [
    "disp"
   ]
  },
  {
   "cell_type": "markdown",
   "id": "e4c02951",
   "metadata": {},
   "source": [
    "Podemos ver que existes dados grandes e negativos em 'quantity'e também produtos igual a 0.0 em unit_price"
   ]
  },
  {
   "cell_type": "markdown",
   "id": "2ec3a79e",
   "metadata": {},
   "source": [
    "## 1.7.2 Categorical Atributtes"
   ]
  },
  {
   "cell_type": "code",
   "execution_count": 18,
   "id": "c4fc90a4",
   "metadata": {
    "ExecuteTime": {
     "end_time": "2023-06-22T15:26:47.118992Z",
     "start_time": "2023-06-22T15:26:47.105300Z"
    }
   },
   "outputs": [
    {
     "data": {
      "text/html": [
       "<div>\n",
       "<style scoped>\n",
       "    .dataframe tbody tr th:only-of-type {\n",
       "        vertical-align: middle;\n",
       "    }\n",
       "\n",
       "    .dataframe tbody tr th {\n",
       "        vertical-align: top;\n",
       "    }\n",
       "\n",
       "    .dataframe thead th {\n",
       "        text-align: right;\n",
       "    }\n",
       "</style>\n",
       "<table border=\"1\" class=\"dataframe\">\n",
       "  <thead>\n",
       "    <tr style=\"text-align: right;\">\n",
       "      <th></th>\n",
       "      <th>invoice_no</th>\n",
       "      <th>stock_code</th>\n",
       "      <th>description</th>\n",
       "      <th>country</th>\n",
       "    </tr>\n",
       "  </thead>\n",
       "  <tbody>\n",
       "    <tr>\n",
       "      <th>0</th>\n",
       "      <td>536365</td>\n",
       "      <td>85123A</td>\n",
       "      <td>WHITE HANGING HEART T-LIGHT HOLDER</td>\n",
       "      <td>United Kingdom</td>\n",
       "    </tr>\n",
       "    <tr>\n",
       "      <th>1</th>\n",
       "      <td>536365</td>\n",
       "      <td>71053</td>\n",
       "      <td>WHITE METAL LANTERN</td>\n",
       "      <td>United Kingdom</td>\n",
       "    </tr>\n",
       "    <tr>\n",
       "      <th>2</th>\n",
       "      <td>536365</td>\n",
       "      <td>84406B</td>\n",
       "      <td>CREAM CUPID HEARTS COAT HANGER</td>\n",
       "      <td>United Kingdom</td>\n",
       "    </tr>\n",
       "    <tr>\n",
       "      <th>3</th>\n",
       "      <td>536365</td>\n",
       "      <td>84029G</td>\n",
       "      <td>KNITTED UNION FLAG HOT WATER BOTTLE</td>\n",
       "      <td>United Kingdom</td>\n",
       "    </tr>\n",
       "    <tr>\n",
       "      <th>4</th>\n",
       "      <td>536365</td>\n",
       "      <td>84029E</td>\n",
       "      <td>RED WOOLLY HOTTIE WHITE HEART.</td>\n",
       "      <td>United Kingdom</td>\n",
       "    </tr>\n",
       "    <tr>\n",
       "      <th>...</th>\n",
       "      <td>...</td>\n",
       "      <td>...</td>\n",
       "      <td>...</td>\n",
       "      <td>...</td>\n",
       "    </tr>\n",
       "    <tr>\n",
       "      <th>541904</th>\n",
       "      <td>581587</td>\n",
       "      <td>22613</td>\n",
       "      <td>PACK OF 20 SPACEBOY NAPKINS</td>\n",
       "      <td>France</td>\n",
       "    </tr>\n",
       "    <tr>\n",
       "      <th>541905</th>\n",
       "      <td>581587</td>\n",
       "      <td>22899</td>\n",
       "      <td>CHILDREN'S APRON DOLLY GIRL</td>\n",
       "      <td>France</td>\n",
       "    </tr>\n",
       "    <tr>\n",
       "      <th>541906</th>\n",
       "      <td>581587</td>\n",
       "      <td>23254</td>\n",
       "      <td>CHILDRENS CUTLERY DOLLY GIRL</td>\n",
       "      <td>France</td>\n",
       "    </tr>\n",
       "    <tr>\n",
       "      <th>541907</th>\n",
       "      <td>581587</td>\n",
       "      <td>23255</td>\n",
       "      <td>CHILDRENS CUTLERY CIRCUS PARADE</td>\n",
       "      <td>France</td>\n",
       "    </tr>\n",
       "    <tr>\n",
       "      <th>541908</th>\n",
       "      <td>581587</td>\n",
       "      <td>22138</td>\n",
       "      <td>BAKING SET 9 PIECE RETROSPOT</td>\n",
       "      <td>France</td>\n",
       "    </tr>\n",
       "  </tbody>\n",
       "</table>\n",
       "<p>541909 rows × 4 columns</p>\n",
       "</div>"
      ],
      "text/plain": [
       "       invoice_no stock_code                          description  \\\n",
       "0          536365     85123A   WHITE HANGING HEART T-LIGHT HOLDER   \n",
       "1          536365      71053                  WHITE METAL LANTERN   \n",
       "2          536365     84406B       CREAM CUPID HEARTS COAT HANGER   \n",
       "3          536365     84029G  KNITTED UNION FLAG HOT WATER BOTTLE   \n",
       "4          536365     84029E       RED WOOLLY HOTTIE WHITE HEART.   \n",
       "...           ...        ...                                  ...   \n",
       "541904     581587      22613          PACK OF 20 SPACEBOY NAPKINS   \n",
       "541905     581587      22899         CHILDREN'S APRON DOLLY GIRL    \n",
       "541906     581587      23254        CHILDRENS CUTLERY DOLLY GIRL    \n",
       "541907     581587      23255      CHILDRENS CUTLERY CIRCUS PARADE   \n",
       "541908     581587      22138        BAKING SET 9 PIECE RETROSPOT    \n",
       "\n",
       "               country  \n",
       "0       United Kingdom  \n",
       "1       United Kingdom  \n",
       "2       United Kingdom  \n",
       "3       United Kingdom  \n",
       "4       United Kingdom  \n",
       "...                ...  \n",
       "541904          France  \n",
       "541905          France  \n",
       "541906          France  \n",
       "541907          France  \n",
       "541908          France  \n",
       "\n",
       "[541909 rows x 4 columns]"
      ]
     },
     "execution_count": 18,
     "metadata": {},
     "output_type": "execute_result"
    }
   ],
   "source": [
    "categorical_atributtes"
   ]
  },
  {
   "cell_type": "code",
   "execution_count": 19,
   "id": "5d4bd60a",
   "metadata": {
    "ExecuteTime": {
     "end_time": "2023-06-22T15:26:47.479653Z",
     "start_time": "2023-06-22T15:26:47.120833Z"
    }
   },
   "outputs": [
    {
     "data": {
      "text/plain": [
       "True"
      ]
     },
     "execution_count": 19,
     "metadata": {},
     "output_type": "execute_result"
    }
   ],
   "source": [
    "#invoice_no\n",
    "letter_lines = categorical_atributtes['invoice_no'].apply(lambda x: bool (re.search('[a-zA-Z]', x)))\n",
    "letter_df = df1.loc[letter_lines,'quantity']\n",
    "any(letter_df >0)"
   ]
  },
  {
   "cell_type": "code",
   "execution_count": 20,
   "id": "5ada7aaf",
   "metadata": {
    "ExecuteTime": {
     "end_time": "2023-06-22T15:26:47.923958Z",
     "start_time": "2023-06-22T15:26:47.481157Z"
    }
   },
   "outputs": [],
   "source": [
    "#stock_code\n",
    "stock_letter = categorical_atributtes['stock_code'].apply(lambda x: bool (re.search('^[a-zA-Z]+$', x)))\n",
    "stock_df = df1.loc[stock_letter,:]"
   ]
  },
  {
   "cell_type": "code",
   "execution_count": 21,
   "id": "6be0d80b",
   "metadata": {
    "ExecuteTime": {
     "end_time": "2023-06-22T15:26:47.940077Z",
     "start_time": "2023-06-22T15:26:47.924999Z"
    }
   },
   "outputs": [
    {
     "data": {
      "text/plain": [
       "array(['POST', 'D', 'DOT', 'M', 'S', 'AMAZONFEE', 'm', 'DCGSSBOY',\n",
       "       'DCGSSGIRL', 'PADS', 'B', 'CRUK'], dtype=object)"
      ]
     },
     "execution_count": 21,
     "metadata": {},
     "output_type": "execute_result"
    }
   ],
   "source": [
    "stock_df['stock_code'].unique()"
   ]
  },
  {
   "cell_type": "code",
   "execution_count": 22,
   "id": "0f76b694",
   "metadata": {
    "ExecuteTime": {
     "end_time": "2023-06-22T15:26:48.017350Z",
     "start_time": "2023-06-22T15:26:47.941079Z"
    }
   },
   "outputs": [
    {
     "data": {
      "text/html": [
       "<div>\n",
       "<style scoped>\n",
       "    .dataframe tbody tr th:only-of-type {\n",
       "        vertical-align: middle;\n",
       "    }\n",
       "\n",
       "    .dataframe tbody tr th {\n",
       "        vertical-align: top;\n",
       "    }\n",
       "\n",
       "    .dataframe thead th {\n",
       "        text-align: right;\n",
       "    }\n",
       "</style>\n",
       "<table border=\"1\" class=\"dataframe\">\n",
       "  <thead>\n",
       "    <tr style=\"text-align: right;\">\n",
       "      <th></th>\n",
       "      <th>country</th>\n",
       "      <th>customer_id</th>\n",
       "    </tr>\n",
       "  </thead>\n",
       "  <tbody>\n",
       "    <tr>\n",
       "      <th>36</th>\n",
       "      <td>United Kingdom</td>\n",
       "      <td>7587</td>\n",
       "    </tr>\n",
       "    <tr>\n",
       "      <th>14</th>\n",
       "      <td>Germany</td>\n",
       "      <td>95</td>\n",
       "    </tr>\n",
       "    <tr>\n",
       "      <th>13</th>\n",
       "      <td>France</td>\n",
       "      <td>90</td>\n",
       "    </tr>\n",
       "    <tr>\n",
       "      <th>10</th>\n",
       "      <td>EIRE</td>\n",
       "      <td>44</td>\n",
       "    </tr>\n",
       "    <tr>\n",
       "      <th>31</th>\n",
       "      <td>Spain</td>\n",
       "      <td>31</td>\n",
       "    </tr>\n",
       "  </tbody>\n",
       "</table>\n",
       "</div>"
      ],
      "text/plain": [
       "           country  customer_id\n",
       "36  United Kingdom         7587\n",
       "14         Germany           95\n",
       "13          France           90\n",
       "10            EIRE           44\n",
       "31           Spain           31"
      ]
     },
     "execution_count": 22,
     "metadata": {},
     "output_type": "execute_result"
    }
   ],
   "source": [
    "#country - European Community and Unspecified\n",
    "df1['country'].unique()\n",
    "df1.loc[:,['customer_id','country']].drop_duplicates().groupby('country').count().reset_index().sort_values(by='customer_id', ascending=False).head()"
   ]
  },
  {
   "cell_type": "markdown",
   "id": "5922b1d0",
   "metadata": {},
   "source": [
    "# 2.0 VARIABLE FILTERING"
   ]
  },
  {
   "cell_type": "code",
   "execution_count": 23,
   "id": "41c70029",
   "metadata": {
    "ExecuteTime": {
     "end_time": "2023-06-22T15:26:48.032910Z",
     "start_time": "2023-06-22T15:26:48.018352Z"
    }
   },
   "outputs": [],
   "source": [
    "df2 = df1.copy()"
   ]
  },
  {
   "cell_type": "markdown",
   "id": "3822bf6d",
   "metadata": {},
   "source": [
    "## 2.1 Numerical Attributes"
   ]
  },
  {
   "cell_type": "code",
   "execution_count": 24,
   "id": "76a4ec13",
   "metadata": {
    "ExecuteTime": {
     "end_time": "2023-06-22T15:26:48.220283Z",
     "start_time": "2023-06-22T15:26:48.033925Z"
    }
   },
   "outputs": [],
   "source": [
    "#unit_price\n",
    "df2 = df2.loc[df2['unit_price'] >= 0.040,:]\n",
    "\n",
    "#stock code\n",
    "df2 = df2.loc[~df2['stock_code'].isin(['POST', 'D', 'DOT', 'M', 'S', 'AMAZONFEE', 'm', 'DCGSSBOY',\n",
    "       'DCGSSGIRL', 'PADS', 'B', 'CRUK']),:]\n",
    "\n",
    "#description\n",
    "df2 = df2.drop('description', axis=1)\n",
    "\n",
    "#country\n",
    "df2 = df2.loc[~df2['country'].isin(['Unspecified','European Community']),:]\n",
    "\n",
    "#bad users\n",
    "\n",
    "df2 = df2.loc[~df2['customer_id'].isin([16446]),:]\n"
   ]
  },
  {
   "cell_type": "markdown",
   "id": "03473d82",
   "metadata": {},
   "source": [
    "Deixei apenas preços acima de 0. Letras do Stock code que poluem os dados. Description não ajuda na clusterização e Países da União europeia já são repetidos e Países Não especificados poluem os dados"
   ]
  },
  {
   "cell_type": "code",
   "execution_count": 25,
   "id": "56d5b814",
   "metadata": {
    "ExecuteTime": {
     "end_time": "2023-06-22T15:26:48.250923Z",
     "start_time": "2023-06-22T15:26:48.221284Z"
    }
   },
   "outputs": [],
   "source": [
    "#divide df in purchases and returns\n",
    "df_purchase = df2.loc[df2['quantity'] >=0, :]\n",
    "df_returns = df2.loc[df2['quantity'] < 0,:]"
   ]
  },
  {
   "cell_type": "markdown",
   "id": "92294c09",
   "metadata": {},
   "source": [
    "# 3.0 FEATURE ENGINEERING"
   ]
  },
  {
   "cell_type": "code",
   "execution_count": 26,
   "id": "113f8ff0",
   "metadata": {
    "ExecuteTime": {
     "end_time": "2023-06-22T15:26:48.266182Z",
     "start_time": "2023-06-22T15:26:48.251969Z"
    }
   },
   "outputs": [],
   "source": [
    "df3 = df2.copy()"
   ]
  },
  {
   "cell_type": "code",
   "execution_count": 27,
   "id": "36229b65",
   "metadata": {
    "ExecuteTime": {
     "end_time": "2023-06-22T15:26:48.281827Z",
     "start_time": "2023-06-22T15:26:48.267187Z"
    }
   },
   "outputs": [
    {
     "data": {
      "text/html": [
       "<div>\n",
       "<style scoped>\n",
       "    .dataframe tbody tr th:only-of-type {\n",
       "        vertical-align: middle;\n",
       "    }\n",
       "\n",
       "    .dataframe tbody tr th {\n",
       "        vertical-align: top;\n",
       "    }\n",
       "\n",
       "    .dataframe thead th {\n",
       "        text-align: right;\n",
       "    }\n",
       "</style>\n",
       "<table border=\"1\" class=\"dataframe\">\n",
       "  <thead>\n",
       "    <tr style=\"text-align: right;\">\n",
       "      <th></th>\n",
       "      <th>invoice_no</th>\n",
       "      <th>stock_code</th>\n",
       "      <th>quantity</th>\n",
       "      <th>invoice_date</th>\n",
       "      <th>unit_price</th>\n",
       "      <th>country</th>\n",
       "      <th>customer_id</th>\n",
       "    </tr>\n",
       "  </thead>\n",
       "  <tbody>\n",
       "    <tr>\n",
       "      <th>0</th>\n",
       "      <td>536365</td>\n",
       "      <td>85123A</td>\n",
       "      <td>6</td>\n",
       "      <td>2016-11-29</td>\n",
       "      <td>2.55</td>\n",
       "      <td>United Kingdom</td>\n",
       "      <td>17850.0</td>\n",
       "    </tr>\n",
       "    <tr>\n",
       "      <th>1</th>\n",
       "      <td>536365</td>\n",
       "      <td>71053</td>\n",
       "      <td>6</td>\n",
       "      <td>2016-11-29</td>\n",
       "      <td>3.39</td>\n",
       "      <td>United Kingdom</td>\n",
       "      <td>17850.0</td>\n",
       "    </tr>\n",
       "    <tr>\n",
       "      <th>2</th>\n",
       "      <td>536365</td>\n",
       "      <td>84406B</td>\n",
       "      <td>8</td>\n",
       "      <td>2016-11-29</td>\n",
       "      <td>2.75</td>\n",
       "      <td>United Kingdom</td>\n",
       "      <td>17850.0</td>\n",
       "    </tr>\n",
       "    <tr>\n",
       "      <th>3</th>\n",
       "      <td>536365</td>\n",
       "      <td>84029G</td>\n",
       "      <td>6</td>\n",
       "      <td>2016-11-29</td>\n",
       "      <td>3.39</td>\n",
       "      <td>United Kingdom</td>\n",
       "      <td>17850.0</td>\n",
       "    </tr>\n",
       "    <tr>\n",
       "      <th>4</th>\n",
       "      <td>536365</td>\n",
       "      <td>84029E</td>\n",
       "      <td>6</td>\n",
       "      <td>2016-11-29</td>\n",
       "      <td>3.39</td>\n",
       "      <td>United Kingdom</td>\n",
       "      <td>17850.0</td>\n",
       "    </tr>\n",
       "  </tbody>\n",
       "</table>\n",
       "</div>"
      ],
      "text/plain": [
       "  invoice_no stock_code  quantity invoice_date  unit_price         country  \\\n",
       "0     536365     85123A         6   2016-11-29        2.55  United Kingdom   \n",
       "1     536365      71053         6   2016-11-29        3.39  United Kingdom   \n",
       "2     536365     84406B         8   2016-11-29        2.75  United Kingdom   \n",
       "3     536365     84029G         6   2016-11-29        3.39  United Kingdom   \n",
       "4     536365     84029E         6   2016-11-29        3.39  United Kingdom   \n",
       "\n",
       "   customer_id  \n",
       "0      17850.0  \n",
       "1      17850.0  \n",
       "2      17850.0  \n",
       "3      17850.0  \n",
       "4      17850.0  "
      ]
     },
     "execution_count": 27,
     "metadata": {},
     "output_type": "execute_result"
    }
   ],
   "source": [
    "df3.head()"
   ]
  },
  {
   "cell_type": "markdown",
   "id": "db2b1bec",
   "metadata": {},
   "source": [
    "## 3.1 Monetary "
   ]
  },
  {
   "cell_type": "code",
   "execution_count": 28,
   "id": "835a15c7",
   "metadata": {
    "ExecuteTime": {
     "end_time": "2023-06-22T15:26:48.344089Z",
     "start_time": "2023-06-22T15:26:48.285925Z"
    }
   },
   "outputs": [
    {
     "data": {
      "text/plain": [
       "customer_id    0\n",
       "monetary       0\n",
       "dtype: int64"
      ]
     },
     "execution_count": 28,
     "metadata": {},
     "output_type": "execute_result"
    }
   ],
   "source": [
    "#Monetary - O quanto cada cliente gera de $\n",
    "aux_monetary = pd.DataFrame()\n",
    "aux_monetary['valor_bruto'] = df_purchase['quantity'] * df_purchase['unit_price']\n",
    "aux_monetary['customer_id'] = df_purchase['customer_id']\n",
    "df_ref = aux_monetary.loc[:,['valor_bruto', 'customer_id']].groupby('customer_id').sum().reset_index().rename(columns={'valor_bruto':'monetary'})\n",
    "df_ref.isna().sum()"
   ]
  },
  {
   "cell_type": "markdown",
   "id": "32670932",
   "metadata": {},
   "source": [
    "## 3.2 Qtd de Compras"
   ]
  },
  {
   "cell_type": "code",
   "execution_count": 29,
   "id": "f82a0819",
   "metadata": {
    "ExecuteTime": {
     "end_time": "2023-06-22T15:26:48.422171Z",
     "start_time": "2023-06-22T15:26:48.345150Z"
    }
   },
   "outputs": [
    {
     "data": {
      "text/plain": [
       "customer_id    0\n",
       "monetary       0\n",
       "qtd_compras    0\n",
       "dtype: int64"
      ]
     },
     "execution_count": 29,
     "metadata": {},
     "output_type": "execute_result"
    }
   ],
   "source": [
    "#Quantos produtos cada cliente comprou\n",
    "aux_invoice = df_purchase.loc[:,['invoice_no','customer_id']].drop_duplicates().groupby('customer_id').count().reset_index().rename(columns={'invoice_no':'qtd_compras'})\n",
    "df_ref = pd.merge(df_ref, aux_invoice, on='customer_id', how='left')\n",
    "df_ref.isna().sum()"
   ]
  },
  {
   "cell_type": "markdown",
   "id": "9690b948",
   "metadata": {},
   "source": [
    "## 3.4 Qtd produtos comprados"
   ]
  },
  {
   "cell_type": "code",
   "execution_count": 30,
   "id": "2847f5b8",
   "metadata": {
    "ExecuteTime": {
     "end_time": "2023-06-22T15:26:48.468563Z",
     "start_time": "2023-06-22T15:26:48.423680Z"
    }
   },
   "outputs": [
    {
     "data": {
      "text/plain": [
       "customer_id    0\n",
       "monetary       0\n",
       "qtd_compras    0\n",
       "qtd_items      0\n",
       "dtype: int64"
      ]
     },
     "execution_count": 30,
     "metadata": {},
     "output_type": "execute_result"
    }
   ],
   "source": [
    "#Quantos produtos cada cliente comprou\n",
    "aux_qtd = df_purchase.loc[:,['quantity','customer_id']].groupby('customer_id').sum().reset_index().rename(columns={'quantity':'qtd_items'})\n",
    "df_ref = pd.merge(df_ref, aux_qtd, on='customer_id', how='left')\n",
    "df_ref.isna().sum()"
   ]
  },
  {
   "cell_type": "markdown",
   "id": "af6f2fbb",
   "metadata": {},
   "source": [
    "## 3.5 Qtd produtos únicos dentro da compra (stock_code)"
   ]
  },
  {
   "cell_type": "code",
   "execution_count": 31,
   "id": "2b6a4dba",
   "metadata": {
    "ExecuteTime": {
     "end_time": "2023-06-22T15:26:48.547959Z",
     "start_time": "2023-06-22T15:26:48.469592Z"
    }
   },
   "outputs": [
    {
     "data": {
      "text/plain": [
       "customer_id    0\n",
       "monetary       0\n",
       "qtd_compras    0\n",
       "qtd_items      0\n",
       "qtd_prods      0\n",
       "dtype: int64"
      ]
     },
     "execution_count": 31,
     "metadata": {},
     "output_type": "execute_result"
    }
   ],
   "source": [
    "#Quantos produtos cada cliente comprou\n",
    "aux_qtd_stock = df_purchase.loc[:,['stock_code','customer_id']].groupby('customer_id').count().reset_index().rename(columns={'stock_code':'qtd_prods'})\n",
    "df_ref = pd.merge(df_ref, aux_qtd_stock, on='customer_id', how='left')\n",
    "df_ref.isna().sum()"
   ]
  },
  {
   "cell_type": "markdown",
   "id": "6001d927",
   "metadata": {},
   "source": [
    "## 3.6 Recency"
   ]
  },
  {
   "cell_type": "code",
   "execution_count": 32,
   "id": "461f9c1a",
   "metadata": {
    "ExecuteTime": {
     "end_time": "2023-06-22T15:26:48.594935Z",
     "start_time": "2023-06-22T15:26:48.548971Z"
    }
   },
   "outputs": [
    {
     "data": {
      "text/plain": [
       "customer_id    0\n",
       "monetary       0\n",
       "qtd_compras    0\n",
       "qtd_items      0\n",
       "qtd_prods      0\n",
       "recency        0\n",
       "dtype: int64"
      ]
     },
     "execution_count": 32,
     "metadata": {},
     "output_type": "execute_result"
    }
   ],
   "source": [
    "#Recency\n",
    "aux_recency = df_purchase.loc[:,['customer_id','invoice_date']].groupby('customer_id').max().reset_index()\n",
    "date_max = df_purchase['invoice_date'].max()\n",
    "aux_recency['recency'] = (date_max - aux_recency['invoice_date']).dt.days\n",
    "df_ref = pd.merge(df_ref, aux_recency, on='customer_id', how='left')\n",
    "df_ref = df_ref.drop(['invoice_date'],axis=1)\n",
    "df_ref.isna().sum()"
   ]
  },
  {
   "cell_type": "markdown",
   "id": "0aeeb526",
   "metadata": {},
   "source": [
    "## 3.7 Average Ticket"
   ]
  },
  {
   "cell_type": "code",
   "execution_count": 33,
   "id": "bcde7bb7",
   "metadata": {
    "ExecuteTime": {
     "end_time": "2023-06-22T15:26:48.641979Z",
     "start_time": "2023-06-22T15:26:48.595937Z"
    }
   },
   "outputs": [
    {
     "data": {
      "text/plain": [
       "customer_id    0\n",
       "monetary       0\n",
       "qtd_compras    0\n",
       "qtd_items      0\n",
       "qtd_prods      0\n",
       "recency        0\n",
       "avg_ticket     0\n",
       "dtype: int64"
      ]
     },
     "execution_count": 33,
     "metadata": {},
     "output_type": "execute_result"
    }
   ],
   "source": [
    "#Ticket Médio\n",
    "aux_ticket = aux_monetary.loc[:,['valor_bruto', 'customer_id']].groupby('customer_id').mean().reset_index().rename(columns={'valor_bruto':'avg_ticket'})\n",
    "df_ref = pd.merge(df_ref, aux_ticket, on='customer_id', how='left') \n",
    "df_ref.isna().sum()"
   ]
  },
  {
   "cell_type": "markdown",
   "id": "d475c7a7",
   "metadata": {},
   "source": [
    "## 3.8 Average Recency Days"
   ]
  },
  {
   "cell_type": "code",
   "execution_count": 34,
   "id": "accfbedf",
   "metadata": {
    "ExecuteTime": {
     "end_time": "2023-06-22T15:26:48.940847Z",
     "start_time": "2023-06-22T15:26:48.644044Z"
    }
   },
   "outputs": [],
   "source": [
    "aux_rd = df3.loc[:,['invoice_date','customer_id']].drop_duplicates().sort_values(by=['customer_id','invoice_date'])\n",
    "aux_rd['previous_customer'] = aux_rd['customer_id'].shift() #next customer\n",
    "aux_rd['previous_invoice'] = aux_rd['invoice_date'].shift() #next date\n",
    "aux_rd['avg_recency_days'] = aux_rd.apply(lambda x: (x['invoice_date'] - x['previous_invoice']).days if x['previous_customer'] == x['customer_id'] else np.nan, axis=1)\n",
    "aux_rd = aux_rd.dropna()\n",
    "\n",
    "#drop support columns\n",
    "aux_rd = aux_rd.drop(['invoice_date','previous_customer','previous_invoice'], axis=1)\n",
    "\n",
    "#calculate avg recency\n",
    "aux_rd_avg = aux_rd.groupby('customer_id').mean().reset_index()\n",
    "\n",
    "#merge\n",
    "df_ref = pd.merge(df_ref, aux_rd_avg, on='customer_id', how='left')\n"
   ]
  },
  {
   "cell_type": "code",
   "execution_count": 35,
   "id": "67905e0e",
   "metadata": {
    "ExecuteTime": {
     "end_time": "2023-06-22T15:26:48.956055Z",
     "start_time": "2023-06-22T15:26:48.942010Z"
    }
   },
   "outputs": [
    {
     "data": {
      "text/plain": [
       "customer_id            0\n",
       "monetary               0\n",
       "qtd_compras            0\n",
       "qtd_items              0\n",
       "qtd_prods              0\n",
       "recency                0\n",
       "avg_ticket             0\n",
       "avg_recency_days    2727\n",
       "dtype: int64"
      ]
     },
     "execution_count": 35,
     "metadata": {},
     "output_type": "execute_result"
    }
   ],
   "source": [
    "df_ref.isna().sum()"
   ]
  },
  {
   "cell_type": "markdown",
   "id": "cd14b7f0",
   "metadata": {},
   "source": [
    "## 3.9 Frenquency Purchase"
   ]
  },
  {
   "cell_type": "code",
   "execution_count": 36,
   "id": "a83166ff",
   "metadata": {
    "ExecuteTime": {
     "end_time": "2023-06-22T15:26:49.375587Z",
     "start_time": "2023-06-22T15:26:48.957059Z"
    }
   },
   "outputs": [],
   "source": [
    "df_freq = (df_purchase[['customer_id','invoice_no', 'invoice_date']].drop_duplicates().groupby('customer_id')\n",
    "                                                           .agg(days = ('invoice_date', lambda x: (max(x) - min(x)).days + 1),\n",
    "                                                                buy_ = ('invoice_no', 'count'))).reset_index()\n",
    "\n",
    "#Frequency\n",
    "df_freq['frequency'] = df_freq.apply(lambda x: x['buy_'] / x['days'] if x['days'] != 0 else 0, axis=1) \n",
    "\n",
    "#merge\n",
    "df_ref = pd.merge(df_ref, df_freq, on='customer_id', how='left')\n",
    "df_ref = df_ref.drop(['days','buy_'],axis=1)"
   ]
  },
  {
   "cell_type": "code",
   "execution_count": 37,
   "id": "2d510fc4",
   "metadata": {
    "ExecuteTime": {
     "end_time": "2023-06-22T15:26:49.391104Z",
     "start_time": "2023-06-22T15:26:49.376588Z"
    }
   },
   "outputs": [
    {
     "data": {
      "text/plain": [
       "customer_id            0\n",
       "monetary               0\n",
       "qtd_compras            0\n",
       "qtd_items              0\n",
       "qtd_prods              0\n",
       "recency                0\n",
       "avg_ticket             0\n",
       "avg_recency_days    2727\n",
       "frequency              0\n",
       "dtype: int64"
      ]
     },
     "execution_count": 37,
     "metadata": {},
     "output_type": "execute_result"
    }
   ],
   "source": [
    "df_ref.isna().sum()"
   ]
  },
  {
   "cell_type": "markdown",
   "id": "f19b6945",
   "metadata": {},
   "source": [
    "## 3.10 Devoluções"
   ]
  },
  {
   "cell_type": "code",
   "execution_count": 38,
   "id": "f6ce0714",
   "metadata": {
    "ExecuteTime": {
     "end_time": "2023-06-22T15:26:49.406558Z",
     "start_time": "2023-06-22T15:26:49.392140Z"
    }
   },
   "outputs": [],
   "source": [
    "qtd_returns = df_returns.loc[:,['customer_id','quantity']].groupby('customer_id').sum().reset_index().rename(columns={'quantity':'qtd_returns'})\n",
    "qtd_returns['qtd_returns'] = qtd_returns['qtd_returns']*-1\n",
    "\n",
    "#merge\n",
    "df_ref = pd.merge(df_ref, qtd_returns, on='customer_id', how='left')\n",
    "\n",
    "#Os NaNs gerados são pessoas que não devolveram\n",
    "df_ref.loc[df_ref['qtd_returns'].isna(),'qtd_returns'] = 0"
   ]
  },
  {
   "cell_type": "code",
   "execution_count": 39,
   "id": "42891817",
   "metadata": {
    "ExecuteTime": {
     "end_time": "2023-06-22T15:26:49.422321Z",
     "start_time": "2023-06-22T15:26:49.407575Z"
    },
    "scrolled": true
   },
   "outputs": [
    {
     "data": {
      "text/plain": [
       "customer_id            0\n",
       "monetary               0\n",
       "qtd_compras            0\n",
       "qtd_items              0\n",
       "qtd_prods              0\n",
       "recency                0\n",
       "avg_ticket             0\n",
       "avg_recency_days    2727\n",
       "frequency              0\n",
       "qtd_returns            0\n",
       "dtype: int64"
      ]
     },
     "execution_count": 39,
     "metadata": {},
     "output_type": "execute_result"
    }
   ],
   "source": [
    "df_ref.isna().sum()"
   ]
  },
  {
   "cell_type": "markdown",
   "id": "7a0c05d4",
   "metadata": {},
   "source": [
    "## 3.11 Unique Basket Size"
   ]
  },
  {
   "cell_type": "code",
   "execution_count": 40,
   "id": "f27ca2f7",
   "metadata": {
    "ExecuteTime": {
     "end_time": "2023-06-22T15:26:49.594701Z",
     "start_time": "2023-06-22T15:26:49.423345Z"
    }
   },
   "outputs": [],
   "source": [
    "#qtd de produtos diferentes dentro de uma compora\n",
    "basket_size = df_purchase.loc[:,['customer_id','stock_code','invoice_no']].groupby(['customer_id']).nunique().reset_index()\n",
    "\n",
    "#media itens por compra\n",
    "basket_size['unique_avg_basket'] = basket_size['stock_code'] / basket_size['invoice_no']\n",
    "\n",
    "#merge\n",
    "df_ref = pd.merge(df_ref, basket_size[['customer_id','unique_avg_basket']], on='customer_id', how='left')"
   ]
  },
  {
   "cell_type": "code",
   "execution_count": 41,
   "id": "9bc9377e",
   "metadata": {
    "ExecuteTime": {
     "end_time": "2023-06-22T15:26:49.611233Z",
     "start_time": "2023-06-22T15:26:49.595703Z"
    }
   },
   "outputs": [
    {
     "data": {
      "text/plain": [
       "customer_id             0\n",
       "monetary                0\n",
       "qtd_compras             0\n",
       "qtd_items               0\n",
       "qtd_prods               0\n",
       "recency                 0\n",
       "avg_ticket              0\n",
       "avg_recency_days     2727\n",
       "frequency               0\n",
       "qtd_returns             0\n",
       "unique_avg_basket       0\n",
       "dtype: int64"
      ]
     },
     "execution_count": 41,
     "metadata": {},
     "output_type": "execute_result"
    }
   ],
   "source": [
    "df_ref.isna().sum()"
   ]
  },
  {
   "cell_type": "markdown",
   "id": "f88db1af",
   "metadata": {},
   "source": [
    "## 3.12 Quantity Basket Size - Quantidade de produtos por basket"
   ]
  },
  {
   "cell_type": "code",
   "execution_count": 42,
   "id": "76e9130e",
   "metadata": {
    "ExecuteTime": {
     "end_time": "2023-06-22T15:26:49.688220Z",
     "start_time": "2023-06-22T15:26:49.612616Z"
    }
   },
   "outputs": [],
   "source": [
    "#qtd de produtos medios por compra\n",
    "qtd_basket_size = (df_purchase.loc[:,['customer_id','quantity','invoice_no']].groupby(['customer_id'])\n",
    "                                                                            .agg(uniq_prod = ('invoice_no', 'nunique'),\n",
    "                                                                                 quantity_sum = ('quantity', 'sum'))).reset_index()    \n",
    "\n",
    "#media de quantidade de itens por basket\n",
    "qtd_basket_size['avg_basket'] = qtd_basket_size['quantity_sum'] / qtd_basket_size['uniq_prod']\n",
    "\n",
    "#merge\n",
    "df_ref = pd.merge(df_ref, qtd_basket_size[['customer_id','avg_basket']], on='customer_id',how='left')"
   ]
  },
  {
   "cell_type": "code",
   "execution_count": 43,
   "id": "c146f91d",
   "metadata": {
    "ExecuteTime": {
     "end_time": "2023-06-22T15:26:49.703408Z",
     "start_time": "2023-06-22T15:26:49.689256Z"
    }
   },
   "outputs": [
    {
     "data": {
      "text/plain": [
       "customer_id             0\n",
       "monetary                0\n",
       "qtd_compras             0\n",
       "qtd_items               0\n",
       "qtd_prods               0\n",
       "recency                 0\n",
       "avg_ticket              0\n",
       "avg_recency_days     2727\n",
       "frequency               0\n",
       "qtd_returns             0\n",
       "unique_avg_basket       0\n",
       "avg_basket              0\n",
       "dtype: int64"
      ]
     },
     "execution_count": 43,
     "metadata": {},
     "output_type": "execute_result"
    }
   ],
   "source": [
    "df_ref.isna().sum()"
   ]
  },
  {
   "cell_type": "markdown",
   "id": "6e0bb84d",
   "metadata": {},
   "source": [
    "## 3.13 Check Final Result"
   ]
  },
  {
   "cell_type": "code",
   "execution_count": 44,
   "id": "b591fe21",
   "metadata": {
    "ExecuteTime": {
     "end_time": "2023-06-22T15:26:49.719287Z",
     "start_time": "2023-06-22T15:26:49.704561Z"
    }
   },
   "outputs": [
    {
     "data": {
      "text/html": [
       "<div>\n",
       "<style scoped>\n",
       "    .dataframe tbody tr th:only-of-type {\n",
       "        vertical-align: middle;\n",
       "    }\n",
       "\n",
       "    .dataframe tbody tr th {\n",
       "        vertical-align: top;\n",
       "    }\n",
       "\n",
       "    .dataframe thead th {\n",
       "        text-align: right;\n",
       "    }\n",
       "</style>\n",
       "<table border=\"1\" class=\"dataframe\">\n",
       "  <thead>\n",
       "    <tr style=\"text-align: right;\">\n",
       "      <th></th>\n",
       "      <th>customer_id</th>\n",
       "      <th>monetary</th>\n",
       "      <th>qtd_compras</th>\n",
       "      <th>qtd_items</th>\n",
       "      <th>qtd_prods</th>\n",
       "      <th>recency</th>\n",
       "      <th>avg_ticket</th>\n",
       "      <th>avg_recency_days</th>\n",
       "      <th>frequency</th>\n",
       "      <th>qtd_returns</th>\n",
       "      <th>unique_avg_basket</th>\n",
       "      <th>avg_basket</th>\n",
       "    </tr>\n",
       "  </thead>\n",
       "  <tbody>\n",
       "    <tr>\n",
       "      <th>0</th>\n",
       "      <td>12346.0</td>\n",
       "      <td>77183.60</td>\n",
       "      <td>1</td>\n",
       "      <td>74215</td>\n",
       "      <td>1</td>\n",
       "      <td>325</td>\n",
       "      <td>77183.600000</td>\n",
       "      <td>NaN</td>\n",
       "      <td>1.000000</td>\n",
       "      <td>74215.0</td>\n",
       "      <td>1.000000</td>\n",
       "      <td>74215.000000</td>\n",
       "    </tr>\n",
       "    <tr>\n",
       "      <th>1</th>\n",
       "      <td>12347.0</td>\n",
       "      <td>4310.00</td>\n",
       "      <td>7</td>\n",
       "      <td>2458</td>\n",
       "      <td>182</td>\n",
       "      <td>2</td>\n",
       "      <td>23.681319</td>\n",
       "      <td>60.833333</td>\n",
       "      <td>0.019126</td>\n",
       "      <td>0.0</td>\n",
       "      <td>14.714286</td>\n",
       "      <td>351.142857</td>\n",
       "    </tr>\n",
       "    <tr>\n",
       "      <th>2</th>\n",
       "      <td>12348.0</td>\n",
       "      <td>1437.24</td>\n",
       "      <td>4</td>\n",
       "      <td>2332</td>\n",
       "      <td>27</td>\n",
       "      <td>75</td>\n",
       "      <td>53.231111</td>\n",
       "      <td>94.333333</td>\n",
       "      <td>0.014085</td>\n",
       "      <td>0.0</td>\n",
       "      <td>5.250000</td>\n",
       "      <td>583.000000</td>\n",
       "    </tr>\n",
       "    <tr>\n",
       "      <th>3</th>\n",
       "      <td>12349.0</td>\n",
       "      <td>1457.55</td>\n",
       "      <td>1</td>\n",
       "      <td>630</td>\n",
       "      <td>72</td>\n",
       "      <td>18</td>\n",
       "      <td>20.243750</td>\n",
       "      <td>NaN</td>\n",
       "      <td>1.000000</td>\n",
       "      <td>0.0</td>\n",
       "      <td>72.000000</td>\n",
       "      <td>630.000000</td>\n",
       "    </tr>\n",
       "    <tr>\n",
       "      <th>4</th>\n",
       "      <td>12350.0</td>\n",
       "      <td>294.40</td>\n",
       "      <td>1</td>\n",
       "      <td>196</td>\n",
       "      <td>16</td>\n",
       "      <td>310</td>\n",
       "      <td>18.400000</td>\n",
       "      <td>NaN</td>\n",
       "      <td>1.000000</td>\n",
       "      <td>0.0</td>\n",
       "      <td>16.000000</td>\n",
       "      <td>196.000000</td>\n",
       "    </tr>\n",
       "  </tbody>\n",
       "</table>\n",
       "</div>"
      ],
      "text/plain": [
       "   customer_id  monetary  qtd_compras  qtd_items  qtd_prods  recency  \\\n",
       "0      12346.0  77183.60            1      74215          1      325   \n",
       "1      12347.0   4310.00            7       2458        182        2   \n",
       "2      12348.0   1437.24            4       2332         27       75   \n",
       "3      12349.0   1457.55            1        630         72       18   \n",
       "4      12350.0    294.40            1        196         16      310   \n",
       "\n",
       "     avg_ticket  avg_recency_days  frequency  qtd_returns  unique_avg_basket  \\\n",
       "0  77183.600000               NaN   1.000000      74215.0           1.000000   \n",
       "1     23.681319         60.833333   0.019126          0.0          14.714286   \n",
       "2     53.231111         94.333333   0.014085          0.0           5.250000   \n",
       "3     20.243750               NaN   1.000000          0.0          72.000000   \n",
       "4     18.400000               NaN   1.000000          0.0          16.000000   \n",
       "\n",
       "     avg_basket  \n",
       "0  74215.000000  \n",
       "1    351.142857  \n",
       "2    583.000000  \n",
       "3    630.000000  \n",
       "4    196.000000  "
      ]
     },
     "execution_count": 44,
     "metadata": {},
     "output_type": "execute_result"
    }
   ],
   "source": [
    "df_ref.head()"
   ]
  },
  {
   "cell_type": "markdown",
   "id": "5ada5a45",
   "metadata": {},
   "source": [
    "# 4.0 EDA (EXPLORATORY DATA ANALYSIS"
   ]
  },
  {
   "cell_type": "code",
   "execution_count": 45,
   "id": "b9939ec6",
   "metadata": {
    "ExecuteTime": {
     "end_time": "2023-06-22T15:26:49.735413Z",
     "start_time": "2023-06-22T15:26:49.721013Z"
    }
   },
   "outputs": [
    {
     "data": {
      "text/plain": [
       "customer_id          0\n",
       "monetary             0\n",
       "qtd_compras          0\n",
       "qtd_items            0\n",
       "qtd_prods            0\n",
       "recency              0\n",
       "avg_ticket           0\n",
       "avg_recency_days     0\n",
       "frequency            0\n",
       "qtd_returns          0\n",
       "unique_avg_basket    0\n",
       "avg_basket           0\n",
       "dtype: int64"
      ]
     },
     "execution_count": 45,
     "metadata": {},
     "output_type": "execute_result"
    }
   ],
   "source": [
    "df4 = df_ref.dropna().copy()\n",
    "df4.isna().sum()"
   ]
  },
  {
   "cell_type": "markdown",
   "id": "00cfb182",
   "metadata": {},
   "source": [
    "## 4.3 Embedding"
   ]
  },
  {
   "cell_type": "code",
   "execution_count": 46,
   "id": "1747c41a",
   "metadata": {
    "ExecuteTime": {
     "end_time": "2023-06-22T15:26:49.750501Z",
     "start_time": "2023-06-22T15:26:49.736414Z"
    }
   },
   "outputs": [],
   "source": [
    "#selected dataset\n",
    "cols_selected = ['customer_id', 'monetary', 'recency', 'qtd_prods', 'frequency', 'qtd_returns']\n",
    "df43 = df4[cols_selected].copy()"
   ]
  },
  {
   "cell_type": "code",
   "execution_count": 47,
   "id": "9b1eb8e4",
   "metadata": {
    "ExecuteTime": {
     "end_time": "2023-06-22T15:26:49.765816Z",
     "start_time": "2023-06-22T15:26:49.752018Z"
    }
   },
   "outputs": [
    {
     "data": {
      "text/plain": [
       "(2968, 6)"
      ]
     },
     "execution_count": 47,
     "metadata": {},
     "output_type": "execute_result"
    }
   ],
   "source": [
    "df43.shape"
   ]
  },
  {
   "cell_type": "code",
   "execution_count": 48,
   "id": "d7e90e7f",
   "metadata": {
    "ExecuteTime": {
     "end_time": "2023-06-22T15:26:49.782188Z",
     "start_time": "2023-06-22T15:26:49.767818Z"
    }
   },
   "outputs": [],
   "source": [
    "#Transform\n",
    "mms = pp.MinMaxScaler()\n",
    "transf_list = df43.columns.drop('customer_id')\n",
    "\n",
    "for i in transf_list:\n",
    "    df43[i] = mms.fit_transform(df43[i].values.reshape(-1,1))  "
   ]
  },
  {
   "cell_type": "markdown",
   "id": "68a20488",
   "metadata": {},
   "source": [
    "## 4.3.4 Tree-Based Embedding"
   ]
  },
  {
   "cell_type": "code",
   "execution_count": 49,
   "id": "59b9d063",
   "metadata": {
    "ExecuteTime": {
     "end_time": "2023-06-22T15:26:49.797705Z",
     "start_time": "2023-06-22T15:26:49.783479Z"
    }
   },
   "outputs": [],
   "source": [
    "X = df43.drop(['customer_id','monetary'], axis=1).copy()\n",
    "y = df43['monetary'].copy()"
   ]
  },
  {
   "cell_type": "code",
   "execution_count": 50,
   "id": "0b4a1c43",
   "metadata": {
    "ExecuteTime": {
     "end_time": "2023-06-22T15:26:50.643614Z",
     "start_time": "2023-06-22T15:26:49.798747Z"
    }
   },
   "outputs": [],
   "source": [
    "#model definition\n",
    "rf = en.RandomForestRegressor(random_state=0)\n",
    "\n",
    "rf.fit(X, y)\n",
    "\n",
    "#create leafs\n",
    "df_leafs = pd.DataFrame(rf.apply(X))"
   ]
  },
  {
   "cell_type": "code",
   "execution_count": 51,
   "id": "52eb1972",
   "metadata": {
    "ExecuteTime": {
     "end_time": "2023-06-22T15:27:04.696774Z",
     "start_time": "2023-06-22T15:26:50.644615Z"
    }
   },
   "outputs": [
    {
     "data": {
      "text/plain": [
       "<Axes: xlabel='embedding_x', ylabel='embedding_y'>"
      ]
     },
     "execution_count": 51,
     "metadata": {},
     "output_type": "execute_result"
    },
    {
     "data": {
      "image/png": "[encoded data removed]",
      "text/plain": [
       "<Figure size 640x480 with 1 Axes>"
      ]
     },
     "metadata": {},
     "output_type": "display_data"
    }
   ],
   "source": [
    "reducer = umap.UMAP(random_state=42)\n",
    "embedding = reducer.fit_transform(df_leafs)\n",
    "\n",
    "#embedding\n",
    "df_tree = pd.DataFrame()\n",
    "df_tree['embedding_x'] = embedding[:,0]\n",
    "df_tree['embedding_y'] = embedding[:,1]\n",
    "\n",
    "#plot UMAP\n",
    "sns.scatterplot(x='embedding_x', \n",
    "                y='embedding_y',\n",
    "                data=df_tree)"
   ]
  },
  {
   "cell_type": "markdown",
   "id": "ae25b473",
   "metadata": {},
   "source": [
    "# 7.0 HYPERPARAMETER FINE TUNNING(Find Clusters)"
   ]
  },
  {
   "cell_type": "code",
   "execution_count": 52,
   "id": "e0249f77",
   "metadata": {
    "ExecuteTime": {
     "end_time": "2023-06-22T15:27:04.712693Z",
     "start_time": "2023-06-22T15:27:04.697775Z"
    }
   },
   "outputs": [],
   "source": [
    "X = df_tree.copy()"
   ]
  },
  {
   "cell_type": "code",
   "execution_count": 53,
   "id": "f5fbf418",
   "metadata": {
    "ExecuteTime": {
     "end_time": "2023-06-22T15:27:04.728658Z",
     "start_time": "2023-06-22T15:27:04.714866Z"
    }
   },
   "outputs": [
    {
     "data": {
      "text/html": [
       "<div>\n",
       "<style scoped>\n",
       "    .dataframe tbody tr th:only-of-type {\n",
       "        vertical-align: middle;\n",
       "    }\n",
       "\n",
       "    .dataframe tbody tr th {\n",
       "        vertical-align: top;\n",
       "    }\n",
       "\n",
       "    .dataframe thead th {\n",
       "        text-align: right;\n",
       "    }\n",
       "</style>\n",
       "<table border=\"1\" class=\"dataframe\">\n",
       "  <thead>\n",
       "    <tr style=\"text-align: right;\">\n",
       "      <th></th>\n",
       "      <th>embedding_x</th>\n",
       "      <th>embedding_y</th>\n",
       "    </tr>\n",
       "  </thead>\n",
       "  <tbody>\n",
       "    <tr>\n",
       "      <th>0</th>\n",
       "      <td>12.615181</td>\n",
       "      <td>11.044086</td>\n",
       "    </tr>\n",
       "    <tr>\n",
       "      <th>1</th>\n",
       "      <td>-6.499238</td>\n",
       "      <td>-8.245778</td>\n",
       "    </tr>\n",
       "    <tr>\n",
       "      <th>2</th>\n",
       "      <td>9.478956</td>\n",
       "      <td>5.369207</td>\n",
       "    </tr>\n",
       "    <tr>\n",
       "      <th>3</th>\n",
       "      <td>7.712303</td>\n",
       "      <td>-7.336355</td>\n",
       "    </tr>\n",
       "    <tr>\n",
       "      <th>4</th>\n",
       "      <td>-3.489240</td>\n",
       "      <td>18.404636</td>\n",
       "    </tr>\n",
       "  </tbody>\n",
       "</table>\n",
       "</div>"
      ],
      "text/plain": [
       "   embedding_x  embedding_y\n",
       "0    12.615181    11.044086\n",
       "1    -6.499238    -8.245778\n",
       "2     9.478956     5.369207\n",
       "3     7.712303    -7.336355\n",
       "4    -3.489240    18.404636"
      ]
     },
     "execution_count": 53,
     "metadata": {},
     "output_type": "execute_result"
    }
   ],
   "source": [
    "X.head()"
   ]
  },
  {
   "cell_type": "markdown",
   "id": "a8401e99",
   "metadata": {},
   "source": [
    "# 8.0 MODEL TRAINING"
   ]
  },
  {
   "cell_type": "markdown",
   "id": "068863fa",
   "metadata": {},
   "source": [
    "## 8.3 HCluster - FAVORITO"
   ]
  },
  {
   "cell_type": "code",
   "execution_count": 54,
   "id": "4f11d4e2",
   "metadata": {
    "ExecuteTime": {
     "end_time": "2023-06-22T15:27:04.869590Z",
     "start_time": "2023-06-22T15:27:04.729678Z"
    }
   },
   "outputs": [],
   "source": [
    "k=7\n",
    "#model definition & training\n",
    "hc_model = hc.linkage(X, 'ward')\n",
    "\n",
    "#model predict\n",
    "labels_hc = hc.fcluster(hc_model, k, criterion='maxclust')"
   ]
  },
  {
   "cell_type": "code",
   "execution_count": 55,
   "id": "a66ac02b",
   "metadata": {
    "ExecuteTime": {
     "end_time": "2023-06-22T15:27:04.963776Z",
     "start_time": "2023-06-22T15:27:04.871093Z"
    }
   },
   "outputs": [
    {
     "name": "stdout",
     "output_type": "stream",
     "text": [
      "SS Score: 0.621\n"
     ]
    }
   ],
   "source": [
    "print(f'SS Score: {mt.silhouette_score(X, labels_hc):.3f}')"
   ]
  },
  {
   "cell_type": "markdown",
   "id": "e3537d96",
   "metadata": {},
   "source": [
    "# 9.0 CLUSTER ANALYSIS"
   ]
  },
  {
   "cell_type": "markdown",
   "id": "8edf2883",
   "metadata": {},
   "source": [
    "## 9.5 Cluster Profile"
   ]
  },
  {
   "cell_type": "code",
   "execution_count": null,
   "id": "b34b1cdd",
   "metadata": {},
   "outputs": [],
   "source": []
  },
  {
   "cell_type": "code",
   "execution_count": 92,
   "id": "bc130bff",
   "metadata": {
    "ExecuteTime": {
     "end_time": "2023-06-22T19:30:47.482434Z",
     "start_time": "2023-06-22T19:30:47.454246Z"
    }
   },
   "outputs": [],
   "source": [
    "df_deploy = df4[cols_selected].copy()\n",
    "df_deploy['clusters'] = labels_hc  \n",
    "\n",
    "#change types\n",
    "df_deploy['customer_id'] = df_deploy['customer_id'].astype(int)\n",
    "df_deploy['qtd_returns'] = df_deploy['qtd_returns'].astype(int)\n",
    "df_deploy['clusters'] = df_deploy['clusters'].astype(int)\n",
    "\n",
    "#save last training\n",
    "df_deploy['last_training'] = datetime.datetime.now().strftime('%Y-%m-%d %H:%M:%S')"
   ]
  },
  {
   "cell_type": "code",
   "execution_count": 83,
   "id": "6af0a15a",
   "metadata": {
    "ExecuteTime": {
     "end_time": "2023-06-22T17:35:12.073868Z",
     "start_time": "2023-06-22T17:35:12.030889Z"
    }
   },
   "outputs": [],
   "source": [
    "#Per Monetary\n",
    "df_monetary = df_deploy.loc[:,['clusters','monetary']].groupby('clusters').mean().reset_index()\n",
    "\n",
    "#Per Frequency\n",
    "df_frequency = df_deploy.loc[:,['clusters','frequency']].groupby('clusters').mean().reset_index()\n",
    "\n",
    "#Per Recency\n",
    "df_recency = df_deploy.loc[:,['clusters','recency']].groupby('clusters').mean().reset_index()\n",
    "\n",
    "#Per Pencentual\n",
    "df_client_perc = df_deploy.loc[:,['customer_id','clusters']].groupby('clusters').count().reset_index()\n",
    "df_client_perc['customer_id'] = df_client_perc['customer_id'].apply(lambda x: 100*(x)/(df_client_perc['customer_id'].sum()))\n",
    "df_client_perc = df_client_perc.rename(columns={'customer_id':'percent'})\n",
    "\n",
    "#Per qtd_products\n",
    "df_prods = df_deploy.loc[:,['clusters','qtd_prods']].groupby('clusters').mean().reset_index()\n",
    "\n",
    "#Per Returns\n",
    "df_returns = df_deploy.loc[:,['clusters','qtd_returns']].groupby('clusters').mean().reset_index()\n",
    "\n",
    "#Per Customer\n",
    "df_customer = df_deploy.loc[:,['clusters','customer_id']].groupby('clusters').count().reset_index()\n",
    "\n",
    "df_resume = (pd.merge(df_monetary, df_frequency, on='clusters', how='left')\n",
    "             .merge(df_recency, on='clusters', how='left')\n",
    "             .merge(df_client_perc, on='clusters', how='left')\n",
    "             .merge(df_prods, on='clusters', how='left')\n",
    "             .merge(df_returns, on='clusters', how='left')\n",
    "             .merge(df_customer, on='clusters', how='left'))\n"
   ]
  },
  {
   "cell_type": "code",
   "execution_count": 84,
   "id": "e523452b",
   "metadata": {
    "ExecuteTime": {
     "end_time": "2023-06-22T17:35:12.807954Z",
     "start_time": "2023-06-22T17:35:12.786170Z"
    }
   },
   "outputs": [
    {
     "data": {
      "text/html": [
       "<div>\n",
       "<style scoped>\n",
       "    .dataframe tbody tr th:only-of-type {\n",
       "        vertical-align: middle;\n",
       "    }\n",
       "\n",
       "    .dataframe tbody tr th {\n",
       "        vertical-align: top;\n",
       "    }\n",
       "\n",
       "    .dataframe thead th {\n",
       "        text-align: right;\n",
       "    }\n",
       "</style>\n",
       "<table border=\"1\" class=\"dataframe\">\n",
       "  <thead>\n",
       "    <tr style=\"text-align: right;\">\n",
       "      <th></th>\n",
       "      <th>clusters</th>\n",
       "      <th>monetary</th>\n",
       "      <th>frequency</th>\n",
       "      <th>recency</th>\n",
       "      <th>percent</th>\n",
       "      <th>qtd_prods</th>\n",
       "      <th>qtd_returns</th>\n",
       "      <th>customer_id</th>\n",
       "    </tr>\n",
       "  </thead>\n",
       "  <tbody>\n",
       "    <tr>\n",
       "      <th>0</th>\n",
       "      <td>1</td>\n",
       "      <td>2121.153140</td>\n",
       "      <td>0.047337</td>\n",
       "      <td>57.132000</td>\n",
       "      <td>16.846361</td>\n",
       "      <td>67.232000</td>\n",
       "      <td>10.740000</td>\n",
       "      <td>500</td>\n",
       "    </tr>\n",
       "    <tr>\n",
       "      <th>1</th>\n",
       "      <td>2</td>\n",
       "      <td>819.306358</td>\n",
       "      <td>0.124034</td>\n",
       "      <td>85.728395</td>\n",
       "      <td>5.458221</td>\n",
       "      <td>27.944444</td>\n",
       "      <td>4.000000</td>\n",
       "      <td>162</td>\n",
       "    </tr>\n",
       "    <tr>\n",
       "      <th>2</th>\n",
       "      <td>3</td>\n",
       "      <td>971.025435</td>\n",
       "      <td>0.074586</td>\n",
       "      <td>75.329193</td>\n",
       "      <td>10.849057</td>\n",
       "      <td>37.462733</td>\n",
       "      <td>6.571429</td>\n",
       "      <td>322</td>\n",
       "    </tr>\n",
       "    <tr>\n",
       "      <th>3</th>\n",
       "      <td>4</td>\n",
       "      <td>568.228161</td>\n",
       "      <td>0.298414</td>\n",
       "      <td>116.712644</td>\n",
       "      <td>20.518868</td>\n",
       "      <td>14.123153</td>\n",
       "      <td>16.110016</td>\n",
       "      <td>609</td>\n",
       "    </tr>\n",
       "    <tr>\n",
       "      <th>4</th>\n",
       "      <td>5</td>\n",
       "      <td>9618.034548</td>\n",
       "      <td>0.103263</td>\n",
       "      <td>20.707143</td>\n",
       "      <td>14.150943</td>\n",
       "      <td>447.840476</td>\n",
       "      <td>166.235714</td>\n",
       "      <td>420</td>\n",
       "    </tr>\n",
       "    <tr>\n",
       "      <th>5</th>\n",
       "      <td>6</td>\n",
       "      <td>1685.240506</td>\n",
       "      <td>0.050577</td>\n",
       "      <td>55.002532</td>\n",
       "      <td>13.308625</td>\n",
       "      <td>88.929114</td>\n",
       "      <td>10.313924</td>\n",
       "      <td>395</td>\n",
       "    </tr>\n",
       "    <tr>\n",
       "      <th>6</th>\n",
       "      <td>7</td>\n",
       "      <td>2566.060375</td>\n",
       "      <td>0.044631</td>\n",
       "      <td>40.462500</td>\n",
       "      <td>18.867925</td>\n",
       "      <td>147.032143</td>\n",
       "      <td>20.912500</td>\n",
       "      <td>560</td>\n",
       "    </tr>\n",
       "  </tbody>\n",
       "</table>\n",
       "</div>"
      ],
      "text/plain": [
       "   clusters     monetary  frequency     recency    percent   qtd_prods  \\\n",
       "0         1  2121.153140   0.047337   57.132000  16.846361   67.232000   \n",
       "1         2   819.306358   0.124034   85.728395   5.458221   27.944444   \n",
       "2         3   971.025435   0.074586   75.329193  10.849057   37.462733   \n",
       "3         4   568.228161   0.298414  116.712644  20.518868   14.123153   \n",
       "4         5  9618.034548   0.103263   20.707143  14.150943  447.840476   \n",
       "5         6  1685.240506   0.050577   55.002532  13.308625   88.929114   \n",
       "6         7  2566.060375   0.044631   40.462500  18.867925  147.032143   \n",
       "\n",
       "   qtd_returns  customer_id  \n",
       "0    10.740000          500  \n",
       "1     4.000000          162  \n",
       "2     6.571429          322  \n",
       "3    16.110016          609  \n",
       "4   166.235714          420  \n",
       "5    10.313924          395  \n",
       "6    20.912500          560  "
      ]
     },
     "execution_count": 84,
     "metadata": {},
     "output_type": "execute_result"
    }
   ],
   "source": [
    "df_resume"
   ]
  },
  {
   "cell_type": "markdown",
   "id": "7a47eff3",
   "metadata": {},
   "source": [
    "### Cluster 05 (Insiders)\n"
   ]
  },
  {
   "cell_type": "markdown",
   "id": "0b9cf4e6",
   "metadata": {},
   "source": [
    "- Número de customers = 420\n",
    "- Recência Média = 20.70 dias\n",
    "- Faturamento Médio = R$9618.03\n",
    "- Média de Produtos Comprados = 447 produtos\n",
    "- Frequência de Produtos Comprados = 0.1032 produtos comprados/dia"
   ]
  },
  {
   "cell_type": "code",
   "execution_count": null,
   "id": "93434e1e",
   "metadata": {},
   "outputs": [],
   "source": []
  },
  {
   "cell_type": "markdown",
   "id": "a45ded9c",
   "metadata": {},
   "source": [
    "Cluster 0 - Clientes Esporádicos\n",
    "    - Clientes que comprar pouco, valor baixo, e com uma média de 3 meses. Porém engloba 99% dos clientes\n",
    "    \n",
    "Cluster 1 - Clientes Medianos\n",
    "    - Clientes que compram em média uma vez por mês mas uma quantia maior e um valor maior que os Esporádicos\n",
    "    \n",
    "Cluster 2 - Clientes elegíveis a Insiders\n",
    "    - Gastam muito, toda semana e compram bastante produtos"
   ]
  },
  {
   "cell_type": "markdown",
   "id": "230c3981",
   "metadata": {},
   "source": [
    "# 11.0 DEPLOY TO PRODUCTION"
   ]
  },
  {
   "cell_type": "code",
   "execution_count": 85,
   "id": "5e9d9cdd",
   "metadata": {
    "ExecuteTime": {
     "end_time": "2023-06-22T17:35:16.921110Z",
     "start_time": "2023-06-22T17:35:16.910595Z"
    }
   },
   "outputs": [
    {
     "data": {
      "text/html": [
       "<div>\n",
       "<style scoped>\n",
       "    .dataframe tbody tr th:only-of-type {\n",
       "        vertical-align: middle;\n",
       "    }\n",
       "\n",
       "    .dataframe tbody tr th {\n",
       "        vertical-align: top;\n",
       "    }\n",
       "\n",
       "    .dataframe thead th {\n",
       "        text-align: right;\n",
       "    }\n",
       "</style>\n",
       "<table border=\"1\" class=\"dataframe\">\n",
       "  <thead>\n",
       "    <tr style=\"text-align: right;\">\n",
       "      <th></th>\n",
       "      <th>customer_id</th>\n",
       "      <th>monetary</th>\n",
       "      <th>recency</th>\n",
       "      <th>qtd_prods</th>\n",
       "      <th>frequency</th>\n",
       "      <th>qtd_returns</th>\n",
       "      <th>clusters</th>\n",
       "      <th>last_training</th>\n",
       "    </tr>\n",
       "  </thead>\n",
       "  <tbody>\n",
       "    <tr>\n",
       "      <th>1</th>\n",
       "      <td>12347</td>\n",
       "      <td>4310.00</td>\n",
       "      <td>2</td>\n",
       "      <td>182</td>\n",
       "      <td>0.019126</td>\n",
       "      <td>0</td>\n",
       "      <td>7</td>\n",
       "      <td>2023-06-22 14:35:09</td>\n",
       "    </tr>\n",
       "    <tr>\n",
       "      <th>2</th>\n",
       "      <td>12348</td>\n",
       "      <td>1437.24</td>\n",
       "      <td>75</td>\n",
       "      <td>27</td>\n",
       "      <td>0.014085</td>\n",
       "      <td>0</td>\n",
       "      <td>2</td>\n",
       "      <td>2023-06-22 14:35:09</td>\n",
       "    </tr>\n",
       "    <tr>\n",
       "      <th>5</th>\n",
       "      <td>12352</td>\n",
       "      <td>1385.74</td>\n",
       "      <td>36</td>\n",
       "      <td>77</td>\n",
       "      <td>0.026820</td>\n",
       "      <td>63</td>\n",
       "      <td>6</td>\n",
       "      <td>2023-06-22 14:35:09</td>\n",
       "    </tr>\n",
       "    <tr>\n",
       "      <th>9</th>\n",
       "      <td>12356</td>\n",
       "      <td>2487.43</td>\n",
       "      <td>22</td>\n",
       "      <td>58</td>\n",
       "      <td>0.009868</td>\n",
       "      <td>0</td>\n",
       "      <td>1</td>\n",
       "      <td>2023-06-22 14:35:09</td>\n",
       "    </tr>\n",
       "    <tr>\n",
       "      <th>11</th>\n",
       "      <td>12358</td>\n",
       "      <td>928.06</td>\n",
       "      <td>1</td>\n",
       "      <td>17</td>\n",
       "      <td>0.013333</td>\n",
       "      <td>0</td>\n",
       "      <td>4</td>\n",
       "      <td>2023-06-22 14:35:09</td>\n",
       "    </tr>\n",
       "  </tbody>\n",
       "</table>\n",
       "</div>"
      ],
      "text/plain": [
       "    customer_id  monetary  recency  qtd_prods  frequency  qtd_returns  \\\n",
       "1         12347   4310.00        2        182   0.019126            0   \n",
       "2         12348   1437.24       75         27   0.014085            0   \n",
       "5         12352   1385.74       36         77   0.026820           63   \n",
       "9         12356   2487.43       22         58   0.009868            0   \n",
       "11        12358    928.06        1         17   0.013333            0   \n",
       "\n",
       "    clusters        last_training  \n",
       "1          7  2023-06-22 14:35:09  \n",
       "2          2  2023-06-22 14:35:09  \n",
       "5          6  2023-06-22 14:35:09  \n",
       "9          1  2023-06-22 14:35:09  \n",
       "11         4  2023-06-22 14:35:09  "
      ]
     },
     "execution_count": 85,
     "metadata": {},
     "output_type": "execute_result"
    }
   ],
   "source": [
    "df_deploy.head()"
   ]
  },
  {
   "cell_type": "code",
   "execution_count": 86,
   "id": "4f00bd81",
   "metadata": {
    "ExecuteTime": {
     "end_time": "2023-06-22T17:35:17.108931Z",
     "start_time": "2023-06-22T17:35:17.095357Z"
    }
   },
   "outputs": [
    {
     "data": {
      "text/plain": [
       "customer_id        int64\n",
       "monetary         float64\n",
       "recency            int64\n",
       "qtd_prods          int64\n",
       "frequency        float64\n",
       "qtd_returns        int64\n",
       "clusters           int64\n",
       "last_training     object\n",
       "dtype: object"
      ]
     },
     "execution_count": 86,
     "metadata": {},
     "output_type": "execute_result"
    }
   ],
   "source": [
    "df_deploy.dtypes"
   ]
  },
  {
   "cell_type": "code",
   "execution_count": null,
   "id": "b839d38a",
   "metadata": {},
   "outputs": [],
   "source": []
  },
  {
   "cell_type": "markdown",
   "id": "ee68ee84",
   "metadata": {},
   "source": [
    "## 11.1 Insert into SQLITE"
   ]
  },
  {
   "cell_type": "code",
   "execution_count": 87,
   "id": "baf51c62",
   "metadata": {
    "ExecuteTime": {
     "end_time": "2023-06-22T17:35:20.430890Z",
     "start_time": "2023-06-22T17:35:20.419493Z"
    }
   },
   "outputs": [],
   "source": [
    "import sqlite3\n",
    "from sqlalchemy import create_engine, text"
   ]
  },
  {
   "cell_type": "code",
   "execution_count": 88,
   "id": "96b9c08b",
   "metadata": {
    "ExecuteTime": {
     "end_time": "2023-06-22T17:36:16.115578Z",
     "start_time": "2023-06-22T17:36:16.060439Z"
    }
   },
   "outputs": [
    {
     "data": {
      "text/plain": [
       "2968"
      ]
     },
     "execution_count": 88,
     "metadata": {},
     "output_type": "execute_result"
    }
   ],
   "source": [
    "# #create table\n",
    "# query_create_table_insiders = \"\"\"\n",
    "#     CREATE TABLE insiders (\n",
    "#         customer_id INTEGER,\n",
    "#         monetary    REAL,\n",
    "#         recency     INTEGER,\n",
    "#         qtd_prods   INTEGER,\n",
    "#         frequency   REAL,\n",
    "#         qtd_returns INTEGER,\n",
    "#         clusters    INTEGER   \n",
    "#     )\n",
    "#     \"\"\"  \n",
    " \n",
    "# conn = sqlite3.connect('insiders_db.sqlite') \n",
    "# conn.execute(query_create_table_insiders)\n",
    "# conn.commit()\n",
    "# conn.close()\n",
    "\n",
    "# #insert data - append\n",
    "# conn = create_engine('sqlite:///insiders_db.sqlite')\n",
    "# df_deploy.to_sql('insiders', con=conn, if_exists='append', index=False)\n",
    "# conn.close()\n",
    "\n",
    "# #insert data - replace\n",
    "# conn = create_engine('sqlite:///insiders_db.sqlite')\n",
    "# df_deploy.to_sql('insiders', con=conn, if_exists='replace', index=False)\n",
    "# conn.close()\n",
    "\n",
    "# #select data"
   ]
  },
  {
   "cell_type": "code",
   "execution_count": 89,
   "id": "7f9b6fb0",
   "metadata": {
    "ExecuteTime": {
     "end_time": "2023-06-22T17:36:28.018565Z",
     "start_time": "2023-06-22T17:36:27.993017Z"
    }
   },
   "outputs": [],
   "source": [
    "#consulting database\n",
    "engine = create_engine('sqlite:///insiders_db.sqlite')\n",
    "query = \"\"\"\n",
    "    SELECT * FROM insiders\n",
    "\"\"\"\n",
    "\n",
    "df = pd.read_sql_query(sql=text(query), con=engine.connect())"
   ]
  },
  {
   "cell_type": "code",
   "execution_count": 91,
   "id": "1a8a6ff3",
   "metadata": {
    "ExecuteTime": {
     "end_time": "2023-06-22T17:36:31.002751Z",
     "start_time": "2023-06-22T17:36:30.990684Z"
    }
   },
   "outputs": [
    {
     "data": {
      "text/html": [
       "<div>\n",
       "<style scoped>\n",
       "    .dataframe tbody tr th:only-of-type {\n",
       "        vertical-align: middle;\n",
       "    }\n",
       "\n",
       "    .dataframe tbody tr th {\n",
       "        vertical-align: top;\n",
       "    }\n",
       "\n",
       "    .dataframe thead th {\n",
       "        text-align: right;\n",
       "    }\n",
       "</style>\n",
       "<table border=\"1\" class=\"dataframe\">\n",
       "  <thead>\n",
       "    <tr style=\"text-align: right;\">\n",
       "      <th></th>\n",
       "      <th>customer_id</th>\n",
       "      <th>monetary</th>\n",
       "      <th>recency</th>\n",
       "      <th>qtd_prods</th>\n",
       "      <th>frequency</th>\n",
       "      <th>qtd_returns</th>\n",
       "      <th>clusters</th>\n",
       "      <th>last_training</th>\n",
       "    </tr>\n",
       "  </thead>\n",
       "  <tbody>\n",
       "    <tr>\n",
       "      <th>0</th>\n",
       "      <td>12347</td>\n",
       "      <td>4310.00</td>\n",
       "      <td>2</td>\n",
       "      <td>182</td>\n",
       "      <td>0.019126</td>\n",
       "      <td>0</td>\n",
       "      <td>7</td>\n",
       "      <td>2023-06-22 14:35:09</td>\n",
       "    </tr>\n",
       "    <tr>\n",
       "      <th>1</th>\n",
       "      <td>12348</td>\n",
       "      <td>1437.24</td>\n",
       "      <td>75</td>\n",
       "      <td>27</td>\n",
       "      <td>0.014085</td>\n",
       "      <td>0</td>\n",
       "      <td>2</td>\n",
       "      <td>2023-06-22 14:35:09</td>\n",
       "    </tr>\n",
       "    <tr>\n",
       "      <th>2</th>\n",
       "      <td>12352</td>\n",
       "      <td>1385.74</td>\n",
       "      <td>36</td>\n",
       "      <td>77</td>\n",
       "      <td>0.026820</td>\n",
       "      <td>63</td>\n",
       "      <td>6</td>\n",
       "      <td>2023-06-22 14:35:09</td>\n",
       "    </tr>\n",
       "    <tr>\n",
       "      <th>3</th>\n",
       "      <td>12356</td>\n",
       "      <td>2487.43</td>\n",
       "      <td>22</td>\n",
       "      <td>58</td>\n",
       "      <td>0.009868</td>\n",
       "      <td>0</td>\n",
       "      <td>1</td>\n",
       "      <td>2023-06-22 14:35:09</td>\n",
       "    </tr>\n",
       "    <tr>\n",
       "      <th>4</th>\n",
       "      <td>12358</td>\n",
       "      <td>928.06</td>\n",
       "      <td>1</td>\n",
       "      <td>17</td>\n",
       "      <td>0.013333</td>\n",
       "      <td>0</td>\n",
       "      <td>4</td>\n",
       "      <td>2023-06-22 14:35:09</td>\n",
       "    </tr>\n",
       "    <tr>\n",
       "      <th>...</th>\n",
       "      <td>...</td>\n",
       "      <td>...</td>\n",
       "      <td>...</td>\n",
       "      <td>...</td>\n",
       "      <td>...</td>\n",
       "      <td>...</td>\n",
       "      <td>...</td>\n",
       "      <td>...</td>\n",
       "    </tr>\n",
       "    <tr>\n",
       "      <th>2963</th>\n",
       "      <td>18276</td>\n",
       "      <td>335.86</td>\n",
       "      <td>43</td>\n",
       "      <td>14</td>\n",
       "      <td>1.000000</td>\n",
       "      <td>2</td>\n",
       "      <td>4</td>\n",
       "      <td>2023-06-22 14:35:09</td>\n",
       "    </tr>\n",
       "    <tr>\n",
       "      <th>2964</th>\n",
       "      <td>18277</td>\n",
       "      <td>110.38</td>\n",
       "      <td>58</td>\n",
       "      <td>8</td>\n",
       "      <td>1.000000</td>\n",
       "      <td>1</td>\n",
       "      <td>4</td>\n",
       "      <td>2023-06-22 14:35:09</td>\n",
       "    </tr>\n",
       "    <tr>\n",
       "      <th>2965</th>\n",
       "      <td>18282</td>\n",
       "      <td>178.05</td>\n",
       "      <td>7</td>\n",
       "      <td>12</td>\n",
       "      <td>0.016667</td>\n",
       "      <td>5</td>\n",
       "      <td>4</td>\n",
       "      <td>2023-06-22 14:35:09</td>\n",
       "    </tr>\n",
       "    <tr>\n",
       "      <th>2966</th>\n",
       "      <td>18283</td>\n",
       "      <td>2088.93</td>\n",
       "      <td>3</td>\n",
       "      <td>754</td>\n",
       "      <td>0.047761</td>\n",
       "      <td>0</td>\n",
       "      <td>5</td>\n",
       "      <td>2023-06-22 14:35:09</td>\n",
       "    </tr>\n",
       "    <tr>\n",
       "      <th>2967</th>\n",
       "      <td>18287</td>\n",
       "      <td>1837.28</td>\n",
       "      <td>42</td>\n",
       "      <td>70</td>\n",
       "      <td>0.018750</td>\n",
       "      <td>0</td>\n",
       "      <td>1</td>\n",
       "      <td>2023-06-22 14:35:09</td>\n",
       "    </tr>\n",
       "  </tbody>\n",
       "</table>\n",
       "<p>2968 rows × 8 columns</p>\n",
       "</div>"
      ],
      "text/plain": [
       "      customer_id  monetary  recency  qtd_prods  frequency  qtd_returns  \\\n",
       "0           12347   4310.00        2        182   0.019126            0   \n",
       "1           12348   1437.24       75         27   0.014085            0   \n",
       "2           12352   1385.74       36         77   0.026820           63   \n",
       "3           12356   2487.43       22         58   0.009868            0   \n",
       "4           12358    928.06        1         17   0.013333            0   \n",
       "...           ...       ...      ...        ...        ...          ...   \n",
       "2963        18276    335.86       43         14   1.000000            2   \n",
       "2964        18277    110.38       58          8   1.000000            1   \n",
       "2965        18282    178.05        7         12   0.016667            5   \n",
       "2966        18283   2088.93        3        754   0.047761            0   \n",
       "2967        18287   1837.28       42         70   0.018750            0   \n",
       "\n",
       "      clusters        last_training  \n",
       "0            7  2023-06-22 14:35:09  \n",
       "1            2  2023-06-22 14:35:09  \n",
       "2            6  2023-06-22 14:35:09  \n",
       "3            1  2023-06-22 14:35:09  \n",
       "4            4  2023-06-22 14:35:09  \n",
       "...        ...                  ...  \n",
       "2963         4  2023-06-22 14:35:09  \n",
       "2964         4  2023-06-22 14:35:09  \n",
       "2965         4  2023-06-22 14:35:09  \n",
       "2966         5  2023-06-22 14:35:09  \n",
       "2967         1  2023-06-22 14:35:09  \n",
       "\n",
       "[2968 rows x 8 columns]"
      ]
     },
     "execution_count": 91,
     "metadata": {},
     "output_type": "execute_result"
    }
   ],
   "source": [
    "df"
   ]
  },
  {
   "cell_type": "code",
   "execution_count": null,
   "id": "d931751f",
   "metadata": {},
   "outputs": [],
   "source": []
  }
 ],
 "metadata": {
  "hide_input": false,
  "kernelspec": {
   "display_name": "Python 3 (ipykernel)",
   "language": "python",
   "name": "python3"
  },
  "language_info": {
   "codemirror_mode": {
    "name": "ipython",
    "version": 3
   },
   "file_extension": ".py",
   "mimetype": "text/x-python",
   "name": "python",
   "nbconvert_exporter": "python",
   "pygments_lexer": "ipython3",
   "version": "3.10.11"
  },
  "varInspector": {
   "cols": {
    "lenName": 16,
    "lenType": 16,
    "lenVar": 40
   },
   "kernels_config": {
    "python": {
     "delete_cmd_postfix": "",
     "delete_cmd_prefix": "del ",
     "library": "var_list.py",
     "varRefreshCmd": "print(var_dic_list())"
    },
    "r": {
     "delete_cmd_postfix": ") ",
     "delete_cmd_prefix": "rm(",
     "library": "var_list.r",
     "varRefreshCmd": "cat(var_dic_list()) "
    }
   },
   "types_to_exclude": [
    "module",
    "function",
    "builtin_function_or_method",
    "instance",
    "_Feature"
   ],
   "window_display": false
  }
 },
 "nbformat": 4,
 "nbformat_minor": 5
}
