{
 "cells": [
  {
   "cell_type": "markdown",
   "id": "be553885",
   "metadata": {},
   "source": [
    "# 0.0 IMPORTS"
   ]
  },
  {
   "cell_type": "code",
   "execution_count": 120,
   "id": "593a5dbd",
   "metadata": {
    "ExecuteTime": {
     "end_time": "2023-06-19T17:56:16.722526Z",
     "start_time": "2023-06-19T17:56:08.557618Z"
    }
   },
   "outputs": [],
   "source": [
    "import pandas   as pd\n",
    "import numpy    as np\n",
    "import seaborn  as sns\n",
    "import inflection\n",
    "import warnings\n",
    "import re\n",
    "import umap.umap_ as umap\n",
    "import matplotlib.cm as cm\n",
    "\n",
    "from matplotlib    import pyplot     as plt\n",
    "from plotly        import express    as px\n",
    "from scipy.cluster import hierarchy  as hc\n",
    "\n",
    "\n",
    "from sklearn             import cluster       as c\n",
    "from sklearn             import metrics       as mt\n",
    "from sklearn             import preprocessing as pp\n",
    "from sklearn             import decomposition as dd\n",
    "from sklearn.manifold    import TSNE\n",
    "from sklearn             import ensemble      as en\n",
    "from sklearn.mixture     import GaussianMixture\n",
    "\n",
    "warnings.filterwarnings('ignore')"
   ]
  },
  {
   "cell_type": "markdown",
   "id": "2f34031b",
   "metadata": {},
   "source": [
    "## 0.2 Loading Data"
   ]
  },
  {
   "cell_type": "code",
   "execution_count": 121,
   "id": "a9408282",
   "metadata": {
    "ExecuteTime": {
     "end_time": "2023-06-19T17:56:16.769151Z",
     "start_time": "2023-06-19T17:56:16.755797Z"
    }
   },
   "outputs": [],
   "source": [
    "path = 'C:/Users/edils/repos/customer_fidelity/data/'\n",
    "df_raw = pd.read_csv(path + 'ecommerce.csv', encoding='windows-1252')\n",
    "df_raw = df_raw.drop('Unnamed: 8', axis=1)"
   ]
  },
  {
   "cell_type": "code",
   "execution_count": 122,
   "id": "8d8b8f41",
   "metadata": {
    "ExecuteTime": {
     "end_time": "2023-06-19T17:56:17.222200Z",
     "start_time": "2023-06-19T17:56:16.770179Z"
    }
   },
   "outputs": [
    {
     "data": {
      "text/html": [
       "<div>\n",
       "<style scoped>\n",
       "    .dataframe tbody tr th:only-of-type {\n",
       "        vertical-align: middle;\n",
       "    }\n",
       "\n",
       "    .dataframe tbody tr th {\n",
       "        vertical-align: top;\n",
       "    }\n",
       "\n",
       "    .dataframe thead th {\n",
       "        text-align: right;\n",
       "    }\n",
       "</style>\n",
       "<table border=\"1\" class=\"dataframe\">\n",
       "  <thead>\n",
       "    <tr style=\"text-align: right;\">\n",
       "      <th></th>\n",
       "      <th>InvoiceNo</th>\n",
       "      <th>StockCode</th>\n",
       "      <th>Description</th>\n",
       "      <th>Quantity</th>\n",
       "      <th>InvoiceDate</th>\n",
       "      <th>UnitPrice</th>\n",
       "      <th>CustomerID</th>\n",
       "      <th>Country</th>\n",
       "    </tr>\n",
       "  </thead>\n",
       "  <tbody>\n",
       "    <tr>\n",
       "      <th>0</th>\n",
       "      <td>536365</td>\n",
       "      <td>85123A</td>\n",
       "      <td>WHITE HANGING HEART T-LIGHT HOLDER</td>\n",
       "      <td>6</td>\n",
       "      <td>29-Nov-16</td>\n",
       "      <td>2.55</td>\n",
       "      <td>17850.0</td>\n",
       "      <td>United Kingdom</td>\n",
       "    </tr>\n",
       "    <tr>\n",
       "      <th>1</th>\n",
       "      <td>536365</td>\n",
       "      <td>71053</td>\n",
       "      <td>WHITE METAL LANTERN</td>\n",
       "      <td>6</td>\n",
       "      <td>29-Nov-16</td>\n",
       "      <td>3.39</td>\n",
       "      <td>17850.0</td>\n",
       "      <td>United Kingdom</td>\n",
       "    </tr>\n",
       "    <tr>\n",
       "      <th>2</th>\n",
       "      <td>536365</td>\n",
       "      <td>84406B</td>\n",
       "      <td>CREAM CUPID HEARTS COAT HANGER</td>\n",
       "      <td>8</td>\n",
       "      <td>29-Nov-16</td>\n",
       "      <td>2.75</td>\n",
       "      <td>17850.0</td>\n",
       "      <td>United Kingdom</td>\n",
       "    </tr>\n",
       "    <tr>\n",
       "      <th>3</th>\n",
       "      <td>536365</td>\n",
       "      <td>84029G</td>\n",
       "      <td>KNITTED UNION FLAG HOT WATER BOTTLE</td>\n",
       "      <td>6</td>\n",
       "      <td>29-Nov-16</td>\n",
       "      <td>3.39</td>\n",
       "      <td>17850.0</td>\n",
       "      <td>United Kingdom</td>\n",
       "    </tr>\n",
       "    <tr>\n",
       "      <th>4</th>\n",
       "      <td>536365</td>\n",
       "      <td>84029E</td>\n",
       "      <td>RED WOOLLY HOTTIE WHITE HEART.</td>\n",
       "      <td>6</td>\n",
       "      <td>29-Nov-16</td>\n",
       "      <td>3.39</td>\n",
       "      <td>17850.0</td>\n",
       "      <td>United Kingdom</td>\n",
       "    </tr>\n",
       "  </tbody>\n",
       "</table>\n",
       "</div>"
      ],
      "text/plain": [
       "  InvoiceNo StockCode                          Description  Quantity InvoiceDate  UnitPrice  CustomerID         Country\n",
       "0    536365    85123A   WHITE HANGING HEART T-LIGHT HOLDER         6   29-Nov-16       2.55     17850.0  United Kingdom\n",
       "1    536365     71053                  WHITE METAL LANTERN         6   29-Nov-16       3.39     17850.0  United Kingdom\n",
       "2    536365    84406B       CREAM CUPID HEARTS COAT HANGER         8   29-Nov-16       2.75     17850.0  United Kingdom\n",
       "3    536365    84029G  KNITTED UNION FLAG HOT WATER BOTTLE         6   29-Nov-16       3.39     17850.0  United Kingdom\n",
       "4    536365    84029E       RED WOOLLY HOTTIE WHITE HEART.         6   29-Nov-16       3.39     17850.0  United Kingdom"
      ]
     },
     "execution_count": 122,
     "metadata": {},
     "output_type": "execute_result"
    }
   ],
   "source": [
    "df_raw.head()"
   ]
  },
  {
   "cell_type": "markdown",
   "id": "b8105035",
   "metadata": {},
   "source": [
    "# 1.0 DATA DESCRIPTION"
   ]
  },
  {
   "cell_type": "code",
   "execution_count": 123,
   "id": "90655a19",
   "metadata": {
    "ExecuteTime": {
     "end_time": "2023-06-19T17:56:17.300345Z",
     "start_time": "2023-06-19T17:56:17.287431Z"
    }
   },
   "outputs": [],
   "source": [
    "df1 = df_raw.copy()"
   ]
  },
  {
   "cell_type": "code",
   "execution_count": 124,
   "id": "fbaf3b4b",
   "metadata": {
    "ExecuteTime": {
     "end_time": "2023-06-19T17:56:17.315832Z",
     "start_time": "2023-06-19T17:56:17.302347Z"
    }
   },
   "outputs": [
    {
     "data": {
      "text/html": [
       "<div>\n",
       "<style scoped>\n",
       "    .dataframe tbody tr th:only-of-type {\n",
       "        vertical-align: middle;\n",
       "    }\n",
       "\n",
       "    .dataframe tbody tr th {\n",
       "        vertical-align: top;\n",
       "    }\n",
       "\n",
       "    .dataframe thead th {\n",
       "        text-align: right;\n",
       "    }\n",
       "</style>\n",
       "<table border=\"1\" class=\"dataframe\">\n",
       "  <thead>\n",
       "    <tr style=\"text-align: right;\">\n",
       "      <th></th>\n",
       "      <th>InvoiceNo</th>\n",
       "      <th>StockCode</th>\n",
       "      <th>Description</th>\n",
       "      <th>Quantity</th>\n",
       "      <th>InvoiceDate</th>\n",
       "      <th>UnitPrice</th>\n",
       "      <th>CustomerID</th>\n",
       "      <th>Country</th>\n",
       "    </tr>\n",
       "  </thead>\n",
       "  <tbody>\n",
       "    <tr>\n",
       "      <th>0</th>\n",
       "      <td>536365</td>\n",
       "      <td>85123A</td>\n",
       "      <td>WHITE HANGING HEART T-LIGHT HOLDER</td>\n",
       "      <td>6</td>\n",
       "      <td>29-Nov-16</td>\n",
       "      <td>2.55</td>\n",
       "      <td>17850.0</td>\n",
       "      <td>United Kingdom</td>\n",
       "    </tr>\n",
       "    <tr>\n",
       "      <th>1</th>\n",
       "      <td>536365</td>\n",
       "      <td>71053</td>\n",
       "      <td>WHITE METAL LANTERN</td>\n",
       "      <td>6</td>\n",
       "      <td>29-Nov-16</td>\n",
       "      <td>3.39</td>\n",
       "      <td>17850.0</td>\n",
       "      <td>United Kingdom</td>\n",
       "    </tr>\n",
       "    <tr>\n",
       "      <th>2</th>\n",
       "      <td>536365</td>\n",
       "      <td>84406B</td>\n",
       "      <td>CREAM CUPID HEARTS COAT HANGER</td>\n",
       "      <td>8</td>\n",
       "      <td>29-Nov-16</td>\n",
       "      <td>2.75</td>\n",
       "      <td>17850.0</td>\n",
       "      <td>United Kingdom</td>\n",
       "    </tr>\n",
       "    <tr>\n",
       "      <th>3</th>\n",
       "      <td>536365</td>\n",
       "      <td>84029G</td>\n",
       "      <td>KNITTED UNION FLAG HOT WATER BOTTLE</td>\n",
       "      <td>6</td>\n",
       "      <td>29-Nov-16</td>\n",
       "      <td>3.39</td>\n",
       "      <td>17850.0</td>\n",
       "      <td>United Kingdom</td>\n",
       "    </tr>\n",
       "    <tr>\n",
       "      <th>4</th>\n",
       "      <td>536365</td>\n",
       "      <td>84029E</td>\n",
       "      <td>RED WOOLLY HOTTIE WHITE HEART.</td>\n",
       "      <td>6</td>\n",
       "      <td>29-Nov-16</td>\n",
       "      <td>3.39</td>\n",
       "      <td>17850.0</td>\n",
       "      <td>United Kingdom</td>\n",
       "    </tr>\n",
       "  </tbody>\n",
       "</table>\n",
       "</div>"
      ],
      "text/plain": [
       "  InvoiceNo StockCode                          Description  Quantity InvoiceDate  UnitPrice  CustomerID         Country\n",
       "0    536365    85123A   WHITE HANGING HEART T-LIGHT HOLDER         6   29-Nov-16       2.55     17850.0  United Kingdom\n",
       "1    536365     71053                  WHITE METAL LANTERN         6   29-Nov-16       3.39     17850.0  United Kingdom\n",
       "2    536365    84406B       CREAM CUPID HEARTS COAT HANGER         8   29-Nov-16       2.75     17850.0  United Kingdom\n",
       "3    536365    84029G  KNITTED UNION FLAG HOT WATER BOTTLE         6   29-Nov-16       3.39     17850.0  United Kingdom\n",
       "4    536365    84029E       RED WOOLLY HOTTIE WHITE HEART.         6   29-Nov-16       3.39     17850.0  United Kingdom"
      ]
     },
     "execution_count": 124,
     "metadata": {},
     "output_type": "execute_result"
    }
   ],
   "source": [
    "df1.head()"
   ]
  },
  {
   "cell_type": "markdown",
   "id": "65817ca0",
   "metadata": {},
   "source": [
    "## 1.1 Rename Columns"
   ]
  },
  {
   "cell_type": "code",
   "execution_count": 125,
   "id": "08b15123",
   "metadata": {
    "ExecuteTime": {
     "end_time": "2023-06-19T17:56:17.347417Z",
     "start_time": "2023-06-19T17:56:17.332581Z"
    }
   },
   "outputs": [],
   "source": [
    "df1.columns = df1.columns.map(lambda x: inflection.underscore(x))"
   ]
  },
  {
   "cell_type": "markdown",
   "id": "4b16e150",
   "metadata": {},
   "source": [
    "## 1.2 Data Dimensions"
   ]
  },
  {
   "cell_type": "code",
   "execution_count": 126,
   "id": "2e6f1a12",
   "metadata": {
    "ExecuteTime": {
     "end_time": "2023-06-19T17:56:17.363403Z",
     "start_time": "2023-06-19T17:56:17.349586Z"
    }
   },
   "outputs": [
    {
     "data": {
      "text/plain": [
       "(541909, 8)"
      ]
     },
     "execution_count": 126,
     "metadata": {},
     "output_type": "execute_result"
    }
   ],
   "source": [
    "df1.shape"
   ]
  },
  {
   "cell_type": "markdown",
   "id": "94d5281a",
   "metadata": {},
   "source": [
    "## 1.3 Data Types"
   ]
  },
  {
   "cell_type": "code",
   "execution_count": 127,
   "id": "6b312fa9",
   "metadata": {
    "ExecuteTime": {
     "end_time": "2023-06-19T17:56:17.379352Z",
     "start_time": "2023-06-19T17:56:17.365445Z"
    }
   },
   "outputs": [
    {
     "data": {
      "text/plain": [
       "invoice_no       object\n",
       "stock_code       object\n",
       "description      object\n",
       "quantity          int64\n",
       "invoice_date     object\n",
       "unit_price      float64\n",
       "customer_id     float64\n",
       "country          object\n",
       "dtype: object"
      ]
     },
     "execution_count": 127,
     "metadata": {},
     "output_type": "execute_result"
    }
   ],
   "source": [
    "df1.dtypes"
   ]
  },
  {
   "cell_type": "markdown",
   "id": "6cef345d",
   "metadata": {},
   "source": [
    "## 1.4 Check NA"
   ]
  },
  {
   "cell_type": "code",
   "execution_count": 128,
   "id": "0ca201d8",
   "metadata": {
    "ExecuteTime": {
     "end_time": "2023-06-19T17:56:17.628817Z",
     "start_time": "2023-06-19T17:56:17.381553Z"
    }
   },
   "outputs": [
    {
     "data": {
      "text/plain": [
       "invoice_no           0\n",
       "stock_code           0\n",
       "description       1454\n",
       "quantity             0\n",
       "invoice_date         0\n",
       "unit_price           0\n",
       "customer_id     135080\n",
       "country              0\n",
       "dtype: int64"
      ]
     },
     "execution_count": 128,
     "metadata": {},
     "output_type": "execute_result"
    }
   ],
   "source": [
    "df1.isna().sum()"
   ]
  },
  {
   "cell_type": "markdown",
   "id": "2876576c",
   "metadata": {},
   "source": [
    "## 1.5 Replace NA"
   ]
  },
  {
   "cell_type": "code",
   "execution_count": 129,
   "id": "34a87ef4",
   "metadata": {
    "ExecuteTime": {
     "end_time": "2023-06-19T17:56:17.644510Z",
     "start_time": "2023-06-19T17:56:17.630294Z"
    }
   },
   "outputs": [],
   "source": [
    "df_missing = df1.loc[pd.isnull(df1['customer_id']),:]"
   ]
  },
  {
   "cell_type": "code",
   "execution_count": 130,
   "id": "d7ea6abe",
   "metadata": {
    "ExecuteTime": {
     "end_time": "2023-06-19T17:56:17.785276Z",
     "start_time": "2023-06-19T17:56:17.646582Z"
    }
   },
   "outputs": [],
   "source": [
    "#create reference\n",
    "df_backup = pd.DataFrame(df_missing['invoice_no'].drop_duplicates())\n",
    "df_backup['customer_id'] = np.arange(19000, 19000+len(df_backup),1)\n",
    "\n",
    "#merge\n",
    "df1 = pd.merge(df1, df_backup, on='invoice_no', how='left')\n",
    "\n",
    "#coalesce - combina o que tem NaN em uma coluna com o que não tem em outra\n",
    "df1['customer_id'] = df1['customer_id_x'].combine_first(df1['customer_id_y'])\n",
    "\n",
    "#drop extra columns\n",
    "df1 = df1.drop(['customer_id_x','customer_id_y'], axis=1)"
   ]
  },
  {
   "cell_type": "markdown",
   "id": "501ca33c",
   "metadata": {},
   "source": [
    "## 1.6 Change Types"
   ]
  },
  {
   "cell_type": "code",
   "execution_count": 131,
   "id": "c19552d6",
   "metadata": {
    "ExecuteTime": {
     "end_time": "2023-06-19T17:56:17.863517Z",
     "start_time": "2023-06-19T17:56:17.802890Z"
    }
   },
   "outputs": [],
   "source": [
    "df1['invoice_date'] = pd.to_datetime(df1['invoice_date'])"
   ]
  },
  {
   "cell_type": "markdown",
   "id": "2a91b005",
   "metadata": {},
   "source": [
    "## 1.7 Descriptive Statistics"
   ]
  },
  {
   "cell_type": "code",
   "execution_count": 132,
   "id": "abac0617",
   "metadata": {
    "ExecuteTime": {
     "end_time": "2023-06-19T17:56:17.910325Z",
     "start_time": "2023-06-19T17:56:17.865518Z"
    }
   },
   "outputs": [],
   "source": [
    "numerical_attributes = df1.select_dtypes(include=['float64', 'int64', 'datetime64[ns]'])\n",
    "categorical_atributtes = df1.select_dtypes(exclude=['float64', 'int64', 'datetime64[ns]'])"
   ]
  },
  {
   "cell_type": "markdown",
   "id": "c7494683",
   "metadata": {},
   "source": [
    "## 1.7.1 Numerical Analysis"
   ]
  },
  {
   "cell_type": "code",
   "execution_count": 133,
   "id": "992da35c",
   "metadata": {
    "ExecuteTime": {
     "end_time": "2023-06-19T17:56:20.152367Z",
     "start_time": "2023-06-19T17:56:17.912418Z"
    }
   },
   "outputs": [],
   "source": [
    "disp = numerical_attributes.agg(['mean','median','std','min','max',lambda x: max(x) - min(x), 'skew', 'kurtosis']).T.rename(columns={'<lambda>':'range'})"
   ]
  },
  {
   "cell_type": "code",
   "execution_count": 134,
   "id": "1d62e6b5",
   "metadata": {
    "ExecuteTime": {
     "end_time": "2023-06-19T17:56:20.167523Z",
     "start_time": "2023-06-19T17:56:20.154433Z"
    }
   },
   "outputs": [
    {
     "data": {
      "text/html": [
       "<div>\n",
       "<style scoped>\n",
       "    .dataframe tbody tr th:only-of-type {\n",
       "        vertical-align: middle;\n",
       "    }\n",
       "\n",
       "    .dataframe tbody tr th {\n",
       "        vertical-align: top;\n",
       "    }\n",
       "\n",
       "    .dataframe thead th {\n",
       "        text-align: right;\n",
       "    }\n",
       "</style>\n",
       "<table border=\"1\" class=\"dataframe\">\n",
       "  <thead>\n",
       "    <tr style=\"text-align: right;\">\n",
       "      <th></th>\n",
       "      <th>mean</th>\n",
       "      <th>median</th>\n",
       "      <th>std</th>\n",
       "      <th>min</th>\n",
       "      <th>max</th>\n",
       "      <th>range</th>\n",
       "      <th>skew</th>\n",
       "      <th>kurtosis</th>\n",
       "    </tr>\n",
       "  </thead>\n",
       "  <tbody>\n",
       "    <tr>\n",
       "      <th>quantity</th>\n",
       "      <td>9.55225</td>\n",
       "      <td>3.0</td>\n",
       "      <td>218.081158</td>\n",
       "      <td>-80995.0</td>\n",
       "      <td>80995.0</td>\n",
       "      <td>161990.0</td>\n",
       "      <td>-0.264076</td>\n",
       "      <td>119769.160031</td>\n",
       "    </tr>\n",
       "    <tr>\n",
       "      <th>invoice_date</th>\n",
       "      <td>2017-07-02 00:00:13.073782016</td>\n",
       "      <td>2017-07-17 00:00:00</td>\n",
       "      <td>115 days 21:02:59.177457004</td>\n",
       "      <td>2016-11-29 00:00:00</td>\n",
       "      <td>2017-12-07 00:00:00</td>\n",
       "      <td>373 days 00:00:00</td>\n",
       "      <td>NaN</td>\n",
       "      <td>NaN</td>\n",
       "    </tr>\n",
       "    <tr>\n",
       "      <th>unit_price</th>\n",
       "      <td>4.611114</td>\n",
       "      <td>2.08</td>\n",
       "      <td>96.759853</td>\n",
       "      <td>-11062.06</td>\n",
       "      <td>38970.0</td>\n",
       "      <td>50032.06</td>\n",
       "      <td>186.506972</td>\n",
       "      <td>59005.719097</td>\n",
       "    </tr>\n",
       "    <tr>\n",
       "      <th>customer_id</th>\n",
       "      <td>16688.840453</td>\n",
       "      <td>16249.0</td>\n",
       "      <td>2911.411352</td>\n",
       "      <td>12346.0</td>\n",
       "      <td>22709.0</td>\n",
       "      <td>10363.0</td>\n",
       "      <td>0.487449</td>\n",
       "      <td>-0.804287</td>\n",
       "    </tr>\n",
       "  </tbody>\n",
       "</table>\n",
       "</div>"
      ],
      "text/plain": [
       "                                       mean               median                          std                  min                  max              range        skew       kurtosis\n",
       "quantity                            9.55225                  3.0                   218.081158             -80995.0              80995.0           161990.0   -0.264076  119769.160031\n",
       "invoice_date  2017-07-02 00:00:13.073782016  2017-07-17 00:00:00  115 days 21:02:59.177457004  2016-11-29 00:00:00  2017-12-07 00:00:00  373 days 00:00:00         NaN            NaN\n",
       "unit_price                         4.611114                 2.08                    96.759853            -11062.06              38970.0           50032.06  186.506972   59005.719097\n",
       "customer_id                    16688.840453              16249.0                  2911.411352              12346.0              22709.0            10363.0    0.487449      -0.804287"
      ]
     },
     "execution_count": 134,
     "metadata": {},
     "output_type": "execute_result"
    }
   ],
   "source": [
    "disp"
   ]
  },
  {
   "cell_type": "markdown",
   "id": "e4c02951",
   "metadata": {},
   "source": [
    "Podemos ver que existes dados grandes e negativos em 'quantity'e também produtos igual a 0.0 em unit_price"
   ]
  },
  {
   "cell_type": "markdown",
   "id": "2ec3a79e",
   "metadata": {},
   "source": [
    "## 1.7.2 Categorical Atributtes"
   ]
  },
  {
   "cell_type": "code",
   "execution_count": 135,
   "id": "c4fc90a4",
   "metadata": {
    "ExecuteTime": {
     "end_time": "2023-06-19T17:56:20.183184Z",
     "start_time": "2023-06-19T17:56:20.168560Z"
    }
   },
   "outputs": [
    {
     "data": {
      "text/html": [
       "<div>\n",
       "<style scoped>\n",
       "    .dataframe tbody tr th:only-of-type {\n",
       "        vertical-align: middle;\n",
       "    }\n",
       "\n",
       "    .dataframe tbody tr th {\n",
       "        vertical-align: top;\n",
       "    }\n",
       "\n",
       "    .dataframe thead th {\n",
       "        text-align: right;\n",
       "    }\n",
       "</style>\n",
       "<table border=\"1\" class=\"dataframe\">\n",
       "  <thead>\n",
       "    <tr style=\"text-align: right;\">\n",
       "      <th></th>\n",
       "      <th>invoice_no</th>\n",
       "      <th>stock_code</th>\n",
       "      <th>description</th>\n",
       "      <th>country</th>\n",
       "    </tr>\n",
       "  </thead>\n",
       "  <tbody>\n",
       "    <tr>\n",
       "      <th>0</th>\n",
       "      <td>536365</td>\n",
       "      <td>85123A</td>\n",
       "      <td>WHITE HANGING HEART T-LIGHT HOLDER</td>\n",
       "      <td>United Kingdom</td>\n",
       "    </tr>\n",
       "    <tr>\n",
       "      <th>1</th>\n",
       "      <td>536365</td>\n",
       "      <td>71053</td>\n",
       "      <td>WHITE METAL LANTERN</td>\n",
       "      <td>United Kingdom</td>\n",
       "    </tr>\n",
       "    <tr>\n",
       "      <th>2</th>\n",
       "      <td>536365</td>\n",
       "      <td>84406B</td>\n",
       "      <td>CREAM CUPID HEARTS COAT HANGER</td>\n",
       "      <td>United Kingdom</td>\n",
       "    </tr>\n",
       "    <tr>\n",
       "      <th>3</th>\n",
       "      <td>536365</td>\n",
       "      <td>84029G</td>\n",
       "      <td>KNITTED UNION FLAG HOT WATER BOTTLE</td>\n",
       "      <td>United Kingdom</td>\n",
       "    </tr>\n",
       "    <tr>\n",
       "      <th>4</th>\n",
       "      <td>536365</td>\n",
       "      <td>84029E</td>\n",
       "      <td>RED WOOLLY HOTTIE WHITE HEART.</td>\n",
       "      <td>United Kingdom</td>\n",
       "    </tr>\n",
       "    <tr>\n",
       "      <th>...</th>\n",
       "      <td>...</td>\n",
       "      <td>...</td>\n",
       "      <td>...</td>\n",
       "      <td>...</td>\n",
       "    </tr>\n",
       "    <tr>\n",
       "      <th>541904</th>\n",
       "      <td>581587</td>\n",
       "      <td>22613</td>\n",
       "      <td>PACK OF 20 SPACEBOY NAPKINS</td>\n",
       "      <td>France</td>\n",
       "    </tr>\n",
       "    <tr>\n",
       "      <th>541905</th>\n",
       "      <td>581587</td>\n",
       "      <td>22899</td>\n",
       "      <td>CHILDREN'S APRON DOLLY GIRL</td>\n",
       "      <td>France</td>\n",
       "    </tr>\n",
       "    <tr>\n",
       "      <th>541906</th>\n",
       "      <td>581587</td>\n",
       "      <td>23254</td>\n",
       "      <td>CHILDRENS CUTLERY DOLLY GIRL</td>\n",
       "      <td>France</td>\n",
       "    </tr>\n",
       "    <tr>\n",
       "      <th>541907</th>\n",
       "      <td>581587</td>\n",
       "      <td>23255</td>\n",
       "      <td>CHILDRENS CUTLERY CIRCUS PARADE</td>\n",
       "      <td>France</td>\n",
       "    </tr>\n",
       "    <tr>\n",
       "      <th>541908</th>\n",
       "      <td>581587</td>\n",
       "      <td>22138</td>\n",
       "      <td>BAKING SET 9 PIECE RETROSPOT</td>\n",
       "      <td>France</td>\n",
       "    </tr>\n",
       "  </tbody>\n",
       "</table>\n",
       "<p>541909 rows × 4 columns</p>\n",
       "</div>"
      ],
      "text/plain": [
       "       invoice_no stock_code                          description         country\n",
       "0          536365     85123A   WHITE HANGING HEART T-LIGHT HOLDER  United Kingdom\n",
       "1          536365      71053                  WHITE METAL LANTERN  United Kingdom\n",
       "2          536365     84406B       CREAM CUPID HEARTS COAT HANGER  United Kingdom\n",
       "3          536365     84029G  KNITTED UNION FLAG HOT WATER BOTTLE  United Kingdom\n",
       "4          536365     84029E       RED WOOLLY HOTTIE WHITE HEART.  United Kingdom\n",
       "...           ...        ...                                  ...             ...\n",
       "541904     581587      22613          PACK OF 20 SPACEBOY NAPKINS          France\n",
       "541905     581587      22899         CHILDREN'S APRON DOLLY GIRL           France\n",
       "541906     581587      23254        CHILDRENS CUTLERY DOLLY GIRL           France\n",
       "541907     581587      23255      CHILDRENS CUTLERY CIRCUS PARADE          France\n",
       "541908     581587      22138        BAKING SET 9 PIECE RETROSPOT           France\n",
       "\n",
       "[541909 rows x 4 columns]"
      ]
     },
     "execution_count": 135,
     "metadata": {},
     "output_type": "execute_result"
    }
   ],
   "source": [
    "categorical_atributtes"
   ]
  },
  {
   "cell_type": "code",
   "execution_count": 136,
   "id": "5d4bd60a",
   "metadata": {
    "ExecuteTime": {
     "end_time": "2023-06-19T17:56:20.575052Z",
     "start_time": "2023-06-19T17:56:20.184207Z"
    }
   },
   "outputs": [
    {
     "data": {
      "text/plain": [
       "True"
      ]
     },
     "execution_count": 136,
     "metadata": {},
     "output_type": "execute_result"
    }
   ],
   "source": [
    "#invoice_no\n",
    "letter_lines = categorical_atributtes['invoice_no'].apply(lambda x: bool (re.search('[a-zA-Z]', x)))\n",
    "letter_df = df1.loc[letter_lines,'quantity']\n",
    "any(letter_df >0)"
   ]
  },
  {
   "cell_type": "markdown",
   "id": "a79549bb",
   "metadata": {},
   "source": [
    "Todos os valores de invoice que começam com C tem valores de quantidade negativos, provavelmente são itens de devolução"
   ]
  },
  {
   "cell_type": "code",
   "execution_count": 137,
   "id": "5ada7aaf",
   "metadata": {
    "ExecuteTime": {
     "end_time": "2023-06-19T17:56:21.047421Z",
     "start_time": "2023-06-19T17:56:20.577093Z"
    }
   },
   "outputs": [],
   "source": [
    "#stock_code\n",
    "stock_letter = categorical_atributtes['stock_code'].apply(lambda x: bool (re.search('^[a-zA-Z]+$', x)))\n",
    "stock_df = df1.loc[stock_letter,:]"
   ]
  },
  {
   "cell_type": "code",
   "execution_count": 138,
   "id": "6be0d80b",
   "metadata": {
    "ExecuteTime": {
     "end_time": "2023-06-19T17:56:21.063037Z",
     "start_time": "2023-06-19T17:56:21.048632Z"
    }
   },
   "outputs": [
    {
     "data": {
      "text/plain": [
       "array(['POST', 'D', 'DOT', 'M', 'S', 'AMAZONFEE', 'm', 'DCGSSBOY',\n",
       "       'DCGSSGIRL', 'PADS', 'B', 'CRUK'], dtype=object)"
      ]
     },
     "execution_count": 138,
     "metadata": {},
     "output_type": "execute_result"
    }
   ],
   "source": [
    "stock_df['stock_code'].unique()"
   ]
  },
  {
   "cell_type": "markdown",
   "id": "2f7379fb",
   "metadata": {},
   "source": [
    "Na coluna stock_code temos vários itens com descrições diferentes que estão sujando o dataframe"
   ]
  },
  {
   "cell_type": "code",
   "execution_count": 139,
   "id": "0f76b694",
   "metadata": {
    "ExecuteTime": {
     "end_time": "2023-06-19T17:56:21.157708Z",
     "start_time": "2023-06-19T17:56:21.064152Z"
    }
   },
   "outputs": [
    {
     "data": {
      "text/html": [
       "<div>\n",
       "<style scoped>\n",
       "    .dataframe tbody tr th:only-of-type {\n",
       "        vertical-align: middle;\n",
       "    }\n",
       "\n",
       "    .dataframe tbody tr th {\n",
       "        vertical-align: top;\n",
       "    }\n",
       "\n",
       "    .dataframe thead th {\n",
       "        text-align: right;\n",
       "    }\n",
       "</style>\n",
       "<table border=\"1\" class=\"dataframe\">\n",
       "  <thead>\n",
       "    <tr style=\"text-align: right;\">\n",
       "      <th></th>\n",
       "      <th>country</th>\n",
       "      <th>customer_id</th>\n",
       "    </tr>\n",
       "  </thead>\n",
       "  <tbody>\n",
       "    <tr>\n",
       "      <th>36</th>\n",
       "      <td>United Kingdom</td>\n",
       "      <td>7587</td>\n",
       "    </tr>\n",
       "    <tr>\n",
       "      <th>14</th>\n",
       "      <td>Germany</td>\n",
       "      <td>95</td>\n",
       "    </tr>\n",
       "    <tr>\n",
       "      <th>13</th>\n",
       "      <td>France</td>\n",
       "      <td>90</td>\n",
       "    </tr>\n",
       "    <tr>\n",
       "      <th>10</th>\n",
       "      <td>EIRE</td>\n",
       "      <td>44</td>\n",
       "    </tr>\n",
       "    <tr>\n",
       "      <th>31</th>\n",
       "      <td>Spain</td>\n",
       "      <td>31</td>\n",
       "    </tr>\n",
       "  </tbody>\n",
       "</table>\n",
       "</div>"
      ],
      "text/plain": [
       "           country  customer_id\n",
       "36  United Kingdom         7587\n",
       "14         Germany           95\n",
       "13          France           90\n",
       "10            EIRE           44\n",
       "31           Spain           31"
      ]
     },
     "execution_count": 139,
     "metadata": {},
     "output_type": "execute_result"
    }
   ],
   "source": [
    "#country - European Community and Unspecified\n",
    "df1['country'].unique()\n",
    "df1.loc[:,['customer_id','country']].drop_duplicates().groupby('country').count().reset_index().sort_values(by='customer_id', ascending=False).head()"
   ]
  },
  {
   "cell_type": "markdown",
   "id": "5922b1d0",
   "metadata": {},
   "source": [
    "# 2.0 VARIABLE FILTERING"
   ]
  },
  {
   "cell_type": "code",
   "execution_count": 140,
   "id": "41c70029",
   "metadata": {
    "ExecuteTime": {
     "end_time": "2023-06-19T17:56:21.205136Z",
     "start_time": "2023-06-19T17:56:21.181303Z"
    }
   },
   "outputs": [],
   "source": [
    "df2 = df1.copy()"
   ]
  },
  {
   "cell_type": "markdown",
   "id": "3822bf6d",
   "metadata": {},
   "source": [
    "## 2.1 Numerical Attributes"
   ]
  },
  {
   "cell_type": "code",
   "execution_count": 141,
   "id": "76a4ec13",
   "metadata": {
    "ExecuteTime": {
     "end_time": "2023-06-19T17:56:21.406546Z",
     "start_time": "2023-06-19T17:56:21.207229Z"
    }
   },
   "outputs": [],
   "source": [
    "#unit_price\n",
    "df2 = df2.loc[df2['unit_price'] >= 0.040,:]\n",
    "\n",
    "#stock code\n",
    "df2 = df2.loc[~df2['stock_code'].isin(['POST', 'D', 'DOT', 'M', 'S', 'AMAZONFEE', 'm', 'DCGSSBOY',\n",
    "       'DCGSSGIRL', 'PADS', 'B', 'CRUK']),:]\n",
    "\n",
    "#description\n",
    "df2 = df2.drop('description', axis=1)\n",
    "\n",
    "#country\n",
    "df2 = df2.loc[~df2['country'].isin(['Unspecified','European Community']),:]\n",
    "\n",
    "#bad users\n",
    "\n",
    "df2 = df2.loc[~df2['customer_id'].isin([16446]),:]\n"
   ]
  },
  {
   "cell_type": "code",
   "execution_count": 142,
   "id": "56d5b814",
   "metadata": {
    "ExecuteTime": {
     "end_time": "2023-06-19T17:56:21.437891Z",
     "start_time": "2023-06-19T17:56:21.407571Z"
    }
   },
   "outputs": [],
   "source": [
    "#divide df in purchases and returns\n",
    "df_purchase = df2.loc[df2['quantity'] >=0, :]\n",
    "df_returns = df2.loc[df2['quantity'] < 0,:]"
   ]
  },
  {
   "cell_type": "markdown",
   "id": "92294c09",
   "metadata": {},
   "source": [
    "# 3.0 FEATURE ENGINEERING"
   ]
  },
  {
   "cell_type": "code",
   "execution_count": 143,
   "id": "113f8ff0",
   "metadata": {
    "ExecuteTime": {
     "end_time": "2023-06-19T17:56:21.453330Z",
     "start_time": "2023-06-19T17:56:21.439932Z"
    }
   },
   "outputs": [],
   "source": [
    "df3 = df2.copy()"
   ]
  },
  {
   "cell_type": "code",
   "execution_count": 144,
   "id": "36229b65",
   "metadata": {
    "ExecuteTime": {
     "end_time": "2023-06-19T17:56:21.469453Z",
     "start_time": "2023-06-19T17:56:21.455333Z"
    }
   },
   "outputs": [
    {
     "data": {
      "text/html": [
       "<div>\n",
       "<style scoped>\n",
       "    .dataframe tbody tr th:only-of-type {\n",
       "        vertical-align: middle;\n",
       "    }\n",
       "\n",
       "    .dataframe tbody tr th {\n",
       "        vertical-align: top;\n",
       "    }\n",
       "\n",
       "    .dataframe thead th {\n",
       "        text-align: right;\n",
       "    }\n",
       "</style>\n",
       "<table border=\"1\" class=\"dataframe\">\n",
       "  <thead>\n",
       "    <tr style=\"text-align: right;\">\n",
       "      <th></th>\n",
       "      <th>invoice_no</th>\n",
       "      <th>stock_code</th>\n",
       "      <th>quantity</th>\n",
       "      <th>invoice_date</th>\n",
       "      <th>unit_price</th>\n",
       "      <th>country</th>\n",
       "      <th>customer_id</th>\n",
       "    </tr>\n",
       "  </thead>\n",
       "  <tbody>\n",
       "    <tr>\n",
       "      <th>0</th>\n",
       "      <td>536365</td>\n",
       "      <td>85123A</td>\n",
       "      <td>6</td>\n",
       "      <td>2016-11-29</td>\n",
       "      <td>2.55</td>\n",
       "      <td>United Kingdom</td>\n",
       "      <td>17850.0</td>\n",
       "    </tr>\n",
       "    <tr>\n",
       "      <th>1</th>\n",
       "      <td>536365</td>\n",
       "      <td>71053</td>\n",
       "      <td>6</td>\n",
       "      <td>2016-11-29</td>\n",
       "      <td>3.39</td>\n",
       "      <td>United Kingdom</td>\n",
       "      <td>17850.0</td>\n",
       "    </tr>\n",
       "    <tr>\n",
       "      <th>2</th>\n",
       "      <td>536365</td>\n",
       "      <td>84406B</td>\n",
       "      <td>8</td>\n",
       "      <td>2016-11-29</td>\n",
       "      <td>2.75</td>\n",
       "      <td>United Kingdom</td>\n",
       "      <td>17850.0</td>\n",
       "    </tr>\n",
       "    <tr>\n",
       "      <th>3</th>\n",
       "      <td>536365</td>\n",
       "      <td>84029G</td>\n",
       "      <td>6</td>\n",
       "      <td>2016-11-29</td>\n",
       "      <td>3.39</td>\n",
       "      <td>United Kingdom</td>\n",
       "      <td>17850.0</td>\n",
       "    </tr>\n",
       "    <tr>\n",
       "      <th>4</th>\n",
       "      <td>536365</td>\n",
       "      <td>84029E</td>\n",
       "      <td>6</td>\n",
       "      <td>2016-11-29</td>\n",
       "      <td>3.39</td>\n",
       "      <td>United Kingdom</td>\n",
       "      <td>17850.0</td>\n",
       "    </tr>\n",
       "  </tbody>\n",
       "</table>\n",
       "</div>"
      ],
      "text/plain": [
       "  invoice_no stock_code  quantity invoice_date  unit_price         country  customer_id\n",
       "0     536365     85123A         6   2016-11-29        2.55  United Kingdom      17850.0\n",
       "1     536365      71053         6   2016-11-29        3.39  United Kingdom      17850.0\n",
       "2     536365     84406B         8   2016-11-29        2.75  United Kingdom      17850.0\n",
       "3     536365     84029G         6   2016-11-29        3.39  United Kingdom      17850.0\n",
       "4     536365     84029E         6   2016-11-29        3.39  United Kingdom      17850.0"
      ]
     },
     "execution_count": 144,
     "metadata": {},
     "output_type": "execute_result"
    }
   ],
   "source": [
    "df3.head()"
   ]
  },
  {
   "cell_type": "markdown",
   "id": "db2b1bec",
   "metadata": {},
   "source": [
    "## 3.1 Monetary "
   ]
  },
  {
   "cell_type": "code",
   "execution_count": 145,
   "id": "835a15c7",
   "metadata": {
    "ExecuteTime": {
     "end_time": "2023-06-19T17:56:21.531523Z",
     "start_time": "2023-06-19T17:56:21.471507Z"
    }
   },
   "outputs": [
    {
     "data": {
      "text/plain": [
       "customer_id    0\n",
       "monetary       0\n",
       "dtype: int64"
      ]
     },
     "execution_count": 145,
     "metadata": {},
     "output_type": "execute_result"
    }
   ],
   "source": [
    "#Monetary - O quanto cada cliente gera de $\n",
    "aux_monetary = pd.DataFrame()\n",
    "aux_monetary['valor_bruto'] = df_purchase['quantity'] * df_purchase['unit_price']\n",
    "aux_monetary['customer_id'] = df_purchase['customer_id']\n",
    "df_ref = aux_monetary.loc[:,['valor_bruto', 'customer_id']].groupby('customer_id').sum().reset_index().rename(columns={'valor_bruto':'monetary'})\n",
    "df_ref.isna().sum()"
   ]
  },
  {
   "cell_type": "markdown",
   "id": "af6f2fbb",
   "metadata": {},
   "source": [
    "## 3.5 Qtd produtos únicos dentro da compra (stock_code)"
   ]
  },
  {
   "cell_type": "code",
   "execution_count": 146,
   "id": "2b6a4dba",
   "metadata": {
    "ExecuteTime": {
     "end_time": "2023-06-19T17:56:21.719862Z",
     "start_time": "2023-06-19T17:56:21.627314Z"
    }
   },
   "outputs": [
    {
     "data": {
      "text/plain": [
       "customer_id    0\n",
       "monetary       0\n",
       "qtd_prods      0\n",
       "dtype: int64"
      ]
     },
     "execution_count": 146,
     "metadata": {},
     "output_type": "execute_result"
    }
   ],
   "source": [
    "#Quantos produtos cada cliente comprou\n",
    "aux_qtd_stock = df_purchase.loc[:,['stock_code','customer_id']].groupby('customer_id').count().reset_index().rename(columns={'stock_code':'qtd_prods'})\n",
    "df_ref = pd.merge(df_ref, aux_qtd_stock, on='customer_id', how='left')\n",
    "df_ref.isna().sum()"
   ]
  },
  {
   "cell_type": "markdown",
   "id": "6001d927",
   "metadata": {},
   "source": [
    "## 3.6 Recency"
   ]
  },
  {
   "cell_type": "code",
   "execution_count": 147,
   "id": "461f9c1a",
   "metadata": {
    "ExecuteTime": {
     "end_time": "2023-06-19T17:56:21.766546Z",
     "start_time": "2023-06-19T17:56:21.722028Z"
    }
   },
   "outputs": [
    {
     "data": {
      "text/plain": [
       "customer_id    0\n",
       "monetary       0\n",
       "qtd_prods      0\n",
       "recency        0\n",
       "dtype: int64"
      ]
     },
     "execution_count": 147,
     "metadata": {},
     "output_type": "execute_result"
    }
   ],
   "source": [
    "#Recency\n",
    "aux_recency = df_purchase.loc[:,['customer_id','invoice_date']].groupby('customer_id').max().reset_index()\n",
    "date_max = df_purchase['invoice_date'].max()\n",
    "aux_recency['recency'] = (date_max - aux_recency['invoice_date']).dt.days\n",
    "df_ref = pd.merge(df_ref, aux_recency, on='customer_id', how='left')\n",
    "df_ref = df_ref.drop(['invoice_date'],axis=1)\n",
    "df_ref.isna().sum()"
   ]
  },
  {
   "cell_type": "markdown",
   "id": "cd14b7f0",
   "metadata": {},
   "source": [
    "## 3.9 Frenquency Purchase"
   ]
  },
  {
   "cell_type": "code",
   "execution_count": 148,
   "id": "a83166ff",
   "metadata": {
    "ExecuteTime": {
     "end_time": "2023-06-19T17:56:22.565076Z",
     "start_time": "2023-06-19T17:56:22.145135Z"
    }
   },
   "outputs": [],
   "source": [
    "df_freq = (df_purchase[['customer_id','invoice_no', 'invoice_date']].drop_duplicates().groupby('customer_id')\n",
    "                                                           .agg(days = ('invoice_date', lambda x: (max(x) - min(x)).days + 1),\n",
    "                                                                buy_ = ('invoice_no', 'count'))).reset_index()\n",
    "\n",
    "#Frequency\n",
    "df_freq['frequency'] = df_freq.apply(lambda x: x['buy_'] / x['days'] if x['days'] != 0 else 0, axis=1) \n",
    "\n",
    "#merge\n",
    "df_ref = pd.merge(df_ref, df_freq, on='customer_id', how='left')\n",
    "df_ref = df_ref.drop(['days','buy_'],axis=1)"
   ]
  },
  {
   "cell_type": "code",
   "execution_count": 149,
   "id": "2d510fc4",
   "metadata": {
    "ExecuteTime": {
     "end_time": "2023-06-19T17:56:22.580784Z",
     "start_time": "2023-06-19T17:56:22.566515Z"
    }
   },
   "outputs": [
    {
     "data": {
      "text/plain": [
       "customer_id    0\n",
       "monetary       0\n",
       "qtd_prods      0\n",
       "recency        0\n",
       "frequency      0\n",
       "dtype: int64"
      ]
     },
     "execution_count": 149,
     "metadata": {},
     "output_type": "execute_result"
    }
   ],
   "source": [
    "df_ref.isna().sum()"
   ]
  },
  {
   "cell_type": "markdown",
   "id": "f19b6945",
   "metadata": {},
   "source": [
    "## 3.10 Devoluções"
   ]
  },
  {
   "cell_type": "code",
   "execution_count": 150,
   "id": "f6ce0714",
   "metadata": {
    "ExecuteTime": {
     "end_time": "2023-06-19T17:56:22.596198Z",
     "start_time": "2023-06-19T17:56:22.582828Z"
    }
   },
   "outputs": [],
   "source": [
    "qtd_returns = df_returns.loc[:,['customer_id','quantity']].groupby('customer_id').sum().reset_index().rename(columns={'quantity':'qtd_returns'})\n",
    "qtd_returns['qtd_returns'] = qtd_returns['qtd_returns']*-1\n",
    "\n",
    "#merge\n",
    "df_ref = pd.merge(df_ref, qtd_returns, on='customer_id', how='left')\n",
    "\n",
    "#Os NaNs gerados são pessoas que não devolveram\n",
    "df_ref.loc[df_ref['qtd_returns'].isna(),'qtd_returns'] = 0"
   ]
  },
  {
   "cell_type": "code",
   "execution_count": 151,
   "id": "42891817",
   "metadata": {
    "ExecuteTime": {
     "end_time": "2023-06-19T17:56:22.611390Z",
     "start_time": "2023-06-19T17:56:22.598309Z"
    },
    "scrolled": true
   },
   "outputs": [
    {
     "data": {
      "text/plain": [
       "customer_id    0\n",
       "monetary       0\n",
       "qtd_prods      0\n",
       "recency        0\n",
       "frequency      0\n",
       "qtd_returns    0\n",
       "dtype: int64"
      ]
     },
     "execution_count": 151,
     "metadata": {},
     "output_type": "execute_result"
    }
   ],
   "source": [
    "df_ref.isna().sum()"
   ]
  },
  {
   "cell_type": "markdown",
   "id": "6e0bb84d",
   "metadata": {},
   "source": [
    "## 3.13 Check Final Result"
   ]
  },
  {
   "cell_type": "code",
   "execution_count": 170,
   "id": "b591fe21",
   "metadata": {
    "ExecuteTime": {
     "end_time": "2023-06-19T17:56:22.892199Z",
     "start_time": "2023-06-19T17:56:22.878600Z"
    }
   },
   "outputs": [
    {
     "data": {
      "text/html": [
       "<div>\n",
       "<style scoped>\n",
       "    .dataframe tbody tr th:only-of-type {\n",
       "        vertical-align: middle;\n",
       "    }\n",
       "\n",
       "    .dataframe tbody tr th {\n",
       "        vertical-align: top;\n",
       "    }\n",
       "\n",
       "    .dataframe thead th {\n",
       "        text-align: right;\n",
       "    }\n",
       "</style>\n",
       "<table border=\"1\" class=\"dataframe\">\n",
       "  <thead>\n",
       "    <tr style=\"text-align: right;\">\n",
       "      <th></th>\n",
       "      <th>customer_id</th>\n",
       "      <th>monetary</th>\n",
       "      <th>qtd_prods</th>\n",
       "      <th>recency</th>\n",
       "      <th>frequency</th>\n",
       "      <th>qtd_returns</th>\n",
       "    </tr>\n",
       "  </thead>\n",
       "  <tbody>\n",
       "    <tr>\n",
       "      <th>0</th>\n",
       "      <td>12346.0</td>\n",
       "      <td>77183.60</td>\n",
       "      <td>1</td>\n",
       "      <td>325</td>\n",
       "      <td>1.000000</td>\n",
       "      <td>74215.0</td>\n",
       "    </tr>\n",
       "    <tr>\n",
       "      <th>1</th>\n",
       "      <td>12347.0</td>\n",
       "      <td>4310.00</td>\n",
       "      <td>182</td>\n",
       "      <td>2</td>\n",
       "      <td>0.019126</td>\n",
       "      <td>0.0</td>\n",
       "    </tr>\n",
       "    <tr>\n",
       "      <th>2</th>\n",
       "      <td>12348.0</td>\n",
       "      <td>1437.24</td>\n",
       "      <td>27</td>\n",
       "      <td>75</td>\n",
       "      <td>0.014085</td>\n",
       "      <td>0.0</td>\n",
       "    </tr>\n",
       "    <tr>\n",
       "      <th>3</th>\n",
       "      <td>12349.0</td>\n",
       "      <td>1457.55</td>\n",
       "      <td>72</td>\n",
       "      <td>18</td>\n",
       "      <td>1.000000</td>\n",
       "      <td>0.0</td>\n",
       "    </tr>\n",
       "    <tr>\n",
       "      <th>4</th>\n",
       "      <td>12350.0</td>\n",
       "      <td>294.40</td>\n",
       "      <td>16</td>\n",
       "      <td>310</td>\n",
       "      <td>1.000000</td>\n",
       "      <td>0.0</td>\n",
       "    </tr>\n",
       "  </tbody>\n",
       "</table>\n",
       "</div>"
      ],
      "text/plain": [
       "   customer_id  monetary  qtd_prods  recency  frequency  qtd_returns\n",
       "0      12346.0  77183.60          1      325   1.000000      74215.0\n",
       "1      12347.0   4310.00        182        2   0.019126          0.0\n",
       "2      12348.0   1437.24         27       75   0.014085          0.0\n",
       "3      12349.0   1457.55         72       18   1.000000          0.0\n",
       "4      12350.0    294.40         16      310   1.000000          0.0"
      ]
     },
     "execution_count": 170,
     "metadata": {},
     "output_type": "execute_result"
    }
   ],
   "source": [
    "df_ref.head()"
   ]
  },
  {
   "cell_type": "markdown",
   "id": "5ada5a45",
   "metadata": {},
   "source": [
    "# 4.0 EDA (EXPLORATORY DATA ANALYSIS"
   ]
  },
  {
   "cell_type": "code",
   "execution_count": 171,
   "id": "b9939ec6",
   "metadata": {
    "ExecuteTime": {
     "end_time": "2023-06-19T17:56:22.907625Z",
     "start_time": "2023-06-19T17:56:22.894232Z"
    }
   },
   "outputs": [
    {
     "data": {
      "text/plain": [
       "customer_id    0\n",
       "monetary       0\n",
       "qtd_prods      0\n",
       "recency        0\n",
       "frequency      0\n",
       "qtd_returns    0\n",
       "dtype: int64"
      ]
     },
     "execution_count": 171,
     "metadata": {},
     "output_type": "execute_result"
    }
   ],
   "source": [
    "df4 = df_ref.dropna().copy()\n",
    "df4.isna().sum()"
   ]
  },
  {
   "cell_type": "markdown",
   "id": "00cfb182",
   "metadata": {},
   "source": [
    "## 4.3 Embedding"
   ]
  },
  {
   "cell_type": "code",
   "execution_count": 172,
   "id": "1747c41a",
   "metadata": {
    "ExecuteTime": {
     "end_time": "2023-06-19T17:57:05.891880Z",
     "start_time": "2023-06-19T17:57:05.877741Z"
    }
   },
   "outputs": [],
   "source": [
    "#selected dataset\n",
    "df43 = df4.copy()"
   ]
  },
  {
   "cell_type": "code",
   "execution_count": 178,
   "id": "1b756098",
   "metadata": {},
   "outputs": [
    {
     "data": {
      "text/plain": [
       "(5695, 6)"
      ]
     },
     "execution_count": 178,
     "metadata": {},
     "output_type": "execute_result"
    }
   ],
   "source": [
    "df43.shape"
   ]
  },
  {
   "cell_type": "code",
   "execution_count": 174,
   "id": "d7e90e7f",
   "metadata": {
    "ExecuteTime": {
     "end_time": "2023-06-19T17:57:05.907400Z",
     "start_time": "2023-06-19T17:57:05.893946Z"
    }
   },
   "outputs": [],
   "source": [
    "#Transform\n",
    "mms = pp.MinMaxScaler()\n",
    "transf_list = df43.columns.drop('customer_id')\n",
    "\n",
    "for i in transf_list:\n",
    "    df43[i] = mms.fit_transform(df43[i].values.reshape(-1,1))   "
   ]
  },
  {
   "cell_type": "markdown",
   "id": "68a20488",
   "metadata": {},
   "source": [
    "## 4.3.4 Tree-Based Embedding"
   ]
  },
  {
   "cell_type": "code",
   "execution_count": 175,
   "id": "59b9d063",
   "metadata": {
    "ExecuteTime": {
     "end_time": "2023-06-19T17:57:26.650315Z",
     "start_time": "2023-06-19T17:57:26.636749Z"
    }
   },
   "outputs": [],
   "source": [
    "X = df43.drop(['customer_id','monetary'], axis=1).copy()\n",
    "y = df43['monetary'].copy()\n",
    "\n",
    "#model definition\n",
    "rf = en.RandomForestRegressor(random_state=0)\n",
    "\n",
    "rf.fit(X, y)\n",
    "\n",
    "#create leafs\n",
    "df_leafs = pd.DataFrame(rf.apply(X))"
   ]
  },
  {
   "cell_type": "code",
   "execution_count": 176,
   "id": "52eb1972",
   "metadata": {
    "ExecuteTime": {
     "end_time": "2023-06-19T17:57:34.314733Z",
     "start_time": "2023-06-19T17:57:27.560013Z"
    }
   },
   "outputs": [
    {
     "data": {
      "text/plain": [
       "<Axes: xlabel='embedding_x', ylabel='embedding_y'>"
      ]
     },
     "execution_count": 176,
     "metadata": {},
     "output_type": "execute_result"
    },
    {
     "data": {
      "image/png": "[encoded data removed]",
      "text/plain": [
       "<Figure size 1200x600 with 1 Axes>"
      ]
     },
     "metadata": {},
     "output_type": "display_data"
    }
   ],
   "source": [
    "reducer = umap.UMAP(random_state=42)\n",
    "embedding = reducer.fit_transform(df_leafs)\n",
    "\n",
    "#embedding\n",
    "df_tree = pd.DataFrame()\n",
    "df_tree['embedding_x'] = embedding[:,0]\n",
    "df_tree['embedding_y'] = embedding[:,1]\n",
    "\n",
    "#plot UMAP\n",
    "sns.scatterplot(x='embedding_x', \n",
    "                y='embedding_y',\n",
    "                data=df_tree)"
   ]
  },
  {
   "cell_type": "markdown",
   "id": "ae25b473",
   "metadata": {},
   "source": [
    "# 7.0 HYPERPARAMETER FINE TUNNING(Find Clusters)"
   ]
  },
  {
   "cell_type": "code",
   "execution_count": 159,
   "id": "e0249f77",
   "metadata": {
    "ExecuteTime": {
     "end_time": "2023-06-19T17:57:34.392678Z",
     "start_time": "2023-06-19T17:57:34.378098Z"
    }
   },
   "outputs": [],
   "source": [
    "#X = df6.drop('customer_id', axis=1)\n",
    "X = df_tree.copy()"
   ]
  },
  {
   "cell_type": "code",
   "execution_count": 160,
   "id": "f5fbf418",
   "metadata": {
    "ExecuteTime": {
     "end_time": "2023-06-19T17:57:34.408004Z",
     "start_time": "2023-06-19T17:57:34.394730Z"
    }
   },
   "outputs": [
    {
     "data": {
      "text/html": [
       "<div>\n",
       "<style scoped>\n",
       "    .dataframe tbody tr th:only-of-type {\n",
       "        vertical-align: middle;\n",
       "    }\n",
       "\n",
       "    .dataframe tbody tr th {\n",
       "        vertical-align: top;\n",
       "    }\n",
       "\n",
       "    .dataframe thead th {\n",
       "        text-align: right;\n",
       "    }\n",
       "</style>\n",
       "<table border=\"1\" class=\"dataframe\">\n",
       "  <thead>\n",
       "    <tr style=\"text-align: right;\">\n",
       "      <th></th>\n",
       "      <th>embedding_x</th>\n",
       "      <th>embedding_y</th>\n",
       "    </tr>\n",
       "  </thead>\n",
       "  <tbody>\n",
       "    <tr>\n",
       "      <th>0</th>\n",
       "      <td>10.795692</td>\n",
       "      <td>16.889742</td>\n",
       "    </tr>\n",
       "    <tr>\n",
       "      <th>1</th>\n",
       "      <td>14.356821</td>\n",
       "      <td>6.201416</td>\n",
       "    </tr>\n",
       "    <tr>\n",
       "      <th>2</th>\n",
       "      <td>-0.787655</td>\n",
       "      <td>4.738756</td>\n",
       "    </tr>\n",
       "    <tr>\n",
       "      <th>3</th>\n",
       "      <td>8.548407</td>\n",
       "      <td>1.305011</td>\n",
       "    </tr>\n",
       "    <tr>\n",
       "      <th>4</th>\n",
       "      <td>5.267144</td>\n",
       "      <td>-9.376327</td>\n",
       "    </tr>\n",
       "  </tbody>\n",
       "</table>\n",
       "</div>"
      ],
      "text/plain": [
       "   embedding_x  embedding_y\n",
       "0    10.795692    16.889742\n",
       "1    14.356821     6.201416\n",
       "2    -0.787655     4.738756\n",
       "3     8.548407     1.305011\n",
       "4     5.267144    -9.376327"
      ]
     },
     "execution_count": 160,
     "metadata": {},
     "output_type": "execute_result"
    }
   ],
   "source": [
    "X.head()"
   ]
  },
  {
   "cell_type": "markdown",
   "id": "a8401e99",
   "metadata": {},
   "source": [
    "# 8.0 MODEL TRAINING"
   ]
  },
  {
   "cell_type": "markdown",
   "id": "068863fa",
   "metadata": {},
   "source": [
    "## 8.3 HCluster - FAVORITO"
   ]
  },
  {
   "cell_type": "code",
   "execution_count": 162,
   "id": "4f11d4e2",
   "metadata": {
    "ExecuteTime": {
     "end_time": "2023-06-19T17:59:38.886941Z",
     "start_time": "2023-06-19T17:59:38.699790Z"
    }
   },
   "outputs": [],
   "source": [
    "k=7\n",
    "#model definition & training\n",
    "hc_model = hc.linkage(X, 'ward')\n",
    "\n",
    "#model predict\n",
    "labels_hc = hc.fcluster(hc_model, k, criterion='maxclust')"
   ]
  },
  {
   "cell_type": "markdown",
   "id": "e3537d96",
   "metadata": {},
   "source": [
    "# 9.0 CLUSTER ANALYSIS"
   ]
  },
  {
   "cell_type": "code",
   "execution_count": 163,
   "id": "89e5f723",
   "metadata": {
    "ExecuteTime": {
     "end_time": "2023-06-19T17:59:39.058984Z",
     "start_time": "2023-06-19T17:59:39.045939Z"
    }
   },
   "outputs": [],
   "source": [
    "df9 = X.copy()\n",
    "df9['clusters'] = labels_hc"
   ]
  },
  {
   "cell_type": "code",
   "execution_count": 164,
   "id": "c10d19ac",
   "metadata": {
    "ExecuteTime": {
     "end_time": "2023-06-19T17:59:39.074321Z",
     "start_time": "2023-06-19T17:59:39.061516Z"
    }
   },
   "outputs": [
    {
     "data": {
      "text/html": [
       "<div>\n",
       "<style scoped>\n",
       "    .dataframe tbody tr th:only-of-type {\n",
       "        vertical-align: middle;\n",
       "    }\n",
       "\n",
       "    .dataframe tbody tr th {\n",
       "        vertical-align: top;\n",
       "    }\n",
       "\n",
       "    .dataframe thead th {\n",
       "        text-align: right;\n",
       "    }\n",
       "</style>\n",
       "<table border=\"1\" class=\"dataframe\">\n",
       "  <thead>\n",
       "    <tr style=\"text-align: right;\">\n",
       "      <th></th>\n",
       "      <th>embedding_x</th>\n",
       "      <th>embedding_y</th>\n",
       "      <th>clusters</th>\n",
       "    </tr>\n",
       "  </thead>\n",
       "  <tbody>\n",
       "    <tr>\n",
       "      <th>0</th>\n",
       "      <td>10.795692</td>\n",
       "      <td>16.889742</td>\n",
       "      <td>4</td>\n",
       "    </tr>\n",
       "    <tr>\n",
       "      <th>1</th>\n",
       "      <td>14.356821</td>\n",
       "      <td>6.201416</td>\n",
       "      <td>3</td>\n",
       "    </tr>\n",
       "    <tr>\n",
       "      <th>2</th>\n",
       "      <td>-0.787655</td>\n",
       "      <td>4.738756</td>\n",
       "      <td>5</td>\n",
       "    </tr>\n",
       "    <tr>\n",
       "      <th>3</th>\n",
       "      <td>8.548407</td>\n",
       "      <td>1.305011</td>\n",
       "      <td>3</td>\n",
       "    </tr>\n",
       "    <tr>\n",
       "      <th>4</th>\n",
       "      <td>5.267144</td>\n",
       "      <td>-9.376327</td>\n",
       "      <td>7</td>\n",
       "    </tr>\n",
       "  </tbody>\n",
       "</table>\n",
       "</div>"
      ],
      "text/plain": [
       "   embedding_x  embedding_y  clusters\n",
       "0    10.795692    16.889742         4\n",
       "1    14.356821     6.201416         3\n",
       "2    -0.787655     4.738756         5\n",
       "3     8.548407     1.305011         3\n",
       "4     5.267144    -9.376327         7"
      ]
     },
     "execution_count": 164,
     "metadata": {},
     "output_type": "execute_result"
    }
   ],
   "source": [
    "df9.head()"
   ]
  },
  {
   "cell_type": "markdown",
   "id": "8edf2883",
   "metadata": {},
   "source": [
    "## 9.5 Cluster Profile"
   ]
  },
  {
   "cell_type": "code",
   "execution_count": 165,
   "id": "bc130bff",
   "metadata": {
    "ExecuteTime": {
     "end_time": "2023-06-19T18:01:10.622783Z",
     "start_time": "2023-06-19T18:01:10.615228Z"
    }
   },
   "outputs": [],
   "source": [
    "df95 = df4.copy()#pegar os dados nao rescalados para fazer o profile\n",
    "                 #podemos deixar todas as features porque retiramos apenas para criar o embedding\n",
    "df95['clusters'] = labels_hc"
   ]
  },
  {
   "cell_type": "code",
   "execution_count": 166,
   "id": "ec74d9e4",
   "metadata": {
    "ExecuteTime": {
     "end_time": "2023-06-19T18:01:11.231926Z",
     "start_time": "2023-06-19T18:01:11.205939Z"
    }
   },
   "outputs": [
    {
     "data": {
      "text/html": [
       "<div>\n",
       "<style scoped>\n",
       "    .dataframe tbody tr th:only-of-type {\n",
       "        vertical-align: middle;\n",
       "    }\n",
       "\n",
       "    .dataframe tbody tr th {\n",
       "        vertical-align: top;\n",
       "    }\n",
       "\n",
       "    .dataframe thead th {\n",
       "        text-align: right;\n",
       "    }\n",
       "</style>\n",
       "<table border=\"1\" class=\"dataframe\">\n",
       "  <thead>\n",
       "    <tr style=\"text-align: right;\">\n",
       "      <th></th>\n",
       "      <th>customer_id</th>\n",
       "      <th>monetary</th>\n",
       "      <th>qtd_prods</th>\n",
       "      <th>recency</th>\n",
       "      <th>frequency</th>\n",
       "      <th>qtd_returns</th>\n",
       "      <th>clusters</th>\n",
       "    </tr>\n",
       "  </thead>\n",
       "  <tbody>\n",
       "    <tr>\n",
       "      <th>0</th>\n",
       "      <td>12346.0</td>\n",
       "      <td>77183.60</td>\n",
       "      <td>1</td>\n",
       "      <td>325</td>\n",
       "      <td>1.000000</td>\n",
       "      <td>74215.0</td>\n",
       "      <td>4</td>\n",
       "    </tr>\n",
       "    <tr>\n",
       "      <th>1</th>\n",
       "      <td>12347.0</td>\n",
       "      <td>4310.00</td>\n",
       "      <td>182</td>\n",
       "      <td>2</td>\n",
       "      <td>0.019126</td>\n",
       "      <td>0.0</td>\n",
       "      <td>3</td>\n",
       "    </tr>\n",
       "    <tr>\n",
       "      <th>2</th>\n",
       "      <td>12348.0</td>\n",
       "      <td>1437.24</td>\n",
       "      <td>27</td>\n",
       "      <td>75</td>\n",
       "      <td>0.014085</td>\n",
       "      <td>0.0</td>\n",
       "      <td>5</td>\n",
       "    </tr>\n",
       "    <tr>\n",
       "      <th>3</th>\n",
       "      <td>12349.0</td>\n",
       "      <td>1457.55</td>\n",
       "      <td>72</td>\n",
       "      <td>18</td>\n",
       "      <td>1.000000</td>\n",
       "      <td>0.0</td>\n",
       "      <td>3</td>\n",
       "    </tr>\n",
       "    <tr>\n",
       "      <th>4</th>\n",
       "      <td>12350.0</td>\n",
       "      <td>294.40</td>\n",
       "      <td>16</td>\n",
       "      <td>310</td>\n",
       "      <td>1.000000</td>\n",
       "      <td>0.0</td>\n",
       "      <td>7</td>\n",
       "    </tr>\n",
       "  </tbody>\n",
       "</table>\n",
       "</div>"
      ],
      "text/plain": [
       "   customer_id  monetary  qtd_prods  recency  frequency  qtd_returns  clusters\n",
       "0      12346.0  77183.60          1      325   1.000000      74215.0         4\n",
       "1      12347.0   4310.00        182        2   0.019126          0.0         3\n",
       "2      12348.0   1437.24         27       75   0.014085          0.0         5\n",
       "3      12349.0   1457.55         72       18   1.000000          0.0         3\n",
       "4      12350.0    294.40         16      310   1.000000          0.0         7"
      ]
     },
     "execution_count": 166,
     "metadata": {},
     "output_type": "execute_result"
    }
   ],
   "source": [
    "df95.head()"
   ]
  },
  {
   "cell_type": "markdown",
   "id": "34b1534d",
   "metadata": {},
   "source": [
    "**Lembrete**: NÃO podemos explicar porque o customer 1 e 2 estão no mesmo clusters com esses dados, porque eles foram classificados em um espaço de embedding criado pelo algoritmo em alta dimensão. Se for especificamente você precisar explicar o porquê o os customers se parecem será necessário encontrar os clusters no espaço original ao invés do embedding."
   ]
  },
  {
   "cell_type": "code",
   "execution_count": 167,
   "id": "6af0a15a",
   "metadata": {
    "ExecuteTime": {
     "end_time": "2023-06-19T18:01:20.335190Z",
     "start_time": "2023-06-19T18:01:20.301843Z"
    }
   },
   "outputs": [],
   "source": [
    "#Per Monetary\n",
    "df_monetary = df95.loc[:,['clusters','monetary']].groupby('clusters').mean().reset_index()\n",
    "\n",
    "#Per Frequency\n",
    "df_frequency = df95.loc[:,['clusters','frequency']].groupby('clusters').mean().reset_index()\n",
    "\n",
    "#Per Recency\n",
    "df_recency = df95.loc[:,['clusters','recency']].groupby('clusters').mean().reset_index()\n",
    "\n",
    "#Per Pencentual\n",
    "df_client_perc = df95.loc[:,['customer_id','clusters']].groupby('clusters').count().reset_index()\n",
    "df_client_perc['customer_id'] = df_client_perc['customer_id'].apply(lambda x: 100*(x)/(df_client_perc['customer_id'].sum()))\n",
    "df_client_perc = df_client_perc.rename(columns={'customer_id':'percent'})\n",
    "\n",
    "#Per qtd_products\n",
    "df_prods = df95.loc[:,['clusters','qtd_prods']].groupby('clusters').mean().reset_index()\n",
    "\n",
    "#Per Returns\n",
    "df_returns = df95.loc[:,['clusters','qtd_returns']].groupby('clusters').mean().reset_index()\n",
    "\n",
    "#Per Customer\n",
    "df_customer = df95.loc[:,['clusters','customer_id']].groupby('clusters').count().reset_index()\n",
    "\n",
    "df_resume = (pd.merge(df_monetary, df_frequency, on='clusters', how='left')\n",
    "             .merge(df_recency, on='clusters', how='left')\n",
    "             .merge(df_client_perc, on='clusters', how='left')\n",
    "             .merge(df_prods, on='clusters', how='left')\n",
    "             .merge(df_returns, on='clusters', how='left')\n",
    "             .merge(df_customer, on='clusters', how='left'))\n"
   ]
  },
  {
   "cell_type": "code",
   "execution_count": 168,
   "id": "e523452b",
   "metadata": {
    "ExecuteTime": {
     "end_time": "2023-06-19T18:01:22.253780Z",
     "start_time": "2023-06-19T18:01:22.235409Z"
    }
   },
   "outputs": [
    {
     "data": {
      "text/html": [
       "<div>\n",
       "<style scoped>\n",
       "    .dataframe tbody tr th:only-of-type {\n",
       "        vertical-align: middle;\n",
       "    }\n",
       "\n",
       "    .dataframe tbody tr th {\n",
       "        vertical-align: top;\n",
       "    }\n",
       "\n",
       "    .dataframe thead th {\n",
       "        text-align: right;\n",
       "    }\n",
       "</style>\n",
       "<table border=\"1\" class=\"dataframe\">\n",
       "  <thead>\n",
       "    <tr style=\"text-align: right;\">\n",
       "      <th></th>\n",
       "      <th>clusters</th>\n",
       "      <th>monetary</th>\n",
       "      <th>frequency</th>\n",
       "      <th>recency</th>\n",
       "      <th>percent</th>\n",
       "      <th>qtd_prods</th>\n",
       "      <th>qtd_returns</th>\n",
       "      <th>customer_id</th>\n",
       "    </tr>\n",
       "  </thead>\n",
       "  <tbody>\n",
       "    <tr>\n",
       "      <th>0</th>\n",
       "      <td>1</td>\n",
       "      <td>1282.121085</td>\n",
       "      <td>0.029017</td>\n",
       "      <td>59.572668</td>\n",
       "      <td>8.094820</td>\n",
       "      <td>57.524946</td>\n",
       "      <td>9.937093</td>\n",
       "      <td>461</td>\n",
       "    </tr>\n",
       "    <tr>\n",
       "      <th>1</th>\n",
       "      <td>2</td>\n",
       "      <td>296.470520</td>\n",
       "      <td>1.005517</td>\n",
       "      <td>150.385356</td>\n",
       "      <td>9.113257</td>\n",
       "      <td>19.462428</td>\n",
       "      <td>1.023121</td>\n",
       "      <td>519</td>\n",
       "    </tr>\n",
       "    <tr>\n",
       "      <th>2</th>\n",
       "      <td>3</td>\n",
       "      <td>1796.687919</td>\n",
       "      <td>0.577708</td>\n",
       "      <td>115.559350</td>\n",
       "      <td>21.597893</td>\n",
       "      <td>124.807317</td>\n",
       "      <td>2.768293</td>\n",
       "      <td>1230</td>\n",
       "    </tr>\n",
       "    <tr>\n",
       "      <th>3</th>\n",
       "      <td>4</td>\n",
       "      <td>5897.264101</td>\n",
       "      <td>0.214568</td>\n",
       "      <td>52.225159</td>\n",
       "      <td>16.611062</td>\n",
       "      <td>301.873150</td>\n",
       "      <td>165.488372</td>\n",
       "      <td>946</td>\n",
       "    </tr>\n",
       "    <tr>\n",
       "      <th>4</th>\n",
       "      <td>5</td>\n",
       "      <td>950.572363</td>\n",
       "      <td>0.314339</td>\n",
       "      <td>111.613365</td>\n",
       "      <td>22.071993</td>\n",
       "      <td>23.194113</td>\n",
       "      <td>7.119332</td>\n",
       "      <td>1257</td>\n",
       "    </tr>\n",
       "    <tr>\n",
       "      <th>5</th>\n",
       "      <td>6</td>\n",
       "      <td>225.933471</td>\n",
       "      <td>0.940205</td>\n",
       "      <td>180.323529</td>\n",
       "      <td>5.970149</td>\n",
       "      <td>12.155882</td>\n",
       "      <td>0.473529</td>\n",
       "      <td>340</td>\n",
       "    </tr>\n",
       "    <tr>\n",
       "      <th>6</th>\n",
       "      <td>7</td>\n",
       "      <td>317.736210</td>\n",
       "      <td>1.011952</td>\n",
       "      <td>177.536093</td>\n",
       "      <td>16.540825</td>\n",
       "      <td>19.552017</td>\n",
       "      <td>4.133758</td>\n",
       "      <td>942</td>\n",
       "    </tr>\n",
       "  </tbody>\n",
       "</table>\n",
       "</div>"
      ],
      "text/plain": [
       "   clusters     monetary  frequency     recency    percent   qtd_prods  qtd_returns  customer_id\n",
       "0         1  1282.121085   0.029017   59.572668   8.094820   57.524946     9.937093          461\n",
       "1         2   296.470520   1.005517  150.385356   9.113257   19.462428     1.023121          519\n",
       "2         3  1796.687919   0.577708  115.559350  21.597893  124.807317     2.768293         1230\n",
       "3         4  5897.264101   0.214568   52.225159  16.611062  301.873150   165.488372          946\n",
       "4         5   950.572363   0.314339  111.613365  22.071993   23.194113     7.119332         1257\n",
       "5         6   225.933471   0.940205  180.323529   5.970149   12.155882     0.473529          340\n",
       "6         7   317.736210   1.011952  177.536093  16.540825   19.552017     4.133758          942"
      ]
     },
     "execution_count": 168,
     "metadata": {},
     "output_type": "execute_result"
    }
   ],
   "source": [
    "df_resume"
   ]
  },
  {
   "cell_type": "markdown",
   "id": "7a47eff3",
   "metadata": {},
   "source": [
    "### Cluster 05 (Insiders)\n"
   ]
  },
  {
   "cell_type": "markdown",
   "id": "0b9cf4e6",
   "metadata": {},
   "source": [
    "- Número de customers = 420\n",
    "- Recência Média = 20.70 dias\n",
    "- Faturamento Médio = R$9618.03\n",
    "- Média de Produtos Comprados = 447 produtos\n",
    "- Frequência de Produtos Comprados = 0.1032 produtos comprados/dia"
   ]
  },
  {
   "cell_type": "code",
   "execution_count": null,
   "id": "93434e1e",
   "metadata": {},
   "outputs": [],
   "source": []
  },
  {
   "cell_type": "markdown",
   "id": "a45ded9c",
   "metadata": {},
   "source": [
    "Cluster 0 - Clientes Esporádicos\n",
    "    - Clientes que comprar pouco, valor baixo, e com uma média de 3 meses. Porém engloba 99% dos clientes\n",
    "    \n",
    "Cluster 1 - Clientes Medianos\n",
    "    - Clientes que compram em média uma vez por mês mas uma quantia maior e um valor maior que os Esporádicos\n",
    "    \n",
    "Cluster 2 - Clientes elegíveis a Insiders\n",
    "    - Gastam muito, toda semana e compram bastante produtos"
   ]
  },
  {
   "cell_type": "markdown",
   "id": "f100bdf1",
   "metadata": {},
   "source": [
    "# 10.0 EXPLORATORY DATA ANALYSIS(EDA) "
   ]
  },
  {
   "cell_type": "code",
   "execution_count": null,
   "id": "0b650f5a",
   "metadata": {
    "ExecuteTime": {
     "end_time": "2023-06-19T18:07:17.219647Z",
     "start_time": "2023-06-19T18:07:17.203813Z"
    }
   },
   "outputs": [],
   "source": [
    "cols_selected = ['customer_id', 'monetary', 'recency', 'qtd_prods', 'frequency', 'qtd_returns', 'clusters']"
   ]
  },
  {
   "cell_type": "code",
   "execution_count": null,
   "id": "bc4a4161",
   "metadata": {
    "ExecuteTime": {
     "end_time": "2023-06-19T18:07:19.417605Z",
     "start_time": "2023-06-19T18:07:19.402448Z"
    }
   },
   "outputs": [],
   "source": [
    "df10 = df95[cols_selected]"
   ]
  },
  {
   "cell_type": "code",
   "execution_count": null,
   "id": "b70f30d2",
   "metadata": {
    "ExecuteTime": {
     "end_time": "2023-06-19T18:07:23.492383Z",
     "start_time": "2023-06-19T18:07:23.477201Z"
    }
   },
   "outputs": [],
   "source": [
    "df10.head()"
   ]
  },
  {
   "cell_type": "markdown",
   "id": "104ae2ae",
   "metadata": {},
   "source": [
    "## 10.1 Hipóteses"
   ]
  },
  {
   "cell_type": "markdown",
   "id": "d2d8a2a0",
   "metadata": {},
   "source": [
    "1. O cluster insider gera em 50% da receita da minha base de dados total.\n",
    "2. O cluster insider compra 5x mais frequente que o total de clientes.\n",
    "3. O cluster insider demora em média metade do tempo para comprar novamento que o segundo cluster.\n",
    "4. O cluster Insider tem o maior percentual de clientes entre todos os clussters.\n",
    "5. O Cluster Insiders compra 4x mais produtos que o 2º cluster que compra mais.\n",
    "6. O cluster Insider é o cluster que menos retorna produtos."
   ]
  },
  {
   "cell_type": "markdown",
   "id": "d5dbb15f",
   "metadata": {},
   "source": [
    "### H1 - O cluster insider gera 50% da receita da minha base de dados total."
   ]
  },
  {
   "cell_type": "code",
   "execution_count": null,
   "id": "ab9154f1",
   "metadata": {
    "ExecuteTime": {
     "end_time": "2023-06-19T18:26:17.398191Z",
     "start_time": "2023-06-19T18:26:17.390758Z"
    }
   },
   "outputs": [],
   "source": [
    "receita_insiders = df10.loc[df10['clusters'] == 5,'monetary'].sum()\n",
    "receita_total = df10['monetary'].sum()\n",
    "print(f\"Receita Insiders: {receita_insiders/receita_total:.2f}%\")"
   ]
  },
  {
   "cell_type": "markdown",
   "id": "8d46f36b",
   "metadata": {},
   "source": [
    "VERDADEIRO"
   ]
  },
  {
   "cell_type": "markdown",
   "id": "4f38465d",
   "metadata": {
    "ExecuteTime": {
     "end_time": "2023-06-19T18:25:54.456009Z",
     "start_time": "2023-06-19T18:25:54.434235Z"
    }
   },
   "source": [
    "### H2 - O cluster insider compra 5x mais frequente que o total de clientes."
   ]
  },
  {
   "cell_type": "code",
   "execution_count": null,
   "id": "6c599707",
   "metadata": {
    "ExecuteTime": {
     "end_time": "2023-06-19T19:55:34.780290Z",
     "start_time": "2023-06-19T19:55:34.766019Z"
    }
   },
   "outputs": [],
   "source": [
    "freq_insiders = df10.loc[df10['clusters'] == 5,'frequency'].mean()\n",
    "freq_total = df10['frequency'].mean()\n",
    "print(f\"A frequência dos Insiders é em média: {freq_insiders:.2f}\")\n",
    "print(f\"A frequência da base total é em média: {freq_total:.2f}\")"
   ]
  },
  {
   "cell_type": "markdown",
   "id": "bb0ec5a8",
   "metadata": {
    "ExecuteTime": {
     "end_time": "2023-06-19T19:56:11.258515Z",
     "start_time": "2023-06-19T19:56:11.232044Z"
    }
   },
   "source": [
    "FALSO.  A frequência dos Insiders é em linha com a média da base total."
   ]
  },
  {
   "cell_type": "markdown",
   "id": "6ef0f4d8",
   "metadata": {},
   "source": [
    "### H3 - O cluster insider demora em média metade do tempo para comprar novamento que o segundo cluster."
   ]
  },
  {
   "cell_type": "code",
   "execution_count": null,
   "id": "7f29a87d",
   "metadata": {
    "ExecuteTime": {
     "end_time": "2023-06-19T19:24:39.309452Z",
     "start_time": "2023-06-19T19:24:39.290262Z"
    }
   },
   "outputs": [],
   "source": [
    "recency_insiders = df10.loc[df10['clusters'] == 5,'recency'].mean()\n",
    "recency_total = df10['recency'].mean()\n",
    "print(f\"Os insiders compram em média {recency_total/recency_insiders:.2f} vezes mais rápido que a base de dados\")"
   ]
  },
  {
   "cell_type": "markdown",
   "id": "f2b8446c",
   "metadata": {},
   "source": [
    "FALSO. Os enquanto a base compra em média a cada 60 dias, os insiders compram em média a cada 20 dias."
   ]
  },
  {
   "cell_type": "markdown",
   "id": "c0a4448c",
   "metadata": {},
   "source": [
    "### H4 - O cluster Insider tem o maior percentual de clientes entre todos os clusters."
   ]
  },
  {
   "cell_type": "code",
   "execution_count": null,
   "id": "739aca5b",
   "metadata": {
    "ExecuteTime": {
     "end_time": "2023-06-19T19:30:36.469515Z",
     "start_time": "2023-06-19T19:30:36.442439Z"
    }
   },
   "outputs": [],
   "source": [
    "df_resume.sort_values(by='percent')"
   ]
  },
  {
   "cell_type": "markdown",
   "id": "0fb40c4a",
   "metadata": {},
   "source": [
    "FALSO. Os Insiders correspondem apenas à 14% da base"
   ]
  },
  {
   "cell_type": "markdown",
   "id": "b7af372a",
   "metadata": {},
   "source": [
    "### H5 - O Cluster Insiders compra mais de 50% de todos os produtos em relação à base total"
   ]
  },
  {
   "cell_type": "code",
   "execution_count": null,
   "id": "4e041d60",
   "metadata": {
    "ExecuteTime": {
     "end_time": "2023-06-19T19:33:30.329256Z",
     "start_time": "2023-06-19T19:33:30.314758Z"
    }
   },
   "outputs": [],
   "source": [
    "qtd_insiders = df10.loc[df10['clusters'] == 5,'qtd_prods'].sum()\n",
    "qtd_total = df10['qtd_prods'].sum()\n",
    "print(f\"A quantidade de produtos dos insiders é {qtd_insiders/qtd_total:.2f}% da base\")"
   ]
  },
  {
   "cell_type": "markdown",
   "id": "0194738d",
   "metadata": {},
   "source": [
    "Verdadeiro. Os insiders correspondem à 52% da quantidade total de produtos"
   ]
  },
  {
   "cell_type": "markdown",
   "id": "96d3c9d3",
   "metadata": {},
   "source": [
    "### H6 - O cluster Insider é o cluster que menos retorna produtos."
   ]
  },
  {
   "cell_type": "code",
   "execution_count": null,
   "id": "65331ab5",
   "metadata": {
    "ExecuteTime": {
     "end_time": "2023-06-19T19:43:27.024439Z",
     "start_time": "2023-06-19T19:43:27.017025Z"
    }
   },
   "outputs": [],
   "source": [
    "returns_insiders = df10.loc[df10['clusters'] == 5,'qtd_returns'].sum()\n",
    "returns_total = df10['qtd_returns'].sum()\n",
    "print(f\"A quantidade de devoluções dos insiders é {returns_insiders/returns_total:.2f}% da base\")"
   ]
  },
  {
   "cell_type": "markdown",
   "id": "0efc0283",
   "metadata": {},
   "source": [
    "FALSO. O Insiders é o que mais devolve produtos. Talvez possa ser uma coisa boa pois quanto mais eles tem a liberdade de devolver mais eles podem comprar com segurança "
   ]
  },
  {
   "cell_type": "markdown",
   "id": "fefa1471",
   "metadata": {},
   "source": [
    "## 10.2 Perguntas de Negócio"
   ]
  },
  {
   "cell_type": "markdown",
   "id": "589baa2a",
   "metadata": {},
   "source": [
    "### 1. Quem são as pessoas elegíveis para participar do programa Insiders?"
   ]
  },
  {
   "cell_type": "code",
   "execution_count": null,
   "id": "9459e044",
   "metadata": {},
   "outputs": [],
   "source": [
    "df10.loc[df10['clusters'] == 5,['customer_id']] "
   ]
  },
  {
   "cell_type": "markdown",
   "id": "3e97cb50",
   "metadata": {},
   "source": [
    "### 2. Quantos clientes serão incluídos no grupo?"
   ]
  },
  {
   "cell_type": "code",
   "execution_count": null,
   "id": "ae2d7a64",
   "metadata": {},
   "outputs": [],
   "source": [
    "df10.loc[df10['clusters'] == 5,['customer_id']].shape[0] "
   ]
  },
  {
   "cell_type": "markdown",
   "id": "5da964a2",
   "metadata": {},
   "source": [
    "### 3. Quais são as características-chave desses clientes?"
   ]
  },
  {
   "cell_type": "markdown",
   "id": "793724de",
   "metadata": {},
   "source": [
    "- Número de customers = 420\n",
    "- Recência Média = 20.70 dias\n",
    "- Faturamento Médio = R$9618.03\n",
    "- Média de Produtos Comprados = 447 produtos\n",
    "- Frequência de Produtos Comprados = 0.1032 produtos comprados/dia"
   ]
  },
  {
   "cell_type": "markdown",
   "id": "bfbf82c3",
   "metadata": {},
   "source": [
    "### 4. Qual é a porcentagem de contribuição de receita dos Insiders?"
   ]
  },
  {
   "cell_type": "code",
   "execution_count": null,
   "id": "2ce5c753",
   "metadata": {},
   "outputs": [],
   "source": [
    "receita_insiders = df10.loc[df10['clusters'] == 5,'monetary'].sum()\n",
    "receita_total = df10['monetary'].sum()\n",
    "print(f\"Receita Insiders: {receita_insiders/receita_total:.2f}%\")"
   ]
  },
  {
   "cell_type": "markdown",
   "id": "230c3981",
   "metadata": {},
   "source": [
    "# 11.0 DEPLOY TO PRODUCTION"
   ]
  },
  {
   "cell_type": "code",
   "execution_count": null,
   "id": "5e9d9cdd",
   "metadata": {},
   "outputs": [],
   "source": []
  },
  {
   "cell_type": "code",
   "execution_count": null,
   "id": "4f00bd81",
   "metadata": {},
   "outputs": [],
   "source": []
  },
  {
   "cell_type": "code",
   "execution_count": null,
   "id": "37bdc5f3",
   "metadata": {},
   "outputs": [],
   "source": []
  }
 ],
 "metadata": {
  "hide_input": false,
  "kernelspec": {
   "display_name": "Python 3 (ipykernel)",
   "language": "python",
   "name": "python3"
  },
  "language_info": {
   "codemirror_mode": {
    "name": "ipython",
    "version": 3
   },
   "file_extension": ".py",
   "mimetype": "text/x-python",
   "name": "python",
   "nbconvert_exporter": "python",
   "pygments_lexer": "ipython3",
   "version": "3.10.11"
  },
  "varInspector": {
   "cols": {
    "lenName": 16,
    "lenType": 16,
    "lenVar": 40
   },
   "kernels_config": {
    "python": {
     "delete_cmd_postfix": "",
     "delete_cmd_prefix": "del ",
     "library": "var_list.py",
     "varRefreshCmd": "print(var_dic_list())"
    },
    "r": {
     "delete_cmd_postfix": ") ",
     "delete_cmd_prefix": "rm(",
     "library": "var_list.r",
     "varRefreshCmd": "cat(var_dic_list()) "
    }
   },
   "types_to_exclude": [
    "module",
    "function",
    "builtin_function_or_method",
    "instance",
    "_Feature"
   ],
   "window_display": false
  }
 },
 "nbformat": 4,
 "nbformat_minor": 5
}
