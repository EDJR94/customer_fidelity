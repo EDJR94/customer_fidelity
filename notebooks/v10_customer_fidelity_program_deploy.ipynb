{
 "cells": [
  {
   "cell_type": "markdown",
   "id": "be553885",
   "metadata": {},
   "source": [
    "# 0.0 IMPORTS"
   ]
  },
  {
   "cell_type": "code",
   "execution_count": 188,
   "id": "593a5dbd",
   "metadata": {
    "ExecuteTime": {
     "end_time": "2023-06-22T20:21:02.064515Z",
     "start_time": "2023-06-22T20:21:02.049989Z"
    }
   },
   "outputs": [],
   "source": [
    "import pandas   as pd\n",
    "import numpy    as np\n",
    "import seaborn  as sns\n",
    "import inflection\n",
    "import warnings\n",
    "import re\n",
    "import umap.umap_ as umap\n",
    "import matplotlib.cm as cm\n",
    "import datetime\n",
    "\n",
    "from matplotlib    import pyplot     as plt\n",
    "from plotly        import express    as px\n",
    "from scipy.cluster import hierarchy  as hc\n",
    "\n",
    "\n",
    "from sklearn             import cluster       as c\n",
    "from sklearn             import metrics       as mt\n",
    "from sklearn             import preprocessing as pp\n",
    "from sklearn             import decomposition as dd\n",
    "from sklearn.manifold    import TSNE\n",
    "from sklearn             import ensemble      as en\n",
    "from sklearn.mixture     import GaussianMixture\n",
    "\n",
    "warnings.filterwarnings('ignore')"
   ]
  },
  {
   "cell_type": "markdown",
   "id": "2f34031b",
   "metadata": {},
   "source": [
    "## 0.2 Loading Data"
   ]
  },
  {
   "cell_type": "code",
   "execution_count": 4,
   "id": "a9408282",
   "metadata": {
    "ExecuteTime": {
     "end_time": "2023-06-22T18:25:59.179402Z",
     "start_time": "2023-06-22T18:25:58.715844Z"
    }
   },
   "outputs": [],
   "source": [
    "#load data\n",
    "path = 'C:/Users/edils/repos/customer_fidelity/data/'\n",
    "df_raw = pd.read_csv(path + 'ecommerce.csv', encoding='windows-1252')\n",
    "df_raw = df_raw.drop('Unnamed: 8', axis=1)"
   ]
  },
  {
   "cell_type": "code",
   "execution_count": 5,
   "id": "8d8b8f41",
   "metadata": {
    "ExecuteTime": {
     "end_time": "2023-06-22T18:25:59.210954Z",
     "start_time": "2023-06-22T18:25:59.180906Z"
    }
   },
   "outputs": [
    {
     "data": {
      "text/html": [
       "<div>\n",
       "<style scoped>\n",
       "    .dataframe tbody tr th:only-of-type {\n",
       "        vertical-align: middle;\n",
       "    }\n",
       "\n",
       "    .dataframe tbody tr th {\n",
       "        vertical-align: top;\n",
       "    }\n",
       "\n",
       "    .dataframe thead th {\n",
       "        text-align: right;\n",
       "    }\n",
       "</style>\n",
       "<table border=\"1\" class=\"dataframe\">\n",
       "  <thead>\n",
       "    <tr style=\"text-align: right;\">\n",
       "      <th></th>\n",
       "      <th>InvoiceNo</th>\n",
       "      <th>StockCode</th>\n",
       "      <th>Description</th>\n",
       "      <th>Quantity</th>\n",
       "      <th>InvoiceDate</th>\n",
       "      <th>UnitPrice</th>\n",
       "      <th>CustomerID</th>\n",
       "      <th>Country</th>\n",
       "    </tr>\n",
       "  </thead>\n",
       "  <tbody>\n",
       "    <tr>\n",
       "      <th>0</th>\n",
       "      <td>536365</td>\n",
       "      <td>85123A</td>\n",
       "      <td>WHITE HANGING HEART T-LIGHT HOLDER</td>\n",
       "      <td>6</td>\n",
       "      <td>29-Nov-16</td>\n",
       "      <td>2.55</td>\n",
       "      <td>17850.0</td>\n",
       "      <td>United Kingdom</td>\n",
       "    </tr>\n",
       "    <tr>\n",
       "      <th>1</th>\n",
       "      <td>536365</td>\n",
       "      <td>71053</td>\n",
       "      <td>WHITE METAL LANTERN</td>\n",
       "      <td>6</td>\n",
       "      <td>29-Nov-16</td>\n",
       "      <td>3.39</td>\n",
       "      <td>17850.0</td>\n",
       "      <td>United Kingdom</td>\n",
       "    </tr>\n",
       "    <tr>\n",
       "      <th>2</th>\n",
       "      <td>536365</td>\n",
       "      <td>84406B</td>\n",
       "      <td>CREAM CUPID HEARTS COAT HANGER</td>\n",
       "      <td>8</td>\n",
       "      <td>29-Nov-16</td>\n",
       "      <td>2.75</td>\n",
       "      <td>17850.0</td>\n",
       "      <td>United Kingdom</td>\n",
       "    </tr>\n",
       "    <tr>\n",
       "      <th>3</th>\n",
       "      <td>536365</td>\n",
       "      <td>84029G</td>\n",
       "      <td>KNITTED UNION FLAG HOT WATER BOTTLE</td>\n",
       "      <td>6</td>\n",
       "      <td>29-Nov-16</td>\n",
       "      <td>3.39</td>\n",
       "      <td>17850.0</td>\n",
       "      <td>United Kingdom</td>\n",
       "    </tr>\n",
       "    <tr>\n",
       "      <th>4</th>\n",
       "      <td>536365</td>\n",
       "      <td>84029E</td>\n",
       "      <td>RED WOOLLY HOTTIE WHITE HEART.</td>\n",
       "      <td>6</td>\n",
       "      <td>29-Nov-16</td>\n",
       "      <td>3.39</td>\n",
       "      <td>17850.0</td>\n",
       "      <td>United Kingdom</td>\n",
       "    </tr>\n",
       "  </tbody>\n",
       "</table>\n",
       "</div>"
      ],
      "text/plain": [
       "  InvoiceNo StockCode                          Description  Quantity  \\\n",
       "0    536365    85123A   WHITE HANGING HEART T-LIGHT HOLDER         6   \n",
       "1    536365     71053                  WHITE METAL LANTERN         6   \n",
       "2    536365    84406B       CREAM CUPID HEARTS COAT HANGER         8   \n",
       "3    536365    84029G  KNITTED UNION FLAG HOT WATER BOTTLE         6   \n",
       "4    536365    84029E       RED WOOLLY HOTTIE WHITE HEART.         6   \n",
       "\n",
       "  InvoiceDate  UnitPrice  CustomerID         Country  \n",
       "0   29-Nov-16       2.55     17850.0  United Kingdom  \n",
       "1   29-Nov-16       3.39     17850.0  United Kingdom  \n",
       "2   29-Nov-16       2.75     17850.0  United Kingdom  \n",
       "3   29-Nov-16       3.39     17850.0  United Kingdom  \n",
       "4   29-Nov-16       3.39     17850.0  United Kingdom  "
      ]
     },
     "execution_count": 5,
     "metadata": {},
     "output_type": "execute_result"
    }
   ],
   "source": [
    "df_raw.head()"
   ]
  },
  {
   "cell_type": "markdown",
   "id": "b8105035",
   "metadata": {},
   "source": [
    "# 1.0 DATA DESCRIPTION"
   ]
  },
  {
   "cell_type": "code",
   "execution_count": 6,
   "id": "90655a19",
   "metadata": {
    "ExecuteTime": {
     "end_time": "2023-06-22T18:26:14.483782Z",
     "start_time": "2023-06-22T18:26:14.472154Z"
    }
   },
   "outputs": [],
   "source": [
    "df1 = df_raw.copy()"
   ]
  },
  {
   "cell_type": "code",
   "execution_count": 7,
   "id": "fbaf3b4b",
   "metadata": {
    "ExecuteTime": {
     "end_time": "2023-06-22T18:26:14.872642Z",
     "start_time": "2023-06-22T18:26:14.860158Z"
    }
   },
   "outputs": [
    {
     "data": {
      "text/html": [
       "<div>\n",
       "<style scoped>\n",
       "    .dataframe tbody tr th:only-of-type {\n",
       "        vertical-align: middle;\n",
       "    }\n",
       "\n",
       "    .dataframe tbody tr th {\n",
       "        vertical-align: top;\n",
       "    }\n",
       "\n",
       "    .dataframe thead th {\n",
       "        text-align: right;\n",
       "    }\n",
       "</style>\n",
       "<table border=\"1\" class=\"dataframe\">\n",
       "  <thead>\n",
       "    <tr style=\"text-align: right;\">\n",
       "      <th></th>\n",
       "      <th>InvoiceNo</th>\n",
       "      <th>StockCode</th>\n",
       "      <th>Description</th>\n",
       "      <th>Quantity</th>\n",
       "      <th>InvoiceDate</th>\n",
       "      <th>UnitPrice</th>\n",
       "      <th>CustomerID</th>\n",
       "      <th>Country</th>\n",
       "    </tr>\n",
       "  </thead>\n",
       "  <tbody>\n",
       "    <tr>\n",
       "      <th>0</th>\n",
       "      <td>536365</td>\n",
       "      <td>85123A</td>\n",
       "      <td>WHITE HANGING HEART T-LIGHT HOLDER</td>\n",
       "      <td>6</td>\n",
       "      <td>29-Nov-16</td>\n",
       "      <td>2.55</td>\n",
       "      <td>17850.0</td>\n",
       "      <td>United Kingdom</td>\n",
       "    </tr>\n",
       "    <tr>\n",
       "      <th>1</th>\n",
       "      <td>536365</td>\n",
       "      <td>71053</td>\n",
       "      <td>WHITE METAL LANTERN</td>\n",
       "      <td>6</td>\n",
       "      <td>29-Nov-16</td>\n",
       "      <td>3.39</td>\n",
       "      <td>17850.0</td>\n",
       "      <td>United Kingdom</td>\n",
       "    </tr>\n",
       "    <tr>\n",
       "      <th>2</th>\n",
       "      <td>536365</td>\n",
       "      <td>84406B</td>\n",
       "      <td>CREAM CUPID HEARTS COAT HANGER</td>\n",
       "      <td>8</td>\n",
       "      <td>29-Nov-16</td>\n",
       "      <td>2.75</td>\n",
       "      <td>17850.0</td>\n",
       "      <td>United Kingdom</td>\n",
       "    </tr>\n",
       "    <tr>\n",
       "      <th>3</th>\n",
       "      <td>536365</td>\n",
       "      <td>84029G</td>\n",
       "      <td>KNITTED UNION FLAG HOT WATER BOTTLE</td>\n",
       "      <td>6</td>\n",
       "      <td>29-Nov-16</td>\n",
       "      <td>3.39</td>\n",
       "      <td>17850.0</td>\n",
       "      <td>United Kingdom</td>\n",
       "    </tr>\n",
       "    <tr>\n",
       "      <th>4</th>\n",
       "      <td>536365</td>\n",
       "      <td>84029E</td>\n",
       "      <td>RED WOOLLY HOTTIE WHITE HEART.</td>\n",
       "      <td>6</td>\n",
       "      <td>29-Nov-16</td>\n",
       "      <td>3.39</td>\n",
       "      <td>17850.0</td>\n",
       "      <td>United Kingdom</td>\n",
       "    </tr>\n",
       "  </tbody>\n",
       "</table>\n",
       "</div>"
      ],
      "text/plain": [
       "  InvoiceNo StockCode                          Description  Quantity  \\\n",
       "0    536365    85123A   WHITE HANGING HEART T-LIGHT HOLDER         6   \n",
       "1    536365     71053                  WHITE METAL LANTERN         6   \n",
       "2    536365    84406B       CREAM CUPID HEARTS COAT HANGER         8   \n",
       "3    536365    84029G  KNITTED UNION FLAG HOT WATER BOTTLE         6   \n",
       "4    536365    84029E       RED WOOLLY HOTTIE WHITE HEART.         6   \n",
       "\n",
       "  InvoiceDate  UnitPrice  CustomerID         Country  \n",
       "0   29-Nov-16       2.55     17850.0  United Kingdom  \n",
       "1   29-Nov-16       3.39     17850.0  United Kingdom  \n",
       "2   29-Nov-16       2.75     17850.0  United Kingdom  \n",
       "3   29-Nov-16       3.39     17850.0  United Kingdom  \n",
       "4   29-Nov-16       3.39     17850.0  United Kingdom  "
      ]
     },
     "execution_count": 7,
     "metadata": {},
     "output_type": "execute_result"
    }
   ],
   "source": [
    "df1.head()"
   ]
  },
  {
   "cell_type": "markdown",
   "id": "65817ca0",
   "metadata": {},
   "source": [
    "## 1.1 Rename Columns"
   ]
  },
  {
   "cell_type": "code",
   "execution_count": 8,
   "id": "08b15123",
   "metadata": {
    "ExecuteTime": {
     "end_time": "2023-06-22T18:26:21.176100Z",
     "start_time": "2023-06-22T18:26:21.158490Z"
    }
   },
   "outputs": [],
   "source": [
    "df1.columns = df1.columns.map(lambda x: inflection.underscore(x))"
   ]
  },
  {
   "cell_type": "markdown",
   "id": "4b16e150",
   "metadata": {},
   "source": [
    "## 1.2 Data Dimensions"
   ]
  },
  {
   "cell_type": "code",
   "execution_count": 9,
   "id": "2e6f1a12",
   "metadata": {
    "ExecuteTime": {
     "end_time": "2023-06-22T18:26:21.876455Z",
     "start_time": "2023-06-22T18:26:21.870121Z"
    }
   },
   "outputs": [
    {
     "data": {
      "text/plain": [
       "(541909, 8)"
      ]
     },
     "execution_count": 9,
     "metadata": {},
     "output_type": "execute_result"
    }
   ],
   "source": [
    "df1.shape"
   ]
  },
  {
   "cell_type": "markdown",
   "id": "94d5281a",
   "metadata": {},
   "source": [
    "## 1.3 Data Types"
   ]
  },
  {
   "cell_type": "code",
   "execution_count": 10,
   "id": "6b312fa9",
   "metadata": {
    "ExecuteTime": {
     "end_time": "2023-06-22T18:26:22.732492Z",
     "start_time": "2023-06-22T18:26:22.728459Z"
    }
   },
   "outputs": [
    {
     "data": {
      "text/plain": [
       "invoice_no       object\n",
       "stock_code       object\n",
       "description      object\n",
       "quantity          int64\n",
       "invoice_date     object\n",
       "unit_price      float64\n",
       "customer_id     float64\n",
       "country          object\n",
       "dtype: object"
      ]
     },
     "execution_count": 10,
     "metadata": {},
     "output_type": "execute_result"
    }
   ],
   "source": [
    "df1.dtypes"
   ]
  },
  {
   "cell_type": "markdown",
   "id": "6cef345d",
   "metadata": {},
   "source": [
    "## 1.4 Check NA"
   ]
  },
  {
   "cell_type": "code",
   "execution_count": 11,
   "id": "0ca201d8",
   "metadata": {
    "ExecuteTime": {
     "end_time": "2023-06-22T18:26:25.164355Z",
     "start_time": "2023-06-22T18:26:24.976427Z"
    }
   },
   "outputs": [
    {
     "data": {
      "text/plain": [
       "invoice_no           0\n",
       "stock_code           0\n",
       "description       1454\n",
       "quantity             0\n",
       "invoice_date         0\n",
       "unit_price           0\n",
       "customer_id     135080\n",
       "country              0\n",
       "dtype: int64"
      ]
     },
     "execution_count": 11,
     "metadata": {},
     "output_type": "execute_result"
    }
   ],
   "source": [
    "df1.isna().sum()"
   ]
  },
  {
   "cell_type": "markdown",
   "id": "2876576c",
   "metadata": {},
   "source": [
    "## 1.5 Replace NA"
   ]
  },
  {
   "cell_type": "code",
   "execution_count": 12,
   "id": "34a87ef4",
   "metadata": {
    "ExecuteTime": {
     "end_time": "2023-06-22T18:26:34.248446Z",
     "start_time": "2023-06-22T18:26:34.227690Z"
    }
   },
   "outputs": [],
   "source": [
    "df_missing = df1.loc[pd.isnull(df1['customer_id']),:]"
   ]
  },
  {
   "cell_type": "code",
   "execution_count": 13,
   "id": "d7ea6abe",
   "metadata": {
    "ExecuteTime": {
     "end_time": "2023-06-22T18:26:37.229439Z",
     "start_time": "2023-06-22T18:26:37.097564Z"
    }
   },
   "outputs": [],
   "source": [
    "#create reference\n",
    "df_backup = pd.DataFrame(df_missing['invoice_no'].drop_duplicates())\n",
    "df_backup['customer_id'] = np.arange(19000, 19000+len(df_backup),1)\n",
    "\n",
    "#merge\n",
    "df1 = pd.merge(df1, df_backup, on='invoice_no', how='left')\n",
    "\n",
    "#coalesce - combina o que tem NaN em uma coluna com o que não tem em outra\n",
    "df1['customer_id'] = df1['customer_id_x'].combine_first(df1['customer_id_y'])\n",
    "\n",
    "#drop extra columns\n",
    "df1 = df1.drop(['customer_id_x','customer_id_y'], axis=1)"
   ]
  },
  {
   "cell_type": "markdown",
   "id": "501ca33c",
   "metadata": {},
   "source": [
    "## 1.6 Change Types"
   ]
  },
  {
   "cell_type": "code",
   "execution_count": 14,
   "id": "c19552d6",
   "metadata": {
    "ExecuteTime": {
     "end_time": "2023-06-22T18:26:45.167045Z",
     "start_time": "2023-06-22T18:26:45.107793Z"
    }
   },
   "outputs": [],
   "source": [
    "df1['invoice_date'] = pd.to_datetime(df1['invoice_date'])"
   ]
  },
  {
   "cell_type": "markdown",
   "id": "2a91b005",
   "metadata": {},
   "source": [
    "## 1.7 Descriptive Statistics"
   ]
  },
  {
   "cell_type": "code",
   "execution_count": 15,
   "id": "abac0617",
   "metadata": {
    "ExecuteTime": {
     "end_time": "2023-06-22T18:26:46.368943Z",
     "start_time": "2023-06-22T18:26:46.330135Z"
    }
   },
   "outputs": [],
   "source": [
    "numerical_attributes = df1.select_dtypes(include=['float64', 'int64', 'datetime64[ns]'])\n",
    "categorical_atributtes = df1.select_dtypes(exclude=['float64', 'int64', 'datetime64[ns]'])"
   ]
  },
  {
   "cell_type": "markdown",
   "id": "c7494683",
   "metadata": {},
   "source": [
    "## 1.7.1 Numerical Analysis"
   ]
  },
  {
   "cell_type": "code",
   "execution_count": 16,
   "id": "992da35c",
   "metadata": {
    "ExecuteTime": {
     "end_time": "2023-06-22T18:26:49.193353Z",
     "start_time": "2023-06-22T18:26:46.997416Z"
    }
   },
   "outputs": [],
   "source": [
    "disp = numerical_attributes.agg(['mean','median','std','min','max',lambda x: max(x) - min(x), 'skew', 'kurtosis']).T.rename(columns={'<lambda>':'range'})"
   ]
  },
  {
   "cell_type": "code",
   "execution_count": 17,
   "id": "1d62e6b5",
   "metadata": {
    "ExecuteTime": {
     "end_time": "2023-06-22T18:26:49.209001Z",
     "start_time": "2023-06-22T18:26:49.194747Z"
    }
   },
   "outputs": [
    {
     "data": {
      "text/html": [
       "<div>\n",
       "<style scoped>\n",
       "    .dataframe tbody tr th:only-of-type {\n",
       "        vertical-align: middle;\n",
       "    }\n",
       "\n",
       "    .dataframe tbody tr th {\n",
       "        vertical-align: top;\n",
       "    }\n",
       "\n",
       "    .dataframe thead th {\n",
       "        text-align: right;\n",
       "    }\n",
       "</style>\n",
       "<table border=\"1\" class=\"dataframe\">\n",
       "  <thead>\n",
       "    <tr style=\"text-align: right;\">\n",
       "      <th></th>\n",
       "      <th>mean</th>\n",
       "      <th>median</th>\n",
       "      <th>std</th>\n",
       "      <th>min</th>\n",
       "      <th>max</th>\n",
       "      <th>range</th>\n",
       "      <th>skew</th>\n",
       "      <th>kurtosis</th>\n",
       "    </tr>\n",
       "  </thead>\n",
       "  <tbody>\n",
       "    <tr>\n",
       "      <th>quantity</th>\n",
       "      <td>9.55225</td>\n",
       "      <td>3.0</td>\n",
       "      <td>218.081158</td>\n",
       "      <td>-80995.0</td>\n",
       "      <td>80995.0</td>\n",
       "      <td>161990.0</td>\n",
       "      <td>-0.264076</td>\n",
       "      <td>119769.160031</td>\n",
       "    </tr>\n",
       "    <tr>\n",
       "      <th>invoice_date</th>\n",
       "      <td>2017-07-02 00:00:13.073782016</td>\n",
       "      <td>2017-07-17 00:00:00</td>\n",
       "      <td>115 days 21:02:59.177457004</td>\n",
       "      <td>2016-11-29 00:00:00</td>\n",
       "      <td>2017-12-07 00:00:00</td>\n",
       "      <td>373 days 00:00:00</td>\n",
       "      <td>NaN</td>\n",
       "      <td>NaN</td>\n",
       "    </tr>\n",
       "    <tr>\n",
       "      <th>unit_price</th>\n",
       "      <td>4.611114</td>\n",
       "      <td>2.08</td>\n",
       "      <td>96.759853</td>\n",
       "      <td>-11062.06</td>\n",
       "      <td>38970.0</td>\n",
       "      <td>50032.06</td>\n",
       "      <td>186.506972</td>\n",
       "      <td>59005.719097</td>\n",
       "    </tr>\n",
       "    <tr>\n",
       "      <th>customer_id</th>\n",
       "      <td>16688.840453</td>\n",
       "      <td>16249.0</td>\n",
       "      <td>2911.411352</td>\n",
       "      <td>12346.0</td>\n",
       "      <td>22709.0</td>\n",
       "      <td>10363.0</td>\n",
       "      <td>0.487449</td>\n",
       "      <td>-0.804287</td>\n",
       "    </tr>\n",
       "  </tbody>\n",
       "</table>\n",
       "</div>"
      ],
      "text/plain": [
       "                                       mean               median  \\\n",
       "quantity                            9.55225                  3.0   \n",
       "invoice_date  2017-07-02 00:00:13.073782016  2017-07-17 00:00:00   \n",
       "unit_price                         4.611114                 2.08   \n",
       "customer_id                    16688.840453              16249.0   \n",
       "\n",
       "                                      std                  min  \\\n",
       "quantity                       218.081158             -80995.0   \n",
       "invoice_date  115 days 21:02:59.177457004  2016-11-29 00:00:00   \n",
       "unit_price                      96.759853            -11062.06   \n",
       "customer_id                   2911.411352              12346.0   \n",
       "\n",
       "                              max              range        skew  \\\n",
       "quantity                  80995.0           161990.0   -0.264076   \n",
       "invoice_date  2017-12-07 00:00:00  373 days 00:00:00         NaN   \n",
       "unit_price                38970.0           50032.06  186.506972   \n",
       "customer_id               22709.0            10363.0    0.487449   \n",
       "\n",
       "                   kurtosis  \n",
       "quantity      119769.160031  \n",
       "invoice_date            NaN  \n",
       "unit_price     59005.719097  \n",
       "customer_id       -0.804287  "
      ]
     },
     "execution_count": 17,
     "metadata": {},
     "output_type": "execute_result"
    }
   ],
   "source": [
    "disp"
   ]
  },
  {
   "cell_type": "markdown",
   "id": "2ec3a79e",
   "metadata": {},
   "source": [
    "## 1.7.2 Categorical Atributtes"
   ]
  },
  {
   "cell_type": "code",
   "execution_count": 18,
   "id": "c4fc90a4",
   "metadata": {
    "ExecuteTime": {
     "end_time": "2023-06-22T18:26:53.099817Z",
     "start_time": "2023-06-22T18:26:53.082146Z"
    }
   },
   "outputs": [
    {
     "data": {
      "text/html": [
       "<div>\n",
       "<style scoped>\n",
       "    .dataframe tbody tr th:only-of-type {\n",
       "        vertical-align: middle;\n",
       "    }\n",
       "\n",
       "    .dataframe tbody tr th {\n",
       "        vertical-align: top;\n",
       "    }\n",
       "\n",
       "    .dataframe thead th {\n",
       "        text-align: right;\n",
       "    }\n",
       "</style>\n",
       "<table border=\"1\" class=\"dataframe\">\n",
       "  <thead>\n",
       "    <tr style=\"text-align: right;\">\n",
       "      <th></th>\n",
       "      <th>invoice_no</th>\n",
       "      <th>stock_code</th>\n",
       "      <th>description</th>\n",
       "      <th>country</th>\n",
       "    </tr>\n",
       "  </thead>\n",
       "  <tbody>\n",
       "    <tr>\n",
       "      <th>0</th>\n",
       "      <td>536365</td>\n",
       "      <td>85123A</td>\n",
       "      <td>WHITE HANGING HEART T-LIGHT HOLDER</td>\n",
       "      <td>United Kingdom</td>\n",
       "    </tr>\n",
       "    <tr>\n",
       "      <th>1</th>\n",
       "      <td>536365</td>\n",
       "      <td>71053</td>\n",
       "      <td>WHITE METAL LANTERN</td>\n",
       "      <td>United Kingdom</td>\n",
       "    </tr>\n",
       "    <tr>\n",
       "      <th>2</th>\n",
       "      <td>536365</td>\n",
       "      <td>84406B</td>\n",
       "      <td>CREAM CUPID HEARTS COAT HANGER</td>\n",
       "      <td>United Kingdom</td>\n",
       "    </tr>\n",
       "    <tr>\n",
       "      <th>3</th>\n",
       "      <td>536365</td>\n",
       "      <td>84029G</td>\n",
       "      <td>KNITTED UNION FLAG HOT WATER BOTTLE</td>\n",
       "      <td>United Kingdom</td>\n",
       "    </tr>\n",
       "    <tr>\n",
       "      <th>4</th>\n",
       "      <td>536365</td>\n",
       "      <td>84029E</td>\n",
       "      <td>RED WOOLLY HOTTIE WHITE HEART.</td>\n",
       "      <td>United Kingdom</td>\n",
       "    </tr>\n",
       "    <tr>\n",
       "      <th>...</th>\n",
       "      <td>...</td>\n",
       "      <td>...</td>\n",
       "      <td>...</td>\n",
       "      <td>...</td>\n",
       "    </tr>\n",
       "    <tr>\n",
       "      <th>541904</th>\n",
       "      <td>581587</td>\n",
       "      <td>22613</td>\n",
       "      <td>PACK OF 20 SPACEBOY NAPKINS</td>\n",
       "      <td>France</td>\n",
       "    </tr>\n",
       "    <tr>\n",
       "      <th>541905</th>\n",
       "      <td>581587</td>\n",
       "      <td>22899</td>\n",
       "      <td>CHILDREN'S APRON DOLLY GIRL</td>\n",
       "      <td>France</td>\n",
       "    </tr>\n",
       "    <tr>\n",
       "      <th>541906</th>\n",
       "      <td>581587</td>\n",
       "      <td>23254</td>\n",
       "      <td>CHILDRENS CUTLERY DOLLY GIRL</td>\n",
       "      <td>France</td>\n",
       "    </tr>\n",
       "    <tr>\n",
       "      <th>541907</th>\n",
       "      <td>581587</td>\n",
       "      <td>23255</td>\n",
       "      <td>CHILDRENS CUTLERY CIRCUS PARADE</td>\n",
       "      <td>France</td>\n",
       "    </tr>\n",
       "    <tr>\n",
       "      <th>541908</th>\n",
       "      <td>581587</td>\n",
       "      <td>22138</td>\n",
       "      <td>BAKING SET 9 PIECE RETROSPOT</td>\n",
       "      <td>France</td>\n",
       "    </tr>\n",
       "  </tbody>\n",
       "</table>\n",
       "<p>541909 rows × 4 columns</p>\n",
       "</div>"
      ],
      "text/plain": [
       "       invoice_no stock_code                          description  \\\n",
       "0          536365     85123A   WHITE HANGING HEART T-LIGHT HOLDER   \n",
       "1          536365      71053                  WHITE METAL LANTERN   \n",
       "2          536365     84406B       CREAM CUPID HEARTS COAT HANGER   \n",
       "3          536365     84029G  KNITTED UNION FLAG HOT WATER BOTTLE   \n",
       "4          536365     84029E       RED WOOLLY HOTTIE WHITE HEART.   \n",
       "...           ...        ...                                  ...   \n",
       "541904     581587      22613          PACK OF 20 SPACEBOY NAPKINS   \n",
       "541905     581587      22899         CHILDREN'S APRON DOLLY GIRL    \n",
       "541906     581587      23254        CHILDRENS CUTLERY DOLLY GIRL    \n",
       "541907     581587      23255      CHILDRENS CUTLERY CIRCUS PARADE   \n",
       "541908     581587      22138        BAKING SET 9 PIECE RETROSPOT    \n",
       "\n",
       "               country  \n",
       "0       United Kingdom  \n",
       "1       United Kingdom  \n",
       "2       United Kingdom  \n",
       "3       United Kingdom  \n",
       "4       United Kingdom  \n",
       "...                ...  \n",
       "541904          France  \n",
       "541905          France  \n",
       "541906          France  \n",
       "541907          France  \n",
       "541908          France  \n",
       "\n",
       "[541909 rows x 4 columns]"
      ]
     },
     "execution_count": 18,
     "metadata": {},
     "output_type": "execute_result"
    }
   ],
   "source": [
    "categorical_atributtes"
   ]
  },
  {
   "cell_type": "code",
   "execution_count": 22,
   "id": "5d4bd60a",
   "metadata": {
    "ExecuteTime": {
     "end_time": "2023-06-19T17:56:20.575052Z",
     "start_time": "2023-06-19T17:56:20.184207Z"
    }
   },
   "outputs": [
    {
     "data": {
      "text/plain": [
       "True"
      ]
     },
     "execution_count": 22,
     "metadata": {},
     "output_type": "execute_result"
    }
   ],
   "source": [
    "#invoice_no\n",
    "letter_lines = categorical_atributtes['invoice_no'].apply(lambda x: bool (re.search('[a-zA-Z]', x)))\n",
    "letter_df = df1.loc[letter_lines,'quantity']\n",
    "any(letter_df >0)"
   ]
  },
  {
   "cell_type": "code",
   "execution_count": 23,
   "id": "5ada7aaf",
   "metadata": {
    "ExecuteTime": {
     "end_time": "2023-06-19T17:56:21.047421Z",
     "start_time": "2023-06-19T17:56:20.577093Z"
    }
   },
   "outputs": [],
   "source": [
    "#stock_code\n",
    "stock_letter = categorical_atributtes['stock_code'].apply(lambda x: bool (re.search('^[a-zA-Z]+$', x)))\n",
    "stock_df = df1.loc[stock_letter,:]"
   ]
  },
  {
   "cell_type": "code",
   "execution_count": 19,
   "id": "0f76b694",
   "metadata": {
    "ExecuteTime": {
     "end_time": "2023-06-22T18:27:24.647809Z",
     "start_time": "2023-06-22T18:27:24.557801Z"
    }
   },
   "outputs": [
    {
     "data": {
      "text/html": [
       "<div>\n",
       "<style scoped>\n",
       "    .dataframe tbody tr th:only-of-type {\n",
       "        vertical-align: middle;\n",
       "    }\n",
       "\n",
       "    .dataframe tbody tr th {\n",
       "        vertical-align: top;\n",
       "    }\n",
       "\n",
       "    .dataframe thead th {\n",
       "        text-align: right;\n",
       "    }\n",
       "</style>\n",
       "<table border=\"1\" class=\"dataframe\">\n",
       "  <thead>\n",
       "    <tr style=\"text-align: right;\">\n",
       "      <th></th>\n",
       "      <th>country</th>\n",
       "      <th>customer_id</th>\n",
       "    </tr>\n",
       "  </thead>\n",
       "  <tbody>\n",
       "    <tr>\n",
       "      <th>36</th>\n",
       "      <td>United Kingdom</td>\n",
       "      <td>7587</td>\n",
       "    </tr>\n",
       "    <tr>\n",
       "      <th>14</th>\n",
       "      <td>Germany</td>\n",
       "      <td>95</td>\n",
       "    </tr>\n",
       "    <tr>\n",
       "      <th>13</th>\n",
       "      <td>France</td>\n",
       "      <td>90</td>\n",
       "    </tr>\n",
       "    <tr>\n",
       "      <th>10</th>\n",
       "      <td>EIRE</td>\n",
       "      <td>44</td>\n",
       "    </tr>\n",
       "    <tr>\n",
       "      <th>31</th>\n",
       "      <td>Spain</td>\n",
       "      <td>31</td>\n",
       "    </tr>\n",
       "  </tbody>\n",
       "</table>\n",
       "</div>"
      ],
      "text/plain": [
       "           country  customer_id\n",
       "36  United Kingdom         7587\n",
       "14         Germany           95\n",
       "13          France           90\n",
       "10            EIRE           44\n",
       "31           Spain           31"
      ]
     },
     "execution_count": 19,
     "metadata": {},
     "output_type": "execute_result"
    }
   ],
   "source": [
    "#country - European Community and Unspecified\n",
    "df1['country'].unique()\n",
    "df1.loc[:,['customer_id','country']].drop_duplicates().groupby('country').count().reset_index().sort_values(by='customer_id', ascending=False).head()"
   ]
  },
  {
   "cell_type": "markdown",
   "id": "5922b1d0",
   "metadata": {},
   "source": [
    "# 2.0 VARIABLE FILTERING"
   ]
  },
  {
   "cell_type": "code",
   "execution_count": 20,
   "id": "41c70029",
   "metadata": {
    "ExecuteTime": {
     "end_time": "2023-06-22T18:27:43.514980Z",
     "start_time": "2023-06-22T18:27:43.479886Z"
    }
   },
   "outputs": [],
   "source": [
    "df2 = df1.copy()"
   ]
  },
  {
   "cell_type": "markdown",
   "id": "3822bf6d",
   "metadata": {},
   "source": [
    "## 2.1 Numerical Attributes"
   ]
  },
  {
   "cell_type": "code",
   "execution_count": 21,
   "id": "76a4ec13",
   "metadata": {
    "ExecuteTime": {
     "end_time": "2023-06-22T18:27:50.489242Z",
     "start_time": "2023-06-22T18:27:50.293115Z"
    }
   },
   "outputs": [],
   "source": [
    "#unit_price\n",
    "df2 = df2.loc[df2['unit_price'] >= 0.040,:]\n",
    "\n",
    "#stock code\n",
    "df2 = df2.loc[~df2['stock_code'].isin(['POST', 'D', 'DOT', 'M', 'S', 'AMAZONFEE', 'm', 'DCGSSBOY',\n",
    "       'DCGSSGIRL', 'PADS', 'B', 'CRUK']),:]\n",
    "\n",
    "#description\n",
    "df2 = df2.drop('description', axis=1)\n",
    "\n",
    "#country\n",
    "df2 = df2.loc[~df2['country'].isin(['Unspecified','European Community']),:]\n",
    "\n",
    "#bad users\n",
    "\n",
    "df2 = df2.loc[~df2['customer_id'].isin([16446]),:]\n"
   ]
  },
  {
   "cell_type": "code",
   "execution_count": 22,
   "id": "56d5b814",
   "metadata": {
    "ExecuteTime": {
     "end_time": "2023-06-22T18:27:58.700613Z",
     "start_time": "2023-06-22T18:27:58.673507Z"
    }
   },
   "outputs": [],
   "source": [
    "#divide df in purchases and returns\n",
    "df_purchase = df2.loc[df2['quantity'] >=0, :]\n",
    "df_returns = df2.loc[df2['quantity'] < 0,:]"
   ]
  },
  {
   "cell_type": "markdown",
   "id": "92294c09",
   "metadata": {},
   "source": [
    "# 3.0 FEATURE ENGINEERING"
   ]
  },
  {
   "cell_type": "code",
   "execution_count": 30,
   "id": "113f8ff0",
   "metadata": {
    "ExecuteTime": {
     "end_time": "2023-06-22T18:34:18.685644Z",
     "start_time": "2023-06-22T18:34:18.662178Z"
    }
   },
   "outputs": [],
   "source": [
    "df3 = df2.copy()"
   ]
  },
  {
   "cell_type": "code",
   "execution_count": 31,
   "id": "36229b65",
   "metadata": {
    "ExecuteTime": {
     "end_time": "2023-06-22T18:34:18.964739Z",
     "start_time": "2023-06-22T18:34:18.942646Z"
    }
   },
   "outputs": [
    {
     "data": {
      "text/html": [
       "<div>\n",
       "<style scoped>\n",
       "    .dataframe tbody tr th:only-of-type {\n",
       "        vertical-align: middle;\n",
       "    }\n",
       "\n",
       "    .dataframe tbody tr th {\n",
       "        vertical-align: top;\n",
       "    }\n",
       "\n",
       "    .dataframe thead th {\n",
       "        text-align: right;\n",
       "    }\n",
       "</style>\n",
       "<table border=\"1\" class=\"dataframe\">\n",
       "  <thead>\n",
       "    <tr style=\"text-align: right;\">\n",
       "      <th></th>\n",
       "      <th>invoice_no</th>\n",
       "      <th>stock_code</th>\n",
       "      <th>quantity</th>\n",
       "      <th>invoice_date</th>\n",
       "      <th>unit_price</th>\n",
       "      <th>country</th>\n",
       "      <th>customer_id</th>\n",
       "    </tr>\n",
       "  </thead>\n",
       "  <tbody>\n",
       "    <tr>\n",
       "      <th>0</th>\n",
       "      <td>536365</td>\n",
       "      <td>85123A</td>\n",
       "      <td>6</td>\n",
       "      <td>2016-11-29</td>\n",
       "      <td>2.55</td>\n",
       "      <td>United Kingdom</td>\n",
       "      <td>17850.0</td>\n",
       "    </tr>\n",
       "    <tr>\n",
       "      <th>1</th>\n",
       "      <td>536365</td>\n",
       "      <td>71053</td>\n",
       "      <td>6</td>\n",
       "      <td>2016-11-29</td>\n",
       "      <td>3.39</td>\n",
       "      <td>United Kingdom</td>\n",
       "      <td>17850.0</td>\n",
       "    </tr>\n",
       "    <tr>\n",
       "      <th>2</th>\n",
       "      <td>536365</td>\n",
       "      <td>84406B</td>\n",
       "      <td>8</td>\n",
       "      <td>2016-11-29</td>\n",
       "      <td>2.75</td>\n",
       "      <td>United Kingdom</td>\n",
       "      <td>17850.0</td>\n",
       "    </tr>\n",
       "    <tr>\n",
       "      <th>3</th>\n",
       "      <td>536365</td>\n",
       "      <td>84029G</td>\n",
       "      <td>6</td>\n",
       "      <td>2016-11-29</td>\n",
       "      <td>3.39</td>\n",
       "      <td>United Kingdom</td>\n",
       "      <td>17850.0</td>\n",
       "    </tr>\n",
       "    <tr>\n",
       "      <th>4</th>\n",
       "      <td>536365</td>\n",
       "      <td>84029E</td>\n",
       "      <td>6</td>\n",
       "      <td>2016-11-29</td>\n",
       "      <td>3.39</td>\n",
       "      <td>United Kingdom</td>\n",
       "      <td>17850.0</td>\n",
       "    </tr>\n",
       "  </tbody>\n",
       "</table>\n",
       "</div>"
      ],
      "text/plain": [
       "  invoice_no stock_code  quantity invoice_date  unit_price         country  \\\n",
       "0     536365     85123A         6   2016-11-29        2.55  United Kingdom   \n",
       "1     536365      71053         6   2016-11-29        3.39  United Kingdom   \n",
       "2     536365     84406B         8   2016-11-29        2.75  United Kingdom   \n",
       "3     536365     84029G         6   2016-11-29        3.39  United Kingdom   \n",
       "4     536365     84029E         6   2016-11-29        3.39  United Kingdom   \n",
       "\n",
       "   customer_id  \n",
       "0      17850.0  \n",
       "1      17850.0  \n",
       "2      17850.0  \n",
       "3      17850.0  \n",
       "4      17850.0  "
      ]
     },
     "execution_count": 31,
     "metadata": {},
     "output_type": "execute_result"
    }
   ],
   "source": [
    "df3.head()"
   ]
  },
  {
   "cell_type": "markdown",
   "id": "db2b1bec",
   "metadata": {},
   "source": [
    "## 3.1 Monetary "
   ]
  },
  {
   "cell_type": "code",
   "execution_count": 32,
   "id": "835a15c7",
   "metadata": {
    "ExecuteTime": {
     "end_time": "2023-06-22T18:34:20.104517Z",
     "start_time": "2023-06-22T18:34:20.039275Z"
    }
   },
   "outputs": [
    {
     "data": {
      "text/plain": [
       "customer_id    0\n",
       "monetary       0\n",
       "dtype: int64"
      ]
     },
     "execution_count": 32,
     "metadata": {},
     "output_type": "execute_result"
    }
   ],
   "source": [
    "#Monetary - O quanto cada cliente gera de $\n",
    "aux_monetary = pd.DataFrame()\n",
    "aux_monetary['valor_bruto'] = df_purchase['quantity'] * df_purchase['unit_price']\n",
    "aux_monetary['customer_id'] = df_purchase['customer_id']\n",
    "df_ref = aux_monetary.loc[:,['valor_bruto', 'customer_id']].groupby('customer_id').sum().reset_index().rename(columns={'valor_bruto':'monetary'})\n",
    "df_ref.isna().sum()"
   ]
  },
  {
   "cell_type": "markdown",
   "id": "af6f2fbb",
   "metadata": {},
   "source": [
    "## 3.5 Qtd produtos únicos dentro da compra (stock_code)"
   ]
  },
  {
   "cell_type": "code",
   "execution_count": 33,
   "id": "2b6a4dba",
   "metadata": {
    "ExecuteTime": {
     "end_time": "2023-06-22T18:34:21.121027Z",
     "start_time": "2023-06-22T18:34:21.048065Z"
    }
   },
   "outputs": [
    {
     "data": {
      "text/plain": [
       "customer_id    0\n",
       "monetary       0\n",
       "qtd_prods      0\n",
       "dtype: int64"
      ]
     },
     "execution_count": 33,
     "metadata": {},
     "output_type": "execute_result"
    }
   ],
   "source": [
    "#Quantos produtos cada cliente comprou\n",
    "aux_qtd_stock = df_purchase.loc[:,['stock_code','customer_id']].groupby('customer_id').count().reset_index().rename(columns={'stock_code':'qtd_prods'})\n",
    "df_ref = pd.merge(df_ref, aux_qtd_stock, on='customer_id', how='left')\n",
    "df_ref.isna().sum()"
   ]
  },
  {
   "cell_type": "markdown",
   "id": "6001d927",
   "metadata": {},
   "source": [
    "## 3.6 Recency"
   ]
  },
  {
   "cell_type": "code",
   "execution_count": 34,
   "id": "461f9c1a",
   "metadata": {
    "ExecuteTime": {
     "end_time": "2023-06-22T18:34:21.762219Z",
     "start_time": "2023-06-22T18:34:21.722391Z"
    }
   },
   "outputs": [
    {
     "data": {
      "text/plain": [
       "customer_id    0\n",
       "monetary       0\n",
       "qtd_prods      0\n",
       "recency        0\n",
       "dtype: int64"
      ]
     },
     "execution_count": 34,
     "metadata": {},
     "output_type": "execute_result"
    }
   ],
   "source": [
    "#Recency\n",
    "aux_recency = df_purchase.loc[:,['customer_id','invoice_date']].groupby('customer_id').max().reset_index()\n",
    "date_max = df_purchase['invoice_date'].max()\n",
    "aux_recency['recency'] = (date_max - aux_recency['invoice_date']).dt.days\n",
    "df_ref = pd.merge(df_ref, aux_recency, on='customer_id', how='left')\n",
    "df_ref = df_ref.drop(['invoice_date'],axis=1)\n",
    "df_ref.isna().sum()"
   ]
  },
  {
   "cell_type": "markdown",
   "id": "cd14b7f0",
   "metadata": {},
   "source": [
    "## 3.9 Frenquency Purchase"
   ]
  },
  {
   "cell_type": "code",
   "execution_count": 35,
   "id": "a83166ff",
   "metadata": {
    "ExecuteTime": {
     "end_time": "2023-06-22T18:34:22.901808Z",
     "start_time": "2023-06-22T18:34:22.481091Z"
    }
   },
   "outputs": [],
   "source": [
    "df_freq = (df_purchase[['customer_id','invoice_no', 'invoice_date']].drop_duplicates().groupby('customer_id')\n",
    "                                                           .agg(days = ('invoice_date', lambda x: (max(x) - min(x)).days + 1),\n",
    "                                                                buy_ = ('invoice_no', 'count'))).reset_index()\n",
    "\n",
    "#Frequency\n",
    "df_freq['frequency'] = df_freq.apply(lambda x: x['buy_'] / x['days'] if x['days'] != 0 else 0, axis=1) \n",
    "\n",
    "#merge\n",
    "df_ref = pd.merge(df_ref, df_freq, on='customer_id', how='left')\n",
    "df_ref = df_ref.drop(['days','buy_'],axis=1)"
   ]
  },
  {
   "cell_type": "code",
   "execution_count": 36,
   "id": "2d510fc4",
   "metadata": {
    "ExecuteTime": {
     "end_time": "2023-06-22T18:34:23.071943Z",
     "start_time": "2023-06-22T18:34:23.067426Z"
    }
   },
   "outputs": [
    {
     "data": {
      "text/plain": [
       "customer_id    0\n",
       "monetary       0\n",
       "qtd_prods      0\n",
       "recency        0\n",
       "frequency      0\n",
       "dtype: int64"
      ]
     },
     "execution_count": 36,
     "metadata": {},
     "output_type": "execute_result"
    }
   ],
   "source": [
    "df_ref.isna().sum()"
   ]
  },
  {
   "cell_type": "markdown",
   "id": "f19b6945",
   "metadata": {},
   "source": [
    "## 3.10 Devoluções"
   ]
  },
  {
   "cell_type": "code",
   "execution_count": 37,
   "id": "f6ce0714",
   "metadata": {
    "ExecuteTime": {
     "end_time": "2023-06-22T18:34:25.032266Z",
     "start_time": "2023-06-22T18:34:25.017084Z"
    }
   },
   "outputs": [],
   "source": [
    "qtd_returns = df_returns.loc[:,['customer_id','quantity']].groupby('customer_id').sum().reset_index().rename(columns={'quantity':'qtd_returns'})\n",
    "qtd_returns['qtd_returns'] = qtd_returns['qtd_returns']*-1\n",
    "\n",
    "#merge\n",
    "df_ref = pd.merge(df_ref, qtd_returns, on='customer_id', how='left')\n",
    "\n",
    "#Os NaNs gerados são pessoas que não devolveram\n",
    "df_ref.loc[df_ref['qtd_returns'].isna(),'qtd_returns'] = 0"
   ]
  },
  {
   "cell_type": "code",
   "execution_count": 38,
   "id": "42891817",
   "metadata": {
    "ExecuteTime": {
     "end_time": "2023-06-22T18:34:25.856983Z",
     "start_time": "2023-06-22T18:34:25.844526Z"
    },
    "scrolled": true
   },
   "outputs": [
    {
     "data": {
      "text/plain": [
       "customer_id    0\n",
       "monetary       0\n",
       "qtd_prods      0\n",
       "recency        0\n",
       "frequency      0\n",
       "qtd_returns    0\n",
       "dtype: int64"
      ]
     },
     "execution_count": 38,
     "metadata": {},
     "output_type": "execute_result"
    }
   ],
   "source": [
    "df_ref.isna().sum()"
   ]
  },
  {
   "cell_type": "markdown",
   "id": "6e0bb84d",
   "metadata": {},
   "source": [
    "## 3.13 Check Final Result"
   ]
  },
  {
   "cell_type": "code",
   "execution_count": 39,
   "id": "b591fe21",
   "metadata": {
    "ExecuteTime": {
     "end_time": "2023-06-22T18:34:27.397612Z",
     "start_time": "2023-06-22T18:34:27.382497Z"
    }
   },
   "outputs": [
    {
     "data": {
      "text/html": [
       "<div>\n",
       "<style scoped>\n",
       "    .dataframe tbody tr th:only-of-type {\n",
       "        vertical-align: middle;\n",
       "    }\n",
       "\n",
       "    .dataframe tbody tr th {\n",
       "        vertical-align: top;\n",
       "    }\n",
       "\n",
       "    .dataframe thead th {\n",
       "        text-align: right;\n",
       "    }\n",
       "</style>\n",
       "<table border=\"1\" class=\"dataframe\">\n",
       "  <thead>\n",
       "    <tr style=\"text-align: right;\">\n",
       "      <th></th>\n",
       "      <th>customer_id</th>\n",
       "      <th>monetary</th>\n",
       "      <th>qtd_prods</th>\n",
       "      <th>recency</th>\n",
       "      <th>frequency</th>\n",
       "      <th>qtd_returns</th>\n",
       "    </tr>\n",
       "  </thead>\n",
       "  <tbody>\n",
       "    <tr>\n",
       "      <th>0</th>\n",
       "      <td>12346.0</td>\n",
       "      <td>77183.60</td>\n",
       "      <td>1</td>\n",
       "      <td>325</td>\n",
       "      <td>1.000000</td>\n",
       "      <td>74215.0</td>\n",
       "    </tr>\n",
       "    <tr>\n",
       "      <th>1</th>\n",
       "      <td>12347.0</td>\n",
       "      <td>4310.00</td>\n",
       "      <td>182</td>\n",
       "      <td>2</td>\n",
       "      <td>0.019126</td>\n",
       "      <td>0.0</td>\n",
       "    </tr>\n",
       "    <tr>\n",
       "      <th>2</th>\n",
       "      <td>12348.0</td>\n",
       "      <td>1437.24</td>\n",
       "      <td>27</td>\n",
       "      <td>75</td>\n",
       "      <td>0.014085</td>\n",
       "      <td>0.0</td>\n",
       "    </tr>\n",
       "    <tr>\n",
       "      <th>3</th>\n",
       "      <td>12349.0</td>\n",
       "      <td>1457.55</td>\n",
       "      <td>72</td>\n",
       "      <td>18</td>\n",
       "      <td>1.000000</td>\n",
       "      <td>0.0</td>\n",
       "    </tr>\n",
       "    <tr>\n",
       "      <th>4</th>\n",
       "      <td>12350.0</td>\n",
       "      <td>294.40</td>\n",
       "      <td>16</td>\n",
       "      <td>310</td>\n",
       "      <td>1.000000</td>\n",
       "      <td>0.0</td>\n",
       "    </tr>\n",
       "  </tbody>\n",
       "</table>\n",
       "</div>"
      ],
      "text/plain": [
       "   customer_id  monetary  qtd_prods  recency  frequency  qtd_returns\n",
       "0      12346.0  77183.60          1      325   1.000000      74215.0\n",
       "1      12347.0   4310.00        182        2   0.019126          0.0\n",
       "2      12348.0   1437.24         27       75   0.014085          0.0\n",
       "3      12349.0   1457.55         72       18   1.000000          0.0\n",
       "4      12350.0    294.40         16      310   1.000000          0.0"
      ]
     },
     "execution_count": 39,
     "metadata": {},
     "output_type": "execute_result"
    }
   ],
   "source": [
    "df_ref.head()"
   ]
  },
  {
   "cell_type": "markdown",
   "id": "5ada5a45",
   "metadata": {},
   "source": [
    "# 4.0 EDA (EXPLORATORY DATA ANALYSIS"
   ]
  },
  {
   "cell_type": "code",
   "execution_count": 40,
   "id": "b9939ec6",
   "metadata": {
    "ExecuteTime": {
     "end_time": "2023-06-22T18:34:31.731023Z",
     "start_time": "2023-06-22T18:34:31.717960Z"
    }
   },
   "outputs": [
    {
     "data": {
      "text/plain": [
       "customer_id    0\n",
       "monetary       0\n",
       "qtd_prods      0\n",
       "recency        0\n",
       "frequency      0\n",
       "qtd_returns    0\n",
       "dtype: int64"
      ]
     },
     "execution_count": 40,
     "metadata": {},
     "output_type": "execute_result"
    }
   ],
   "source": [
    "df4 = df_ref.dropna().copy()\n",
    "df4.isna().sum()"
   ]
  },
  {
   "cell_type": "markdown",
   "id": "00cfb182",
   "metadata": {},
   "source": [
    "## 4.3 Embedding"
   ]
  },
  {
   "cell_type": "code",
   "execution_count": 42,
   "id": "1747c41a",
   "metadata": {
    "ExecuteTime": {
     "end_time": "2023-06-22T18:38:44.864531Z",
     "start_time": "2023-06-22T18:38:44.846193Z"
    }
   },
   "outputs": [],
   "source": [
    "#selected dataset\n",
    "cols_selected = ['customer_id', 'monetary', 'recency', 'qtd_prods', 'frequency', 'qtd_returns']\n",
    "df43 = df4[cols_selected].drop('customer_id', axis=1).copy()"
   ]
  },
  {
   "cell_type": "code",
   "execution_count": 45,
   "id": "d7e90e7f",
   "metadata": {
    "ExecuteTime": {
     "end_time": "2023-06-22T18:45:41.663601Z",
     "start_time": "2023-06-22T18:45:41.648562Z"
    }
   },
   "outputs": [],
   "source": [
    "#Transform\n",
    "mms = pp.MinMaxScaler()\n",
    "transf_list = df43.columns\n",
    "\n",
    "for i in transf_list:\n",
    "    df43[i] = mms.fit_transform(df43[i].values.reshape(-1,1))\n",
    "    \n",
    "X = df43.copy()    "
   ]
  },
  {
   "cell_type": "code",
   "execution_count": 46,
   "id": "08c4c2c9",
   "metadata": {
    "ExecuteTime": {
     "end_time": "2023-06-22T18:45:55.563159Z",
     "start_time": "2023-06-22T18:45:55.541982Z"
    }
   },
   "outputs": [
    {
     "data": {
      "text/html": [
       "<div>\n",
       "<style scoped>\n",
       "    .dataframe tbody tr th:only-of-type {\n",
       "        vertical-align: middle;\n",
       "    }\n",
       "\n",
       "    .dataframe tbody tr th {\n",
       "        vertical-align: top;\n",
       "    }\n",
       "\n",
       "    .dataframe thead th {\n",
       "        text-align: right;\n",
       "    }\n",
       "</style>\n",
       "<table border=\"1\" class=\"dataframe\">\n",
       "  <thead>\n",
       "    <tr style=\"text-align: right;\">\n",
       "      <th></th>\n",
       "      <th>monetary</th>\n",
       "      <th>recency</th>\n",
       "      <th>qtd_prods</th>\n",
       "      <th>frequency</th>\n",
       "      <th>qtd_returns</th>\n",
       "    </tr>\n",
       "  </thead>\n",
       "  <tbody>\n",
       "    <tr>\n",
       "      <th>0</th>\n",
       "      <td>0.276506</td>\n",
       "      <td>0.871314</td>\n",
       "      <td>0.000000</td>\n",
       "      <td>0.058522</td>\n",
       "      <td>1.0</td>\n",
       "    </tr>\n",
       "    <tr>\n",
       "      <th>1</th>\n",
       "      <td>0.015439</td>\n",
       "      <td>0.005362</td>\n",
       "      <td>0.023096</td>\n",
       "      <td>0.000805</td>\n",
       "      <td>0.0</td>\n",
       "    </tr>\n",
       "    <tr>\n",
       "      <th>2</th>\n",
       "      <td>0.005147</td>\n",
       "      <td>0.201072</td>\n",
       "      <td>0.003318</td>\n",
       "      <td>0.000508</td>\n",
       "      <td>0.0</td>\n",
       "    </tr>\n",
       "    <tr>\n",
       "      <th>3</th>\n",
       "      <td>0.005220</td>\n",
       "      <td>0.048257</td>\n",
       "      <td>0.009060</td>\n",
       "      <td>0.058522</td>\n",
       "      <td>0.0</td>\n",
       "    </tr>\n",
       "    <tr>\n",
       "      <th>4</th>\n",
       "      <td>0.001053</td>\n",
       "      <td>0.831099</td>\n",
       "      <td>0.001914</td>\n",
       "      <td>0.058522</td>\n",
       "      <td>0.0</td>\n",
       "    </tr>\n",
       "  </tbody>\n",
       "</table>\n",
       "</div>"
      ],
      "text/plain": [
       "   monetary   recency  qtd_prods  frequency  qtd_returns\n",
       "0  0.276506  0.871314   0.000000   0.058522          1.0\n",
       "1  0.015439  0.005362   0.023096   0.000805          0.0\n",
       "2  0.005147  0.201072   0.003318   0.000508          0.0\n",
       "3  0.005220  0.048257   0.009060   0.058522          0.0\n",
       "4  0.001053  0.831099   0.001914   0.058522          0.0"
      ]
     },
     "execution_count": 46,
     "metadata": {},
     "output_type": "execute_result"
    }
   ],
   "source": [
    "X.head()"
   ]
  },
  {
   "cell_type": "markdown",
   "id": "03ee25d4",
   "metadata": {},
   "source": [
    "## 4.3.1 PCA"
   ]
  },
  {
   "cell_type": "code",
   "execution_count": 47,
   "id": "54dd7395",
   "metadata": {
    "ExecuteTime": {
     "end_time": "2023-06-22T18:46:27.599362Z",
     "start_time": "2023-06-22T18:46:27.419446Z"
    }
   },
   "outputs": [
    {
     "data": {
      "image/png": "[encoded data removed]",
      "text/plain": [
       "<Figure size 640x480 with 1 Axes>"
      ]
     },
     "metadata": {},
     "output_type": "display_data"
    }
   ],
   "source": [
    "pca = dd.PCA(n_components=X.shape[1])\n",
    "\n",
    "principal_components = pca.fit_transform(X)\n",
    "\n",
    "#plot explained variable\n",
    "features = range(pca.n_components_)\n",
    "\n",
    "plt.bar(features, pca.explained_variance_ratio_, color='black')\n",
    "\n",
    "#pca component\n",
    "df_pca = pd.DataFrame(principal_components)"
   ]
  },
  {
   "cell_type": "code",
   "execution_count": 48,
   "id": "4befa914",
   "metadata": {
    "ExecuteTime": {
     "end_time": "2023-06-22T18:46:32.242663Z",
     "start_time": "2023-06-22T18:46:32.090733Z"
    }
   },
   "outputs": [
    {
     "data": {
      "text/plain": [
       "<Axes: xlabel='0', ylabel='1'>"
      ]
     },
     "execution_count": 48,
     "metadata": {},
     "output_type": "execute_result"
    },
    {
     "data": {
      "image/png": "[encoded data removed]",
      "text/plain": [
       "<Figure size 640x480 with 1 Axes>"
      ]
     },
     "metadata": {},
     "output_type": "display_data"
    }
   ],
   "source": [
    "sns.scatterplot(x=0, y=1, data=df_pca)"
   ]
  },
  {
   "cell_type": "markdown",
   "id": "6b94a4c9",
   "metadata": {},
   "source": [
    "## 4.3.2 U-MAP"
   ]
  },
  {
   "cell_type": "code",
   "execution_count": 50,
   "id": "5e344b07",
   "metadata": {
    "ExecuteTime": {
     "end_time": "2023-06-22T18:48:21.729278Z",
     "start_time": "2023-06-22T18:48:14.728035Z"
    }
   },
   "outputs": [
    {
     "data": {
      "text/plain": [
       "<Axes: xlabel='embedding_x', ylabel='embedding_y'>"
      ]
     },
     "execution_count": 50,
     "metadata": {},
     "output_type": "execute_result"
    },
    {
     "data": {
      "image/png": "[encoded data removed]",
      "text/plain": [
       "<Figure size 640x480 with 1 Axes>"
      ]
     },
     "metadata": {},
     "output_type": "display_data"
    }
   ],
   "source": [
    "reducer = umap.UMAP(random_state=42)\n",
    "embedding = reducer.fit_transform(X)\n",
    "\n",
    "#embedding\n",
    "df_umap = pd.DataFrame()\n",
    "df_umap['embedding_x'] = embedding[:,0]\n",
    "df_umap['embedding_y'] = embedding[:,1]\n",
    "\n",
    "#plot UMAP\n",
    "sns.scatterplot(x='embedding_x', \n",
    "                y='embedding_y',\n",
    "                data=df_umap)"
   ]
  },
  {
   "cell_type": "markdown",
   "id": "095f0182",
   "metadata": {},
   "source": [
    "## 4.3.3 t-SNE"
   ]
  },
  {
   "cell_type": "code",
   "execution_count": 51,
   "id": "4d18d71a",
   "metadata": {
    "ExecuteTime": {
     "end_time": "2023-06-22T18:48:46.367872Z",
     "start_time": "2023-06-22T18:48:34.285154Z"
    }
   },
   "outputs": [
    {
     "data": {
      "text/plain": [
       "<Axes: xlabel='embedding_x', ylabel='embedding_y'>"
      ]
     },
     "execution_count": 51,
     "metadata": {},
     "output_type": "execute_result"
    },
    {
     "data": {
      "image/png": "[encoded data removed]",
      "text/plain": [
       "<Figure size 640x480 with 1 Axes>"
      ]
     },
     "metadata": {},
     "output_type": "display_data"
    }
   ],
   "source": [
    "reducer = TSNE(n_components=2, random_state=42, n_jobs=-1)\n",
    "embedding = reducer.fit_transform(X)\n",
    "\n",
    "#embedding\n",
    "df_tsne = pd.DataFrame()\n",
    "df_tsne['embedding_x'] = embedding[:,0]\n",
    "df_tsne['embedding_y'] = embedding[:,1]\n",
    "\n",
    "#plot UMAP\n",
    "sns.scatterplot(x='embedding_x', \n",
    "                y='embedding_y',\n",
    "                data=df_tsne)"
   ]
  },
  {
   "cell_type": "markdown",
   "id": "68a20488",
   "metadata": {},
   "source": [
    "## 4.3.4 Tree-Based Embedding"
   ]
  },
  {
   "cell_type": "code",
   "execution_count": 52,
   "id": "59b9d063",
   "metadata": {
    "ExecuteTime": {
     "end_time": "2023-06-22T18:49:11.397205Z",
     "start_time": "2023-06-22T18:49:11.382069Z"
    }
   },
   "outputs": [],
   "source": [
    "X = df43.drop('monetary', axis=1).copy()\n",
    "y = df43['monetary'].copy()"
   ]
  },
  {
   "cell_type": "code",
   "execution_count": 53,
   "id": "0b4a1c43",
   "metadata": {
    "ExecuteTime": {
     "end_time": "2023-06-22T18:49:39.989273Z",
     "start_time": "2023-06-22T18:49:38.598589Z"
    }
   },
   "outputs": [],
   "source": [
    "#model definition\n",
    "rf = en.RandomForestRegressor(random_state=0)\n",
    "\n",
    "rf.fit(X, y)\n",
    "\n",
    "#create leafs\n",
    "df_leafs = pd.DataFrame(rf.apply(X))"
   ]
  },
  {
   "cell_type": "code",
   "execution_count": 54,
   "id": "873b1d79",
   "metadata": {
    "ExecuteTime": {
     "end_time": "2023-06-22T18:49:42.830215Z",
     "start_time": "2023-06-22T18:49:42.809209Z"
    }
   },
   "outputs": [
    {
     "data": {
      "text/html": [
       "<div>\n",
       "<style scoped>\n",
       "    .dataframe tbody tr th:only-of-type {\n",
       "        vertical-align: middle;\n",
       "    }\n",
       "\n",
       "    .dataframe tbody tr th {\n",
       "        vertical-align: top;\n",
       "    }\n",
       "\n",
       "    .dataframe thead th {\n",
       "        text-align: right;\n",
       "    }\n",
       "</style>\n",
       "<table border=\"1\" class=\"dataframe\">\n",
       "  <thead>\n",
       "    <tr style=\"text-align: right;\">\n",
       "      <th></th>\n",
       "      <th>0</th>\n",
       "      <th>1</th>\n",
       "      <th>2</th>\n",
       "      <th>3</th>\n",
       "      <th>4</th>\n",
       "      <th>5</th>\n",
       "      <th>6</th>\n",
       "      <th>7</th>\n",
       "      <th>8</th>\n",
       "      <th>9</th>\n",
       "      <th>...</th>\n",
       "      <th>90</th>\n",
       "      <th>91</th>\n",
       "      <th>92</th>\n",
       "      <th>93</th>\n",
       "      <th>94</th>\n",
       "      <th>95</th>\n",
       "      <th>96</th>\n",
       "      <th>97</th>\n",
       "      <th>98</th>\n",
       "      <th>99</th>\n",
       "    </tr>\n",
       "  </thead>\n",
       "  <tbody>\n",
       "    <tr>\n",
       "      <th>0</th>\n",
       "      <td>6941</td>\n",
       "      <td>7008</td>\n",
       "      <td>6976</td>\n",
       "      <td>6915</td>\n",
       "      <td>6938</td>\n",
       "      <td>7011</td>\n",
       "      <td>6971</td>\n",
       "      <td>6973</td>\n",
       "      <td>6856</td>\n",
       "      <td>6923</td>\n",
       "      <td>...</td>\n",
       "      <td>6925</td>\n",
       "      <td>6965</td>\n",
       "      <td>6967</td>\n",
       "      <td>6977</td>\n",
       "      <td>7007</td>\n",
       "      <td>6974</td>\n",
       "      <td>6950</td>\n",
       "      <td>6942</td>\n",
       "      <td>6931</td>\n",
       "      <td>6975</td>\n",
       "    </tr>\n",
       "    <tr>\n",
       "      <th>1</th>\n",
       "      <td>5161</td>\n",
       "      <td>5135</td>\n",
       "      <td>4961</td>\n",
       "      <td>4738</td>\n",
       "      <td>5182</td>\n",
       "      <td>5159</td>\n",
       "      <td>5158</td>\n",
       "      <td>5102</td>\n",
       "      <td>4640</td>\n",
       "      <td>5205</td>\n",
       "      <td>...</td>\n",
       "      <td>4562</td>\n",
       "      <td>4800</td>\n",
       "      <td>4912</td>\n",
       "      <td>5360</td>\n",
       "      <td>5224</td>\n",
       "      <td>5137</td>\n",
       "      <td>4793</td>\n",
       "      <td>5044</td>\n",
       "      <td>4859</td>\n",
       "      <td>4546</td>\n",
       "    </tr>\n",
       "    <tr>\n",
       "      <th>2</th>\n",
       "      <td>696</td>\n",
       "      <td>435</td>\n",
       "      <td>957</td>\n",
       "      <td>2854</td>\n",
       "      <td>298</td>\n",
       "      <td>2832</td>\n",
       "      <td>594</td>\n",
       "      <td>909</td>\n",
       "      <td>256</td>\n",
       "      <td>633</td>\n",
       "      <td>...</td>\n",
       "      <td>929</td>\n",
       "      <td>873</td>\n",
       "      <td>540</td>\n",
       "      <td>646</td>\n",
       "      <td>216</td>\n",
       "      <td>549</td>\n",
       "      <td>690</td>\n",
       "      <td>697</td>\n",
       "      <td>497</td>\n",
       "      <td>798</td>\n",
       "    </tr>\n",
       "    <tr>\n",
       "      <th>3</th>\n",
       "      <td>4609</td>\n",
       "      <td>4448</td>\n",
       "      <td>5246</td>\n",
       "      <td>4506</td>\n",
       "      <td>4983</td>\n",
       "      <td>4435</td>\n",
       "      <td>4774</td>\n",
       "      <td>4077</td>\n",
       "      <td>4897</td>\n",
       "      <td>4642</td>\n",
       "      <td>...</td>\n",
       "      <td>4351</td>\n",
       "      <td>5330</td>\n",
       "      <td>4647</td>\n",
       "      <td>4716</td>\n",
       "      <td>4643</td>\n",
       "      <td>4450</td>\n",
       "      <td>4536</td>\n",
       "      <td>4756</td>\n",
       "      <td>4984</td>\n",
       "      <td>5232</td>\n",
       "    </tr>\n",
       "    <tr>\n",
       "      <th>4</th>\n",
       "      <td>2759</td>\n",
       "      <td>3528</td>\n",
       "      <td>3435</td>\n",
       "      <td>2311</td>\n",
       "      <td>3486</td>\n",
       "      <td>2400</td>\n",
       "      <td>2951</td>\n",
       "      <td>3020</td>\n",
       "      <td>3580</td>\n",
       "      <td>3329</td>\n",
       "      <td>...</td>\n",
       "      <td>3356</td>\n",
       "      <td>3546</td>\n",
       "      <td>3879</td>\n",
       "      <td>2732</td>\n",
       "      <td>3604</td>\n",
       "      <td>3014</td>\n",
       "      <td>2919</td>\n",
       "      <td>3014</td>\n",
       "      <td>3626</td>\n",
       "      <td>3483</td>\n",
       "    </tr>\n",
       "  </tbody>\n",
       "</table>\n",
       "<p>5 rows × 100 columns</p>\n",
       "</div>"
      ],
      "text/plain": [
       "     0     1     2     3     4     5     6     7     8     9   ...    90  \\\n",
       "0  6941  7008  6976  6915  6938  7011  6971  6973  6856  6923  ...  6925   \n",
       "1  5161  5135  4961  4738  5182  5159  5158  5102  4640  5205  ...  4562   \n",
       "2   696   435   957  2854   298  2832   594   909   256   633  ...   929   \n",
       "3  4609  4448  5246  4506  4983  4435  4774  4077  4897  4642  ...  4351   \n",
       "4  2759  3528  3435  2311  3486  2400  2951  3020  3580  3329  ...  3356   \n",
       "\n",
       "     91    92    93    94    95    96    97    98    99  \n",
       "0  6965  6967  6977  7007  6974  6950  6942  6931  6975  \n",
       "1  4800  4912  5360  5224  5137  4793  5044  4859  4546  \n",
       "2   873   540   646   216   549   690   697   497   798  \n",
       "3  5330  4647  4716  4643  4450  4536  4756  4984  5232  \n",
       "4  3546  3879  2732  3604  3014  2919  3014  3626  3483  \n",
       "\n",
       "[5 rows x 100 columns]"
      ]
     },
     "execution_count": 54,
     "metadata": {},
     "output_type": "execute_result"
    }
   ],
   "source": [
    "df_leafs.head()"
   ]
  },
  {
   "cell_type": "code",
   "execution_count": 55,
   "id": "52eb1972",
   "metadata": {
    "ExecuteTime": {
     "end_time": "2023-06-22T18:49:58.654562Z",
     "start_time": "2023-06-22T18:49:51.883790Z"
    }
   },
   "outputs": [
    {
     "data": {
      "text/plain": [
       "<Axes: xlabel='embedding_x', ylabel='embedding_y'>"
      ]
     },
     "execution_count": 55,
     "metadata": {},
     "output_type": "execute_result"
    },
    {
     "data": {
      "image/png": "[encoded data removed]",
      "text/plain": [
       "<Figure size 640x480 with 1 Axes>"
      ]
     },
     "metadata": {},
     "output_type": "display_data"
    }
   ],
   "source": [
    "reducer = umap.UMAP(random_state=42)\n",
    "embedding = reducer.fit_transform(df_leafs)\n",
    "\n",
    "#embedding\n",
    "df_tree = pd.DataFrame()\n",
    "df_tree['embedding_x'] = embedding[:,0]\n",
    "df_tree['embedding_y'] = embedding[:,1]\n",
    "\n",
    "#plot UMAP\n",
    "sns.scatterplot(x='embedding_x', \n",
    "                y='embedding_y',\n",
    "                data=df_tree)"
   ]
  },
  {
   "cell_type": "markdown",
   "id": "3022bc04",
   "metadata": {},
   "source": [
    "# 5.0 DATA PREPARATION"
   ]
  },
  {
   "cell_type": "code",
   "execution_count": 202,
   "id": "34bc26bd",
   "metadata": {
    "ExecuteTime": {
     "end_time": "2023-06-22T20:29:50.414246Z",
     "start_time": "2023-06-22T20:29:50.402057Z"
    }
   },
   "outputs": [],
   "source": [
    "#testar emcima do embedding tree\n",
    "#df5 = df_tree.copy()\n",
    "\n",
    "# #UMAP embedding\n",
    "#df5 = df_umap.copy()\n",
    "\n",
    "# #TSNE embedding\n",
    "df5 = df_tsne.copy()"
   ]
  },
  {
   "cell_type": "markdown",
   "id": "ae25b473",
   "metadata": {},
   "source": [
    "# 7.0 HYPERPARAMETER FINE TUNNING(Find Clusters)"
   ]
  },
  {
   "cell_type": "code",
   "execution_count": 203,
   "id": "e0249f77",
   "metadata": {
    "ExecuteTime": {
     "end_time": "2023-06-22T20:29:51.120767Z",
     "start_time": "2023-06-22T20:29:51.103239Z"
    }
   },
   "outputs": [],
   "source": [
    "X = df5.copy()"
   ]
  },
  {
   "cell_type": "code",
   "execution_count": 204,
   "id": "f5fbf418",
   "metadata": {
    "ExecuteTime": {
     "end_time": "2023-06-22T20:29:51.322362Z",
     "start_time": "2023-06-22T20:29:51.316652Z"
    }
   },
   "outputs": [
    {
     "data": {
      "text/html": [
       "<div>\n",
       "<style scoped>\n",
       "    .dataframe tbody tr th:only-of-type {\n",
       "        vertical-align: middle;\n",
       "    }\n",
       "\n",
       "    .dataframe tbody tr th {\n",
       "        vertical-align: top;\n",
       "    }\n",
       "\n",
       "    .dataframe thead th {\n",
       "        text-align: right;\n",
       "    }\n",
       "</style>\n",
       "<table border=\"1\" class=\"dataframe\">\n",
       "  <thead>\n",
       "    <tr style=\"text-align: right;\">\n",
       "      <th></th>\n",
       "      <th>embedding_x</th>\n",
       "      <th>embedding_y</th>\n",
       "    </tr>\n",
       "  </thead>\n",
       "  <tbody>\n",
       "    <tr>\n",
       "      <th>0</th>\n",
       "      <td>42.869358</td>\n",
       "      <td>27.122187</td>\n",
       "    </tr>\n",
       "    <tr>\n",
       "      <th>1</th>\n",
       "      <td>-52.862366</td>\n",
       "      <td>28.369238</td>\n",
       "    </tr>\n",
       "    <tr>\n",
       "      <th>2</th>\n",
       "      <td>12.855613</td>\n",
       "      <td>52.647312</td>\n",
       "    </tr>\n",
       "    <tr>\n",
       "      <th>3</th>\n",
       "      <td>-56.136135</td>\n",
       "      <td>-42.873260</td>\n",
       "    </tr>\n",
       "    <tr>\n",
       "      <th>4</th>\n",
       "      <td>63.055309</td>\n",
       "      <td>7.459973</td>\n",
       "    </tr>\n",
       "  </tbody>\n",
       "</table>\n",
       "</div>"
      ],
      "text/plain": [
       "   embedding_x  embedding_y\n",
       "0    42.869358    27.122187\n",
       "1   -52.862366    28.369238\n",
       "2    12.855613    52.647312\n",
       "3   -56.136135   -42.873260\n",
       "4    63.055309     7.459973"
      ]
     },
     "execution_count": 204,
     "metadata": {},
     "output_type": "execute_result"
    }
   ],
   "source": [
    "X.head()"
   ]
  },
  {
   "cell_type": "code",
   "execution_count": 205,
   "id": "ecffaab5",
   "metadata": {
    "ExecuteTime": {
     "end_time": "2023-06-22T20:29:51.525920Z",
     "start_time": "2023-06-22T20:29:51.511711Z"
    }
   },
   "outputs": [],
   "source": [
    "#clusters = np.arange(2,8,1)\n",
    "clusters = np.arange(2,25,1)"
   ]
  },
  {
   "cell_type": "markdown",
   "id": "3dd16987",
   "metadata": {},
   "source": [
    "## 7.1 K-Means"
   ]
  },
  {
   "cell_type": "code",
   "execution_count": 117,
   "id": "1a878187",
   "metadata": {
    "ExecuteTime": {
     "end_time": "2023-06-22T19:21:51.405503Z",
     "start_time": "2023-06-22T19:21:23.862912Z"
    }
   },
   "outputs": [],
   "source": [
    "kmeans_list = []\n",
    "for k in clusters:\n",
    "    #model\n",
    "    kmeans_model = c.KMeans(n_clusters=k, n_init=100, random_state=42)\n",
    "\n",
    "    #training\n",
    "    kmeans_model.fit(X)\n",
    "\n",
    "    #predict\n",
    "    labels = kmeans_model.predict(X)\n",
    "\n",
    "    #performance\n",
    "    sil = mt.silhouette_score(X, labels, metric='euclidean')\n",
    "    kmeans_list.append(sil)"
   ]
  },
  {
   "cell_type": "code",
   "execution_count": 118,
   "id": "50a94838",
   "metadata": {
    "ExecuteTime": {
     "end_time": "2023-06-22T19:21:51.560851Z",
     "start_time": "2023-06-22T19:21:51.407521Z"
    }
   },
   "outputs": [
    {
     "data": {
      "text/plain": [
       "Text(0.5, 1.0, 'K x Silhouette Score')"
      ]
     },
     "execution_count": 118,
     "metadata": {},
     "output_type": "execute_result"
    },
    {
     "data": {
      "image/png": "[encoded data removed]",
      "text/plain": [
       "<Figure size 640x480 with 1 Axes>"
      ]
     },
     "metadata": {},
     "output_type": "display_data"
    }
   ],
   "source": [
    "plt.plot(clusters, kmeans_list, marker='o', color='b', linestyle='--')\n",
    "plt.xlabel('K')\n",
    "plt.ylabel('Silhouette Score')\n",
    "plt.title('K x Silhouette Score')"
   ]
  },
  {
   "cell_type": "markdown",
   "id": "71204d94",
   "metadata": {},
   "source": [
    "## 7.2 GMM"
   ]
  },
  {
   "cell_type": "code",
   "execution_count": 119,
   "id": "f7ae9000",
   "metadata": {
    "ExecuteTime": {
     "end_time": "2023-06-22T19:23:58.771239Z",
     "start_time": "2023-06-22T19:21:51.562354Z"
    }
   },
   "outputs": [],
   "source": [
    "gmm_list = []\n",
    "for k in clusters:\n",
    "    #model definition\n",
    "    model_gmm = GaussianMixture(n_components=k, n_init=50, random_state=42) #numero de gaussianas\n",
    "\n",
    "    #model training\n",
    "    model_gmm.fit(X)\n",
    "\n",
    "    #model predict\n",
    "    labels = model_gmm.predict(X)\n",
    "\n",
    "    #model performance\n",
    "    sil = mt.silhouette_score(X, labels, metric='euclidean')\n",
    "    gmm_list.append(sil)"
   ]
  },
  {
   "cell_type": "code",
   "execution_count": 120,
   "id": "cc1a4c0e",
   "metadata": {
    "ExecuteTime": {
     "end_time": "2023-06-22T19:23:58.925109Z",
     "start_time": "2023-06-22T19:23:58.773757Z"
    }
   },
   "outputs": [
    {
     "data": {
      "text/plain": [
       "Text(0.5, 1.0, 'K x Silhouette Score')"
      ]
     },
     "execution_count": 120,
     "metadata": {},
     "output_type": "execute_result"
    },
    {
     "data": {
      "image/png": "[encoded data removed]",
      "text/plain": [
       "<Figure size 640x480 with 1 Axes>"
      ]
     },
     "metadata": {},
     "output_type": "display_data"
    }
   ],
   "source": [
    "plt.plot(clusters, gmm_list, linestyle='--', color='b', marker='o')\n",
    "plt.xlabel('K')\n",
    "plt.ylabel('Silhouette Score')\n",
    "plt.title('K x Silhouette Score')"
   ]
  },
  {
   "cell_type": "markdown",
   "id": "e3bdefb6",
   "metadata": {},
   "source": [
    "## 7.3 Hierachical Clustering"
   ]
  },
  {
   "cell_type": "code",
   "execution_count": 121,
   "id": "3cad66f4",
   "metadata": {
    "ExecuteTime": {
     "end_time": "2023-06-22T19:23:59.438920Z",
     "start_time": "2023-06-22T19:23:58.927147Z"
    }
   },
   "outputs": [],
   "source": [
    "#model definition and training\n",
    "hc_model = hc.linkage(X, 'ward')"
   ]
  },
  {
   "cell_type": "markdown",
   "id": "012da375",
   "metadata": {},
   "source": [
    "### 7.3.1 HClustering Silhouette Score"
   ]
  },
  {
   "cell_type": "code",
   "execution_count": 122,
   "id": "78f8f92d",
   "metadata": {
    "ExecuteTime": {
     "end_time": "2023-06-22T19:24:18.690028Z",
     "start_time": "2023-06-22T19:23:59.439994Z"
    }
   },
   "outputs": [],
   "source": [
    "hc_list = []\n",
    "for k in clusters:\n",
    "    #model definition & training\n",
    "    hc_model = hc.linkage(X, 'ward')\n",
    "\n",
    "    #model predict\n",
    "    labels = hc.fcluster(hc_model, k, criterion='maxclust')\n",
    "\n",
    "    #metrics\n",
    "    sil = mt.silhouette_score(X, labels, metric='euclidean')\n",
    "    hc_list.append(sil)"
   ]
  },
  {
   "cell_type": "code",
   "execution_count": 123,
   "id": "98fc2fc8",
   "metadata": {
    "ExecuteTime": {
     "end_time": "2023-06-22T19:24:18.816841Z",
     "start_time": "2023-06-22T19:24:18.691053Z"
    }
   },
   "outputs": [
    {
     "data": {
      "text/plain": [
       "[<matplotlib.lines.Line2D at 0x28c13358a60>]"
      ]
     },
     "execution_count": 123,
     "metadata": {},
     "output_type": "execute_result"
    },
    {
     "data": {
      "image/png": "[encoded data removed]",
      "text/plain": [
       "<Figure size 640x480 with 1 Axes>"
      ]
     },
     "metadata": {},
     "output_type": "display_data"
    }
   ],
   "source": [
    "plt.plot(clusters, hc_list, linestyle='--', marker='o')"
   ]
  },
  {
   "cell_type": "markdown",
   "id": "48037d23",
   "metadata": {},
   "source": [
    "## 7.5 Results"
   ]
  },
  {
   "cell_type": "code",
   "execution_count": 112,
   "id": "dc11e195",
   "metadata": {
    "ExecuteTime": {
     "end_time": "2023-06-22T19:16:52.603149Z",
     "start_time": "2023-06-22T19:16:52.589187Z"
    },
    "cell_style": "split"
   },
   "outputs": [
    {
     "data": {
      "text/html": [
       "<style type=\"text/css\">\n",
       "#T_b418b_row0_col22, #T_b418b_row1_col19, #T_b418b_row2_col22 {\n",
       "  background-color: lightgreen;\n",
       "}\n",
       "</style>\n",
       "<table id=\"T_b418b\">\n",
       "  <thead>\n",
       "    <tr>\n",
       "      <th class=\"blank level0\" >&nbsp;</th>\n",
       "      <th id=\"T_b418b_level0_col0\" class=\"col_heading level0 col0\" >2</th>\n",
       "      <th id=\"T_b418b_level0_col1\" class=\"col_heading level0 col1\" >3</th>\n",
       "      <th id=\"T_b418b_level0_col2\" class=\"col_heading level0 col2\" >4</th>\n",
       "      <th id=\"T_b418b_level0_col3\" class=\"col_heading level0 col3\" >5</th>\n",
       "      <th id=\"T_b418b_level0_col4\" class=\"col_heading level0 col4\" >6</th>\n",
       "      <th id=\"T_b418b_level0_col5\" class=\"col_heading level0 col5\" >7</th>\n",
       "      <th id=\"T_b418b_level0_col6\" class=\"col_heading level0 col6\" >8</th>\n",
       "      <th id=\"T_b418b_level0_col7\" class=\"col_heading level0 col7\" >9</th>\n",
       "      <th id=\"T_b418b_level0_col8\" class=\"col_heading level0 col8\" >10</th>\n",
       "      <th id=\"T_b418b_level0_col9\" class=\"col_heading level0 col9\" >11</th>\n",
       "      <th id=\"T_b418b_level0_col10\" class=\"col_heading level0 col10\" >12</th>\n",
       "      <th id=\"T_b418b_level0_col11\" class=\"col_heading level0 col11\" >13</th>\n",
       "      <th id=\"T_b418b_level0_col12\" class=\"col_heading level0 col12\" >14</th>\n",
       "      <th id=\"T_b418b_level0_col13\" class=\"col_heading level0 col13\" >15</th>\n",
       "      <th id=\"T_b418b_level0_col14\" class=\"col_heading level0 col14\" >16</th>\n",
       "      <th id=\"T_b418b_level0_col15\" class=\"col_heading level0 col15\" >17</th>\n",
       "      <th id=\"T_b418b_level0_col16\" class=\"col_heading level0 col16\" >18</th>\n",
       "      <th id=\"T_b418b_level0_col17\" class=\"col_heading level0 col17\" >19</th>\n",
       "      <th id=\"T_b418b_level0_col18\" class=\"col_heading level0 col18\" >20</th>\n",
       "      <th id=\"T_b418b_level0_col19\" class=\"col_heading level0 col19\" >21</th>\n",
       "      <th id=\"T_b418b_level0_col20\" class=\"col_heading level0 col20\" >22</th>\n",
       "      <th id=\"T_b418b_level0_col21\" class=\"col_heading level0 col21\" >23</th>\n",
       "      <th id=\"T_b418b_level0_col22\" class=\"col_heading level0 col22\" >24</th>\n",
       "    </tr>\n",
       "  </thead>\n",
       "  <tbody>\n",
       "    <tr>\n",
       "      <th id=\"T_b418b_level0_row0\" class=\"row_heading level0 row0\" >KMeans</th>\n",
       "      <td id=\"T_b418b_row0_col0\" class=\"data row0 col0\" >0.380725</td>\n",
       "      <td id=\"T_b418b_row0_col1\" class=\"data row0 col1\" >0.423257</td>\n",
       "      <td id=\"T_b418b_row0_col2\" class=\"data row0 col2\" >0.425077</td>\n",
       "      <td id=\"T_b418b_row0_col3\" class=\"data row0 col3\" >0.388968</td>\n",
       "      <td id=\"T_b418b_row0_col4\" class=\"data row0 col4\" >0.416816</td>\n",
       "      <td id=\"T_b418b_row0_col5\" class=\"data row0 col5\" >0.445538</td>\n",
       "      <td id=\"T_b418b_row0_col6\" class=\"data row0 col6\" >0.482727</td>\n",
       "      <td id=\"T_b418b_row0_col7\" class=\"data row0 col7\" >0.505421</td>\n",
       "      <td id=\"T_b418b_row0_col8\" class=\"data row0 col8\" >0.506766</td>\n",
       "      <td id=\"T_b418b_row0_col9\" class=\"data row0 col9\" >0.501938</td>\n",
       "      <td id=\"T_b418b_row0_col10\" class=\"data row0 col10\" >0.502509</td>\n",
       "      <td id=\"T_b418b_row0_col11\" class=\"data row0 col11\" >0.511534</td>\n",
       "      <td id=\"T_b418b_row0_col12\" class=\"data row0 col12\" >0.487758</td>\n",
       "      <td id=\"T_b418b_row0_col13\" class=\"data row0 col13\" >0.509935</td>\n",
       "      <td id=\"T_b418b_row0_col14\" class=\"data row0 col14\" >0.517819</td>\n",
       "      <td id=\"T_b418b_row0_col15\" class=\"data row0 col15\" >0.533671</td>\n",
       "      <td id=\"T_b418b_row0_col16\" class=\"data row0 col16\" >0.542784</td>\n",
       "      <td id=\"T_b418b_row0_col17\" class=\"data row0 col17\" >0.538522</td>\n",
       "      <td id=\"T_b418b_row0_col18\" class=\"data row0 col18\" >0.543949</td>\n",
       "      <td id=\"T_b418b_row0_col19\" class=\"data row0 col19\" >0.537928</td>\n",
       "      <td id=\"T_b418b_row0_col20\" class=\"data row0 col20\" >0.553114</td>\n",
       "      <td id=\"T_b418b_row0_col21\" class=\"data row0 col21\" >0.554421</td>\n",
       "      <td id=\"T_b418b_row0_col22\" class=\"data row0 col22\" >0.559875</td>\n",
       "    </tr>\n",
       "    <tr>\n",
       "      <th id=\"T_b418b_level0_row1\" class=\"row_heading level0 row1\" >GMM</th>\n",
       "      <td id=\"T_b418b_row1_col0\" class=\"data row1 col0\" >0.299706</td>\n",
       "      <td id=\"T_b418b_row1_col1\" class=\"data row1 col1\" >0.352735</td>\n",
       "      <td id=\"T_b418b_row1_col2\" class=\"data row1 col2\" >0.311329</td>\n",
       "      <td id=\"T_b418b_row1_col3\" class=\"data row1 col3\" >0.313194</td>\n",
       "      <td id=\"T_b418b_row1_col4\" class=\"data row1 col4\" >0.265914</td>\n",
       "      <td id=\"T_b418b_row1_col5\" class=\"data row1 col5\" >0.217200</td>\n",
       "      <td id=\"T_b418b_row1_col6\" class=\"data row1 col6\" >0.356126</td>\n",
       "      <td id=\"T_b418b_row1_col7\" class=\"data row1 col7\" >0.467191</td>\n",
       "      <td id=\"T_b418b_row1_col8\" class=\"data row1 col8\" >0.442206</td>\n",
       "      <td id=\"T_b418b_row1_col9\" class=\"data row1 col9\" >0.447180</td>\n",
       "      <td id=\"T_b418b_row1_col10\" class=\"data row1 col10\" >0.416612</td>\n",
       "      <td id=\"T_b418b_row1_col11\" class=\"data row1 col11\" >0.416333</td>\n",
       "      <td id=\"T_b418b_row1_col12\" class=\"data row1 col12\" >0.406001</td>\n",
       "      <td id=\"T_b418b_row1_col13\" class=\"data row1 col13\" >0.444627</td>\n",
       "      <td id=\"T_b418b_row1_col14\" class=\"data row1 col14\" >0.377411</td>\n",
       "      <td id=\"T_b418b_row1_col15\" class=\"data row1 col15\" >0.438491</td>\n",
       "      <td id=\"T_b418b_row1_col16\" class=\"data row1 col16\" >0.434015</td>\n",
       "      <td id=\"T_b418b_row1_col17\" class=\"data row1 col17\" >0.458632</td>\n",
       "      <td id=\"T_b418b_row1_col18\" class=\"data row1 col18\" >0.492299</td>\n",
       "      <td id=\"T_b418b_row1_col19\" class=\"data row1 col19\" >0.518502</td>\n",
       "      <td id=\"T_b418b_row1_col20\" class=\"data row1 col20\" >0.497946</td>\n",
       "      <td id=\"T_b418b_row1_col21\" class=\"data row1 col21\" >0.516384</td>\n",
       "      <td id=\"T_b418b_row1_col22\" class=\"data row1 col22\" >0.476087</td>\n",
       "    </tr>\n",
       "    <tr>\n",
       "      <th id=\"T_b418b_level0_row2\" class=\"row_heading level0 row2\" >HCluster</th>\n",
       "      <td id=\"T_b418b_row2_col0\" class=\"data row2 col0\" >0.377622</td>\n",
       "      <td id=\"T_b418b_row2_col1\" class=\"data row2 col1\" >0.378073</td>\n",
       "      <td id=\"T_b418b_row2_col2\" class=\"data row2 col2\" >0.382726</td>\n",
       "      <td id=\"T_b418b_row2_col3\" class=\"data row2 col3\" >0.384551</td>\n",
       "      <td id=\"T_b418b_row2_col4\" class=\"data row2 col4\" >0.424660</td>\n",
       "      <td id=\"T_b418b_row2_col5\" class=\"data row2 col5\" >0.455773</td>\n",
       "      <td id=\"T_b418b_row2_col6\" class=\"data row2 col6\" >0.472830</td>\n",
       "      <td id=\"T_b418b_row2_col7\" class=\"data row2 col7\" >0.493694</td>\n",
       "      <td id=\"T_b418b_row2_col8\" class=\"data row2 col8\" >0.489647</td>\n",
       "      <td id=\"T_b418b_row2_col9\" class=\"data row2 col9\" >0.502244</td>\n",
       "      <td id=\"T_b418b_row2_col10\" class=\"data row2 col10\" >0.502834</td>\n",
       "      <td id=\"T_b418b_row2_col11\" class=\"data row2 col11\" >0.512804</td>\n",
       "      <td id=\"T_b418b_row2_col12\" class=\"data row2 col12\" >0.520447</td>\n",
       "      <td id=\"T_b418b_row2_col13\" class=\"data row2 col13\" >0.533830</td>\n",
       "      <td id=\"T_b418b_row2_col14\" class=\"data row2 col14\" >0.523790</td>\n",
       "      <td id=\"T_b418b_row2_col15\" class=\"data row2 col15\" >0.532843</td>\n",
       "      <td id=\"T_b418b_row2_col16\" class=\"data row2 col16\" >0.537862</td>\n",
       "      <td id=\"T_b418b_row2_col17\" class=\"data row2 col17\" >0.535450</td>\n",
       "      <td id=\"T_b418b_row2_col18\" class=\"data row2 col18\" >0.536760</td>\n",
       "      <td id=\"T_b418b_row2_col19\" class=\"data row2 col19\" >0.534203</td>\n",
       "      <td id=\"T_b418b_row2_col20\" class=\"data row2 col20\" >0.543691</td>\n",
       "      <td id=\"T_b418b_row2_col21\" class=\"data row2 col21\" >0.554836</td>\n",
       "      <td id=\"T_b418b_row2_col22\" class=\"data row2 col22\" >0.560816</td>\n",
       "    </tr>\n",
       "  </tbody>\n",
       "</table>\n"
      ],
      "text/plain": [
       "<pandas.io.formats.style.Styler at 0x28c1586fe20>"
      ]
     },
     "execution_count": 112,
     "metadata": {},
     "output_type": "execute_result"
    }
   ],
   "source": [
    "#Tree-based Results\n",
    "df_results = pd.DataFrame({\n",
    "            'KMeans': kmeans_list,\n",
    "            'GMM': gmm_list,\n",
    "            'HCluster': hc_list\n",
    "}).T\n",
    "df_results.columns = clusters\n",
    "df_results.style.highlight_max(color='lightgreen', axis=1)"
   ]
  },
  {
   "cell_type": "code",
   "execution_count": 124,
   "id": "01d37976",
   "metadata": {
    "ExecuteTime": {
     "end_time": "2023-06-22T19:24:18.832375Z",
     "start_time": "2023-06-22T19:24:18.818844Z"
    },
    "cell_style": "split"
   },
   "outputs": [
    {
     "data": {
      "text/html": [
       "<style type=\"text/css\">\n",
       "#T_72fac_row0_col22, #T_72fac_row1_col22, #T_72fac_row2_col12 {\n",
       "  background-color: lightgreen;\n",
       "}\n",
       "</style>\n",
       "<table id=\"T_72fac\">\n",
       "  <thead>\n",
       "    <tr>\n",
       "      <th class=\"blank level0\" >&nbsp;</th>\n",
       "      <th id=\"T_72fac_level0_col0\" class=\"col_heading level0 col0\" >2</th>\n",
       "      <th id=\"T_72fac_level0_col1\" class=\"col_heading level0 col1\" >3</th>\n",
       "      <th id=\"T_72fac_level0_col2\" class=\"col_heading level0 col2\" >4</th>\n",
       "      <th id=\"T_72fac_level0_col3\" class=\"col_heading level0 col3\" >5</th>\n",
       "      <th id=\"T_72fac_level0_col4\" class=\"col_heading level0 col4\" >6</th>\n",
       "      <th id=\"T_72fac_level0_col5\" class=\"col_heading level0 col5\" >7</th>\n",
       "      <th id=\"T_72fac_level0_col6\" class=\"col_heading level0 col6\" >8</th>\n",
       "      <th id=\"T_72fac_level0_col7\" class=\"col_heading level0 col7\" >9</th>\n",
       "      <th id=\"T_72fac_level0_col8\" class=\"col_heading level0 col8\" >10</th>\n",
       "      <th id=\"T_72fac_level0_col9\" class=\"col_heading level0 col9\" >11</th>\n",
       "      <th id=\"T_72fac_level0_col10\" class=\"col_heading level0 col10\" >12</th>\n",
       "      <th id=\"T_72fac_level0_col11\" class=\"col_heading level0 col11\" >13</th>\n",
       "      <th id=\"T_72fac_level0_col12\" class=\"col_heading level0 col12\" >14</th>\n",
       "      <th id=\"T_72fac_level0_col13\" class=\"col_heading level0 col13\" >15</th>\n",
       "      <th id=\"T_72fac_level0_col14\" class=\"col_heading level0 col14\" >16</th>\n",
       "      <th id=\"T_72fac_level0_col15\" class=\"col_heading level0 col15\" >17</th>\n",
       "      <th id=\"T_72fac_level0_col16\" class=\"col_heading level0 col16\" >18</th>\n",
       "      <th id=\"T_72fac_level0_col17\" class=\"col_heading level0 col17\" >19</th>\n",
       "      <th id=\"T_72fac_level0_col18\" class=\"col_heading level0 col18\" >20</th>\n",
       "      <th id=\"T_72fac_level0_col19\" class=\"col_heading level0 col19\" >21</th>\n",
       "      <th id=\"T_72fac_level0_col20\" class=\"col_heading level0 col20\" >22</th>\n",
       "      <th id=\"T_72fac_level0_col21\" class=\"col_heading level0 col21\" >23</th>\n",
       "      <th id=\"T_72fac_level0_col22\" class=\"col_heading level0 col22\" >24</th>\n",
       "    </tr>\n",
       "  </thead>\n",
       "  <tbody>\n",
       "    <tr>\n",
       "      <th id=\"T_72fac_level0_row0\" class=\"row_heading level0 row0\" >KMeans</th>\n",
       "      <td id=\"T_72fac_row0_col0\" class=\"data row0 col0\" >0.395381</td>\n",
       "      <td id=\"T_72fac_row0_col1\" class=\"data row0 col1\" >0.450889</td>\n",
       "      <td id=\"T_72fac_row0_col2\" class=\"data row0 col2\" >0.481957</td>\n",
       "      <td id=\"T_72fac_row0_col3\" class=\"data row0 col3\" >0.505400</td>\n",
       "      <td id=\"T_72fac_row0_col4\" class=\"data row0 col4\" >0.518163</td>\n",
       "      <td id=\"T_72fac_row0_col5\" class=\"data row0 col5\" >0.474823</td>\n",
       "      <td id=\"T_72fac_row0_col6\" class=\"data row0 col6\" >0.509661</td>\n",
       "      <td id=\"T_72fac_row0_col7\" class=\"data row0 col7\" >0.522052</td>\n",
       "      <td id=\"T_72fac_row0_col8\" class=\"data row0 col8\" >0.536312</td>\n",
       "      <td id=\"T_72fac_row0_col9\" class=\"data row0 col9\" >0.542955</td>\n",
       "      <td id=\"T_72fac_row0_col10\" class=\"data row0 col10\" >0.550285</td>\n",
       "      <td id=\"T_72fac_row0_col11\" class=\"data row0 col11\" >0.553015</td>\n",
       "      <td id=\"T_72fac_row0_col12\" class=\"data row0 col12\" >0.565116</td>\n",
       "      <td id=\"T_72fac_row0_col13\" class=\"data row0 col13\" >0.535324</td>\n",
       "      <td id=\"T_72fac_row0_col14\" class=\"data row0 col14\" >0.543657</td>\n",
       "      <td id=\"T_72fac_row0_col15\" class=\"data row0 col15\" >0.558643</td>\n",
       "      <td id=\"T_72fac_row0_col16\" class=\"data row0 col16\" >0.550157</td>\n",
       "      <td id=\"T_72fac_row0_col17\" class=\"data row0 col17\" >0.551237</td>\n",
       "      <td id=\"T_72fac_row0_col18\" class=\"data row0 col18\" >0.554694</td>\n",
       "      <td id=\"T_72fac_row0_col19\" class=\"data row0 col19\" >0.562943</td>\n",
       "      <td id=\"T_72fac_row0_col20\" class=\"data row0 col20\" >0.560370</td>\n",
       "      <td id=\"T_72fac_row0_col21\" class=\"data row0 col21\" >0.565948</td>\n",
       "      <td id=\"T_72fac_row0_col22\" class=\"data row0 col22\" >0.577654</td>\n",
       "    </tr>\n",
       "    <tr>\n",
       "      <th id=\"T_72fac_level0_row1\" class=\"row_heading level0 row1\" >GMM</th>\n",
       "      <td id=\"T_72fac_row1_col0\" class=\"data row1 col0\" >0.389781</td>\n",
       "      <td id=\"T_72fac_row1_col1\" class=\"data row1 col1\" >0.415709</td>\n",
       "      <td id=\"T_72fac_row1_col2\" class=\"data row1 col2\" >0.449241</td>\n",
       "      <td id=\"T_72fac_row1_col3\" class=\"data row1 col3\" >0.437597</td>\n",
       "      <td id=\"T_72fac_row1_col4\" class=\"data row1 col4\" >0.469398</td>\n",
       "      <td id=\"T_72fac_row1_col5\" class=\"data row1 col5\" >0.400756</td>\n",
       "      <td id=\"T_72fac_row1_col6\" class=\"data row1 col6\" >0.444973</td>\n",
       "      <td id=\"T_72fac_row1_col7\" class=\"data row1 col7\" >0.350637</td>\n",
       "      <td id=\"T_72fac_row1_col8\" class=\"data row1 col8\" >0.436823</td>\n",
       "      <td id=\"T_72fac_row1_col9\" class=\"data row1 col9\" >0.431844</td>\n",
       "      <td id=\"T_72fac_row1_col10\" class=\"data row1 col10\" >0.464889</td>\n",
       "      <td id=\"T_72fac_row1_col11\" class=\"data row1 col11\" >0.433648</td>\n",
       "      <td id=\"T_72fac_row1_col12\" class=\"data row1 col12\" >0.465839</td>\n",
       "      <td id=\"T_72fac_row1_col13\" class=\"data row1 col13\" >0.450789</td>\n",
       "      <td id=\"T_72fac_row1_col14\" class=\"data row1 col14\" >0.470938</td>\n",
       "      <td id=\"T_72fac_row1_col15\" class=\"data row1 col15\" >0.454345</td>\n",
       "      <td id=\"T_72fac_row1_col16\" class=\"data row1 col16\" >0.462143</td>\n",
       "      <td id=\"T_72fac_row1_col17\" class=\"data row1 col17\" >0.517486</td>\n",
       "      <td id=\"T_72fac_row1_col18\" class=\"data row1 col18\" >0.534930</td>\n",
       "      <td id=\"T_72fac_row1_col19\" class=\"data row1 col19\" >0.533403</td>\n",
       "      <td id=\"T_72fac_row1_col20\" class=\"data row1 col20\" >0.535123</td>\n",
       "      <td id=\"T_72fac_row1_col21\" class=\"data row1 col21\" >0.531634</td>\n",
       "      <td id=\"T_72fac_row1_col22\" class=\"data row1 col22\" >0.539640</td>\n",
       "    </tr>\n",
       "    <tr>\n",
       "      <th id=\"T_72fac_level0_row2\" class=\"row_heading level0 row2\" >HCluster</th>\n",
       "      <td id=\"T_72fac_row2_col0\" class=\"data row2 col0\" >0.382344</td>\n",
       "      <td id=\"T_72fac_row2_col1\" class=\"data row2 col1\" >0.415705</td>\n",
       "      <td id=\"T_72fac_row2_col2\" class=\"data row2 col2\" >0.459456</td>\n",
       "      <td id=\"T_72fac_row2_col3\" class=\"data row2 col3\" >0.479954</td>\n",
       "      <td id=\"T_72fac_row2_col4\" class=\"data row2 col4\" >0.456722</td>\n",
       "      <td id=\"T_72fac_row2_col5\" class=\"data row2 col5\" >0.465711</td>\n",
       "      <td id=\"T_72fac_row2_col6\" class=\"data row2 col6\" >0.489584</td>\n",
       "      <td id=\"T_72fac_row2_col7\" class=\"data row2 col7\" >0.507330</td>\n",
       "      <td id=\"T_72fac_row2_col8\" class=\"data row2 col8\" >0.520706</td>\n",
       "      <td id=\"T_72fac_row2_col9\" class=\"data row2 col9\" >0.521375</td>\n",
       "      <td id=\"T_72fac_row2_col10\" class=\"data row2 col10\" >0.535227</td>\n",
       "      <td id=\"T_72fac_row2_col11\" class=\"data row2 col11\" >0.546587</td>\n",
       "      <td id=\"T_72fac_row2_col12\" class=\"data row2 col12\" >0.562379</td>\n",
       "      <td id=\"T_72fac_row2_col13\" class=\"data row2 col13\" >0.534364</td>\n",
       "      <td id=\"T_72fac_row2_col14\" class=\"data row2 col14\" >0.537211</td>\n",
       "      <td id=\"T_72fac_row2_col15\" class=\"data row2 col15\" >0.551578</td>\n",
       "      <td id=\"T_72fac_row2_col16\" class=\"data row2 col16\" >0.546968</td>\n",
       "      <td id=\"T_72fac_row2_col17\" class=\"data row2 col17\" >0.534004</td>\n",
       "      <td id=\"T_72fac_row2_col18\" class=\"data row2 col18\" >0.542482</td>\n",
       "      <td id=\"T_72fac_row2_col19\" class=\"data row2 col19\" >0.542994</td>\n",
       "      <td id=\"T_72fac_row2_col20\" class=\"data row2 col20\" >0.547872</td>\n",
       "      <td id=\"T_72fac_row2_col21\" class=\"data row2 col21\" >0.552358</td>\n",
       "      <td id=\"T_72fac_row2_col22\" class=\"data row2 col22\" >0.562300</td>\n",
       "    </tr>\n",
       "  </tbody>\n",
       "</table>\n"
      ],
      "text/plain": [
       "<pandas.io.formats.style.Styler at 0x28c146b0100>"
      ]
     },
     "execution_count": 124,
     "metadata": {},
     "output_type": "execute_result"
    }
   ],
   "source": [
    "#UMAP Results\n",
    "df_results = pd.DataFrame({\n",
    "            'KMeans': kmeans_list,\n",
    "            'GMM': gmm_list,\n",
    "            'HCluster': hc_list\n",
    "}).T\n",
    "df_results.columns = clusters\n",
    "df_results.style.highlight_max(color='lightgreen', axis=1)"
   ]
  },
  {
   "cell_type": "code",
   "execution_count": 100,
   "id": "c7f180a5",
   "metadata": {
    "ExecuteTime": {
     "end_time": "2023-06-22T19:13:31.688579Z",
     "start_time": "2023-06-22T19:13:31.675430Z"
    }
   },
   "outputs": [
    {
     "data": {
      "text/html": [
       "<style type=\"text/css\">\n",
       "#T_8ecf5_row0_col22, #T_8ecf5_row1_col22, #T_8ecf5_row2_col22 {\n",
       "  background-color: lightgreen;\n",
       "}\n",
       "</style>\n",
       "<table id=\"T_8ecf5\">\n",
       "  <thead>\n",
       "    <tr>\n",
       "      <th class=\"blank level0\" >&nbsp;</th>\n",
       "      <th id=\"T_8ecf5_level0_col0\" class=\"col_heading level0 col0\" >2</th>\n",
       "      <th id=\"T_8ecf5_level0_col1\" class=\"col_heading level0 col1\" >3</th>\n",
       "      <th id=\"T_8ecf5_level0_col2\" class=\"col_heading level0 col2\" >4</th>\n",
       "      <th id=\"T_8ecf5_level0_col3\" class=\"col_heading level0 col3\" >5</th>\n",
       "      <th id=\"T_8ecf5_level0_col4\" class=\"col_heading level0 col4\" >6</th>\n",
       "      <th id=\"T_8ecf5_level0_col5\" class=\"col_heading level0 col5\" >7</th>\n",
       "      <th id=\"T_8ecf5_level0_col6\" class=\"col_heading level0 col6\" >8</th>\n",
       "      <th id=\"T_8ecf5_level0_col7\" class=\"col_heading level0 col7\" >9</th>\n",
       "      <th id=\"T_8ecf5_level0_col8\" class=\"col_heading level0 col8\" >10</th>\n",
       "      <th id=\"T_8ecf5_level0_col9\" class=\"col_heading level0 col9\" >11</th>\n",
       "      <th id=\"T_8ecf5_level0_col10\" class=\"col_heading level0 col10\" >12</th>\n",
       "      <th id=\"T_8ecf5_level0_col11\" class=\"col_heading level0 col11\" >13</th>\n",
       "      <th id=\"T_8ecf5_level0_col12\" class=\"col_heading level0 col12\" >14</th>\n",
       "      <th id=\"T_8ecf5_level0_col13\" class=\"col_heading level0 col13\" >15</th>\n",
       "      <th id=\"T_8ecf5_level0_col14\" class=\"col_heading level0 col14\" >16</th>\n",
       "      <th id=\"T_8ecf5_level0_col15\" class=\"col_heading level0 col15\" >17</th>\n",
       "      <th id=\"T_8ecf5_level0_col16\" class=\"col_heading level0 col16\" >18</th>\n",
       "      <th id=\"T_8ecf5_level0_col17\" class=\"col_heading level0 col17\" >19</th>\n",
       "      <th id=\"T_8ecf5_level0_col18\" class=\"col_heading level0 col18\" >20</th>\n",
       "      <th id=\"T_8ecf5_level0_col19\" class=\"col_heading level0 col19\" >21</th>\n",
       "      <th id=\"T_8ecf5_level0_col20\" class=\"col_heading level0 col20\" >22</th>\n",
       "      <th id=\"T_8ecf5_level0_col21\" class=\"col_heading level0 col21\" >23</th>\n",
       "      <th id=\"T_8ecf5_level0_col22\" class=\"col_heading level0 col22\" >24</th>\n",
       "    </tr>\n",
       "  </thead>\n",
       "  <tbody>\n",
       "    <tr>\n",
       "      <th id=\"T_8ecf5_level0_row0\" class=\"row_heading level0 row0\" >KMeans</th>\n",
       "      <td id=\"T_8ecf5_row0_col0\" class=\"data row0 col0\" >0.352923</td>\n",
       "      <td id=\"T_8ecf5_row0_col1\" class=\"data row0 col1\" >0.396508</td>\n",
       "      <td id=\"T_8ecf5_row0_col2\" class=\"data row0 col2\" >0.408985</td>\n",
       "      <td id=\"T_8ecf5_row0_col3\" class=\"data row0 col3\" >0.405149</td>\n",
       "      <td id=\"T_8ecf5_row0_col4\" class=\"data row0 col4\" >0.421071</td>\n",
       "      <td id=\"T_8ecf5_row0_col5\" class=\"data row0 col5\" >0.420875</td>\n",
       "      <td id=\"T_8ecf5_row0_col6\" class=\"data row0 col6\" >0.423831</td>\n",
       "      <td id=\"T_8ecf5_row0_col7\" class=\"data row0 col7\" >0.429362</td>\n",
       "      <td id=\"T_8ecf5_row0_col8\" class=\"data row0 col8\" >0.435680</td>\n",
       "      <td id=\"T_8ecf5_row0_col9\" class=\"data row0 col9\" >0.446492</td>\n",
       "      <td id=\"T_8ecf5_row0_col10\" class=\"data row0 col10\" >0.447717</td>\n",
       "      <td id=\"T_8ecf5_row0_col11\" class=\"data row0 col11\" >0.441307</td>\n",
       "      <td id=\"T_8ecf5_row0_col12\" class=\"data row0 col12\" >0.435329</td>\n",
       "      <td id=\"T_8ecf5_row0_col13\" class=\"data row0 col13\" >0.442853</td>\n",
       "      <td id=\"T_8ecf5_row0_col14\" class=\"data row0 col14\" >0.449142</td>\n",
       "      <td id=\"T_8ecf5_row0_col15\" class=\"data row0 col15\" >0.462973</td>\n",
       "      <td id=\"T_8ecf5_row0_col16\" class=\"data row0 col16\" >0.475261</td>\n",
       "      <td id=\"T_8ecf5_row0_col17\" class=\"data row0 col17\" >0.477376</td>\n",
       "      <td id=\"T_8ecf5_row0_col18\" class=\"data row0 col18\" >0.477237</td>\n",
       "      <td id=\"T_8ecf5_row0_col19\" class=\"data row0 col19\" >0.473716</td>\n",
       "      <td id=\"T_8ecf5_row0_col20\" class=\"data row0 col20\" >0.480295</td>\n",
       "      <td id=\"T_8ecf5_row0_col21\" class=\"data row0 col21\" >0.484562</td>\n",
       "      <td id=\"T_8ecf5_row0_col22\" class=\"data row0 col22\" >0.485590</td>\n",
       "    </tr>\n",
       "    <tr>\n",
       "      <th id=\"T_8ecf5_level0_row1\" class=\"row_heading level0 row1\" >GMM</th>\n",
       "      <td id=\"T_8ecf5_row1_col0\" class=\"data row1 col0\" >0.352598</td>\n",
       "      <td id=\"T_8ecf5_row1_col1\" class=\"data row1 col1\" >0.367889</td>\n",
       "      <td id=\"T_8ecf5_row1_col2\" class=\"data row1 col2\" >0.398706</td>\n",
       "      <td id=\"T_8ecf5_row1_col3\" class=\"data row1 col3\" >0.361553</td>\n",
       "      <td id=\"T_8ecf5_row1_col4\" class=\"data row1 col4\" >0.382598</td>\n",
       "      <td id=\"T_8ecf5_row1_col5\" class=\"data row1 col5\" >0.362833</td>\n",
       "      <td id=\"T_8ecf5_row1_col6\" class=\"data row1 col6\" >0.330321</td>\n",
       "      <td id=\"T_8ecf5_row1_col7\" class=\"data row1 col7\" >0.294571</td>\n",
       "      <td id=\"T_8ecf5_row1_col8\" class=\"data row1 col8\" >0.372957</td>\n",
       "      <td id=\"T_8ecf5_row1_col9\" class=\"data row1 col9\" >0.323852</td>\n",
       "      <td id=\"T_8ecf5_row1_col10\" class=\"data row1 col10\" >0.370047</td>\n",
       "      <td id=\"T_8ecf5_row1_col11\" class=\"data row1 col11\" >0.306644</td>\n",
       "      <td id=\"T_8ecf5_row1_col12\" class=\"data row1 col12\" >0.357976</td>\n",
       "      <td id=\"T_8ecf5_row1_col13\" class=\"data row1 col13\" >0.361155</td>\n",
       "      <td id=\"T_8ecf5_row1_col14\" class=\"data row1 col14\" >0.358234</td>\n",
       "      <td id=\"T_8ecf5_row1_col15\" class=\"data row1 col15\" >0.399080</td>\n",
       "      <td id=\"T_8ecf5_row1_col16\" class=\"data row1 col16\" >0.370876</td>\n",
       "      <td id=\"T_8ecf5_row1_col17\" class=\"data row1 col17\" >0.421768</td>\n",
       "      <td id=\"T_8ecf5_row1_col18\" class=\"data row1 col18\" >0.427223</td>\n",
       "      <td id=\"T_8ecf5_row1_col19\" class=\"data row1 col19\" >0.402409</td>\n",
       "      <td id=\"T_8ecf5_row1_col20\" class=\"data row1 col20\" >0.430384</td>\n",
       "      <td id=\"T_8ecf5_row1_col21\" class=\"data row1 col21\" >0.429033</td>\n",
       "      <td id=\"T_8ecf5_row1_col22\" class=\"data row1 col22\" >0.452010</td>\n",
       "    </tr>\n",
       "    <tr>\n",
       "      <th id=\"T_8ecf5_level0_row2\" class=\"row_heading level0 row2\" >HCluster</th>\n",
       "      <td id=\"T_8ecf5_row2_col0\" class=\"data row2 col0\" >0.337901</td>\n",
       "      <td id=\"T_8ecf5_row2_col1\" class=\"data row2 col1\" >0.362612</td>\n",
       "      <td id=\"T_8ecf5_row2_col2\" class=\"data row2 col2\" >0.367014</td>\n",
       "      <td id=\"T_8ecf5_row2_col3\" class=\"data row2 col3\" >0.380982</td>\n",
       "      <td id=\"T_8ecf5_row2_col4\" class=\"data row2 col4\" >0.379217</td>\n",
       "      <td id=\"T_8ecf5_row2_col5\" class=\"data row2 col5\" >0.392104</td>\n",
       "      <td id=\"T_8ecf5_row2_col6\" class=\"data row2 col6\" >0.375584</td>\n",
       "      <td id=\"T_8ecf5_row2_col7\" class=\"data row2 col7\" >0.390621</td>\n",
       "      <td id=\"T_8ecf5_row2_col8\" class=\"data row2 col8\" >0.399911</td>\n",
       "      <td id=\"T_8ecf5_row2_col9\" class=\"data row2 col9\" >0.405454</td>\n",
       "      <td id=\"T_8ecf5_row2_col10\" class=\"data row2 col10\" >0.405554</td>\n",
       "      <td id=\"T_8ecf5_row2_col11\" class=\"data row2 col11\" >0.411955</td>\n",
       "      <td id=\"T_8ecf5_row2_col12\" class=\"data row2 col12\" >0.406392</td>\n",
       "      <td id=\"T_8ecf5_row2_col13\" class=\"data row2 col13\" >0.400885</td>\n",
       "      <td id=\"T_8ecf5_row2_col14\" class=\"data row2 col14\" >0.415974</td>\n",
       "      <td id=\"T_8ecf5_row2_col15\" class=\"data row2 col15\" >0.415610</td>\n",
       "      <td id=\"T_8ecf5_row2_col16\" class=\"data row2 col16\" >0.425446</td>\n",
       "      <td id=\"T_8ecf5_row2_col17\" class=\"data row2 col17\" >0.434050</td>\n",
       "      <td id=\"T_8ecf5_row2_col18\" class=\"data row2 col18\" >0.434056</td>\n",
       "      <td id=\"T_8ecf5_row2_col19\" class=\"data row2 col19\" >0.439473</td>\n",
       "      <td id=\"T_8ecf5_row2_col20\" class=\"data row2 col20\" >0.442703</td>\n",
       "      <td id=\"T_8ecf5_row2_col21\" class=\"data row2 col21\" >0.449571</td>\n",
       "      <td id=\"T_8ecf5_row2_col22\" class=\"data row2 col22\" >0.458957</td>\n",
       "    </tr>\n",
       "  </tbody>\n",
       "</table>\n"
      ],
      "text/plain": [
       "<pandas.io.formats.style.Styler at 0x28c119e92a0>"
      ]
     },
     "execution_count": 100,
     "metadata": {},
     "output_type": "execute_result"
    }
   ],
   "source": [
    "#TSNE Results\n",
    "df_results = pd.DataFrame({\n",
    "            'KMeans': kmeans_list,\n",
    "            'GMM': gmm_list,\n",
    "            'HCluster': hc_list\n",
    "}).T\n",
    "df_results.columns = clusters\n",
    "df_results.style.highlight_max(color='lightgreen', axis=1)"
   ]
  },
  {
   "cell_type": "markdown",
   "id": "a8401e99",
   "metadata": {},
   "source": [
    "# 8.0 MODEL TRAINING"
   ]
  },
  {
   "cell_type": "markdown",
   "id": "a168aadb",
   "metadata": {},
   "source": [
    "## 8.1 K-Means"
   ]
  },
  {
   "cell_type": "code",
   "execution_count": 206,
   "id": "bdcbad5c",
   "metadata": {
    "ExecuteTime": {
     "end_time": "2023-06-22T20:30:17.808820Z",
     "start_time": "2023-06-22T20:30:17.495150Z"
    }
   },
   "outputs": [],
   "source": [
    "k = 5\n",
    "#definition\n",
    "kmeans = c.KMeans(n_clusters=k, init='random', n_init=100, max_iter=300, random_state=42)\n",
    "\n",
    "#training\n",
    "kmeans.fit(X)\n",
    "\n",
    "#clusters\n",
    "labels_kmeans = kmeans.labels_"
   ]
  },
  {
   "cell_type": "markdown",
   "id": "2beebc00",
   "metadata": {},
   "source": [
    "## 8.2 GMM"
   ]
  },
  {
   "cell_type": "code",
   "execution_count": 211,
   "id": "a5ee7d34",
   "metadata": {
    "ExecuteTime": {
     "end_time": "2023-06-22T20:30:55.171274Z",
     "start_time": "2023-06-22T20:30:40.824578Z"
    }
   },
   "outputs": [],
   "source": [
    "k = 5\n",
    "#model definition\n",
    "model_gmm = GaussianMixture(n_components=k, random_state=42, n_init=300) #numero de gaussianas\n",
    "\n",
    "#model training\n",
    "model_gmm.fit(X)\n",
    "\n",
    "#model predict\n",
    "labels_gmm = model_gmm.predict(X)"
   ]
  },
  {
   "cell_type": "markdown",
   "id": "068863fa",
   "metadata": {},
   "source": [
    "## 8.3 HCluster - FAVORITO"
   ]
  },
  {
   "cell_type": "code",
   "execution_count": 225,
   "id": "4f11d4e2",
   "metadata": {
    "ExecuteTime": {
     "end_time": "2023-06-22T20:31:48.225479Z",
     "start_time": "2023-06-22T20:31:47.774884Z"
    }
   },
   "outputs": [],
   "source": [
    "k=4\n",
    "#model definition & training\n",
    "hc_model = hc.linkage(X, 'ward')\n",
    "\n",
    "#model predict\n",
    "labels_hc = hc.fcluster(hc_model, k, criterion='maxclust')"
   ]
  },
  {
   "cell_type": "markdown",
   "id": "e3537d96",
   "metadata": {},
   "source": [
    "# 9.0 CLUSTER ANALYSIS"
   ]
  },
  {
   "cell_type": "code",
   "execution_count": 226,
   "id": "89e5f723",
   "metadata": {
    "ExecuteTime": {
     "end_time": "2023-06-22T20:31:49.427346Z",
     "start_time": "2023-06-22T20:31:49.417764Z"
    }
   },
   "outputs": [],
   "source": [
    "# df9 = df4.copy()\n",
    "# df9['clusters'] = labels\n",
    "df9 = X.copy()\n",
    "df9['clusters'] = labels_hc"
   ]
  },
  {
   "cell_type": "code",
   "execution_count": 227,
   "id": "c10d19ac",
   "metadata": {
    "ExecuteTime": {
     "end_time": "2023-06-22T20:31:49.721905Z",
     "start_time": "2023-06-22T20:31:49.713294Z"
    }
   },
   "outputs": [
    {
     "data": {
      "text/html": [
       "<div>\n",
       "<style scoped>\n",
       "    .dataframe tbody tr th:only-of-type {\n",
       "        vertical-align: middle;\n",
       "    }\n",
       "\n",
       "    .dataframe tbody tr th {\n",
       "        vertical-align: top;\n",
       "    }\n",
       "\n",
       "    .dataframe thead th {\n",
       "        text-align: right;\n",
       "    }\n",
       "</style>\n",
       "<table border=\"1\" class=\"dataframe\">\n",
       "  <thead>\n",
       "    <tr style=\"text-align: right;\">\n",
       "      <th></th>\n",
       "      <th>embedding_x</th>\n",
       "      <th>embedding_y</th>\n",
       "      <th>clusters</th>\n",
       "    </tr>\n",
       "  </thead>\n",
       "  <tbody>\n",
       "    <tr>\n",
       "      <th>0</th>\n",
       "      <td>42.869358</td>\n",
       "      <td>27.122187</td>\n",
       "      <td>2</td>\n",
       "    </tr>\n",
       "    <tr>\n",
       "      <th>1</th>\n",
       "      <td>-52.862366</td>\n",
       "      <td>28.369238</td>\n",
       "      <td>3</td>\n",
       "    </tr>\n",
       "    <tr>\n",
       "      <th>2</th>\n",
       "      <td>12.855613</td>\n",
       "      <td>52.647312</td>\n",
       "      <td>1</td>\n",
       "    </tr>\n",
       "    <tr>\n",
       "      <th>3</th>\n",
       "      <td>-56.136135</td>\n",
       "      <td>-42.873260</td>\n",
       "      <td>4</td>\n",
       "    </tr>\n",
       "    <tr>\n",
       "      <th>4</th>\n",
       "      <td>63.055309</td>\n",
       "      <td>7.459973</td>\n",
       "      <td>2</td>\n",
       "    </tr>\n",
       "  </tbody>\n",
       "</table>\n",
       "</div>"
      ],
      "text/plain": [
       "   embedding_x  embedding_y  clusters\n",
       "0    42.869358    27.122187         2\n",
       "1   -52.862366    28.369238         3\n",
       "2    12.855613    52.647312         1\n",
       "3   -56.136135   -42.873260         4\n",
       "4    63.055309     7.459973         2"
      ]
     },
     "execution_count": 227,
     "metadata": {},
     "output_type": "execute_result"
    }
   ],
   "source": [
    "df9.head()"
   ]
  },
  {
   "cell_type": "markdown",
   "id": "20463cb2",
   "metadata": {},
   "source": [
    "## 9.1 Visualize Inspection"
   ]
  },
  {
   "cell_type": "code",
   "execution_count": 228,
   "id": "ac575ef2",
   "metadata": {
    "ExecuteTime": {
     "end_time": "2023-06-22T20:31:50.641969Z",
     "start_time": "2023-06-22T20:31:50.278413Z"
    }
   },
   "outputs": [
    {
     "data": {
      "text/plain": [
       "<Axes: xlabel='embedding_x', ylabel='embedding_y'>"
      ]
     },
     "execution_count": 228,
     "metadata": {},
     "output_type": "execute_result"
    },
    {
     "data": {
      "image/png": "[encoded data removed]",
      "text/plain": [
       "<Figure size 640x480 with 1 Axes>"
      ]
     },
     "metadata": {},
     "output_type": "display_data"
    }
   ],
   "source": [
    "#para variar o modelo mudar o labels_hc acima\n",
    "sns.scatterplot(data=df9, x=\"embedding_x\", y=\"embedding_y\", hue=\"clusters\", palette=\"deep\")"
   ]
  },
  {
   "cell_type": "code",
   "execution_count": 224,
   "id": "e051dd2c",
   "metadata": {
    "ExecuteTime": {
     "end_time": "2023-06-22T20:31:38.341944Z",
     "start_time": "2023-06-22T20:31:37.267779Z"
    }
   },
   "outputs": [
    {
     "name": "stdout",
     "output_type": "stream",
     "text": [
      "0.4051594\n",
      "0.36701423\n",
      "0.36115596\n"
     ]
    }
   ],
   "source": [
    "print(mt.silhouette_score(X, labels_kmeans))\n",
    "print(mt.silhouette_score(X, labels_hc))\n",
    "print(mt.silhouette_score(X, labels_gmm))\n"
   ]
  },
  {
   "cell_type": "markdown",
   "id": "86a49f54",
   "metadata": {},
   "source": [
    "## 9.2 Silhouette Visualizer"
   ]
  },
  {
   "cell_type": "code",
   "execution_count": 145,
   "id": "afe41c1f",
   "metadata": {
    "ExecuteTime": {
     "end_time": "2023-06-22T20:12:42.562558Z",
     "start_time": "2023-06-22T20:12:42.545611Z"
    }
   },
   "outputs": [
    {
     "ename": "NameError",
     "evalue": "name 'SilhouetteVisualizer' is not defined",
     "output_type": "error",
     "traceback": [
      "\u001b[1;31m---------------------------------------------------------------------------\u001b[0m",
      "\u001b[1;31mNameError\u001b[0m                                 Traceback (most recent call last)",
      "Cell \u001b[1;32mIn[145], line 1\u001b[0m\n\u001b[1;32m----> 1\u001b[0m visualizer \u001b[38;5;241m=\u001b[39m \u001b[43mSilhouetteVisualizer\u001b[49m(kmeans, color\u001b[38;5;241m=\u001b[39m\u001b[38;5;124m'\u001b[39m\u001b[38;5;124myellowbrick\u001b[39m\u001b[38;5;124m'\u001b[39m)\n\u001b[0;32m      2\u001b[0m visualizer\u001b[38;5;241m.\u001b[39mfit(X)\n\u001b[0;32m      3\u001b[0m visualizer\u001b[38;5;241m.\u001b[39mfinalize()\n",
      "\u001b[1;31mNameError\u001b[0m: name 'SilhouetteVisualizer' is not defined"
     ]
    }
   ],
   "source": [
    "visualizer = SilhouetteVisualizer(kmeans, color='yellowbrick')\n",
    "visualizer.fit(X)\n",
    "visualizer.finalize()"
   ]
  },
  {
   "cell_type": "markdown",
   "id": "8edf2883",
   "metadata": {},
   "source": [
    "## 9.5 Cluster Profile"
   ]
  },
  {
   "cell_type": "code",
   "execution_count": 229,
   "id": "bc130bff",
   "metadata": {
    "ExecuteTime": {
     "end_time": "2023-06-22T20:32:30.700506Z",
     "start_time": "2023-06-22T20:32:30.693282Z"
    }
   },
   "outputs": [],
   "source": [
    "df_deploy = df4[cols_selected].copy()\n",
    "df_deploy['clusters'] = labels_hc "
   ]
  },
  {
   "cell_type": "code",
   "execution_count": 230,
   "id": "ec74d9e4",
   "metadata": {
    "ExecuteTime": {
     "end_time": "2023-06-22T20:32:30.934279Z",
     "start_time": "2023-06-22T20:32:30.923757Z"
    }
   },
   "outputs": [
    {
     "data": {
      "text/html": [
       "<div>\n",
       "<style scoped>\n",
       "    .dataframe tbody tr th:only-of-type {\n",
       "        vertical-align: middle;\n",
       "    }\n",
       "\n",
       "    .dataframe tbody tr th {\n",
       "        vertical-align: top;\n",
       "    }\n",
       "\n",
       "    .dataframe thead th {\n",
       "        text-align: right;\n",
       "    }\n",
       "</style>\n",
       "<table border=\"1\" class=\"dataframe\">\n",
       "  <thead>\n",
       "    <tr style=\"text-align: right;\">\n",
       "      <th></th>\n",
       "      <th>customer_id</th>\n",
       "      <th>monetary</th>\n",
       "      <th>recency</th>\n",
       "      <th>qtd_prods</th>\n",
       "      <th>frequency</th>\n",
       "      <th>qtd_returns</th>\n",
       "      <th>clusters</th>\n",
       "    </tr>\n",
       "  </thead>\n",
       "  <tbody>\n",
       "    <tr>\n",
       "      <th>0</th>\n",
       "      <td>12346.0</td>\n",
       "      <td>77183.60</td>\n",
       "      <td>325</td>\n",
       "      <td>1</td>\n",
       "      <td>1.000000</td>\n",
       "      <td>74215.0</td>\n",
       "      <td>2</td>\n",
       "    </tr>\n",
       "    <tr>\n",
       "      <th>1</th>\n",
       "      <td>12347.0</td>\n",
       "      <td>4310.00</td>\n",
       "      <td>2</td>\n",
       "      <td>182</td>\n",
       "      <td>0.019126</td>\n",
       "      <td>0.0</td>\n",
       "      <td>3</td>\n",
       "    </tr>\n",
       "    <tr>\n",
       "      <th>2</th>\n",
       "      <td>12348.0</td>\n",
       "      <td>1437.24</td>\n",
       "      <td>75</td>\n",
       "      <td>27</td>\n",
       "      <td>0.014085</td>\n",
       "      <td>0.0</td>\n",
       "      <td>1</td>\n",
       "    </tr>\n",
       "    <tr>\n",
       "      <th>3</th>\n",
       "      <td>12349.0</td>\n",
       "      <td>1457.55</td>\n",
       "      <td>18</td>\n",
       "      <td>72</td>\n",
       "      <td>1.000000</td>\n",
       "      <td>0.0</td>\n",
       "      <td>4</td>\n",
       "    </tr>\n",
       "    <tr>\n",
       "      <th>4</th>\n",
       "      <td>12350.0</td>\n",
       "      <td>294.40</td>\n",
       "      <td>310</td>\n",
       "      <td>16</td>\n",
       "      <td>1.000000</td>\n",
       "      <td>0.0</td>\n",
       "      <td>2</td>\n",
       "    </tr>\n",
       "  </tbody>\n",
       "</table>\n",
       "</div>"
      ],
      "text/plain": [
       "   customer_id  monetary  recency  qtd_prods  frequency  qtd_returns  clusters\n",
       "0      12346.0  77183.60      325          1   1.000000      74215.0         2\n",
       "1      12347.0   4310.00        2        182   0.019126          0.0         3\n",
       "2      12348.0   1437.24       75         27   0.014085          0.0         1\n",
       "3      12349.0   1457.55       18         72   1.000000          0.0         4\n",
       "4      12350.0    294.40      310         16   1.000000          0.0         2"
      ]
     },
     "execution_count": 230,
     "metadata": {},
     "output_type": "execute_result"
    }
   ],
   "source": [
    "df_deploy.head()"
   ]
  },
  {
   "cell_type": "markdown",
   "id": "34b1534d",
   "metadata": {},
   "source": [
    "**Lembrete**: NÃO podemos explicar porque o customer 1 e 2 estão no mesmo clusters com esses dados, porque eles foram classificados em um espaço de embedding criado pelo algoritmo em alta dimensão. Se for especificamente você precisar explicar o porquê o os customers se parecem será necessário encontrar os clusters no espaço original ao invés do embedding."
   ]
  },
  {
   "cell_type": "code",
   "execution_count": 231,
   "id": "6af0a15a",
   "metadata": {
    "ExecuteTime": {
     "end_time": "2023-06-22T20:32:31.773233Z",
     "start_time": "2023-06-22T20:32:31.743315Z"
    }
   },
   "outputs": [],
   "source": [
    "#Per Monetary\n",
    "df_monetary = df_deploy.loc[:,['clusters','monetary']].groupby('clusters').mean().reset_index()\n",
    "\n",
    "#Per Frequency\n",
    "df_frequency = df_deploy.loc[:,['clusters','frequency']].groupby('clusters').mean().reset_index()\n",
    "\n",
    "#Per Recency\n",
    "df_recency = df_deploy.loc[:,['clusters','recency']].groupby('clusters').mean().reset_index()\n",
    "\n",
    "#Per Pencentual\n",
    "df_client_perc = df_deploy.loc[:,['customer_id','clusters']].groupby('clusters').count().reset_index()\n",
    "df_client_perc['customer_id'] = df_client_perc['customer_id'].apply(lambda x: 100*(x)/(df_client_perc['customer_id'].sum()))\n",
    "df_client_perc = df_client_perc.rename(columns={'customer_id':'percent'})\n",
    "\n",
    "#Per qtd_products\n",
    "df_prods = df_deploy.loc[:,['clusters','qtd_prods']].groupby('clusters').mean().reset_index()\n",
    "\n",
    "#Per Returns\n",
    "df_returns = df_deploy.loc[:,['clusters','qtd_returns']].groupby('clusters').mean().reset_index()\n",
    "\n",
    "#Per Customer\n",
    "df_customer = df_deploy.loc[:,['clusters','customer_id']].groupby('clusters').count().reset_index()\n",
    "\n",
    "df_resume = (pd.merge(df_monetary, df_frequency, on='clusters', how='left')\n",
    "             .merge(df_recency, on='clusters', how='left')\n",
    "             .merge(df_client_perc, on='clusters', how='left')\n",
    "             .merge(df_prods, on='clusters', how='left')\n",
    "             .merge(df_returns, on='clusters', how='left')\n",
    "             .merge(df_customer, on='clusters', how='left'))"
   ]
  },
  {
   "cell_type": "code",
   "execution_count": 232,
   "id": "e523452b",
   "metadata": {
    "ExecuteTime": {
     "end_time": "2023-06-22T20:32:32.240184Z",
     "start_time": "2023-06-22T20:32:32.232613Z"
    }
   },
   "outputs": [
    {
     "data": {
      "text/html": [
       "<div>\n",
       "<style scoped>\n",
       "    .dataframe tbody tr th:only-of-type {\n",
       "        vertical-align: middle;\n",
       "    }\n",
       "\n",
       "    .dataframe tbody tr th {\n",
       "        vertical-align: top;\n",
       "    }\n",
       "\n",
       "    .dataframe thead th {\n",
       "        text-align: right;\n",
       "    }\n",
       "</style>\n",
       "<table border=\"1\" class=\"dataframe\">\n",
       "  <thead>\n",
       "    <tr style=\"text-align: right;\">\n",
       "      <th></th>\n",
       "      <th>clusters</th>\n",
       "      <th>monetary</th>\n",
       "      <th>frequency</th>\n",
       "      <th>recency</th>\n",
       "      <th>percent</th>\n",
       "      <th>qtd_prods</th>\n",
       "      <th>qtd_returns</th>\n",
       "      <th>customer_id</th>\n",
       "    </tr>\n",
       "  </thead>\n",
       "  <tbody>\n",
       "    <tr>\n",
       "      <th>0</th>\n",
       "      <td>1</td>\n",
       "      <td>1224.779631</td>\n",
       "      <td>0.030988</td>\n",
       "      <td>111.585995</td>\n",
       "      <td>14.293240</td>\n",
       "      <td>65.706388</td>\n",
       "      <td>9.760442</td>\n",
       "      <td>814</td>\n",
       "    </tr>\n",
       "    <tr>\n",
       "      <th>1</th>\n",
       "      <td>2</td>\n",
       "      <td>879.962277</td>\n",
       "      <td>0.914505</td>\n",
       "      <td>319.733015</td>\n",
       "      <td>14.732221</td>\n",
       "      <td>59.044100</td>\n",
       "      <td>104.054827</td>\n",
       "      <td>839</td>\n",
       "    </tr>\n",
       "    <tr>\n",
       "      <th>2</th>\n",
       "      <td>3</td>\n",
       "      <td>3360.106045</td>\n",
       "      <td>0.147981</td>\n",
       "      <td>45.763882</td>\n",
       "      <td>36.365233</td>\n",
       "      <td>149.896668</td>\n",
       "      <td>37.324964</td>\n",
       "      <td>2071</td>\n",
       "    </tr>\n",
       "    <tr>\n",
       "      <th>3</th>\n",
       "      <td>4</td>\n",
       "      <td>715.687347</td>\n",
       "      <td>1.023791</td>\n",
       "      <td>107.579401</td>\n",
       "      <td>34.609306</td>\n",
       "      <td>57.814307</td>\n",
       "      <td>2.803653</td>\n",
       "      <td>1971</td>\n",
       "    </tr>\n",
       "  </tbody>\n",
       "</table>\n",
       "</div>"
      ],
      "text/plain": [
       "   clusters     monetary  frequency     recency    percent   qtd_prods  \\\n",
       "0         1  1224.779631   0.030988  111.585995  14.293240   65.706388   \n",
       "1         2   879.962277   0.914505  319.733015  14.732221   59.044100   \n",
       "2         3  3360.106045   0.147981   45.763882  36.365233  149.896668   \n",
       "3         4   715.687347   1.023791  107.579401  34.609306   57.814307   \n",
       "\n",
       "   qtd_returns  customer_id  \n",
       "0     9.760442          814  \n",
       "1   104.054827          839  \n",
       "2    37.324964         2071  \n",
       "3     2.803653         1971  "
      ]
     },
     "execution_count": 232,
     "metadata": {},
     "output_type": "execute_result"
    }
   ],
   "source": [
    "df_resume"
   ]
  },
  {
   "cell_type": "markdown",
   "id": "7a47eff3",
   "metadata": {},
   "source": [
    "### Cluster 05 (Insiders)\n"
   ]
  },
  {
   "cell_type": "markdown",
   "id": "0b9cf4e6",
   "metadata": {},
   "source": [
    "- Número de customers = 420\n",
    "- Recência Média = 20.70 dias\n",
    "- Faturamento Médio = R$9618.03\n",
    "- Média de Produtos Comprados = 447 produtos\n",
    "- Frequência de Produtos Comprados = 0.1032 produtos comprados/dia"
   ]
  },
  {
   "cell_type": "code",
   "execution_count": null,
   "id": "93434e1e",
   "metadata": {},
   "outputs": [],
   "source": []
  },
  {
   "cell_type": "markdown",
   "id": "a45ded9c",
   "metadata": {},
   "source": [
    "Cluster 0 - Clientes Esporádicos\n",
    "    - Clientes que comprar pouco, valor baixo, e com uma média de 3 meses. Porém engloba 99% dos clientes\n",
    "    \n",
    "Cluster 1 - Clientes Medianos\n",
    "    - Clientes que compram em média uma vez por mês mas uma quantia maior e um valor maior que os Esporádicos\n",
    "    \n",
    "Cluster 2 - Clientes elegíveis a Insiders\n",
    "    - Gastam muito, toda semana e compram bastante produtos"
   ]
  },
  {
   "cell_type": "markdown",
   "id": "f100bdf1",
   "metadata": {},
   "source": [
    "# 10.0 EXPLORATORY DATA ANALYSIS(EDA) "
   ]
  },
  {
   "cell_type": "code",
   "execution_count": 114,
   "id": "0b650f5a",
   "metadata": {
    "ExecuteTime": {
     "end_time": "2023-06-19T18:07:17.219647Z",
     "start_time": "2023-06-19T18:07:17.203813Z"
    }
   },
   "outputs": [],
   "source": [
    "cols_selected = ['customer_id', 'monetary', 'recency', 'qtd_prods', 'frequency', 'qtd_returns', 'clusters']\n",
    "\n",
    "#change types\n",
    "df_deploy['customer_id'] = df_deploy['customer_id'].astype(int)\n",
    "df_deploy['qtd_returns'] = df_deploy['qtd_returns'].astype(int)\n",
    "df_deploy['clusters'] = df_deploy['clusters'].astype(int)\n",
    "\n",
    "#save last training\n",
    "df_deploy['last_training'] = datetime.datetime.now().strftime('%Y-%m-%d %H:%M:%S')"
   ]
  },
  {
   "cell_type": "code",
   "execution_count": 115,
   "id": "bc4a4161",
   "metadata": {
    "ExecuteTime": {
     "end_time": "2023-06-19T18:07:19.417605Z",
     "start_time": "2023-06-19T18:07:19.402448Z"
    }
   },
   "outputs": [],
   "source": [
    "df10 = df95[cols_selected]"
   ]
  },
  {
   "cell_type": "code",
   "execution_count": 116,
   "id": "b70f30d2",
   "metadata": {
    "ExecuteTime": {
     "end_time": "2023-06-19T18:07:23.492383Z",
     "start_time": "2023-06-19T18:07:23.477201Z"
    }
   },
   "outputs": [
    {
     "data": {
      "text/html": [
       "<div>\n",
       "<style scoped>\n",
       "    .dataframe tbody tr th:only-of-type {\n",
       "        vertical-align: middle;\n",
       "    }\n",
       "\n",
       "    .dataframe tbody tr th {\n",
       "        vertical-align: top;\n",
       "    }\n",
       "\n",
       "    .dataframe thead th {\n",
       "        text-align: right;\n",
       "    }\n",
       "</style>\n",
       "<table border=\"1\" class=\"dataframe\">\n",
       "  <thead>\n",
       "    <tr style=\"text-align: right;\">\n",
       "      <th></th>\n",
       "      <th>customer_id</th>\n",
       "      <th>monetary</th>\n",
       "      <th>recency</th>\n",
       "      <th>qtd_prods</th>\n",
       "      <th>frequency</th>\n",
       "      <th>qtd_returns</th>\n",
       "      <th>clusters</th>\n",
       "    </tr>\n",
       "  </thead>\n",
       "  <tbody>\n",
       "    <tr>\n",
       "      <th>1</th>\n",
       "      <td>12347.0</td>\n",
       "      <td>4310.00</td>\n",
       "      <td>2</td>\n",
       "      <td>182</td>\n",
       "      <td>0.019126</td>\n",
       "      <td>0.0</td>\n",
       "      <td>7</td>\n",
       "    </tr>\n",
       "    <tr>\n",
       "      <th>2</th>\n",
       "      <td>12348.0</td>\n",
       "      <td>1437.24</td>\n",
       "      <td>75</td>\n",
       "      <td>27</td>\n",
       "      <td>0.014085</td>\n",
       "      <td>0.0</td>\n",
       "      <td>2</td>\n",
       "    </tr>\n",
       "    <tr>\n",
       "      <th>5</th>\n",
       "      <td>12352.0</td>\n",
       "      <td>1385.74</td>\n",
       "      <td>36</td>\n",
       "      <td>77</td>\n",
       "      <td>0.026820</td>\n",
       "      <td>63.0</td>\n",
       "      <td>6</td>\n",
       "    </tr>\n",
       "    <tr>\n",
       "      <th>9</th>\n",
       "      <td>12356.0</td>\n",
       "      <td>2487.43</td>\n",
       "      <td>22</td>\n",
       "      <td>58</td>\n",
       "      <td>0.009868</td>\n",
       "      <td>0.0</td>\n",
       "      <td>1</td>\n",
       "    </tr>\n",
       "    <tr>\n",
       "      <th>11</th>\n",
       "      <td>12358.0</td>\n",
       "      <td>928.06</td>\n",
       "      <td>1</td>\n",
       "      <td>17</td>\n",
       "      <td>0.013333</td>\n",
       "      <td>0.0</td>\n",
       "      <td>4</td>\n",
       "    </tr>\n",
       "  </tbody>\n",
       "</table>\n",
       "</div>"
      ],
      "text/plain": [
       "    customer_id  monetary  recency  qtd_prods  frequency  qtd_returns  clusters\n",
       "1       12347.0   4310.00        2        182   0.019126          0.0         7\n",
       "2       12348.0   1437.24       75         27   0.014085          0.0         2\n",
       "5       12352.0   1385.74       36         77   0.026820         63.0         6\n",
       "9       12356.0   2487.43       22         58   0.009868          0.0         1\n",
       "11      12358.0    928.06        1         17   0.013333          0.0         4"
      ]
     },
     "execution_count": 116,
     "metadata": {},
     "output_type": "execute_result"
    }
   ],
   "source": [
    "df10.head()"
   ]
  },
  {
   "cell_type": "markdown",
   "id": "104ae2ae",
   "metadata": {},
   "source": [
    "## 10.1 Hipóteses"
   ]
  },
  {
   "cell_type": "markdown",
   "id": "d2d8a2a0",
   "metadata": {},
   "source": [
    "1. O cluster insider gera em 50% da receita da minha base de dados total.\n",
    "2. O cluster insider compra 5x mais frequente que o total de clientes.\n",
    "3. O cluster insider demora em média metade do tempo para comprar novamento que o segundo cluster.\n",
    "4. O cluster Insider tem o maior percentual de clientes entre todos os clussters.\n",
    "5. O Cluster Insiders compra 4x mais produtos que o 2º cluster que compra mais.\n",
    "6. O cluster Insider é o cluster que menos retorna produtos."
   ]
  },
  {
   "cell_type": "markdown",
   "id": "d5dbb15f",
   "metadata": {},
   "source": [
    "### H1 - O cluster insider gera 50% da receita da minha base de dados total."
   ]
  },
  {
   "cell_type": "code",
   "execution_count": 117,
   "id": "ab9154f1",
   "metadata": {
    "ExecuteTime": {
     "end_time": "2023-06-19T18:26:17.398191Z",
     "start_time": "2023-06-19T18:26:17.390758Z"
    }
   },
   "outputs": [
    {
     "name": "stdout",
     "output_type": "stream",
     "text": [
      "Receita Insiders: 0.51%\n"
     ]
    }
   ],
   "source": [
    "receita_insiders = df10.loc[df10['clusters'] == 5,'monetary'].sum()\n",
    "receita_total = df10['monetary'].sum()\n",
    "print(f\"Receita Insiders: {receita_insiders/receita_total:.2f}%\")"
   ]
  },
  {
   "cell_type": "markdown",
   "id": "8d46f36b",
   "metadata": {},
   "source": [
    "VERDADEIRO"
   ]
  },
  {
   "cell_type": "markdown",
   "id": "4f38465d",
   "metadata": {
    "ExecuteTime": {
     "end_time": "2023-06-19T18:25:54.456009Z",
     "start_time": "2023-06-19T18:25:54.434235Z"
    }
   },
   "source": [
    "### H2 - O cluster insider compra 5x mais frequente que o total de clientes."
   ]
  },
  {
   "cell_type": "code",
   "execution_count": 118,
   "id": "6c599707",
   "metadata": {
    "ExecuteTime": {
     "end_time": "2023-06-19T19:55:34.780290Z",
     "start_time": "2023-06-19T19:55:34.766019Z"
    }
   },
   "outputs": [
    {
     "name": "stdout",
     "output_type": "stream",
     "text": [
      "A frequência dos Insiders é em média: 0.10\n",
      "A frequência da base total é em média: 0.11\n"
     ]
    }
   ],
   "source": [
    "freq_insiders = df10.loc[df10['clusters'] == 5,'frequency'].mean()\n",
    "freq_total = df10['frequency'].mean()\n",
    "print(f\"A frequência dos Insiders é em média: {freq_insiders:.2f}\")\n",
    "print(f\"A frequência da base total é em média: {freq_total:.2f}\")"
   ]
  },
  {
   "cell_type": "markdown",
   "id": "bb0ec5a8",
   "metadata": {
    "ExecuteTime": {
     "end_time": "2023-06-19T19:56:11.258515Z",
     "start_time": "2023-06-19T19:56:11.232044Z"
    }
   },
   "source": [
    "FALSO.  A frequência dos Insiders é em linha com a média da base total."
   ]
  },
  {
   "cell_type": "markdown",
   "id": "6ef0f4d8",
   "metadata": {},
   "source": [
    "### H3 - O cluster insider demora em média metade do tempo para comprar novamento que o segundo cluster."
   ]
  },
  {
   "cell_type": "code",
   "execution_count": 119,
   "id": "7f29a87d",
   "metadata": {
    "ExecuteTime": {
     "end_time": "2023-06-19T19:24:39.309452Z",
     "start_time": "2023-06-19T19:24:39.290262Z"
    }
   },
   "outputs": [
    {
     "name": "stdout",
     "output_type": "stream",
     "text": [
      "Os insiders compram em média 3.11 vezes mais rápido que a base de dados\n"
     ]
    }
   ],
   "source": [
    "recency_insiders = df10.loc[df10['clusters'] == 5,'recency'].mean()\n",
    "recency_total = df10['recency'].mean()\n",
    "print(f\"Os insiders compram em média {recency_total/recency_insiders:.2f} vezes mais rápido que a base de dados\")"
   ]
  },
  {
   "cell_type": "markdown",
   "id": "f2b8446c",
   "metadata": {},
   "source": [
    "FALSO. Os enquanto a base compra em média a cada 60 dias, os insiders compram em média a cada 20 dias."
   ]
  },
  {
   "cell_type": "markdown",
   "id": "c0a4448c",
   "metadata": {},
   "source": [
    "### H4 - O cluster Insider tem o maior percentual de clientes entre todos os clusters."
   ]
  },
  {
   "cell_type": "code",
   "execution_count": 120,
   "id": "739aca5b",
   "metadata": {
    "ExecuteTime": {
     "end_time": "2023-06-19T19:30:36.469515Z",
     "start_time": "2023-06-19T19:30:36.442439Z"
    }
   },
   "outputs": [
    {
     "data": {
      "text/html": [
       "<div>\n",
       "<style scoped>\n",
       "    .dataframe tbody tr th:only-of-type {\n",
       "        vertical-align: middle;\n",
       "    }\n",
       "\n",
       "    .dataframe tbody tr th {\n",
       "        vertical-align: top;\n",
       "    }\n",
       "\n",
       "    .dataframe thead th {\n",
       "        text-align: right;\n",
       "    }\n",
       "</style>\n",
       "<table border=\"1\" class=\"dataframe\">\n",
       "  <thead>\n",
       "    <tr style=\"text-align: right;\">\n",
       "      <th></th>\n",
       "      <th>clusters</th>\n",
       "      <th>monetary</th>\n",
       "      <th>frequency</th>\n",
       "      <th>recency</th>\n",
       "      <th>percent</th>\n",
       "      <th>qtd_prods</th>\n",
       "      <th>qtd_returns</th>\n",
       "      <th>customer_id</th>\n",
       "    </tr>\n",
       "  </thead>\n",
       "  <tbody>\n",
       "    <tr>\n",
       "      <th>1</th>\n",
       "      <td>2</td>\n",
       "      <td>819.306358</td>\n",
       "      <td>0.124034</td>\n",
       "      <td>85.728395</td>\n",
       "      <td>5.458221</td>\n",
       "      <td>27.944444</td>\n",
       "      <td>4.000000</td>\n",
       "      <td>162</td>\n",
       "    </tr>\n",
       "    <tr>\n",
       "      <th>2</th>\n",
       "      <td>3</td>\n",
       "      <td>971.025435</td>\n",
       "      <td>0.074586</td>\n",
       "      <td>75.329193</td>\n",
       "      <td>10.849057</td>\n",
       "      <td>37.462733</td>\n",
       "      <td>6.571429</td>\n",
       "      <td>322</td>\n",
       "    </tr>\n",
       "    <tr>\n",
       "      <th>5</th>\n",
       "      <td>6</td>\n",
       "      <td>1685.240506</td>\n",
       "      <td>0.050577</td>\n",
       "      <td>55.002532</td>\n",
       "      <td>13.308625</td>\n",
       "      <td>88.929114</td>\n",
       "      <td>10.313924</td>\n",
       "      <td>395</td>\n",
       "    </tr>\n",
       "    <tr>\n",
       "      <th>4</th>\n",
       "      <td>5</td>\n",
       "      <td>9618.034548</td>\n",
       "      <td>0.103263</td>\n",
       "      <td>20.707143</td>\n",
       "      <td>14.150943</td>\n",
       "      <td>447.840476</td>\n",
       "      <td>166.235714</td>\n",
       "      <td>420</td>\n",
       "    </tr>\n",
       "    <tr>\n",
       "      <th>0</th>\n",
       "      <td>1</td>\n",
       "      <td>2121.153140</td>\n",
       "      <td>0.047337</td>\n",
       "      <td>57.132000</td>\n",
       "      <td>16.846361</td>\n",
       "      <td>67.232000</td>\n",
       "      <td>10.740000</td>\n",
       "      <td>500</td>\n",
       "    </tr>\n",
       "    <tr>\n",
       "      <th>6</th>\n",
       "      <td>7</td>\n",
       "      <td>2566.060375</td>\n",
       "      <td>0.044631</td>\n",
       "      <td>40.462500</td>\n",
       "      <td>18.867925</td>\n",
       "      <td>147.032143</td>\n",
       "      <td>20.912500</td>\n",
       "      <td>560</td>\n",
       "    </tr>\n",
       "    <tr>\n",
       "      <th>3</th>\n",
       "      <td>4</td>\n",
       "      <td>568.228161</td>\n",
       "      <td>0.298414</td>\n",
       "      <td>116.712644</td>\n",
       "      <td>20.518868</td>\n",
       "      <td>14.123153</td>\n",
       "      <td>16.110016</td>\n",
       "      <td>609</td>\n",
       "    </tr>\n",
       "  </tbody>\n",
       "</table>\n",
       "</div>"
      ],
      "text/plain": [
       "   clusters     monetary  frequency     recency    percent   qtd_prods  qtd_returns  customer_id\n",
       "1         2   819.306358   0.124034   85.728395   5.458221   27.944444     4.000000          162\n",
       "2         3   971.025435   0.074586   75.329193  10.849057   37.462733     6.571429          322\n",
       "5         6  1685.240506   0.050577   55.002532  13.308625   88.929114    10.313924          395\n",
       "4         5  9618.034548   0.103263   20.707143  14.150943  447.840476   166.235714          420\n",
       "0         1  2121.153140   0.047337   57.132000  16.846361   67.232000    10.740000          500\n",
       "6         7  2566.060375   0.044631   40.462500  18.867925  147.032143    20.912500          560\n",
       "3         4   568.228161   0.298414  116.712644  20.518868   14.123153    16.110016          609"
      ]
     },
     "execution_count": 120,
     "metadata": {},
     "output_type": "execute_result"
    }
   ],
   "source": [
    "df_resume.sort_values(by='percent')"
   ]
  },
  {
   "cell_type": "markdown",
   "id": "0fb40c4a",
   "metadata": {},
   "source": [
    "FALSO. Os Insiders correspondem apenas à 14% da base"
   ]
  },
  {
   "cell_type": "markdown",
   "id": "b7af372a",
   "metadata": {},
   "source": [
    "### H5 - O Cluster Insiders compra mais de 50% de todos os produtos em relação à base total"
   ]
  },
  {
   "cell_type": "code",
   "execution_count": 121,
   "id": "4e041d60",
   "metadata": {
    "ExecuteTime": {
     "end_time": "2023-06-19T19:33:30.329256Z",
     "start_time": "2023-06-19T19:33:30.314758Z"
    }
   },
   "outputs": [
    {
     "name": "stdout",
     "output_type": "stream",
     "text": [
      "A quantidade de produtos dos insiders é 0.52% da base\n"
     ]
    }
   ],
   "source": [
    "qtd_insiders = df10.loc[df10['clusters'] == 5,'qtd_prods'].sum()\n",
    "qtd_total = df10['qtd_prods'].sum()\n",
    "print(f\"A quantidade de produtos dos insiders é {qtd_insiders/qtd_total:.2f}% da base\")"
   ]
  },
  {
   "cell_type": "markdown",
   "id": "0194738d",
   "metadata": {},
   "source": [
    "Verdadeiro. Os insiders correspondem à 52% da quantidade total de produtos"
   ]
  },
  {
   "cell_type": "markdown",
   "id": "96d3c9d3",
   "metadata": {},
   "source": [
    "### H6 - O cluster Insider é o cluster que menos retorna produtos."
   ]
  },
  {
   "cell_type": "code",
   "execution_count": 122,
   "id": "65331ab5",
   "metadata": {
    "ExecuteTime": {
     "end_time": "2023-06-19T19:43:27.024439Z",
     "start_time": "2023-06-19T19:43:27.017025Z"
    }
   },
   "outputs": [
    {
     "name": "stdout",
     "output_type": "stream",
     "text": [
      "A quantidade de devoluções dos insiders é 0.67% da base\n"
     ]
    }
   ],
   "source": [
    "returns_insiders = df10.loc[df10['clusters'] == 5,'qtd_returns'].sum()\n",
    "returns_total = df10['qtd_returns'].sum()\n",
    "print(f\"A quantidade de devoluções dos insiders é {returns_insiders/returns_total:.2f}% da base\")"
   ]
  },
  {
   "cell_type": "markdown",
   "id": "0efc0283",
   "metadata": {},
   "source": [
    "FALSO. O Insiders é o que mais devolve produtos. Talvez possa ser uma coisa boa pois quanto mais eles tem a liberdade de devolver mais eles podem comprar com segurança "
   ]
  },
  {
   "cell_type": "markdown",
   "id": "fefa1471",
   "metadata": {},
   "source": [
    "## 10.2 Perguntas de Negócio"
   ]
  },
  {
   "cell_type": "markdown",
   "id": "589baa2a",
   "metadata": {},
   "source": [
    "### 1. Quem são as pessoas elegíveis para participar do programa Insiders?"
   ]
  },
  {
   "cell_type": "code",
   "execution_count": 123,
   "id": "9459e044",
   "metadata": {},
   "outputs": [
    {
     "data": {
      "text/html": [
       "<div>\n",
       "<style scoped>\n",
       "    .dataframe tbody tr th:only-of-type {\n",
       "        vertical-align: middle;\n",
       "    }\n",
       "\n",
       "    .dataframe tbody tr th {\n",
       "        vertical-align: top;\n",
       "    }\n",
       "\n",
       "    .dataframe thead th {\n",
       "        text-align: right;\n",
       "    }\n",
       "</style>\n",
       "<table border=\"1\" class=\"dataframe\">\n",
       "  <thead>\n",
       "    <tr style=\"text-align: right;\">\n",
       "      <th></th>\n",
       "      <th>customer_id</th>\n",
       "    </tr>\n",
       "  </thead>\n",
       "  <tbody>\n",
       "    <tr>\n",
       "      <th>12</th>\n",
       "      <td>12359.0</td>\n",
       "    </tr>\n",
       "    <tr>\n",
       "      <th>15</th>\n",
       "      <td>12362.0</td>\n",
       "    </tr>\n",
       "    <tr>\n",
       "      <th>54</th>\n",
       "      <td>12415.0</td>\n",
       "    </tr>\n",
       "    <tr>\n",
       "      <th>65</th>\n",
       "      <td>12428.0</td>\n",
       "    </tr>\n",
       "    <tr>\n",
       "      <th>68</th>\n",
       "      <td>12431.0</td>\n",
       "    </tr>\n",
       "    <tr>\n",
       "      <th>...</th>\n",
       "      <td>...</td>\n",
       "    </tr>\n",
       "    <tr>\n",
       "      <th>4208</th>\n",
       "      <td>18122.0</td>\n",
       "    </tr>\n",
       "    <tr>\n",
       "      <th>4282</th>\n",
       "      <td>18223.0</td>\n",
       "    </tr>\n",
       "    <tr>\n",
       "      <th>4284</th>\n",
       "      <td>18225.0</td>\n",
       "    </tr>\n",
       "    <tr>\n",
       "      <th>4285</th>\n",
       "      <td>18226.0</td>\n",
       "    </tr>\n",
       "    <tr>\n",
       "      <th>4327</th>\n",
       "      <td>18283.0</td>\n",
       "    </tr>\n",
       "  </tbody>\n",
       "</table>\n",
       "<p>420 rows × 1 columns</p>\n",
       "</div>"
      ],
      "text/plain": [
       "      customer_id\n",
       "12        12359.0\n",
       "15        12362.0\n",
       "54        12415.0\n",
       "65        12428.0\n",
       "68        12431.0\n",
       "...           ...\n",
       "4208      18122.0\n",
       "4282      18223.0\n",
       "4284      18225.0\n",
       "4285      18226.0\n",
       "4327      18283.0\n",
       "\n",
       "[420 rows x 1 columns]"
      ]
     },
     "execution_count": 123,
     "metadata": {},
     "output_type": "execute_result"
    }
   ],
   "source": [
    "df10.loc[df10['clusters'] == 5,['customer_id']] "
   ]
  },
  {
   "cell_type": "markdown",
   "id": "3e97cb50",
   "metadata": {},
   "source": [
    "### 2. Quantos clientes serão incluídos no grupo?"
   ]
  },
  {
   "cell_type": "code",
   "execution_count": 124,
   "id": "ae2d7a64",
   "metadata": {},
   "outputs": [
    {
     "data": {
      "text/plain": [
       "420"
      ]
     },
     "execution_count": 124,
     "metadata": {},
     "output_type": "execute_result"
    }
   ],
   "source": [
    "df10.loc[df10['clusters'] == 5,['customer_id']].shape[0] "
   ]
  },
  {
   "cell_type": "markdown",
   "id": "5da964a2",
   "metadata": {},
   "source": [
    "### 3. Quais são as características-chave desses clientes?"
   ]
  },
  {
   "cell_type": "markdown",
   "id": "793724de",
   "metadata": {},
   "source": [
    "- Número de customers = 420\n",
    "- Recência Média = 20.70 dias\n",
    "- Faturamento Médio = R$9618.03\n",
    "- Média de Produtos Comprados = 447 produtos\n",
    "- Frequência de Produtos Comprados = 0.1032 produtos comprados/dia"
   ]
  },
  {
   "cell_type": "markdown",
   "id": "bfbf82c3",
   "metadata": {},
   "source": [
    "### 4. Qual é a porcentagem de contribuição de receita dos Insiders?"
   ]
  },
  {
   "cell_type": "code",
   "execution_count": 125,
   "id": "b77e3967",
   "metadata": {},
   "outputs": [
    {
     "name": "stdout",
     "output_type": "stream",
     "text": [
      "Receita Insiders: 0.51%\n"
     ]
    }
   ],
   "source": [
    "receita_insiders = df10.loc[df10['clusters'] == 5,'monetary'].sum()\n",
    "receita_total = df10['monetary'].sum()\n",
    "print(f\"Receita Insiders: {receita_insiders/receita_total:.2f}%\")"
   ]
  },
  {
   "cell_type": "markdown",
   "id": "230c3981",
   "metadata": {},
   "source": [
    "# 11.0 DEPLOY TO PRODUCTION"
   ]
  },
  {
   "cell_type": "code",
   "execution_count": 127,
   "id": "70ae54d7",
   "metadata": {
    "ExecuteTime": {
     "end_time": "2023-06-22T19:40:26.806880Z",
     "start_time": "2023-06-22T19:40:26.641263Z"
    }
   },
   "outputs": [],
   "source": [
    "import sqlite3\n",
    "from sqlalchemy import create_engine, text"
   ]
  },
  {
   "cell_type": "code",
   "execution_count": null,
   "id": "9d7181d6",
   "metadata": {},
   "outputs": [],
   "source": [
    "# #create table\n",
    "# query_create_table_insiders = \"\"\"\n",
    "#     CREATE TABLE insiders (\n",
    "#         customer_id INTEGER,\n",
    "#         monetary    REAL,\n",
    "#         recency     INTEGER,\n",
    "#         qtd_prods   INTEGER,\n",
    "#         frequency   REAL,\n",
    "#         qtd_returns INTEGER,\n",
    "#         clusters    INTEGER   \n",
    "#     )\n",
    "#     \"\"\"  \n",
    " \n",
    "# conn = sqlite3.connect('insiders_db.sqlite') \n",
    "# conn.execute(query_create_table_insiders)\n",
    "# conn.commit()\n",
    "# conn.close()\n",
    "\n",
    "# #insert data - append\n",
    "# conn = create_engine('sqlite:///insiders_db.sqlite')\n",
    "# df_deploy.to_sql('insiders', con=conn, if_exists='append', index=False)\n",
    "# conn.close()\n",
    "\n",
    "# #insert data - replace\n",
    "# conn = create_engine('sqlite:///insiders_db.sqlite')\n",
    "# df_deploy.to_sql('insiders', con=conn, if_exists='replace', index=False)\n",
    "# conn.close()\n",
    "\n",
    "# #select data"
   ]
  },
  {
   "cell_type": "code",
   "execution_count": null,
   "id": "626aa95c",
   "metadata": {},
   "outputs": [],
   "source": [
    "# #create database\n",
    "# conn = sqlite3.connect('insiders_db.sqlite') \n",
    "# conn.execute(query_create_table_insiders)\n",
    "# conn.commit()\n",
    "# conn.close()"
   ]
  },
  {
   "cell_type": "code",
   "execution_count": 128,
   "id": "5e9d9cdd",
   "metadata": {
    "ExecuteTime": {
     "end_time": "2023-06-22T19:40:29.181029Z",
     "start_time": "2023-06-22T19:40:29.153710Z"
    }
   },
   "outputs": [],
   "source": [
    "#database coneection\n",
    "conn = create_engine('sqlite:///insiders_db.sqlite')\n",
    "\n",
    "#drop table\n",
    "query_drop_insiders = \"\"\"\n",
    "    DROP TABLE insiders\n",
    "\"\"\"\n",
    "\n",
    "#create table\n",
    "query_create_table_insiders = \"\"\"\n",
    "    CREATE TABLE insiders (\n",
    "        customer_id INTEGER,\n",
    "        monetary    REAL,\n",
    "        recency     INTEGER,\n",
    "        qtd_prods   INTEGER,\n",
    "        frequency   REAL,\n",
    "        qtd_returns INTEGER,\n",
    "        clusters    INTEGER,\n",
    "        last_training DATE\n",
    "    )\n",
    "    \"\"\"\n",
    "conn.execute(query_create_table_insiders)\n",
    "conn.execute(query_drop_insiders)"
   ]
  },
  {
   "cell_type": "code",
   "execution_count": null,
   "id": "4f00bd81",
   "metadata": {},
   "outputs": [],
   "source": [
    "#insert data - append\n",
    "conn = create_engine('sqlite:///insiders_db.sqlite')\n",
    "df_deploy.to_sql('insiders', con=conn, if_exists='append', index=False)\n",
    "conn.close()"
   ]
  },
  {
   "cell_type": "code",
   "execution_count": null,
   "id": "37bdc5f3",
   "metadata": {},
   "outputs": [],
   "source": [
    "#consulting database\n",
    "engine = create_engine('sqlite:///insiders_db.sqlite')\n",
    "query = \"\"\"\n",
    "    SELECT * FROM insiders\n",
    "\"\"\"\n",
    "\n",
    "df = pd.read_sql_query(sql=text(query), con=engine.connect())"
   ]
  }
 ],
 "metadata": {
  "hide_input": false,
  "kernelspec": {
   "display_name": "Python 3 (ipykernel)",
   "language": "python",
   "name": "python3"
  },
  "language_info": {
   "codemirror_mode": {
    "name": "ipython",
    "version": 3
   },
   "file_extension": ".py",
   "mimetype": "text/x-python",
   "name": "python",
   "nbconvert_exporter": "python",
   "pygments_lexer": "ipython3",
   "version": "3.10.11"
  },
  "varInspector": {
   "cols": {
    "lenName": 16,
    "lenType": 16,
    "lenVar": 40
   },
   "kernels_config": {
    "python": {
     "delete_cmd_postfix": "",
     "delete_cmd_prefix": "del ",
     "library": "var_list.py",
     "varRefreshCmd": "print(var_dic_list())"
    },
    "r": {
     "delete_cmd_postfix": ") ",
     "delete_cmd_prefix": "rm(",
     "library": "var_list.r",
     "varRefreshCmd": "cat(var_dic_list()) "
    }
   },
   "types_to_exclude": [
    "module",
    "function",
    "builtin_function_or_method",
    "instance",
    "_Feature"
   ],
   "window_display": false
  }
 },
 "nbformat": 4,
 "nbformat_minor": 5
}
